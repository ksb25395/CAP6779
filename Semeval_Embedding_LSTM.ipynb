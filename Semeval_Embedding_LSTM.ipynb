{
  "nbformat": 4,
  "nbformat_minor": 0,
  "metadata": {
    "colab": {
      "name": "Semeval_Embedding_LSTM",
      "provenance": [],
      "authorship_tag": "ABX9TyP3MRzK9MGgFRDFgdkFeP6z",
      "include_colab_link": true
    },
    "kernelspec": {
      "name": "python3",
      "display_name": "Python 3"
    }
  },
  "cells": [
    {
      "cell_type": "markdown",
      "metadata": {
        "id": "view-in-github",
        "colab_type": "text"
      },
      "source": [
        "<a href=\"https://colab.research.google.com/github/ksb25395/CAP6779/blob/master/Semeval_Embedding_LSTM.ipynb\" target=\"_parent\"><img src=\"https://colab.research.google.com/assets/colab-badge.svg\" alt=\"Open In Colab\"/></a>"
      ]
    },
    {
      "cell_type": "code",
      "metadata": {
        "id": "PTZ6f4SuPAsY",
        "colab_type": "code",
        "outputId": "17086a0b-f022-4013-d68b-3968e46bb45a",
        "colab": {
          "base_uri": "https://localhost:8080/",
          "height": 122
        }
      },
      "source": [
        "from google.colab import drive\n",
        "drive.mount('/content/gdrive')"
      ],
      "execution_count": 1,
      "outputs": [
        {
          "output_type": "stream",
          "text": [
            "Go to this URL in a browser: https://accounts.google.com/o/oauth2/auth?client_id=947318989803-6bn6qk8qdgf4n4g3pfee6491hc0brc4i.apps.googleusercontent.com&redirect_uri=urn%3aietf%3awg%3aoauth%3a2.0%3aoob&response_type=code&scope=email%20https%3a%2f%2fwww.googleapis.com%2fauth%2fdocs.test%20https%3a%2f%2fwww.googleapis.com%2fauth%2fdrive%20https%3a%2f%2fwww.googleapis.com%2fauth%2fdrive.photos.readonly%20https%3a%2f%2fwww.googleapis.com%2fauth%2fpeopleapi.readonly\n",
            "\n",
            "Enter your authorization code:\n",
            "··········\n",
            "Mounted at /content/gdrive\n"
          ],
          "name": "stdout"
        }
      ]
    },
    {
      "cell_type": "code",
      "metadata": {
        "id": "jc0SNOUv_rvQ",
        "colab_type": "code",
        "outputId": "13dd4e98-e3ec-42ce-d8e5-cad4cd10af9f",
        "colab": {
          "base_uri": "https://localhost:8080/",
          "height": 105
        }
      },
      "source": [
        "# from gensim.models import KeyedVectors\n",
        "# EMBEDDING_FILE = '/content/gdrive/My Drive/Colab Notebooks/datasets/Google/GoogleNews-vectors-negative300.bin.gz'\n",
        "# word2vec = KeyedVectors.load_word2vec_format(EMBEDDING_FILE, binary=True)\n",
        "\n",
        "!unzip \"/content/gdrive/My Drive/Colab Notebooks/datasets/glove.twitter.27B.200d.txt.zip\" \n",
        "from gensim.test.utils import datapath, get_tmpfile\n",
        "from gensim.models import KeyedVectors\n",
        "from gensim.scripts.glove2word2vec import glove2word2vec\n",
        "\n",
        "glove_file = datapath('/content/glove.twitter.27B.200d.txt')\n",
        "tmp_file = get_tmpfile(\"test_word2vec.txt\")\n",
        "_ = glove2word2vec(glove_file, tmp_file)\n",
        "word2vec = KeyedVectors.load_word2vec_format(tmp_file)"
      ],
      "execution_count": 2,
      "outputs": [
        {
          "output_type": "stream",
          "text": [
            "Archive:  /content/gdrive/My Drive/Colab Notebooks/datasets/glove.twitter.27B.200d.txt.zip\n",
            "  inflating: glove.twitter.27B.200d.txt  \n"
          ],
          "name": "stdout"
        },
        {
          "output_type": "stream",
          "text": [
            "/usr/local/lib/python3.6/dist-packages/smart_open/smart_open_lib.py:402: UserWarning: This function is deprecated, use smart_open.open instead. See the migration notes for details: https://github.com/RaRe-Technologies/smart_open/blob/master/README.rst#migrating-to-the-new-open-function\n",
            "  'See the migration notes for details: %s' % _MIGRATION_NOTES_URL\n"
          ],
          "name": "stderr"
        }
      ]
    },
    {
      "cell_type": "code",
      "metadata": {
        "id": "nGK9GF0OBlO3",
        "colab_type": "code",
        "colab": {}
      },
      "source": [
        "import pandas as pd \n",
        "df=pd.read_csv('/content/gdrive/My Drive/Colab Notebooks/datasets/Semeval-2017-4A-English/SemEval2017-task4-dev.subtask-A.english.INPUT.txt', sep=\"\\t\", header=None)"
      ],
      "execution_count": 0,
      "outputs": []
    },
    {
      "cell_type": "code",
      "metadata": {
        "id": "V9TWiLUeCb6I",
        "colab_type": "code",
        "colab": {}
      },
      "source": [
        "df.head()\n",
        "df = df.drop(columns=3)"
      ],
      "execution_count": 0,
      "outputs": []
    },
    {
      "cell_type": "code",
      "metadata": {
        "id": "nCCJ_pAKKm0W",
        "colab_type": "code",
        "colab": {}
      },
      "source": [
        "df.columns = ['id', 'sentiment', 'text']"
      ],
      "execution_count": 0,
      "outputs": []
    },
    {
      "cell_type": "code",
      "metadata": {
        "id": "uztt4W8MLW8c",
        "colab_type": "code",
        "outputId": "6ae1b080-2352-44cb-a570-9085aedd18ae",
        "colab": {
          "base_uri": "https://localhost:8080/",
          "height": 419
        }
      },
      "source": [
        "df"
      ],
      "execution_count": 6,
      "outputs": [
        {
          "output_type": "execute_result",
          "data": {
            "text/html": [
              "<div>\n",
              "<style scoped>\n",
              "    .dataframe tbody tr th:only-of-type {\n",
              "        vertical-align: middle;\n",
              "    }\n",
              "\n",
              "    .dataframe tbody tr th {\n",
              "        vertical-align: top;\n",
              "    }\n",
              "\n",
              "    .dataframe thead th {\n",
              "        text-align: right;\n",
              "    }\n",
              "</style>\n",
              "<table border=\"1\" class=\"dataframe\">\n",
              "  <thead>\n",
              "    <tr style=\"text-align: right;\">\n",
              "      <th></th>\n",
              "      <th>id</th>\n",
              "      <th>sentiment</th>\n",
              "      <th>text</th>\n",
              "    </tr>\n",
              "  </thead>\n",
              "  <tbody>\n",
              "    <tr>\n",
              "      <th>0</th>\n",
              "      <td>619950566786113536</td>\n",
              "      <td>neutral</td>\n",
              "      <td>Picturehouse's, Pink Floyd's, 'Roger Waters: T...</td>\n",
              "    </tr>\n",
              "    <tr>\n",
              "      <th>1</th>\n",
              "      <td>619969366986235905</td>\n",
              "      <td>neutral</td>\n",
              "      <td>Order Go Set a Watchman in store or through ou...</td>\n",
              "    </tr>\n",
              "    <tr>\n",
              "      <th>2</th>\n",
              "      <td>619971047195045888</td>\n",
              "      <td>negative</td>\n",
              "      <td>If these runway renovations at the airport pre...</td>\n",
              "    </tr>\n",
              "    <tr>\n",
              "      <th>3</th>\n",
              "      <td>619974445185302528</td>\n",
              "      <td>neutral</td>\n",
              "      <td>If you could ask an onstage interview question...</td>\n",
              "    </tr>\n",
              "    <tr>\n",
              "      <th>4</th>\n",
              "      <td>619987808317407232</td>\n",
              "      <td>positive</td>\n",
              "      <td>A portion of book sales from our Harper Lee/Go...</td>\n",
              "    </tr>\n",
              "    <tr>\n",
              "      <th>...</th>\n",
              "      <td>...</td>\n",
              "      <td>...</td>\n",
              "      <td>...</td>\n",
              "    </tr>\n",
              "    <tr>\n",
              "      <th>20627</th>\n",
              "      <td>681877834982232064</td>\n",
              "      <td>neutral</td>\n",
              "      <td>@ShaquilleHoNeal from what I think you're aski...</td>\n",
              "    </tr>\n",
              "    <tr>\n",
              "      <th>20628</th>\n",
              "      <td>681879579129200640</td>\n",
              "      <td>positive</td>\n",
              "      <td>Iran ranks 1st in liver surgeries, Allah bless...</td>\n",
              "    </tr>\n",
              "    <tr>\n",
              "      <th>20629</th>\n",
              "      <td>681883903259357184</td>\n",
              "      <td>neutral</td>\n",
              "      <td>Hours before he arrived in Saudi Arabia on Tue...</td>\n",
              "    </tr>\n",
              "    <tr>\n",
              "      <th>20630</th>\n",
              "      <td>681904976860327936</td>\n",
              "      <td>negative</td>\n",
              "      <td>@VanityFair  Alex Kim Kardashian worth how to ...</td>\n",
              "    </tr>\n",
              "    <tr>\n",
              "      <th>20631</th>\n",
              "      <td>681910549211287552</td>\n",
              "      <td>neutral</td>\n",
              "      <td>I guess even Pandora knows Justin Bieber is a ...</td>\n",
              "    </tr>\n",
              "  </tbody>\n",
              "</table>\n",
              "<p>20632 rows × 3 columns</p>\n",
              "</div>"
            ],
            "text/plain": [
              "                       id  ...                                               text\n",
              "0      619950566786113536  ...  Picturehouse's, Pink Floyd's, 'Roger Waters: T...\n",
              "1      619969366986235905  ...  Order Go Set a Watchman in store or through ou...\n",
              "2      619971047195045888  ...  If these runway renovations at the airport pre...\n",
              "3      619974445185302528  ...  If you could ask an onstage interview question...\n",
              "4      619987808317407232  ...  A portion of book sales from our Harper Lee/Go...\n",
              "...                   ...  ...                                                ...\n",
              "20627  681877834982232064  ...  @ShaquilleHoNeal from what I think you're aski...\n",
              "20628  681879579129200640  ...  Iran ranks 1st in liver surgeries, Allah bless...\n",
              "20629  681883903259357184  ...  Hours before he arrived in Saudi Arabia on Tue...\n",
              "20630  681904976860327936  ...  @VanityFair  Alex Kim Kardashian worth how to ...\n",
              "20631  681910549211287552  ...  I guess even Pandora knows Justin Bieber is a ...\n",
              "\n",
              "[20632 rows x 3 columns]"
            ]
          },
          "metadata": {
            "tags": []
          },
          "execution_count": 6
        }
      ]
    },
    {
      "cell_type": "code",
      "metadata": {
        "id": "df4rRgJfLZvE",
        "colab_type": "code",
        "colab": {}
      },
      "source": [
        "df.to_csv('/content/gdrive/My Drive/Colab Notebooks/datasets/Semeval-2017-4A-English/SemEval2017-task4-dev.subtask-A.english.INPUT.csv', sep=\"\\t\", header=None)"
      ],
      "execution_count": 0,
      "outputs": []
    },
    {
      "cell_type": "code",
      "metadata": {
        "id": "8Vh--NAdh_IY",
        "colab_type": "code",
        "colab": {}
      },
      "source": [
        "import numpy as np\n",
        "import re\n",
        "import nltk\n",
        "import spacy\n",
        "import string"
      ],
      "execution_count": 0,
      "outputs": []
    },
    {
      "cell_type": "code",
      "metadata": {
        "id": "k30C7jm9nw2O",
        "colab_type": "code",
        "outputId": "da1e9cdc-c24d-42b3-ec53-0ae41f0b0744",
        "colab": {
          "base_uri": "https://localhost:8080/",
          "height": 204
        }
      },
      "source": [
        "# Lower casing\n",
        "df[\"text\"] = df[\"text\"].str.lower()\n",
        "df.head()"
      ],
      "execution_count": 9,
      "outputs": [
        {
          "output_type": "execute_result",
          "data": {
            "text/html": [
              "<div>\n",
              "<style scoped>\n",
              "    .dataframe tbody tr th:only-of-type {\n",
              "        vertical-align: middle;\n",
              "    }\n",
              "\n",
              "    .dataframe tbody tr th {\n",
              "        vertical-align: top;\n",
              "    }\n",
              "\n",
              "    .dataframe thead th {\n",
              "        text-align: right;\n",
              "    }\n",
              "</style>\n",
              "<table border=\"1\" class=\"dataframe\">\n",
              "  <thead>\n",
              "    <tr style=\"text-align: right;\">\n",
              "      <th></th>\n",
              "      <th>id</th>\n",
              "      <th>sentiment</th>\n",
              "      <th>text</th>\n",
              "    </tr>\n",
              "  </thead>\n",
              "  <tbody>\n",
              "    <tr>\n",
              "      <th>0</th>\n",
              "      <td>619950566786113536</td>\n",
              "      <td>neutral</td>\n",
              "      <td>picturehouse's, pink floyd's, 'roger waters: t...</td>\n",
              "    </tr>\n",
              "    <tr>\n",
              "      <th>1</th>\n",
              "      <td>619969366986235905</td>\n",
              "      <td>neutral</td>\n",
              "      <td>order go set a watchman in store or through ou...</td>\n",
              "    </tr>\n",
              "    <tr>\n",
              "      <th>2</th>\n",
              "      <td>619971047195045888</td>\n",
              "      <td>negative</td>\n",
              "      <td>if these runway renovations at the airport pre...</td>\n",
              "    </tr>\n",
              "    <tr>\n",
              "      <th>3</th>\n",
              "      <td>619974445185302528</td>\n",
              "      <td>neutral</td>\n",
              "      <td>if you could ask an onstage interview question...</td>\n",
              "    </tr>\n",
              "    <tr>\n",
              "      <th>4</th>\n",
              "      <td>619987808317407232</td>\n",
              "      <td>positive</td>\n",
              "      <td>a portion of book sales from our harper lee/go...</td>\n",
              "    </tr>\n",
              "  </tbody>\n",
              "</table>\n",
              "</div>"
            ],
            "text/plain": [
              "                   id  ...                                               text\n",
              "0  619950566786113536  ...  picturehouse's, pink floyd's, 'roger waters: t...\n",
              "1  619969366986235905  ...  order go set a watchman in store or through ou...\n",
              "2  619971047195045888  ...  if these runway renovations at the airport pre...\n",
              "3  619974445185302528  ...  if you could ask an onstage interview question...\n",
              "4  619987808317407232  ...  a portion of book sales from our harper lee/go...\n",
              "\n",
              "[5 rows x 3 columns]"
            ]
          },
          "metadata": {
            "tags": []
          },
          "execution_count": 9
        }
      ]
    },
    {
      "cell_type": "code",
      "metadata": {
        "id": "R3rBjNKbppgT",
        "colab_type": "code",
        "colab": {}
      },
      "source": [
        "# Removal of URLs\n",
        "def remove_urls(text):\n",
        "  url_pattern = re.compile(r'https?://\\S+|www\\.\\S+')\n",
        "  return url_pattern.sub(r'', text)\n",
        "df[\"text\"] = df[\"text\"].apply(lambda x : remove_urls(x))\n",
        "df.head()\n",
        "\n",
        "# Remove @ mentions\n",
        "def remove_mentions(text):\n",
        "  text = re.sub(r\"(?:\\@|https?\\://)\\S+\", \"\", text)\n",
        "  return text\n",
        "df[\"text\"] = df[\"text\"].apply(lambda x: remove_mentions(x))\n",
        "\n",
        "def strip_links(text):\n",
        "    link_regex    = re.compile('((https?):((//)|(\\\\\\\\))+([\\w\\d:#@%/;$()~_?\\+-=\\\\\\.&](#!)?)*)', re.DOTALL)\n",
        "    links         = re.findall(link_regex, text)\n",
        "    for link in links:\n",
        "        text = text.replace(link[0], ', ')    \n",
        "    return text\n",
        "    \n",
        "df[\"text\"] = df[\"text\"].apply(lambda x: strip_links(x))\n",
        "\n",
        "def strip_all_entities(text):\n",
        "    entity_prefixes = ['@','#']\n",
        "    for separator in  string.punctuation:\n",
        "        if separator not in entity_prefixes :\n",
        "            text = text.replace(separator,' ')\n",
        "    words = []\n",
        "    for word in text.split():\n",
        "        word = word.strip()\n",
        "        if word:\n",
        "            if word[0] not in entity_prefixes:\n",
        "                words.append(word)\n",
        "    return ' '.join(words)\n",
        "\n",
        "df[\"text\"] = df[\"text\"].apply(lambda x: strip_all_entities(x))"
      ],
      "execution_count": 0,
      "outputs": []
    },
    {
      "cell_type": "code",
      "metadata": {
        "id": "QQGTGDvnqnK7",
        "colab_type": "code",
        "outputId": "a3945563-1cac-4198-f70d-e6bb420a6c9b",
        "colab": {
          "base_uri": "https://localhost:8080/",
          "height": 272
        }
      },
      "source": [
        "# Conversion of emoticons to words\n",
        "!pip install emot\n",
        "from emot.emo_unicode import UNICODE_EMO, EMOTICONS\n",
        "def convert_emoticons(text):\n",
        "  for emot in EMOTICONS:\n",
        "    re.sub(u'('+emot+')', \"_\".join(EMOTICONS[emot].replace(\",\",\"\").split()), text)\n",
        "  return text\n",
        "\n",
        "df[\"text\"] = df[\"text\"].apply(lambda x : convert_emoticons(x))\n",
        "df.head()"
      ],
      "execution_count": 11,
      "outputs": [
        {
          "output_type": "stream",
          "text": [
            "Collecting emot\n",
            "  Downloading https://files.pythonhosted.org/packages/49/07/20001ade19873de611b7b66a4d5e5aabbf190d65abea337d5deeaa2bc3de/emot-2.1-py3-none-any.whl\n",
            "Installing collected packages: emot\n",
            "Successfully installed emot-2.1\n"
          ],
          "name": "stdout"
        },
        {
          "output_type": "execute_result",
          "data": {
            "text/html": [
              "<div>\n",
              "<style scoped>\n",
              "    .dataframe tbody tr th:only-of-type {\n",
              "        vertical-align: middle;\n",
              "    }\n",
              "\n",
              "    .dataframe tbody tr th {\n",
              "        vertical-align: top;\n",
              "    }\n",
              "\n",
              "    .dataframe thead th {\n",
              "        text-align: right;\n",
              "    }\n",
              "</style>\n",
              "<table border=\"1\" class=\"dataframe\">\n",
              "  <thead>\n",
              "    <tr style=\"text-align: right;\">\n",
              "      <th></th>\n",
              "      <th>id</th>\n",
              "      <th>sentiment</th>\n",
              "      <th>text</th>\n",
              "    </tr>\n",
              "  </thead>\n",
              "  <tbody>\n",
              "    <tr>\n",
              "      <th>0</th>\n",
              "      <td>619950566786113536</td>\n",
              "      <td>neutral</td>\n",
              "      <td>picturehouse s pink floyd s roger waters the w...</td>\n",
              "    </tr>\n",
              "    <tr>\n",
              "      <th>1</th>\n",
              "      <td>619969366986235905</td>\n",
              "      <td>neutral</td>\n",
              "      <td>order go set a watchman in store or through ou...</td>\n",
              "    </tr>\n",
              "    <tr>\n",
              "      <th>2</th>\n",
              "      <td>619971047195045888</td>\n",
              "      <td>negative</td>\n",
              "      <td>if these runway renovations at the airport pre...</td>\n",
              "    </tr>\n",
              "    <tr>\n",
              "      <th>3</th>\n",
              "      <td>619974445185302528</td>\n",
              "      <td>neutral</td>\n",
              "      <td>if you could ask an onstage interview question...</td>\n",
              "    </tr>\n",
              "    <tr>\n",
              "      <th>4</th>\n",
              "      <td>619987808317407232</td>\n",
              "      <td>positive</td>\n",
              "      <td>a portion of book sales from our harper lee go...</td>\n",
              "    </tr>\n",
              "  </tbody>\n",
              "</table>\n",
              "</div>"
            ],
            "text/plain": [
              "                   id  ...                                               text\n",
              "0  619950566786113536  ...  picturehouse s pink floyd s roger waters the w...\n",
              "1  619969366986235905  ...  order go set a watchman in store or through ou...\n",
              "2  619971047195045888  ...  if these runway renovations at the airport pre...\n",
              "3  619974445185302528  ...  if you could ask an onstage interview question...\n",
              "4  619987808317407232  ...  a portion of book sales from our harper lee go...\n",
              "\n",
              "[5 rows x 3 columns]"
            ]
          },
          "metadata": {
            "tags": []
          },
          "execution_count": 11
        }
      ]
    },
    {
      "cell_type": "code",
      "metadata": {
        "id": "k8vE_h-EuDrZ",
        "colab_type": "code",
        "outputId": "13aea48c-1a14-4c33-e5f2-670187a1510b",
        "colab": {
          "base_uri": "https://localhost:8080/",
          "height": 374
        }
      },
      "source": [
        "# convert emoji to word\n",
        "!pip install emoji\n",
        "import emoji\n",
        "def convert_emojis(text):\n",
        "    return emoji.demojize(text)\n",
        "\n",
        "df[\"text\"] = df[\"text\"].apply(lambda x : convert_emojis(x))\n",
        "df.head()"
      ],
      "execution_count": 12,
      "outputs": [
        {
          "output_type": "stream",
          "text": [
            "Collecting emoji\n",
            "\u001b[?25l  Downloading https://files.pythonhosted.org/packages/40/8d/521be7f0091fe0f2ae690cc044faf43e3445e0ff33c574eae752dd7e39fa/emoji-0.5.4.tar.gz (43kB)\n",
            "\u001b[K     |████████████████████████████████| 51kB 1.7MB/s \n",
            "\u001b[?25hBuilding wheels for collected packages: emoji\n",
            "  Building wheel for emoji (setup.py) ... \u001b[?25l\u001b[?25hdone\n",
            "  Created wheel for emoji: filename=emoji-0.5.4-cp36-none-any.whl size=42176 sha256=9e9f2df072c78b0ac26f41529514f74c8c8f8e904db4c3ed27507f4451a1948a\n",
            "  Stored in directory: /root/.cache/pip/wheels/2a/a9/0a/4f8e8cce8074232aba240caca3fade315bb49fac68808d1a9c\n",
            "Successfully built emoji\n",
            "Installing collected packages: emoji\n",
            "Successfully installed emoji-0.5.4\n"
          ],
          "name": "stdout"
        },
        {
          "output_type": "execute_result",
          "data": {
            "text/html": [
              "<div>\n",
              "<style scoped>\n",
              "    .dataframe tbody tr th:only-of-type {\n",
              "        vertical-align: middle;\n",
              "    }\n",
              "\n",
              "    .dataframe tbody tr th {\n",
              "        vertical-align: top;\n",
              "    }\n",
              "\n",
              "    .dataframe thead th {\n",
              "        text-align: right;\n",
              "    }\n",
              "</style>\n",
              "<table border=\"1\" class=\"dataframe\">\n",
              "  <thead>\n",
              "    <tr style=\"text-align: right;\">\n",
              "      <th></th>\n",
              "      <th>id</th>\n",
              "      <th>sentiment</th>\n",
              "      <th>text</th>\n",
              "    </tr>\n",
              "  </thead>\n",
              "  <tbody>\n",
              "    <tr>\n",
              "      <th>0</th>\n",
              "      <td>619950566786113536</td>\n",
              "      <td>neutral</td>\n",
              "      <td>picturehouse s pink floyd s roger waters the w...</td>\n",
              "    </tr>\n",
              "    <tr>\n",
              "      <th>1</th>\n",
              "      <td>619969366986235905</td>\n",
              "      <td>neutral</td>\n",
              "      <td>order go set a watchman in store or through ou...</td>\n",
              "    </tr>\n",
              "    <tr>\n",
              "      <th>2</th>\n",
              "      <td>619971047195045888</td>\n",
              "      <td>negative</td>\n",
              "      <td>if these runway renovations at the airport pre...</td>\n",
              "    </tr>\n",
              "    <tr>\n",
              "      <th>3</th>\n",
              "      <td>619974445185302528</td>\n",
              "      <td>neutral</td>\n",
              "      <td>if you could ask an onstage interview question...</td>\n",
              "    </tr>\n",
              "    <tr>\n",
              "      <th>4</th>\n",
              "      <td>619987808317407232</td>\n",
              "      <td>positive</td>\n",
              "      <td>a portion of book sales from our harper lee go...</td>\n",
              "    </tr>\n",
              "  </tbody>\n",
              "</table>\n",
              "</div>"
            ],
            "text/plain": [
              "                   id  ...                                               text\n",
              "0  619950566786113536  ...  picturehouse s pink floyd s roger waters the w...\n",
              "1  619969366986235905  ...  order go set a watchman in store or through ou...\n",
              "2  619971047195045888  ...  if these runway renovations at the airport pre...\n",
              "3  619974445185302528  ...  if you could ask an onstage interview question...\n",
              "4  619987808317407232  ...  a portion of book sales from our harper lee go...\n",
              "\n",
              "[5 rows x 3 columns]"
            ]
          },
          "metadata": {
            "tags": []
          },
          "execution_count": 12
        }
      ]
    },
    {
      "cell_type": "code",
      "metadata": {
        "id": "O8IrmV_pvrCK",
        "colab_type": "code",
        "colab": {}
      },
      "source": [
        "# !pip install autocorrect\n",
        "# from autocorrect import Speller\n",
        "# spell = Speller(lang='en')\n",
        "# def correct_spellings(text):\n",
        "#   return spell(text)\n",
        "\n",
        "# df[\"text\"] = df[\"text\"].apply(lambda x: correct_spellings(x))\n",
        "# df.head()"
      ],
      "execution_count": 0,
      "outputs": []
    },
    {
      "cell_type": "code",
      "metadata": {
        "id": "KEpIcnw2qGuC",
        "colab_type": "code",
        "outputId": "9642a2f0-88bf-4c89-bfb5-04d7d29ef9e1",
        "colab": {
          "base_uri": "https://localhost:8080/",
          "height": 255
        }
      },
      "source": [
        "# expand contractions\n",
        "!pip install -q contractions\n",
        "import contractions\n",
        "def expand_contractions(text):\n",
        "  return contractions.fix(text)\n",
        "\n",
        "df[\"text\"] = df[\"text\"].apply(lambda x : expand_contractions(x))\n",
        "df.head()"
      ],
      "execution_count": 14,
      "outputs": [
        {
          "output_type": "stream",
          "text": [
            "\u001b[K     |████████████████████████████████| 245kB 4.1MB/s \n",
            "\u001b[K     |████████████████████████████████| 317kB 31.3MB/s \n",
            "\u001b[?25h  Building wheel for pyahocorasick (setup.py) ... \u001b[?25l\u001b[?25hdone\n"
          ],
          "name": "stdout"
        },
        {
          "output_type": "execute_result",
          "data": {
            "text/html": [
              "<div>\n",
              "<style scoped>\n",
              "    .dataframe tbody tr th:only-of-type {\n",
              "        vertical-align: middle;\n",
              "    }\n",
              "\n",
              "    .dataframe tbody tr th {\n",
              "        vertical-align: top;\n",
              "    }\n",
              "\n",
              "    .dataframe thead th {\n",
              "        text-align: right;\n",
              "    }\n",
              "</style>\n",
              "<table border=\"1\" class=\"dataframe\">\n",
              "  <thead>\n",
              "    <tr style=\"text-align: right;\">\n",
              "      <th></th>\n",
              "      <th>id</th>\n",
              "      <th>sentiment</th>\n",
              "      <th>text</th>\n",
              "    </tr>\n",
              "  </thead>\n",
              "  <tbody>\n",
              "    <tr>\n",
              "      <th>0</th>\n",
              "      <td>619950566786113536</td>\n",
              "      <td>neutral</td>\n",
              "      <td>picturehouse s pink floyd s roger waters the w...</td>\n",
              "    </tr>\n",
              "    <tr>\n",
              "      <th>1</th>\n",
              "      <td>619969366986235905</td>\n",
              "      <td>neutral</td>\n",
              "      <td>order go set a watchman in store or through ou...</td>\n",
              "    </tr>\n",
              "    <tr>\n",
              "      <th>2</th>\n",
              "      <td>619971047195045888</td>\n",
              "      <td>negative</td>\n",
              "      <td>if these runway renovations at the airport pre...</td>\n",
              "    </tr>\n",
              "    <tr>\n",
              "      <th>3</th>\n",
              "      <td>619974445185302528</td>\n",
              "      <td>neutral</td>\n",
              "      <td>if you could ask an onstage interview question...</td>\n",
              "    </tr>\n",
              "    <tr>\n",
              "      <th>4</th>\n",
              "      <td>619987808317407232</td>\n",
              "      <td>positive</td>\n",
              "      <td>a portion of book sales from our harper lee go...</td>\n",
              "    </tr>\n",
              "  </tbody>\n",
              "</table>\n",
              "</div>"
            ],
            "text/plain": [
              "                   id  ...                                               text\n",
              "0  619950566786113536  ...  picturehouse s pink floyd s roger waters the w...\n",
              "1  619969366986235905  ...  order go set a watchman in store or through ou...\n",
              "2  619971047195045888  ...  if these runway renovations at the airport pre...\n",
              "3  619974445185302528  ...  if you could ask an onstage interview question...\n",
              "4  619987808317407232  ...  a portion of book sales from our harper lee go...\n",
              "\n",
              "[5 rows x 3 columns]"
            ]
          },
          "metadata": {
            "tags": []
          },
          "execution_count": 14
        }
      ]
    },
    {
      "cell_type": "code",
      "metadata": {
        "id": "Olo07VW2nzba",
        "colab_type": "code",
        "outputId": "38420c76-24f9-4e4c-dd22-3d6363ef1ab9",
        "colab": {
          "base_uri": "https://localhost:8080/",
          "height": 204
        }
      },
      "source": [
        "PUNCT = string.punctuation\n",
        "def remove_punctuation(text):\n",
        "  return text.translate(str.maketrans('', '', PUNCT))\n",
        "\n",
        "df[\"text\"] = df[\"text\"].apply(lambda x : remove_punctuation(x))\n",
        "df.head()"
      ],
      "execution_count": 15,
      "outputs": [
        {
          "output_type": "execute_result",
          "data": {
            "text/html": [
              "<div>\n",
              "<style scoped>\n",
              "    .dataframe tbody tr th:only-of-type {\n",
              "        vertical-align: middle;\n",
              "    }\n",
              "\n",
              "    .dataframe tbody tr th {\n",
              "        vertical-align: top;\n",
              "    }\n",
              "\n",
              "    .dataframe thead th {\n",
              "        text-align: right;\n",
              "    }\n",
              "</style>\n",
              "<table border=\"1\" class=\"dataframe\">\n",
              "  <thead>\n",
              "    <tr style=\"text-align: right;\">\n",
              "      <th></th>\n",
              "      <th>id</th>\n",
              "      <th>sentiment</th>\n",
              "      <th>text</th>\n",
              "    </tr>\n",
              "  </thead>\n",
              "  <tbody>\n",
              "    <tr>\n",
              "      <th>0</th>\n",
              "      <td>619950566786113536</td>\n",
              "      <td>neutral</td>\n",
              "      <td>picturehouse s pink floyd s roger waters the w...</td>\n",
              "    </tr>\n",
              "    <tr>\n",
              "      <th>1</th>\n",
              "      <td>619969366986235905</td>\n",
              "      <td>neutral</td>\n",
              "      <td>order go set a watchman in store or through ou...</td>\n",
              "    </tr>\n",
              "    <tr>\n",
              "      <th>2</th>\n",
              "      <td>619971047195045888</td>\n",
              "      <td>negative</td>\n",
              "      <td>if these runway renovations at the airport pre...</td>\n",
              "    </tr>\n",
              "    <tr>\n",
              "      <th>3</th>\n",
              "      <td>619974445185302528</td>\n",
              "      <td>neutral</td>\n",
              "      <td>if you could ask an onstage interview question...</td>\n",
              "    </tr>\n",
              "    <tr>\n",
              "      <th>4</th>\n",
              "      <td>619987808317407232</td>\n",
              "      <td>positive</td>\n",
              "      <td>a portion of book sales from our harper lee go...</td>\n",
              "    </tr>\n",
              "  </tbody>\n",
              "</table>\n",
              "</div>"
            ],
            "text/plain": [
              "                   id  ...                                               text\n",
              "0  619950566786113536  ...  picturehouse s pink floyd s roger waters the w...\n",
              "1  619969366986235905  ...  order go set a watchman in store or through ou...\n",
              "2  619971047195045888  ...  if these runway renovations at the airport pre...\n",
              "3  619974445185302528  ...  if you could ask an onstage interview question...\n",
              "4  619987808317407232  ...  a portion of book sales from our harper lee go...\n",
              "\n",
              "[5 rows x 3 columns]"
            ]
          },
          "metadata": {
            "tags": []
          },
          "execution_count": 15
        }
      ]
    },
    {
      "cell_type": "code",
      "metadata": {
        "id": "1ahx_VYqpDN9",
        "colab_type": "code",
        "outputId": "2b9beffc-69b4-46d8-d04e-a85a20345fbf",
        "colab": {
          "base_uri": "https://localhost:8080/",
          "height": 88
        }
      },
      "source": [
        "from nltk.corpus import stopwords\n",
        "nltk.download('stopwords')\n",
        "\", \".join(stopwords.words('english'))"
      ],
      "execution_count": 16,
      "outputs": [
        {
          "output_type": "stream",
          "text": [
            "[nltk_data] Downloading package stopwords to /root/nltk_data...\n",
            "[nltk_data]   Unzipping corpora/stopwords.zip.\n"
          ],
          "name": "stdout"
        },
        {
          "output_type": "execute_result",
          "data": {
            "text/plain": [
              "\"i, me, my, myself, we, our, ours, ourselves, you, you're, you've, you'll, you'd, your, yours, yourself, yourselves, he, him, his, himself, she, she's, her, hers, herself, it, it's, its, itself, they, them, their, theirs, themselves, what, which, who, whom, this, that, that'll, these, those, am, is, are, was, were, be, been, being, have, has, had, having, do, does, did, doing, a, an, the, and, but, if, or, because, as, until, while, of, at, by, for, with, about, against, between, into, through, during, before, after, above, below, to, from, up, down, in, out, on, off, over, under, again, further, then, once, here, there, when, where, why, how, all, any, both, each, few, more, most, other, some, such, no, nor, not, only, own, same, so, than, too, very, s, t, can, will, just, don, don't, should, should've, now, d, ll, m, o, re, ve, y, ain, aren, aren't, couldn, couldn't, didn, didn't, doesn, doesn't, hadn, hadn't, hasn, hasn't, haven, haven't, isn, isn't, ma, mightn, mightn't, mustn, mustn't, needn, needn't, shan, shan't, shouldn, shouldn't, wasn, wasn't, weren, weren't, won, won't, wouldn, wouldn't\""
            ]
          },
          "metadata": {
            "tags": []
          },
          "execution_count": 16
        }
      ]
    },
    {
      "cell_type": "code",
      "metadata": {
        "id": "0TDN7nC_pWAI",
        "colab_type": "code",
        "outputId": "ecea6fba-c1ab-4581-c342-8f72c1153cf3",
        "colab": {
          "base_uri": "https://localhost:8080/",
          "height": 204
        }
      },
      "source": [
        "STOPWORDS = set(stopwords.words('english'))\n",
        "def remove_stopwords(text):\n",
        "  return \" \".join([word for word in str(text).split() if word not in STOPWORDS])\n",
        "\n",
        "df[\"text\"] = df[\"text\"].apply(lambda x : remove_stopwords(x))\n",
        "df.head()"
      ],
      "execution_count": 17,
      "outputs": [
        {
          "output_type": "execute_result",
          "data": {
            "text/html": [
              "<div>\n",
              "<style scoped>\n",
              "    .dataframe tbody tr th:only-of-type {\n",
              "        vertical-align: middle;\n",
              "    }\n",
              "\n",
              "    .dataframe tbody tr th {\n",
              "        vertical-align: top;\n",
              "    }\n",
              "\n",
              "    .dataframe thead th {\n",
              "        text-align: right;\n",
              "    }\n",
              "</style>\n",
              "<table border=\"1\" class=\"dataframe\">\n",
              "  <thead>\n",
              "    <tr style=\"text-align: right;\">\n",
              "      <th></th>\n",
              "      <th>id</th>\n",
              "      <th>sentiment</th>\n",
              "      <th>text</th>\n",
              "    </tr>\n",
              "  </thead>\n",
              "  <tbody>\n",
              "    <tr>\n",
              "      <th>0</th>\n",
              "      <td>619950566786113536</td>\n",
              "      <td>neutral</td>\n",
              "      <td>picturehouse pink floyd roger waters walll ope...</td>\n",
              "    </tr>\n",
              "    <tr>\n",
              "      <th>1</th>\n",
              "      <td>619969366986235905</td>\n",
              "      <td>neutral</td>\n",
              "      <td>order go set watchman store website tuesday ge...</td>\n",
              "    </tr>\n",
              "    <tr>\n",
              "      <th>2</th>\n",
              "      <td>619971047195045888</td>\n",
              "      <td>negative</td>\n",
              "      <td>runway renovations airport prevent seeing tayl...</td>\n",
              "    </tr>\n",
              "    <tr>\n",
              "      <th>3</th>\n",
              "      <td>619974445185302528</td>\n",
              "      <td>neutral</td>\n",
              "      <td>could ask onstage interview question miss usa ...</td>\n",
              "    </tr>\n",
              "    <tr>\n",
              "      <th>4</th>\n",
              "      <td>619987808317407232</td>\n",
              "      <td>positive</td>\n",
              "      <td>portion book sales harper lee go set watchman ...</td>\n",
              "    </tr>\n",
              "  </tbody>\n",
              "</table>\n",
              "</div>"
            ],
            "text/plain": [
              "                   id  ...                                               text\n",
              "0  619950566786113536  ...  picturehouse pink floyd roger waters walll ope...\n",
              "1  619969366986235905  ...  order go set watchman store website tuesday ge...\n",
              "2  619971047195045888  ...  runway renovations airport prevent seeing tayl...\n",
              "3  619974445185302528  ...  could ask onstage interview question miss usa ...\n",
              "4  619987808317407232  ...  portion book sales harper lee go set watchman ...\n",
              "\n",
              "[5 rows x 3 columns]"
            ]
          },
          "metadata": {
            "tags": []
          },
          "execution_count": 17
        }
      ]
    },
    {
      "cell_type": "code",
      "metadata": {
        "id": "KBMgGSw8sErz",
        "colab_type": "code",
        "outputId": "69584616-2270-45dd-a8b7-0bebd15442e1",
        "colab": {
          "base_uri": "https://localhost:8080/",
          "height": 187
        }
      },
      "source": [
        "from collections import Counter\n",
        "cnt = Counter()\n",
        "for text in df[\"text\"].values:\n",
        "  for word in text.split():\n",
        "    cnt[word] += 1\n",
        "cnt.most_common(10)"
      ],
      "execution_count": 18,
      "outputs": [
        {
          "output_type": "execute_result",
          "data": {
            "text/plain": [
              "[('may', 3604),\n",
              " ('tomorrow', 2953),\n",
              " ('day', 1661),\n",
              " ('going', 1525),\n",
              " ('friday', 1312),\n",
              " ('see', 1303),\n",
              " ('amp', 1297),\n",
              " ('sunday', 1263),\n",
              " ('night', 1255),\n",
              " ('1st', 1245)]"
            ]
          },
          "metadata": {
            "tags": []
          },
          "execution_count": 18
        }
      ]
    },
    {
      "cell_type": "code",
      "metadata": {
        "id": "5AIgSBVgn5SZ",
        "colab_type": "code",
        "outputId": "b8645f8d-5f46-4397-94e0-0ab1e2143849",
        "colab": {
          "base_uri": "https://localhost:8080/",
          "height": 204
        }
      },
      "source": [
        "FREQ_WORDS = set([word for (word, count) in cnt.most_common(10)])\n",
        "def remove_freqwords(text):\n",
        "  return \" \".join([word for word in str(text).split() if word not in FREQ_WORDS])\n",
        "\n",
        "df[\"text\"] = df[\"text\"].apply(lambda x : remove_freqwords(x))\n",
        "df.head()"
      ],
      "execution_count": 19,
      "outputs": [
        {
          "output_type": "execute_result",
          "data": {
            "text/html": [
              "<div>\n",
              "<style scoped>\n",
              "    .dataframe tbody tr th:only-of-type {\n",
              "        vertical-align: middle;\n",
              "    }\n",
              "\n",
              "    .dataframe tbody tr th {\n",
              "        vertical-align: top;\n",
              "    }\n",
              "\n",
              "    .dataframe thead th {\n",
              "        text-align: right;\n",
              "    }\n",
              "</style>\n",
              "<table border=\"1\" class=\"dataframe\">\n",
              "  <thead>\n",
              "    <tr style=\"text-align: right;\">\n",
              "      <th></th>\n",
              "      <th>id</th>\n",
              "      <th>sentiment</th>\n",
              "      <th>text</th>\n",
              "    </tr>\n",
              "  </thead>\n",
              "  <tbody>\n",
              "    <tr>\n",
              "      <th>0</th>\n",
              "      <td>619950566786113536</td>\n",
              "      <td>neutral</td>\n",
              "      <td>picturehouse pink floyd roger waters walll ope...</td>\n",
              "    </tr>\n",
              "    <tr>\n",
              "      <th>1</th>\n",
              "      <td>619969366986235905</td>\n",
              "      <td>neutral</td>\n",
              "      <td>order go set watchman store website tuesday ge...</td>\n",
              "    </tr>\n",
              "    <tr>\n",
              "      <th>2</th>\n",
              "      <td>619971047195045888</td>\n",
              "      <td>negative</td>\n",
              "      <td>runway renovations airport prevent seeing tayl...</td>\n",
              "    </tr>\n",
              "    <tr>\n",
              "      <th>3</th>\n",
              "      <td>619974445185302528</td>\n",
              "      <td>neutral</td>\n",
              "      <td>could ask onstage interview question miss usa ...</td>\n",
              "    </tr>\n",
              "    <tr>\n",
              "      <th>4</th>\n",
              "      <td>619987808317407232</td>\n",
              "      <td>positive</td>\n",
              "      <td>portion book sales harper lee go set watchman ...</td>\n",
              "    </tr>\n",
              "  </tbody>\n",
              "</table>\n",
              "</div>"
            ],
            "text/plain": [
              "                   id  ...                                               text\n",
              "0  619950566786113536  ...  picturehouse pink floyd roger waters walll ope...\n",
              "1  619969366986235905  ...  order go set watchman store website tuesday ge...\n",
              "2  619971047195045888  ...  runway renovations airport prevent seeing tayl...\n",
              "3  619974445185302528  ...  could ask onstage interview question miss usa ...\n",
              "4  619987808317407232  ...  portion book sales harper lee go set watchman ...\n",
              "\n",
              "[5 rows x 3 columns]"
            ]
          },
          "metadata": {
            "tags": []
          },
          "execution_count": 19
        }
      ]
    },
    {
      "cell_type": "code",
      "metadata": {
        "id": "JUSXa34t4uqW",
        "colab_type": "code",
        "colab": {}
      },
      "source": [
        ""
      ],
      "execution_count": 0,
      "outputs": []
    },
    {
      "cell_type": "code",
      "metadata": {
        "id": "oudKgej9oys8",
        "colab_type": "code",
        "outputId": "c3e0e314-968d-4235-bf27-9d8274a42cc6",
        "colab": {
          "base_uri": "https://localhost:8080/",
          "height": 204
        }
      },
      "source": [
        "n_rare_words = 10\n",
        "RAREWORDS = set([w for (w, wc) in cnt.most_common()[:-n_rare_words-1:-1]])\n",
        "def remove_rarewords(text):\n",
        "    \"\"\"custom function to remove the rare words\"\"\"\n",
        "    return \" \".join([word for word in str(text).split() if word not in RAREWORDS])\n",
        "\n",
        "df[\"text\"] = df[\"text\"].apply(lambda text: remove_rarewords(text))\n",
        "df.head()"
      ],
      "execution_count": 20,
      "outputs": [
        {
          "output_type": "execute_result",
          "data": {
            "text/html": [
              "<div>\n",
              "<style scoped>\n",
              "    .dataframe tbody tr th:only-of-type {\n",
              "        vertical-align: middle;\n",
              "    }\n",
              "\n",
              "    .dataframe tbody tr th {\n",
              "        vertical-align: top;\n",
              "    }\n",
              "\n",
              "    .dataframe thead th {\n",
              "        text-align: right;\n",
              "    }\n",
              "</style>\n",
              "<table border=\"1\" class=\"dataframe\">\n",
              "  <thead>\n",
              "    <tr style=\"text-align: right;\">\n",
              "      <th></th>\n",
              "      <th>id</th>\n",
              "      <th>sentiment</th>\n",
              "      <th>text</th>\n",
              "    </tr>\n",
              "  </thead>\n",
              "  <tbody>\n",
              "    <tr>\n",
              "      <th>0</th>\n",
              "      <td>619950566786113536</td>\n",
              "      <td>neutral</td>\n",
              "      <td>picturehouse pink floyd roger waters walll ope...</td>\n",
              "    </tr>\n",
              "    <tr>\n",
              "      <th>1</th>\n",
              "      <td>619969366986235905</td>\n",
              "      <td>neutral</td>\n",
              "      <td>order go set watchman store website tuesday ge...</td>\n",
              "    </tr>\n",
              "    <tr>\n",
              "      <th>2</th>\n",
              "      <td>619971047195045888</td>\n",
              "      <td>negative</td>\n",
              "      <td>runway renovations airport prevent seeing tayl...</td>\n",
              "    </tr>\n",
              "    <tr>\n",
              "      <th>3</th>\n",
              "      <td>619974445185302528</td>\n",
              "      <td>neutral</td>\n",
              "      <td>could ask onstage interview question miss usa ...</td>\n",
              "    </tr>\n",
              "    <tr>\n",
              "      <th>4</th>\n",
              "      <td>619987808317407232</td>\n",
              "      <td>positive</td>\n",
              "      <td>portion book sales harper lee go set watchman ...</td>\n",
              "    </tr>\n",
              "  </tbody>\n",
              "</table>\n",
              "</div>"
            ],
            "text/plain": [
              "                   id  ...                                               text\n",
              "0  619950566786113536  ...  picturehouse pink floyd roger waters walll ope...\n",
              "1  619969366986235905  ...  order go set watchman store website tuesday ge...\n",
              "2  619971047195045888  ...  runway renovations airport prevent seeing tayl...\n",
              "3  619974445185302528  ...  could ask onstage interview question miss usa ...\n",
              "4  619987808317407232  ...  portion book sales harper lee go set watchman ...\n",
              "\n",
              "[5 rows x 3 columns]"
            ]
          },
          "metadata": {
            "tags": []
          },
          "execution_count": 20
        }
      ]
    },
    {
      "cell_type": "code",
      "metadata": {
        "id": "t3YT8RT9o_EK",
        "colab_type": "code",
        "outputId": "549d3dd4-b335-45eb-aa6a-5cf05541fd0a",
        "colab": {
          "base_uri": "https://localhost:8080/",
          "height": 289
        }
      },
      "source": [
        "nltk.download('wordnet')\n",
        "nltk.download('averaged_perceptron_tagger')\n",
        "from nltk.corpus import wordnet\n",
        "from nltk.stem import WordNetLemmatizer\n",
        "\n",
        "lemmatizer = WordNetLemmatizer()\n",
        "wordnet_map = {\"N\":wordnet.NOUN, \"V\":wordnet.VERB, \"J\":wordnet.ADJ, \"R\":wordnet.ADV}\n",
        "def lemmatize_words(text):\n",
        "    pos_tagged_text = nltk.pos_tag(text.split())\n",
        "    return \" \".join([lemmatizer.lemmatize(word, wordnet_map.get(pos[0], wordnet.NOUN)) for word, pos in pos_tagged_text])\n",
        "\n",
        "df[\"text\"] = df[\"text\"].apply(lambda text: lemmatize_words(text))\n",
        "df.head()"
      ],
      "execution_count": 21,
      "outputs": [
        {
          "output_type": "stream",
          "text": [
            "[nltk_data] Downloading package wordnet to /root/nltk_data...\n",
            "[nltk_data]   Unzipping corpora/wordnet.zip.\n",
            "[nltk_data] Downloading package averaged_perceptron_tagger to\n",
            "[nltk_data]     /root/nltk_data...\n",
            "[nltk_data]   Unzipping taggers/averaged_perceptron_tagger.zip.\n"
          ],
          "name": "stdout"
        },
        {
          "output_type": "execute_result",
          "data": {
            "text/html": [
              "<div>\n",
              "<style scoped>\n",
              "    .dataframe tbody tr th:only-of-type {\n",
              "        vertical-align: middle;\n",
              "    }\n",
              "\n",
              "    .dataframe tbody tr th {\n",
              "        vertical-align: top;\n",
              "    }\n",
              "\n",
              "    .dataframe thead th {\n",
              "        text-align: right;\n",
              "    }\n",
              "</style>\n",
              "<table border=\"1\" class=\"dataframe\">\n",
              "  <thead>\n",
              "    <tr style=\"text-align: right;\">\n",
              "      <th></th>\n",
              "      <th>id</th>\n",
              "      <th>sentiment</th>\n",
              "      <th>text</th>\n",
              "    </tr>\n",
              "  </thead>\n",
              "  <tbody>\n",
              "    <tr>\n",
              "      <th>0</th>\n",
              "      <td>619950566786113536</td>\n",
              "      <td>neutral</td>\n",
              "      <td>picturehouse pink floyd roger water walll open...</td>\n",
              "    </tr>\n",
              "    <tr>\n",
              "      <th>1</th>\n",
              "      <td>619969366986235905</td>\n",
              "      <td>neutral</td>\n",
              "      <td>order go set watchman store website tuesday ge...</td>\n",
              "    </tr>\n",
              "    <tr>\n",
              "      <th>2</th>\n",
              "      <td>619971047195045888</td>\n",
              "      <td>negative</td>\n",
              "      <td>runway renovation airport prevent see taylor s...</td>\n",
              "    </tr>\n",
              "    <tr>\n",
              "      <th>3</th>\n",
              "      <td>619974445185302528</td>\n",
              "      <td>neutral</td>\n",
              "      <td>could ask onstage interview question miss usa ...</td>\n",
              "    </tr>\n",
              "    <tr>\n",
              "      <th>4</th>\n",
              "      <td>619987808317407232</td>\n",
              "      <td>positive</td>\n",
              "      <td>portion book sale harper lee go set watchman r...</td>\n",
              "    </tr>\n",
              "  </tbody>\n",
              "</table>\n",
              "</div>"
            ],
            "text/plain": [
              "                   id  ...                                               text\n",
              "0  619950566786113536  ...  picturehouse pink floyd roger water walll open...\n",
              "1  619969366986235905  ...  order go set watchman store website tuesday ge...\n",
              "2  619971047195045888  ...  runway renovation airport prevent see taylor s...\n",
              "3  619974445185302528  ...  could ask onstage interview question miss usa ...\n",
              "4  619987808317407232  ...  portion book sale harper lee go set watchman r...\n",
              "\n",
              "[5 rows x 3 columns]"
            ]
          },
          "metadata": {
            "tags": []
          },
          "execution_count": 21
        }
      ]
    },
    {
      "cell_type": "code",
      "metadata": {
        "id": "nVZJsl5c4wa8",
        "colab_type": "code",
        "colab": {}
      },
      "source": [
        "# SMS Spelling Expansion"
      ],
      "execution_count": 0,
      "outputs": []
    },
    {
      "cell_type": "code",
      "metadata": {
        "id": "cr5Eeliu5QKZ",
        "colab_type": "code",
        "outputId": "7910fb18-9a1b-456e-f94c-78fe445c3052",
        "colab": {
          "base_uri": "https://localhost:8080/",
          "height": 153
        }
      },
      "source": [
        "from sklearn.model_selection import StratifiedShuffleSplit\n",
        "split = StratifiedShuffleSplit(n_splits=1, test_size=0.2, random_state=42)\n",
        "for train_idx, test_idx in split.split(df, df[\"sentiment\"]):\n",
        "    train_set = df.loc[train_idx]\n",
        "    test_set = df.loc[test_idx]\n",
        "\n",
        "print(train_set[\"sentiment\"].value_counts())\n",
        "print(test_set[\"sentiment\"].value_counts())"
      ],
      "execution_count": 23,
      "outputs": [
        {
          "output_type": "stream",
          "text": [
            "neutral     8273\n",
            "positive    5647\n",
            "negative    2585\n",
            "Name: sentiment, dtype: int64\n",
            "neutral     2069\n",
            "positive    1412\n",
            "negative     646\n",
            "Name: sentiment, dtype: int64\n"
          ],
          "name": "stdout"
        }
      ]
    },
    {
      "cell_type": "code",
      "metadata": {
        "id": "U6NvnkIA6Nrc",
        "colab_type": "code",
        "outputId": "1a98aae7-7cd5-428e-8733-4572433638db",
        "colab": {
          "base_uri": "https://localhost:8080/",
          "height": 493
        }
      },
      "source": [
        "train_set[\"sentiment\"] = train_set[\"sentiment\"].astype('category')\n",
        "train_set[\"sentiment\"] = train_set[\"sentiment\"].cat.codes\n",
        "train_set = train_set[[\"text\", \"sentiment\"]]\n",
        "test_set[\"sentiment\"] = test_set[\"sentiment\"].astype('category')\n",
        "test_set[\"sentiment\"] = test_set[\"sentiment\"].cat.codes\n",
        "test_set = test_set[[\"text\", \"sentiment\"]]\n",
        "print(train_set)\n",
        "print(test_set)"
      ],
      "execution_count": 24,
      "outputs": [
        {
          "output_type": "stream",
          "text": [
            "                                                    text  sentiment\n",
            "11706                still confuse kanye west speech lol          0\n",
            "6270   talk naruto mom become huge fan within past ye...          2\n",
            "14225  bryant huge homer tie cub rookie mark kris bry...          1\n",
            "80     thank miss usa stole word beauty inside outsid...          1\n",
            "12537  ott take annual leave immerse within first jan...          2\n",
            "...                                                  ...        ...\n",
            "8386   fan boy scout john cena character work real te...          2\n",
            "19076  star war o2 centre join u 10am storytelling pr...          1\n",
            "17034  um sir concede daughter rise star rahul gandhi...          1\n",
            "17556         black kendrick lamar might best ever heard          2\n",
            "17401  rahul gandhi aka raul vinci need bag check mat...          0\n",
            "\n",
            "[16505 rows x 2 columns]\n",
            "                                                    text  sentiment\n",
            "3524   apart 4th inning mastery david price best part...          2\n",
            "9205   dragon quest hero world tree woes hero know tr...          1\n",
            "15879  want go shawn oslo 17th badly omfg hate living...          0\n",
            "7313   count holms 3rd opponent row 9 0 record fighti...          1\n",
            "20208  ur solo masturbation scene twilight parody hot...          2\n",
            "...                                                  ...        ...\n",
            "9208         go ps4 could play saturday pc dedicate hurt          1\n",
            "11335                         waste another game red sox          0\n",
            "1304   happy 2nd birthday prince george love cute pho...          2\n",
            "5242   forbes high pay woman athlete sharapova 11th y...          2\n",
            "7744   know early awake reg pull away dunkin drive wi...          1\n",
            "\n",
            "[4127 rows x 2 columns]\n"
          ],
          "name": "stdout"
        }
      ]
    },
    {
      "cell_type": "code",
      "metadata": {
        "id": "FfMTwVG18CDp",
        "colab_type": "code",
        "outputId": "011b9c03-0563-439d-d81e-2bf948faa6d0",
        "colab": {
          "base_uri": "https://localhost:8080/",
          "height": 80
        }
      },
      "source": [
        "from keras.preprocessing.text import Tokenizer\n",
        "from keras.preprocessing.sequence import pad_sequences\n",
        "from keras.utils import to_categorical"
      ],
      "execution_count": 25,
      "outputs": [
        {
          "output_type": "stream",
          "text": [
            "Using TensorFlow backend.\n"
          ],
          "name": "stderr"
        },
        {
          "output_type": "display_data",
          "data": {
            "text/html": [
              "<p style=\"color: red;\">\n",
              "The default version of TensorFlow in Colab will soon switch to TensorFlow 2.x.<br>\n",
              "We recommend you <a href=\"https://www.tensorflow.org/guide/migrate\" target=\"_blank\">upgrade</a> now \n",
              "or ensure your notebook will continue to use TensorFlow 1.x via the <code>%tensorflow_version 1.x</code> magic:\n",
              "<a href=\"https://colab.research.google.com/notebooks/tensorflow_version.ipynb\" target=\"_blank\">more info</a>.</p>\n"
            ],
            "text/plain": [
              "<IPython.core.display.HTML object>"
            ]
          },
          "metadata": {
            "tags": []
          }
        }
      ]
    },
    {
      "cell_type": "code",
      "metadata": {
        "id": "FjF_Fvsw983w",
        "colab_type": "code",
        "colab": {}
      },
      "source": [
        "df_texts = df[\"text\"]\n",
        "train_texts = train_set[\"text\"]\n",
        "test_texts = test_set[\"text\"]"
      ],
      "execution_count": 0,
      "outputs": []
    },
    {
      "cell_type": "code",
      "metadata": {
        "id": "Hktnhswj-QuS",
        "colab_type": "code",
        "outputId": "47ca64a6-69b7-4ec2-8630-06880de3bdd0",
        "colab": {
          "base_uri": "https://localhost:8080/",
          "height": 34
        }
      },
      "source": [
        "NUM_WORDS=25000\n",
        "tokenizer = Tokenizer(num_words=NUM_WORDS,filters='!\"#$%&()*+,-./:;<=>?@[\\\\]^_`{|}~\\t\\n\\'',\n",
        "                      lower=True)\n",
        "tokenizer.fit_on_texts(df_texts)\n",
        "sequences_train = tokenizer.texts_to_sequences(train_texts)\n",
        "word_index = tokenizer.word_index\n",
        "print('Found %s unique tokens.' % len(word_index))"
      ],
      "execution_count": 27,
      "outputs": [
        {
          "output_type": "stream",
          "text": [
            "Found 18610 unique tokens.\n"
          ],
          "name": "stdout"
        }
      ]
    },
    {
      "cell_type": "code",
      "metadata": {
        "id": "R1zmXfWs-ekq",
        "colab_type": "code",
        "colab": {}
      },
      "source": [
        "X_train = pad_sequences(sequences_train)\n",
        "y_train = to_categorical(list(train_set[\"sentiment\"]))"
      ],
      "execution_count": 0,
      "outputs": []
    },
    {
      "cell_type": "code",
      "metadata": {
        "id": "tYy7WibdAHxq",
        "colab_type": "code",
        "colab": {}
      },
      "source": [
        "import numpy as np\n",
        "EMBED_DIM = 200\n",
        "vocab_size = min(NUM_WORDS, len(word_index) + 1)\n",
        "embedding_matrix =np.random.normal(0,np.sqrt(0.25),[vocab_size, EMBED_DIM])"
      ],
      "execution_count": 0,
      "outputs": []
    },
    {
      "cell_type": "code",
      "metadata": {
        "id": "H28n4kUrAqsV",
        "colab_type": "code",
        "colab": {}
      },
      "source": [
        "count = []\n",
        "for word, i in word_index.items():\n",
        "    if i >= vocab_size:\n",
        "        continue\n",
        "    try:\n",
        "        embedding_vec = word2vec[word]\n",
        "        embedding_matrix[i] = embedding_vec\n",
        "    except KeyError:\n",
        "        count.append(word)\n",
        "        embedding_matrix[i] = np.random.normal(0,np.sqrt(0.25),EMBED_DIM)"
      ],
      "execution_count": 0,
      "outputs": []
    },
    {
      "cell_type": "code",
      "metadata": {
        "id": "7YK0YMeRBj0u",
        "colab_type": "code",
        "outputId": "3319fce9-a468-464c-87f3-1952cd2fbc3d",
        "colab": {
          "base_uri": "https://localhost:8080/",
          "height": 34
        }
      },
      "source": [
        "count\n",
        "len(count)"
      ],
      "execution_count": 31,
      "outputs": [
        {
          "output_type": "execute_result",
          "data": {
            "text/plain": [
              "2520"
            ]
          },
          "metadata": {
            "tags": []
          },
          "execution_count": 31
        }
      ]
    },
    {
      "cell_type": "code",
      "metadata": {
        "id": "v_-gRsn1Bm98",
        "colab_type": "code",
        "colab": {
          "base_uri": "https://localhost:8080/",
          "height": 428
        },
        "outputId": "1907766c-2629-4f10-bd54-627a1824e978"
      },
      "source": [
        "from keras.layers import Embedding\n",
        "embedding_layer = Embedding(vocab_size,\n",
        "                            EMBED_DIM,\n",
        "                            weights=[embedding_matrix],\n",
        "                            trainable=True)\n",
        "seq_len = X_train.shape[1]\n",
        "from keras.layers import Input\n",
        "from keras.layers import Flatten\n",
        "from keras.layers import Dense\n",
        "from keras.models import Model\n",
        "from keras.layers import LSTM\n",
        "from keras.layers import Dropout\n",
        "inputs = Input(shape=(seq_len,))\n",
        "embeddings = embedding_layer(inputs)\n",
        "# flattened = Flatten()(embeddings)\n",
        "lstm = LSTM(200, dropout=0.25)(embeddings)\n",
        "dense0 = Dense(128, activation=\"relu\")(lstm)\n",
        "dropout0 = Dropout(rate=0.25)(dense0)\n",
        "dense1 = Dense(64, activation=\"relu\")(dropout0)\n",
        "dropout1 = Dropout(rate=0.25)(dense1)\n",
        "dense2 = Dense(32, activation=\"relu\")(dropout1)\n",
        "dropout2 = Dropout(rate=0.25)(dense2)\n",
        "dense3 = Dense(16, activation=\"relu\")(dropout2)\n",
        "output = Dense(y_train.shape[1], activation='softmax')(dense3)\n",
        "model = Model(inputs, output)"
      ],
      "execution_count": 32,
      "outputs": [
        {
          "output_type": "stream",
          "text": [
            "WARNING:tensorflow:From /usr/local/lib/python3.6/dist-packages/keras/backend/tensorflow_backend.py:66: The name tf.get_default_graph is deprecated. Please use tf.compat.v1.get_default_graph instead.\n",
            "\n",
            "WARNING:tensorflow:From /usr/local/lib/python3.6/dist-packages/keras/backend/tensorflow_backend.py:541: The name tf.placeholder is deprecated. Please use tf.compat.v1.placeholder instead.\n",
            "\n",
            "WARNING:tensorflow:From /usr/local/lib/python3.6/dist-packages/keras/backend/tensorflow_backend.py:4432: The name tf.random_uniform is deprecated. Please use tf.random.uniform instead.\n",
            "\n",
            "WARNING:tensorflow:From /usr/local/lib/python3.6/dist-packages/keras/backend/tensorflow_backend.py:190: The name tf.get_default_session is deprecated. Please use tf.compat.v1.get_default_session instead.\n",
            "\n",
            "WARNING:tensorflow:From /usr/local/lib/python3.6/dist-packages/keras/backend/tensorflow_backend.py:197: The name tf.ConfigProto is deprecated. Please use tf.compat.v1.ConfigProto instead.\n",
            "\n",
            "WARNING:tensorflow:From /usr/local/lib/python3.6/dist-packages/keras/backend/tensorflow_backend.py:203: The name tf.Session is deprecated. Please use tf.compat.v1.Session instead.\n",
            "\n",
            "WARNING:tensorflow:From /usr/local/lib/python3.6/dist-packages/keras/backend/tensorflow_backend.py:207: The name tf.global_variables is deprecated. Please use tf.compat.v1.global_variables instead.\n",
            "\n",
            "WARNING:tensorflow:From /usr/local/lib/python3.6/dist-packages/keras/backend/tensorflow_backend.py:216: The name tf.is_variable_initialized is deprecated. Please use tf.compat.v1.is_variable_initialized instead.\n",
            "\n",
            "WARNING:tensorflow:From /usr/local/lib/python3.6/dist-packages/keras/backend/tensorflow_backend.py:223: The name tf.variables_initializer is deprecated. Please use tf.compat.v1.variables_initializer instead.\n",
            "\n",
            "WARNING:tensorflow:From /usr/local/lib/python3.6/dist-packages/keras/backend/tensorflow_backend.py:148: The name tf.placeholder_with_default is deprecated. Please use tf.compat.v1.placeholder_with_default instead.\n",
            "\n",
            "WARNING:tensorflow:From /usr/local/lib/python3.6/dist-packages/keras/backend/tensorflow_backend.py:3733: calling dropout (from tensorflow.python.ops.nn_ops) with keep_prob is deprecated and will be removed in a future version.\n",
            "Instructions for updating:\n",
            "Please use `rate` instead of `keep_prob`. Rate should be set to `rate = 1 - keep_prob`.\n"
          ],
          "name": "stdout"
        }
      ]
    },
    {
      "cell_type": "code",
      "metadata": {
        "id": "eJ1Z0yUVCgzh",
        "colab_type": "code",
        "outputId": "b405b9a3-b549-46ad-f693-97b0b5502d9d",
        "colab": {
          "base_uri": "https://localhost:8080/",
          "height": 527
        }
      },
      "source": [
        "model.summary()"
      ],
      "execution_count": 33,
      "outputs": [
        {
          "output_type": "stream",
          "text": [
            "Model: \"model_1\"\n",
            "_________________________________________________________________\n",
            "Layer (type)                 Output Shape              Param #   \n",
            "=================================================================\n",
            "input_1 (InputLayer)         (None, 29)                0         \n",
            "_________________________________________________________________\n",
            "embedding_1 (Embedding)      (None, 29, 200)           3722200   \n",
            "_________________________________________________________________\n",
            "lstm_1 (LSTM)                (None, 200)               320800    \n",
            "_________________________________________________________________\n",
            "dense_1 (Dense)              (None, 128)               25728     \n",
            "_________________________________________________________________\n",
            "dropout_1 (Dropout)          (None, 128)               0         \n",
            "_________________________________________________________________\n",
            "dense_2 (Dense)              (None, 64)                8256      \n",
            "_________________________________________________________________\n",
            "dropout_2 (Dropout)          (None, 64)                0         \n",
            "_________________________________________________________________\n",
            "dense_3 (Dense)              (None, 32)                2080      \n",
            "_________________________________________________________________\n",
            "dropout_3 (Dropout)          (None, 32)                0         \n",
            "_________________________________________________________________\n",
            "dense_4 (Dense)              (None, 16)                528       \n",
            "_________________________________________________________________\n",
            "dense_5 (Dense)              (None, 3)                 51        \n",
            "=================================================================\n",
            "Total params: 4,079,643\n",
            "Trainable params: 4,079,643\n",
            "Non-trainable params: 0\n",
            "_________________________________________________________________\n"
          ],
          "name": "stdout"
        }
      ]
    },
    {
      "cell_type": "code",
      "metadata": {
        "id": "EMVLTEpYwnem",
        "colab_type": "code",
        "outputId": "e608223f-6dd2-4181-d9f9-d26cab65cf86",
        "colab": {
          "base_uri": "https://localhost:8080/",
          "height": 1000
        }
      },
      "source": [
        "from keras.utils import plot_model\n",
        "plot_model(model, to_file='model_1.png', show_shapes=True)"
      ],
      "execution_count": 34,
      "outputs": [
        {
          "output_type": "execute_result",
          "data": {
            "image/png": "[encoded data removed]",
            "text/plain": [
              "<IPython.core.display.Image object>"
            ]
          },
          "metadata": {
            "tags": []
          },
          "execution_count": 34
        }
      ]
    },
    {
      "cell_type": "code",
      "metadata": {
        "id": "8r_xJYqlCipv",
        "colab_type": "code",
        "outputId": "871e91fa-edeb-4a3a-af62-8f2a538d2375",
        "colab": {
          "base_uri": "https://localhost:8080/",
          "height": 374
        }
      },
      "source": [
        "from keras.optimizers import Adam\n",
        "!pip install keras-rectified-adam\n",
        "from keras_radam import RAdam\n",
        "opt = RAdam()\n",
        "\n",
        "from keras import backend as K\n",
        "\n",
        "def recall_m(y_true, y_pred):\n",
        "        true_positives = K.sum(K.round(K.clip(y_true * y_pred, 0, 1)))\n",
        "        possible_positives = K.sum(K.round(K.clip(y_true, 0, 1)))\n",
        "        recall = true_positives / (possible_positives + K.epsilon())\n",
        "        return recall\n",
        "\n",
        "def precision_m(y_true, y_pred):\n",
        "        true_positives = K.sum(K.round(K.clip(y_true * y_pred, 0, 1)))\n",
        "        predicted_positives = K.sum(K.round(K.clip(y_pred, 0, 1)))\n",
        "        precision = true_positives / (predicted_positives + K.epsilon())\n",
        "        return precision\n",
        "\n",
        "def f1_m(y_true, y_pred):\n",
        "    precision = precision_m(y_true, y_pred)\n",
        "    recall = recall_m(y_true, y_pred)\n",
        "    return 2*((precision*recall)/(precision+recall+K.epsilon()))\n",
        "\n",
        "model.compile(loss='categorical_crossentropy',\n",
        "              optimizer=opt,\n",
        "              metrics=['acc', recall_m, precision_m, f1_m])"
      ],
      "execution_count": 35,
      "outputs": [
        {
          "output_type": "stream",
          "text": [
            "Collecting keras-rectified-adam\n",
            "  Downloading https://files.pythonhosted.org/packages/21/79/9521f66b92186702cb58a214c1b923b416266381cd824e15a1733f6a5b06/keras-rectified-adam-0.17.0.tar.gz\n",
            "Requirement already satisfied: numpy in /usr/local/lib/python3.6/dist-packages (from keras-rectified-adam) (1.17.5)\n",
            "Requirement already satisfied: Keras in /usr/local/lib/python3.6/dist-packages (from keras-rectified-adam) (2.2.5)\n",
            "Requirement already satisfied: six>=1.9.0 in /usr/local/lib/python3.6/dist-packages (from Keras->keras-rectified-adam) (1.12.0)\n",
            "Requirement already satisfied: h5py in /usr/local/lib/python3.6/dist-packages (from Keras->keras-rectified-adam) (2.8.0)\n",
            "Requirement already satisfied: scipy>=0.14 in /usr/local/lib/python3.6/dist-packages (from Keras->keras-rectified-adam) (1.4.1)\n",
            "Requirement already satisfied: keras-preprocessing>=1.1.0 in /usr/local/lib/python3.6/dist-packages (from Keras->keras-rectified-adam) (1.1.0)\n",
            "Requirement already satisfied: pyyaml in /usr/local/lib/python3.6/dist-packages (from Keras->keras-rectified-adam) (3.13)\n",
            "Requirement already satisfied: keras-applications>=1.0.8 in /usr/local/lib/python3.6/dist-packages (from Keras->keras-rectified-adam) (1.0.8)\n",
            "Building wheels for collected packages: keras-rectified-adam\n",
            "  Building wheel for keras-rectified-adam (setup.py) ... \u001b[?25l\u001b[?25hdone\n",
            "  Created wheel for keras-rectified-adam: filename=keras_rectified_adam-0.17.0-cp36-none-any.whl size=14781 sha256=0f1145fc9fbedefa5cdae2579a2b388d88365ea064409886de98b8ba993d2a22\n",
            "  Stored in directory: /root/.cache/pip/wheels/7b/01/27/3a934e1a5644f5b93c720422a6ef97034ea78a21ba71cfb549\n",
            "Successfully built keras-rectified-adam\n",
            "Installing collected packages: keras-rectified-adam\n",
            "Successfully installed keras-rectified-adam-0.17.0\n",
            "WARNING:tensorflow:From /usr/local/lib/python3.6/dist-packages/keras/optimizers.py:793: The name tf.train.Optimizer is deprecated. Please use tf.compat.v1.train.Optimizer instead.\n",
            "\n",
            "WARNING:tensorflow:From /usr/local/lib/python3.6/dist-packages/keras/backend/tensorflow_backend.py:3576: The name tf.log is deprecated. Please use tf.math.log instead.\n",
            "\n"
          ],
          "name": "stdout"
        }
      ]
    },
    {
      "cell_type": "code",
      "metadata": {
        "id": "7wOEruvyCmze",
        "colab_type": "code",
        "outputId": "38c7f46c-4c46-4359-c98f-87b8ce3d74fc",
        "colab": {
          "base_uri": "https://localhost:8080/",
          "height": 870
        }
      },
      "source": [
        "model.fit(X_train, y_train, batch_size=500, epochs=20, verbose=1, validation_split=0.2, shuffle=True)"
      ],
      "execution_count": 36,
      "outputs": [
        {
          "output_type": "stream",
          "text": [
            "WARNING:tensorflow:From /usr/local/lib/python3.6/dist-packages/tensorflow_core/python/ops/math_grad.py:1424: where (from tensorflow.python.ops.array_ops) is deprecated and will be removed in a future version.\n",
            "Instructions for updating:\n",
            "Use tf.where in 2.0, which has the same broadcast rule as np.where\n",
            "WARNING:tensorflow:From /usr/local/lib/python3.6/dist-packages/keras/backend/tensorflow_backend.py:1033: The name tf.assign_add is deprecated. Please use tf.compat.v1.assign_add instead.\n",
            "\n",
            "WARNING:tensorflow:From /usr/local/lib/python3.6/dist-packages/keras/backend/tensorflow_backend.py:1020: The name tf.assign is deprecated. Please use tf.compat.v1.assign instead.\n",
            "\n",
            "Train on 13204 samples, validate on 3301 samples\n",
            "Epoch 1/20\n",
            "13204/13204 [==============================] - 26s 2ms/step - loss: 1.1026 - acc: 0.3513 - recall_m: 0.0000e+00 - precision_m: 0.0000e+00 - f1_m: 0.0000e+00 - val_loss: 1.0725 - val_acc: 0.4602 - val_recall_m: 0.0000e+00 - val_precision_m: 0.0000e+00 - val_f1_m: 0.0000e+00\n",
            "Epoch 2/20\n",
            "13204/13204 [==============================] - 24s 2ms/step - loss: 1.0541 - acc: 0.4680 - recall_m: 0.0195 - precision_m: 0.2751 - f1_m: 0.0342 - val_loss: 1.0145 - val_acc: 0.4838 - val_recall_m: 0.0070 - val_precision_m: 0.4176 - val_f1_m: 0.0137\n",
            "Epoch 3/20\n",
            "13204/13204 [==============================] - 24s 2ms/step - loss: 1.0146 - acc: 0.4940 - recall_m: 0.2148 - precision_m: 0.5047 - f1_m: 0.2999 - val_loss: 0.9982 - val_acc: 0.4838 - val_recall_m: 0.0076 - val_precision_m: 0.6335 - val_f1_m: 0.0150\n",
            "Epoch 4/20\n",
            "13204/13204 [==============================] - 24s 2ms/step - loss: 0.9969 - acc: 0.4987 - recall_m: 0.2008 - precision_m: 0.5291 - f1_m: 0.2892 - val_loss: 0.9755 - val_acc: 0.4841 - val_recall_m: 0.2720 - val_precision_m: 0.5621 - val_f1_m: 0.3666\n",
            "Epoch 5/20\n",
            "13204/13204 [==============================] - 24s 2ms/step - loss: 0.9682 - acc: 0.5105 - recall_m: 0.2495 - precision_m: 0.5556 - f1_m: 0.3437 - val_loss: 0.9221 - val_acc: 0.5253 - val_recall_m: 0.3535 - val_precision_m: 0.5778 - val_f1_m: 0.4386\n",
            "Epoch 6/20\n",
            "13204/13204 [==============================] - 24s 2ms/step - loss: 0.9261 - acc: 0.5340 - recall_m: 0.3230 - precision_m: 0.5910 - f1_m: 0.4148 - val_loss: 0.8608 - val_acc: 0.5895 - val_recall_m: 0.5068 - val_precision_m: 0.6206 - val_f1_m: 0.5580\n",
            "Epoch 7/20\n",
            "13204/13204 [==============================] - 24s 2ms/step - loss: 0.8890 - acc: 0.5682 - recall_m: 0.4038 - precision_m: 0.6195 - f1_m: 0.4872 - val_loss: 0.8248 - val_acc: 0.6186 - val_recall_m: 0.4786 - val_precision_m: 0.6639 - val_f1_m: 0.5562\n",
            "Epoch 8/20\n",
            "13204/13204 [==============================] - 24s 2ms/step - loss: 0.8405 - acc: 0.6028 - recall_m: 0.4737 - precision_m: 0.6456 - f1_m: 0.5461 - val_loss: 0.7992 - val_acc: 0.6398 - val_recall_m: 0.5417 - val_precision_m: 0.6739 - val_f1_m: 0.6005\n",
            "Epoch 9/20\n",
            "13204/13204 [==============================] - 24s 2ms/step - loss: 0.8040 - acc: 0.6298 - recall_m: 0.5335 - precision_m: 0.6662 - f1_m: 0.5921 - val_loss: 0.7816 - val_acc: 0.6456 - val_recall_m: 0.5683 - val_precision_m: 0.6749 - val_f1_m: 0.6170\n",
            "Epoch 10/20\n",
            "13204/13204 [==============================] - 25s 2ms/step - loss: 0.7792 - acc: 0.6497 - recall_m: 0.5556 - precision_m: 0.6855 - f1_m: 0.6136 - val_loss: 0.7896 - val_acc: 0.6386 - val_recall_m: 0.5916 - val_precision_m: 0.6607 - val_f1_m: 0.6242\n",
            "Epoch 11/20\n",
            "13204/13204 [==============================] - 24s 2ms/step - loss: 0.7486 - acc: 0.6694 - recall_m: 0.5939 - precision_m: 0.7016 - f1_m: 0.6431 - val_loss: 0.7573 - val_acc: 0.6604 - val_recall_m: 0.6162 - val_precision_m: 0.6808 - val_f1_m: 0.6469\n",
            "Epoch 12/20\n",
            "13204/13204 [==============================] - 24s 2ms/step - loss: 0.7206 - acc: 0.6875 - recall_m: 0.6204 - precision_m: 0.7211 - f1_m: 0.6669 - val_loss: 0.7600 - val_acc: 0.6577 - val_recall_m: 0.6159 - val_precision_m: 0.6805 - val_f1_m: 0.6465\n",
            "Epoch 13/20\n",
            "13204/13204 [==============================] - 24s 2ms/step - loss: 0.6949 - acc: 0.7025 - recall_m: 0.6402 - precision_m: 0.7287 - f1_m: 0.6815 - val_loss: 0.7577 - val_acc: 0.6643 - val_recall_m: 0.6253 - val_precision_m: 0.6883 - val_f1_m: 0.6552\n",
            "Epoch 14/20\n",
            "13204/13204 [==============================] - 24s 2ms/step - loss: 0.6755 - acc: 0.7105 - recall_m: 0.6520 - precision_m: 0.7415 - f1_m: 0.6937 - val_loss: 0.7879 - val_acc: 0.6619 - val_recall_m: 0.6347 - val_precision_m: 0.6729 - val_f1_m: 0.6532\n",
            "Epoch 15/20\n",
            "13204/13204 [==============================] - 24s 2ms/step - loss: 0.6433 - acc: 0.7242 - recall_m: 0.6778 - precision_m: 0.7534 - f1_m: 0.7136 - val_loss: 0.7533 - val_acc: 0.6592 - val_recall_m: 0.6168 - val_precision_m: 0.6815 - val_f1_m: 0.6475\n",
            "Epoch 16/20\n",
            "13204/13204 [==============================] - 24s 2ms/step - loss: 0.6147 - acc: 0.7417 - recall_m: 0.7027 - precision_m: 0.7660 - f1_m: 0.7329 - val_loss: 0.7735 - val_acc: 0.6616 - val_recall_m: 0.6286 - val_precision_m: 0.6793 - val_f1_m: 0.6530\n",
            "Epoch 17/20\n",
            "13204/13204 [==============================] - 24s 2ms/step - loss: 0.5916 - acc: 0.7536 - recall_m: 0.7142 - precision_m: 0.7776 - f1_m: 0.7445 - val_loss: 0.7621 - val_acc: 0.6540 - val_recall_m: 0.6144 - val_precision_m: 0.6780 - val_f1_m: 0.6446\n",
            "Epoch 18/20\n",
            "13204/13204 [==============================] - 24s 2ms/step - loss: 0.5731 - acc: 0.7673 - recall_m: 0.7271 - precision_m: 0.7936 - f1_m: 0.7589 - val_loss: 0.8063 - val_acc: 0.6540 - val_recall_m: 0.6289 - val_precision_m: 0.6709 - val_f1_m: 0.6492\n",
            "Epoch 19/20\n",
            "13204/13204 [==============================] - 24s 2ms/step - loss: 0.5534 - acc: 0.7748 - recall_m: 0.7355 - precision_m: 0.8005 - f1_m: 0.7666 - val_loss: 0.8209 - val_acc: 0.6547 - val_recall_m: 0.6322 - val_precision_m: 0.6734 - val_f1_m: 0.6521\n",
            "Epoch 20/20\n",
            "13204/13204 [==============================] - 24s 2ms/step - loss: 0.5124 - acc: 0.7963 - recall_m: 0.7662 - precision_m: 0.8179 - f1_m: 0.7912 - val_loss: 0.8268 - val_acc: 0.6531 - val_recall_m: 0.6271 - val_precision_m: 0.6664 - val_f1_m: 0.6461\n"
          ],
          "name": "stdout"
        },
        {
          "output_type": "execute_result",
          "data": {
            "text/plain": [
              "<keras.callbacks.History at 0x7f2005e884a8>"
            ]
          },
          "metadata": {
            "tags": []
          },
          "execution_count": 36
        }
      ]
    },
    {
      "cell_type": "code",
      "metadata": {
        "id": "r-GOmqFgCnb_",
        "colab_type": "code",
        "colab": {}
      },
      "source": [
        "sequences_test=tokenizer.texts_to_sequences(test_set.text)\n",
        "X_test = pad_sequences(sequences_test,maxlen=X_train.shape[1])\n",
        "y_test = to_categorical(list(test_set['sentiment']))"
      ],
      "execution_count": 0,
      "outputs": []
    },
    {
      "cell_type": "code",
      "metadata": {
        "id": "2OWnfjXjDZCh",
        "colab_type": "code",
        "outputId": "1e95bb5b-a29c-4376-b2ae-30ca9af53c07",
        "colab": {
          "base_uri": "https://localhost:8080/",
          "height": 119
        }
      },
      "source": [
        "model.evaluate(X_test, y_test)"
      ],
      "execution_count": 38,
      "outputs": [
        {
          "output_type": "stream",
          "text": [
            "4127/4127 [==============================] - 3s 616us/step\n"
          ],
          "name": "stdout"
        },
        {
          "output_type": "execute_result",
          "data": {
            "text/plain": [
              "[0.817373616111345,\n",
              " 0.6576205476854915,\n",
              " 0.6302398837794106,\n",
              " 0.6748637365809589,\n",
              " 0.651453629183024]"
            ]
          },
          "metadata": {
            "tags": []
          },
          "execution_count": 38
        }
      ]
    },
    {
      "cell_type": "code",
      "metadata": {
        "id": "j03hdSFhDexk",
        "colab_type": "code",
        "outputId": "2763a327-e6da-4110-9a8f-be03974094fd",
        "colab": {
          "base_uri": "https://localhost:8080/",
          "height": 221
        }
      },
      "source": [
        "y_pred = model.predict(X_test)\n",
        "y_pred = np.argmax(y_pred, axis=1)\n",
        "y_true = np.argmax(y_test, axis=1)\n",
        "from sklearn.metrics import classification_report, recall_score, f1_score\n",
        "print(f1_score(y_true, y_pred, average='macro'))\n",
        "print(recall_score(y_true, y_pred, average='macro'))\n",
        "print(classification_report(y_true, y_pred))"
      ],
      "execution_count": 39,
      "outputs": [
        {
          "output_type": "stream",
          "text": [
            "0.6282708331455774\n",
            "0.6198734160758254\n",
            "              precision    recall  f1-score   support\n",
            "\n",
            "           0       0.59      0.49      0.54       646\n",
            "           1       0.68      0.71      0.69      2069\n",
            "           2       0.65      0.66      0.65      1412\n",
            "\n",
            "    accuracy                           0.66      4127\n",
            "   macro avg       0.64      0.62      0.63      4127\n",
            "weighted avg       0.66      0.66      0.66      4127\n",
            "\n"
          ],
          "name": "stdout"
        }
      ]
    },
    {
      "cell_type": "markdown",
      "metadata": {
        "id": "bRH3KsVAZ8Ch",
        "colab_type": "text"
      },
      "source": [
        "Here, we have LSTM output a 300-dim embedding and we use Rectified Adam as optimizer. Without pretraining, we have the following metrics report.\n",
        "\n",
        "```\n",
        "Average Recall - 0.621831786567959\n",
        "\n",
        "Classification report\n",
        "              precision    recall  f1-score   support\n",
        "\n",
        "           0       0.48      0.57      0.52       646\n",
        "           1       0.68      0.66      0.67      2069\n",
        "           2       0.66      0.64      0.65      1412\n",
        "\n",
        "    accuracy                           0.64      4127\n",
        "   macro avg       0.61      0.62      0.61      4127\n",
        "weighted avg       0.64      0.64      0.64      4127\n",
        "```\n",
        "\n"
      ]
    },
    {
      "cell_type": "code",
      "metadata": {
        "id": "1xuqzs6OZ66g",
        "colab_type": "code",
        "colab": {}
      },
      "source": [
        ""
      ],
      "execution_count": 0,
      "outputs": []
    },
    {
      "cell_type": "code",
      "metadata": {
        "id": "GdDOlzybEtUu",
        "colab_type": "code",
        "outputId": "992f844d-82c0-4f43-877d-730e285c7fe7",
        "colab": {
          "base_uri": "https://localhost:8080/",
          "height": 68
        }
      },
      "source": [
        "from sklearn.metrics import confusion_matrix\n",
        "z = confusion_matrix(y_true, y_pred)\n",
        "print(z)"
      ],
      "execution_count": 0,
      "outputs": [
        {
          "output_type": "stream",
          "text": [
            "[[ 265  310   71]\n",
            " [ 153 1568  348]\n",
            " [  36  522  854]]\n"
          ],
          "name": "stdout"
        }
      ]
    },
    {
      "cell_type": "code",
      "metadata": {
        "id": "gYmmJlKNEuik",
        "colab_type": "code",
        "colab": {}
      },
      "source": [
        "y_random = np.random.randint(3, size=len(y_true))"
      ],
      "execution_count": 0,
      "outputs": []
    },
    {
      "cell_type": "code",
      "metadata": {
        "id": "DHKqGvJBTr2D",
        "colab_type": "code",
        "outputId": "0a63d894-b9d0-4579-a4e0-cd0583920b34",
        "colab": {
          "base_uri": "https://localhost:8080/",
          "height": 34
        }
      },
      "source": [
        "f1_score(y_true, y_random, average='macro')"
      ],
      "execution_count": 0,
      "outputs": [
        {
          "output_type": "execute_result",
          "data": {
            "text/plain": [
              "0.3197831738539613"
            ]
          },
          "metadata": {
            "tags": []
          },
          "execution_count": 42
        }
      ]
    },
    {
      "cell_type": "markdown",
      "metadata": {
        "id": "RyA9MaUu2ldS",
        "colab_type": "text"
      },
      "source": [
        "Random prediction metric is 0.316. That is, if we choose either negative, neutral or positive randomly, our F-score turns out to be around 0.32"
      ]
    },
    {
      "cell_type": "code",
      "metadata": {
        "id": "ZE4Xz8xyTw3M",
        "colab_type": "code",
        "colab": {}
      },
      "source": [
        ""
      ],
      "execution_count": 0,
      "outputs": []
    }
  ]
}