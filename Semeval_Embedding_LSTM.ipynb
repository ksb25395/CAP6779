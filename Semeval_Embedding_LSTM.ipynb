{
  "nbformat": 4,
  "nbformat_minor": 0,
  "metadata": {
    "colab": {
      "name": "Semeval_Embedding_LSTM",
      "provenance": [],
      "authorship_tag": "ABX9TyOfLyLqP1B0t5xkotkrjVuJ",
      "include_colab_link": true
    },
    "kernelspec": {
      "name": "python3",
      "display_name": "Python 3"
    }
  },
  "cells": [
    {
      "cell_type": "markdown",
      "metadata": {
        "id": "view-in-github",
        "colab_type": "text"
      },
      "source": [
        "<a href=\"https://colab.research.google.com/github/ksb25395/CAP6779/blob/master/Semeval_Embedding_LSTM.ipynb\" target=\"_parent\"><img src=\"https://colab.research.google.com/assets/colab-badge.svg\" alt=\"Open In Colab\"/></a>"
      ]
    },
    {
      "cell_type": "code",
      "metadata": {
        "id": "PTZ6f4SuPAsY",
        "colab_type": "code",
        "outputId": "97ae5636-cab9-40ec-92e5-71795bdadee0",
        "colab": {
          "base_uri": "https://localhost:8080/",
          "height": 34
        }
      },
      "source": [
        "from google.colab import drive\n",
        "drive.mount('/content/gdrive')"
      ],
      "execution_count": 0,
      "outputs": [
        {
          "output_type": "stream",
          "text": [
            "Drive already mounted at /content/gdrive; to attempt to forcibly remount, call drive.mount(\"/content/gdrive\", force_remount=True).\n"
          ],
          "name": "stdout"
        }
      ]
    },
    {
      "cell_type": "code",
      "metadata": {
        "id": "jc0SNOUv_rvQ",
        "colab_type": "code",
        "outputId": "9dc7ba19-2ba7-4e5d-c9ba-6cc08533de08",
        "colab": {
          "base_uri": "https://localhost:8080/",
          "height": 71
        }
      },
      "source": [
        "from gensim.models import KeyedVectors\n",
        "EMBEDDING_FILE = '/content/gdrive/My Drive/Colab Notebooks/datasets/Google/GoogleNews-vectors-negative300.bin.gz'\n",
        "word2vec = KeyedVectors.load_word2vec_format(EMBEDDING_FILE, binary=True)"
      ],
      "execution_count": 0,
      "outputs": [
        {
          "output_type": "stream",
          "text": [
            "/usr/local/lib/python3.6/dist-packages/smart_open/smart_open_lib.py:402: UserWarning: This function is deprecated, use smart_open.open instead. See the migration notes for details: https://github.com/RaRe-Technologies/smart_open/blob/master/README.rst#migrating-to-the-new-open-function\n",
            "  'See the migration notes for details: %s' % _MIGRATION_NOTES_URL\n"
          ],
          "name": "stderr"
        }
      ]
    },
    {
      "cell_type": "code",
      "metadata": {
        "id": "nGK9GF0OBlO3",
        "colab_type": "code",
        "colab": {}
      },
      "source": [
        "import pandas as pd \n",
        "df=pd.read_csv('/content/gdrive/My Drive/Colab Notebooks/datasets/Semeval-2017-4A-English/SemEval2017-task4-dev.subtask-A.english.INPUT.txt', sep=\"\\t\", header=None)"
      ],
      "execution_count": 0,
      "outputs": []
    },
    {
      "cell_type": "code",
      "metadata": {
        "id": "V9TWiLUeCb6I",
        "colab_type": "code",
        "colab": {}
      },
      "source": [
        "df.head()\n",
        "df = df.drop(columns=3)"
      ],
      "execution_count": 0,
      "outputs": []
    },
    {
      "cell_type": "code",
      "metadata": {
        "id": "nCCJ_pAKKm0W",
        "colab_type": "code",
        "colab": {}
      },
      "source": [
        "df.columns = ['id', 'sentiment', 'text']"
      ],
      "execution_count": 0,
      "outputs": []
    },
    {
      "cell_type": "code",
      "metadata": {
        "id": "uztt4W8MLW8c",
        "colab_type": "code",
        "outputId": "4febd154-8aaa-4eb5-e074-4b7ed8e81c21",
        "colab": {
          "base_uri": "https://localhost:8080/",
          "height": 419
        }
      },
      "source": [
        "df"
      ],
      "execution_count": 0,
      "outputs": [
        {
          "output_type": "execute_result",
          "data": {
            "text/html": [
              "<div>\n",
              "<style scoped>\n",
              "    .dataframe tbody tr th:only-of-type {\n",
              "        vertical-align: middle;\n",
              "    }\n",
              "\n",
              "    .dataframe tbody tr th {\n",
              "        vertical-align: top;\n",
              "    }\n",
              "\n",
              "    .dataframe thead th {\n",
              "        text-align: right;\n",
              "    }\n",
              "</style>\n",
              "<table border=\"1\" class=\"dataframe\">\n",
              "  <thead>\n",
              "    <tr style=\"text-align: right;\">\n",
              "      <th></th>\n",
              "      <th>id</th>\n",
              "      <th>sentiment</th>\n",
              "      <th>tweet</th>\n",
              "    </tr>\n",
              "  </thead>\n",
              "  <tbody>\n",
              "    <tr>\n",
              "      <th>0</th>\n",
              "      <td>619950566786113536</td>\n",
              "      <td>neutral</td>\n",
              "      <td>Picturehouse's, Pink Floyd's, 'Roger Waters: T...</td>\n",
              "    </tr>\n",
              "    <tr>\n",
              "      <th>1</th>\n",
              "      <td>619969366986235905</td>\n",
              "      <td>neutral</td>\n",
              "      <td>Order Go Set a Watchman in store or through ou...</td>\n",
              "    </tr>\n",
              "    <tr>\n",
              "      <th>2</th>\n",
              "      <td>619971047195045888</td>\n",
              "      <td>negative</td>\n",
              "      <td>If these runway renovations at the airport pre...</td>\n",
              "    </tr>\n",
              "    <tr>\n",
              "      <th>3</th>\n",
              "      <td>619974445185302528</td>\n",
              "      <td>neutral</td>\n",
              "      <td>If you could ask an onstage interview question...</td>\n",
              "    </tr>\n",
              "    <tr>\n",
              "      <th>4</th>\n",
              "      <td>619987808317407232</td>\n",
              "      <td>positive</td>\n",
              "      <td>A portion of book sales from our Harper Lee/Go...</td>\n",
              "    </tr>\n",
              "    <tr>\n",
              "      <th>...</th>\n",
              "      <td>...</td>\n",
              "      <td>...</td>\n",
              "      <td>...</td>\n",
              "    </tr>\n",
              "    <tr>\n",
              "      <th>20627</th>\n",
              "      <td>681877834982232064</td>\n",
              "      <td>neutral</td>\n",
              "      <td>@ShaquilleHoNeal from what I think you're aski...</td>\n",
              "    </tr>\n",
              "    <tr>\n",
              "      <th>20628</th>\n",
              "      <td>681879579129200640</td>\n",
              "      <td>positive</td>\n",
              "      <td>Iran ranks 1st in liver surgeries, Allah bless...</td>\n",
              "    </tr>\n",
              "    <tr>\n",
              "      <th>20629</th>\n",
              "      <td>681883903259357184</td>\n",
              "      <td>neutral</td>\n",
              "      <td>Hours before he arrived in Saudi Arabia on Tue...</td>\n",
              "    </tr>\n",
              "    <tr>\n",
              "      <th>20630</th>\n",
              "      <td>681904976860327936</td>\n",
              "      <td>negative</td>\n",
              "      <td>@VanityFair  Alex Kim Kardashian worth how to ...</td>\n",
              "    </tr>\n",
              "    <tr>\n",
              "      <th>20631</th>\n",
              "      <td>681910549211287552</td>\n",
              "      <td>neutral</td>\n",
              "      <td>I guess even Pandora knows Justin Bieber is a ...</td>\n",
              "    </tr>\n",
              "  </tbody>\n",
              "</table>\n",
              "<p>20632 rows × 3 columns</p>\n",
              "</div>"
            ],
            "text/plain": [
              "                       id  ...                                              tweet\n",
              "0      619950566786113536  ...  Picturehouse's, Pink Floyd's, 'Roger Waters: T...\n",
              "1      619969366986235905  ...  Order Go Set a Watchman in store or through ou...\n",
              "2      619971047195045888  ...  If these runway renovations at the airport pre...\n",
              "3      619974445185302528  ...  If you could ask an onstage interview question...\n",
              "4      619987808317407232  ...  A portion of book sales from our Harper Lee/Go...\n",
              "...                   ...  ...                                                ...\n",
              "20627  681877834982232064  ...  @ShaquilleHoNeal from what I think you're aski...\n",
              "20628  681879579129200640  ...  Iran ranks 1st in liver surgeries, Allah bless...\n",
              "20629  681883903259357184  ...  Hours before he arrived in Saudi Arabia on Tue...\n",
              "20630  681904976860327936  ...  @VanityFair  Alex Kim Kardashian worth how to ...\n",
              "20631  681910549211287552  ...  I guess even Pandora knows Justin Bieber is a ...\n",
              "\n",
              "[20632 rows x 3 columns]"
            ]
          },
          "metadata": {
            "tags": []
          },
          "execution_count": 6
        }
      ]
    },
    {
      "cell_type": "code",
      "metadata": {
        "id": "df4rRgJfLZvE",
        "colab_type": "code",
        "colab": {}
      },
      "source": [
        "df.to_csv('/content/gdrive/My Drive/Colab Notebooks/datasets/Semeval-2017-4A-English/SemEval2017-task4-dev.subtask-A.english.INPUT.csv', sep=\"\\t\", header=None)"
      ],
      "execution_count": 0,
      "outputs": []
    },
    {
      "cell_type": "code",
      "metadata": {
        "id": "8Vh--NAdh_IY",
        "colab_type": "code",
        "colab": {}
      },
      "source": [
        "import numpy as np\n",
        "import re\n",
        "import nltk\n",
        "import spacy\n",
        "import string"
      ],
      "execution_count": 0,
      "outputs": []
    },
    {
      "cell_type": "code",
      "metadata": {
        "id": "k30C7jm9nw2O",
        "colab_type": "code",
        "outputId": "f1712c85-aa25-4072-9b4c-43af400104df",
        "colab": {
          "base_uri": "https://localhost:8080/",
          "height": 204
        }
      },
      "source": [
        "# Lower casing\n",
        "df[\"text\"] = df[\"text\"].str.lower()\n",
        "df.head()"
      ],
      "execution_count": 0,
      "outputs": [
        {
          "output_type": "execute_result",
          "data": {
            "text/html": [
              "<div>\n",
              "<style scoped>\n",
              "    .dataframe tbody tr th:only-of-type {\n",
              "        vertical-align: middle;\n",
              "    }\n",
              "\n",
              "    .dataframe tbody tr th {\n",
              "        vertical-align: top;\n",
              "    }\n",
              "\n",
              "    .dataframe thead th {\n",
              "        text-align: right;\n",
              "    }\n",
              "</style>\n",
              "<table border=\"1\" class=\"dataframe\">\n",
              "  <thead>\n",
              "    <tr style=\"text-align: right;\">\n",
              "      <th></th>\n",
              "      <th>id</th>\n",
              "      <th>sentiment</th>\n",
              "      <th>tweet</th>\n",
              "    </tr>\n",
              "  </thead>\n",
              "  <tbody>\n",
              "    <tr>\n",
              "      <th>0</th>\n",
              "      <td>619950566786113536</td>\n",
              "      <td>neutral</td>\n",
              "      <td>picturehouse's, pink floyd's, 'roger waters: t...</td>\n",
              "    </tr>\n",
              "    <tr>\n",
              "      <th>1</th>\n",
              "      <td>619969366986235905</td>\n",
              "      <td>neutral</td>\n",
              "      <td>order go set a watchman in store or through ou...</td>\n",
              "    </tr>\n",
              "    <tr>\n",
              "      <th>2</th>\n",
              "      <td>619971047195045888</td>\n",
              "      <td>negative</td>\n",
              "      <td>if these runway renovations at the airport pre...</td>\n",
              "    </tr>\n",
              "    <tr>\n",
              "      <th>3</th>\n",
              "      <td>619974445185302528</td>\n",
              "      <td>neutral</td>\n",
              "      <td>if you could ask an onstage interview question...</td>\n",
              "    </tr>\n",
              "    <tr>\n",
              "      <th>4</th>\n",
              "      <td>619987808317407232</td>\n",
              "      <td>positive</td>\n",
              "      <td>a portion of book sales from our harper lee/go...</td>\n",
              "    </tr>\n",
              "  </tbody>\n",
              "</table>\n",
              "</div>"
            ],
            "text/plain": [
              "                   id  ...                                              tweet\n",
              "0  619950566786113536  ...  picturehouse's, pink floyd's, 'roger waters: t...\n",
              "1  619969366986235905  ...  order go set a watchman in store or through ou...\n",
              "2  619971047195045888  ...  if these runway renovations at the airport pre...\n",
              "3  619974445185302528  ...  if you could ask an onstage interview question...\n",
              "4  619987808317407232  ...  a portion of book sales from our harper lee/go...\n",
              "\n",
              "[5 rows x 3 columns]"
            ]
          },
          "metadata": {
            "tags": []
          },
          "execution_count": 9
        }
      ]
    },
    {
      "cell_type": "code",
      "metadata": {
        "id": "R3rBjNKbppgT",
        "colab_type": "code",
        "outputId": "2b933e77-8d4c-45c6-d98d-5eef8fefc99c",
        "colab": {
          "base_uri": "https://localhost:8080/",
          "height": 34
        }
      },
      "source": [
        "# Removal of URLs\n",
        "def remove_urls(text):\n",
        "  url_pattern = re.compile(r'https?://\\S+|www\\.\\S+')\n",
        "  return url_pattern.sub(r'', text)\n",
        "df[\"text\"] = df[\"text\"].apply(lambda x : remove_urls(x))\n",
        "df.head()\n",
        "\n",
        "# Remove @ mentions\n",
        "def remove_mentions(text):\n",
        "  text = re.sub(r\"(?:\\@|https?\\://)\\S+\", \"\", text)\n",
        "  return text\n",
        "df[\"text\"] = df[\"text\"].apply(lambda x: remove_mentions(x))\n",
        "\n",
        "def strip_links(text):\n",
        "    link_regex    = re.compile('((https?):((//)|(\\\\\\\\))+([\\w\\d:#@%/;$()~_?\\+-=\\\\\\.&](#!)?)*)', re.DOTALL)\n",
        "    links         = re.findall(link_regex, text)\n",
        "    for link in links:\n",
        "        text = text.replace(link[0], ', ')    \n",
        "    return text\n",
        "    \n",
        "df[\"text\"] = df[\"text\"].apply(lambda x: strip_links(x))\n",
        "\n",
        "def strip_all_entities(text):\n",
        "    entity_prefixes = ['@','#']\n",
        "    for separator in  string.punctuation:\n",
        "        if separator not in entity_prefixes :\n",
        "            text = text.replace(separator,' ')\n",
        "    words = []\n",
        "    for word in text.split():\n",
        "        word = word.strip()\n",
        "        if word:\n",
        "            if word[0] not in entity_prefixes:\n",
        "                words.append(word)\n",
        "    return ' '.join(words)\n",
        "\n",
        "df[\"text\"] = df[\"text\"].apply(lambda x: strip_all_entities(x))"
      ],
      "execution_count": 0,
      "outputs": [
        {
          "output_type": "stream",
          "text": [
            "@Hrithink @abhishek t.co/5489dug89dgs98\n"
          ],
          "name": "stdout"
        }
      ]
    },
    {
      "cell_type": "code",
      "metadata": {
        "id": "QQGTGDvnqnK7",
        "colab_type": "code",
        "outputId": "f2d01181-710a-40f3-da52-3b440a36533f",
        "colab": {
          "base_uri": "https://localhost:8080/",
          "height": 272
        }
      },
      "source": [
        "# Conversion of emoticons to words\n",
        "!pip install emot\n",
        "from emot.emo_unicode import UNICODE_EMO, EMOTICONS\n",
        "def convert_emoticons(text):\n",
        "  for emot in EMOTICONS:\n",
        "    re.sub(u'('+emot+')', \"_\".join(EMOTICONS[emot].replace(\",\",\"\").split()), text)\n",
        "  return text\n",
        "\n",
        "df[\"text\"] = df[\"text\"].apply(lambda x : convert_emoticons(x))\n",
        "df.head()"
      ],
      "execution_count": 0,
      "outputs": [
        {
          "output_type": "stream",
          "text": [
            "Collecting emot\n",
            "  Downloading https://files.pythonhosted.org/packages/49/07/20001ade19873de611b7b66a4d5e5aabbf190d65abea337d5deeaa2bc3de/emot-2.1-py3-none-any.whl\n",
            "Installing collected packages: emot\n",
            "Successfully installed emot-2.1\n"
          ],
          "name": "stdout"
        },
        {
          "output_type": "execute_result",
          "data": {
            "text/html": [
              "<div>\n",
              "<style scoped>\n",
              "    .dataframe tbody tr th:only-of-type {\n",
              "        vertical-align: middle;\n",
              "    }\n",
              "\n",
              "    .dataframe tbody tr th {\n",
              "        vertical-align: top;\n",
              "    }\n",
              "\n",
              "    .dataframe thead th {\n",
              "        text-align: right;\n",
              "    }\n",
              "</style>\n",
              "<table border=\"1\" class=\"dataframe\">\n",
              "  <thead>\n",
              "    <tr style=\"text-align: right;\">\n",
              "      <th></th>\n",
              "      <th>id</th>\n",
              "      <th>sentiment</th>\n",
              "      <th>tweet</th>\n",
              "    </tr>\n",
              "  </thead>\n",
              "  <tbody>\n",
              "    <tr>\n",
              "      <th>0</th>\n",
              "      <td>619950566786113536</td>\n",
              "      <td>neutral</td>\n",
              "      <td>picturehouse s pink floyd s roger waters the w...</td>\n",
              "    </tr>\n",
              "    <tr>\n",
              "      <th>1</th>\n",
              "      <td>619969366986235905</td>\n",
              "      <td>neutral</td>\n",
              "      <td>order go set a watchman in store or through ou...</td>\n",
              "    </tr>\n",
              "    <tr>\n",
              "      <th>2</th>\n",
              "      <td>619971047195045888</td>\n",
              "      <td>negative</td>\n",
              "      <td>if these runway renovations at the airport pre...</td>\n",
              "    </tr>\n",
              "    <tr>\n",
              "      <th>3</th>\n",
              "      <td>619974445185302528</td>\n",
              "      <td>neutral</td>\n",
              "      <td>if you could ask an onstage interview question...</td>\n",
              "    </tr>\n",
              "    <tr>\n",
              "      <th>4</th>\n",
              "      <td>619987808317407232</td>\n",
              "      <td>positive</td>\n",
              "      <td>a portion of book sales from our harper lee go...</td>\n",
              "    </tr>\n",
              "  </tbody>\n",
              "</table>\n",
              "</div>"
            ],
            "text/plain": [
              "                   id  ...                                              tweet\n",
              "0  619950566786113536  ...  picturehouse s pink floyd s roger waters the w...\n",
              "1  619969366986235905  ...  order go set a watchman in store or through ou...\n",
              "2  619971047195045888  ...  if these runway renovations at the airport pre...\n",
              "3  619974445185302528  ...  if you could ask an onstage interview question...\n",
              "4  619987808317407232  ...  a portion of book sales from our harper lee go...\n",
              "\n",
              "[5 rows x 3 columns]"
            ]
          },
          "metadata": {
            "tags": []
          },
          "execution_count": 11
        }
      ]
    },
    {
      "cell_type": "code",
      "metadata": {
        "id": "k8vE_h-EuDrZ",
        "colab_type": "code",
        "outputId": "3335118d-0554-483d-fa18-0af836278211",
        "colab": {
          "base_uri": "https://localhost:8080/",
          "height": 374
        }
      },
      "source": [
        "# convert emoji to word\n",
        "!pip install emoji\n",
        "import emoji\n",
        "def convert_emojis(text):\n",
        "    return emoji.demojize(text)\n",
        "\n",
        "df[\"text\"] = df[\"text\"].apply(lambda x : convert_emojis(x))\n",
        "df.head()"
      ],
      "execution_count": 0,
      "outputs": [
        {
          "output_type": "stream",
          "text": [
            "Collecting emoji\n",
            "\u001b[?25l  Downloading https://files.pythonhosted.org/packages/40/8d/521be7f0091fe0f2ae690cc044faf43e3445e0ff33c574eae752dd7e39fa/emoji-0.5.4.tar.gz (43kB)\n",
            "\r\u001b[K     |███████▌                        | 10kB 18.1MB/s eta 0:00:01\r\u001b[K     |███████████████                 | 20kB 3.1MB/s eta 0:00:01\r\u001b[K     |██████████████████████▋         | 30kB 4.4MB/s eta 0:00:01\r\u001b[K     |██████████████████████████████▏ | 40kB 2.9MB/s eta 0:00:01\r\u001b[K     |████████████████████████████████| 51kB 2.5MB/s \n",
            "\u001b[?25hBuilding wheels for collected packages: emoji\n",
            "  Building wheel for emoji (setup.py) ... \u001b[?25l\u001b[?25hdone\n",
            "  Created wheel for emoji: filename=emoji-0.5.4-cp36-none-any.whl size=42175 sha256=9e0a4207d312522c5c9faf8d0fab97584b1f875c91842bcee81f508e5b5ee622\n",
            "  Stored in directory: /root/.cache/pip/wheels/2a/a9/0a/4f8e8cce8074232aba240caca3fade315bb49fac68808d1a9c\n",
            "Successfully built emoji\n",
            "Installing collected packages: emoji\n",
            "Successfully installed emoji-0.5.4\n"
          ],
          "name": "stdout"
        },
        {
          "output_type": "execute_result",
          "data": {
            "text/html": [
              "<div>\n",
              "<style scoped>\n",
              "    .dataframe tbody tr th:only-of-type {\n",
              "        vertical-align: middle;\n",
              "    }\n",
              "\n",
              "    .dataframe tbody tr th {\n",
              "        vertical-align: top;\n",
              "    }\n",
              "\n",
              "    .dataframe thead th {\n",
              "        text-align: right;\n",
              "    }\n",
              "</style>\n",
              "<table border=\"1\" class=\"dataframe\">\n",
              "  <thead>\n",
              "    <tr style=\"text-align: right;\">\n",
              "      <th></th>\n",
              "      <th>id</th>\n",
              "      <th>sentiment</th>\n",
              "      <th>tweet</th>\n",
              "    </tr>\n",
              "  </thead>\n",
              "  <tbody>\n",
              "    <tr>\n",
              "      <th>0</th>\n",
              "      <td>619950566786113536</td>\n",
              "      <td>neutral</td>\n",
              "      <td>picturehouse s pink floyd s roger waters the w...</td>\n",
              "    </tr>\n",
              "    <tr>\n",
              "      <th>1</th>\n",
              "      <td>619969366986235905</td>\n",
              "      <td>neutral</td>\n",
              "      <td>order go set a watchman in store or through ou...</td>\n",
              "    </tr>\n",
              "    <tr>\n",
              "      <th>2</th>\n",
              "      <td>619971047195045888</td>\n",
              "      <td>negative</td>\n",
              "      <td>if these runway renovations at the airport pre...</td>\n",
              "    </tr>\n",
              "    <tr>\n",
              "      <th>3</th>\n",
              "      <td>619974445185302528</td>\n",
              "      <td>neutral</td>\n",
              "      <td>if you could ask an onstage interview question...</td>\n",
              "    </tr>\n",
              "    <tr>\n",
              "      <th>4</th>\n",
              "      <td>619987808317407232</td>\n",
              "      <td>positive</td>\n",
              "      <td>a portion of book sales from our harper lee go...</td>\n",
              "    </tr>\n",
              "  </tbody>\n",
              "</table>\n",
              "</div>"
            ],
            "text/plain": [
              "                   id  ...                                              tweet\n",
              "0  619950566786113536  ...  picturehouse s pink floyd s roger waters the w...\n",
              "1  619969366986235905  ...  order go set a watchman in store or through ou...\n",
              "2  619971047195045888  ...  if these runway renovations at the airport pre...\n",
              "3  619974445185302528  ...  if you could ask an onstage interview question...\n",
              "4  619987808317407232  ...  a portion of book sales from our harper lee go...\n",
              "\n",
              "[5 rows x 3 columns]"
            ]
          },
          "metadata": {
            "tags": []
          },
          "execution_count": 12
        }
      ]
    },
    {
      "cell_type": "code",
      "metadata": {
        "id": "O8IrmV_pvrCK",
        "colab_type": "code",
        "colab": {}
      },
      "source": [
        "# !pip install autocorrect\n",
        "# from autocorrect import Speller\n",
        "# spell = Speller(lang='en')\n",
        "# def correct_spellings(text):\n",
        "#   return spell(text)\n",
        "\n",
        "# df[\"text\"] = df[\"text\"].apply(lambda x: correct_spellings(x))\n",
        "# df.head()"
      ],
      "execution_count": 0,
      "outputs": []
    },
    {
      "cell_type": "code",
      "metadata": {
        "id": "KEpIcnw2qGuC",
        "colab_type": "code",
        "outputId": "c56db68c-268a-4022-9196-5561b0afb174",
        "colab": {
          "base_uri": "https://localhost:8080/",
          "height": 255
        }
      },
      "source": [
        "# expand contractions\n",
        "!pip install -q contractions\n",
        "import contractions\n",
        "def expand_contractions(text):\n",
        "  return contractions.fix(text)\n",
        "\n",
        "df[\"text\"] = df[\"text\"].apply(lambda x : expand_contractions(x))\n",
        "df.head()"
      ],
      "execution_count": 0,
      "outputs": [
        {
          "output_type": "stream",
          "text": [
            "\u001b[K     |████████████████████████████████| 317kB 5.9MB/s \n",
            "\u001b[K     |████████████████████████████████| 245kB 27.5MB/s \n",
            "\u001b[?25h  Building wheel for pyahocorasick (setup.py) ... \u001b[?25l\u001b[?25hdone\n"
          ],
          "name": "stdout"
        },
        {
          "output_type": "execute_result",
          "data": {
            "text/html": [
              "<div>\n",
              "<style scoped>\n",
              "    .dataframe tbody tr th:only-of-type {\n",
              "        vertical-align: middle;\n",
              "    }\n",
              "\n",
              "    .dataframe tbody tr th {\n",
              "        vertical-align: top;\n",
              "    }\n",
              "\n",
              "    .dataframe thead th {\n",
              "        text-align: right;\n",
              "    }\n",
              "</style>\n",
              "<table border=\"1\" class=\"dataframe\">\n",
              "  <thead>\n",
              "    <tr style=\"text-align: right;\">\n",
              "      <th></th>\n",
              "      <th>id</th>\n",
              "      <th>sentiment</th>\n",
              "      <th>tweet</th>\n",
              "    </tr>\n",
              "  </thead>\n",
              "  <tbody>\n",
              "    <tr>\n",
              "      <th>0</th>\n",
              "      <td>619950566786113536</td>\n",
              "      <td>neutral</td>\n",
              "      <td>picturehouse s pink floyd s roger waters the w...</td>\n",
              "    </tr>\n",
              "    <tr>\n",
              "      <th>1</th>\n",
              "      <td>619969366986235905</td>\n",
              "      <td>neutral</td>\n",
              "      <td>order go set a watchman in store or through ou...</td>\n",
              "    </tr>\n",
              "    <tr>\n",
              "      <th>2</th>\n",
              "      <td>619971047195045888</td>\n",
              "      <td>negative</td>\n",
              "      <td>if these runway renovations at the airport pre...</td>\n",
              "    </tr>\n",
              "    <tr>\n",
              "      <th>3</th>\n",
              "      <td>619974445185302528</td>\n",
              "      <td>neutral</td>\n",
              "      <td>if you could ask an onstage interview question...</td>\n",
              "    </tr>\n",
              "    <tr>\n",
              "      <th>4</th>\n",
              "      <td>619987808317407232</td>\n",
              "      <td>positive</td>\n",
              "      <td>a portion of book sales from our harper lee go...</td>\n",
              "    </tr>\n",
              "  </tbody>\n",
              "</table>\n",
              "</div>"
            ],
            "text/plain": [
              "                   id  ...                                              tweet\n",
              "0  619950566786113536  ...  picturehouse s pink floyd s roger waters the w...\n",
              "1  619969366986235905  ...  order go set a watchman in store or through ou...\n",
              "2  619971047195045888  ...  if these runway renovations at the airport pre...\n",
              "3  619974445185302528  ...  if you could ask an onstage interview question...\n",
              "4  619987808317407232  ...  a portion of book sales from our harper lee go...\n",
              "\n",
              "[5 rows x 3 columns]"
            ]
          },
          "metadata": {
            "tags": []
          },
          "execution_count": 14
        }
      ]
    },
    {
      "cell_type": "code",
      "metadata": {
        "id": "Olo07VW2nzba",
        "colab_type": "code",
        "outputId": "dd08bdaa-56c0-4efc-98ad-afdb553ed63e",
        "colab": {
          "base_uri": "https://localhost:8080/",
          "height": 204
        }
      },
      "source": [
        "PUNCT = string.punctuation\n",
        "def remove_punctuation(text):\n",
        "  return text.translate(str.maketrans('', '', PUNCT))\n",
        "\n",
        "df[\"text\"] = df[\"text\"].apply(lambda x : remove_punctuation(x))\n",
        "df.head()"
      ],
      "execution_count": 0,
      "outputs": [
        {
          "output_type": "execute_result",
          "data": {
            "text/html": [
              "<div>\n",
              "<style scoped>\n",
              "    .dataframe tbody tr th:only-of-type {\n",
              "        vertical-align: middle;\n",
              "    }\n",
              "\n",
              "    .dataframe tbody tr th {\n",
              "        vertical-align: top;\n",
              "    }\n",
              "\n",
              "    .dataframe thead th {\n",
              "        text-align: right;\n",
              "    }\n",
              "</style>\n",
              "<table border=\"1\" class=\"dataframe\">\n",
              "  <thead>\n",
              "    <tr style=\"text-align: right;\">\n",
              "      <th></th>\n",
              "      <th>id</th>\n",
              "      <th>sentiment</th>\n",
              "      <th>tweet</th>\n",
              "    </tr>\n",
              "  </thead>\n",
              "  <tbody>\n",
              "    <tr>\n",
              "      <th>0</th>\n",
              "      <td>619950566786113536</td>\n",
              "      <td>neutral</td>\n",
              "      <td>picturehouse s pink floyd s roger waters the w...</td>\n",
              "    </tr>\n",
              "    <tr>\n",
              "      <th>1</th>\n",
              "      <td>619969366986235905</td>\n",
              "      <td>neutral</td>\n",
              "      <td>order go set a watchman in store or through ou...</td>\n",
              "    </tr>\n",
              "    <tr>\n",
              "      <th>2</th>\n",
              "      <td>619971047195045888</td>\n",
              "      <td>negative</td>\n",
              "      <td>if these runway renovations at the airport pre...</td>\n",
              "    </tr>\n",
              "    <tr>\n",
              "      <th>3</th>\n",
              "      <td>619974445185302528</td>\n",
              "      <td>neutral</td>\n",
              "      <td>if you could ask an onstage interview question...</td>\n",
              "    </tr>\n",
              "    <tr>\n",
              "      <th>4</th>\n",
              "      <td>619987808317407232</td>\n",
              "      <td>positive</td>\n",
              "      <td>a portion of book sales from our harper lee go...</td>\n",
              "    </tr>\n",
              "  </tbody>\n",
              "</table>\n",
              "</div>"
            ],
            "text/plain": [
              "                   id  ...                                              tweet\n",
              "0  619950566786113536  ...  picturehouse s pink floyd s roger waters the w...\n",
              "1  619969366986235905  ...  order go set a watchman in store or through ou...\n",
              "2  619971047195045888  ...  if these runway renovations at the airport pre...\n",
              "3  619974445185302528  ...  if you could ask an onstage interview question...\n",
              "4  619987808317407232  ...  a portion of book sales from our harper lee go...\n",
              "\n",
              "[5 rows x 3 columns]"
            ]
          },
          "metadata": {
            "tags": []
          },
          "execution_count": 15
        }
      ]
    },
    {
      "cell_type": "code",
      "metadata": {
        "id": "1ahx_VYqpDN9",
        "colab_type": "code",
        "outputId": "4d1b05e7-60b0-4de0-d310-c2cc04ee65d1",
        "colab": {
          "base_uri": "https://localhost:8080/",
          "height": 88
        }
      },
      "source": [
        "from nltk.corpus import stopwords\n",
        "nltk.download('stopwords')\n",
        "\", \".join(stopwords.words('english'))"
      ],
      "execution_count": 0,
      "outputs": [
        {
          "output_type": "stream",
          "text": [
            "[nltk_data] Downloading package stopwords to /root/nltk_data...\n",
            "[nltk_data]   Unzipping corpora/stopwords.zip.\n"
          ],
          "name": "stdout"
        },
        {
          "output_type": "execute_result",
          "data": {
            "text/plain": [
              "\"i, me, my, myself, we, our, ours, ourselves, you, you're, you've, you'll, you'd, your, yours, yourself, yourselves, he, him, his, himself, she, she's, her, hers, herself, it, it's, its, itself, they, them, their, theirs, themselves, what, which, who, whom, this, that, that'll, these, those, am, is, are, was, were, be, been, being, have, has, had, having, do, does, did, doing, a, an, the, and, but, if, or, because, as, until, while, of, at, by, for, with, about, against, between, into, through, during, before, after, above, below, to, from, up, down, in, out, on, off, over, under, again, further, then, once, here, there, when, where, why, how, all, any, both, each, few, more, most, other, some, such, no, nor, not, only, own, same, so, than, too, very, s, t, can, will, just, don, don't, should, should've, now, d, ll, m, o, re, ve, y, ain, aren, aren't, couldn, couldn't, didn, didn't, doesn, doesn't, hadn, hadn't, hasn, hasn't, haven, haven't, isn, isn't, ma, mightn, mightn't, mustn, mustn't, needn, needn't, shan, shan't, shouldn, shouldn't, wasn, wasn't, weren, weren't, won, won't, wouldn, wouldn't\""
            ]
          },
          "metadata": {
            "tags": []
          },
          "execution_count": 16
        }
      ]
    },
    {
      "cell_type": "code",
      "metadata": {
        "id": "0TDN7nC_pWAI",
        "colab_type": "code",
        "outputId": "3a62fcb2-be94-4b9c-ab3a-21f0ff118913",
        "colab": {
          "base_uri": "https://localhost:8080/",
          "height": 204
        }
      },
      "source": [
        "STOPWORDS = set(stopwords.words('english'))\n",
        "def remove_stopwords(text):\n",
        "  return \" \".join([word for word in str(text).split() if word not in STOPWORDS])\n",
        "\n",
        "df[\"text\"] = df[\"text\"].apply(lambda x : remove_stopwords(x))\n",
        "df.head()"
      ],
      "execution_count": 0,
      "outputs": [
        {
          "output_type": "execute_result",
          "data": {
            "text/html": [
              "<div>\n",
              "<style scoped>\n",
              "    .dataframe tbody tr th:only-of-type {\n",
              "        vertical-align: middle;\n",
              "    }\n",
              "\n",
              "    .dataframe tbody tr th {\n",
              "        vertical-align: top;\n",
              "    }\n",
              "\n",
              "    .dataframe thead th {\n",
              "        text-align: right;\n",
              "    }\n",
              "</style>\n",
              "<table border=\"1\" class=\"dataframe\">\n",
              "  <thead>\n",
              "    <tr style=\"text-align: right;\">\n",
              "      <th></th>\n",
              "      <th>id</th>\n",
              "      <th>sentiment</th>\n",
              "      <th>tweet</th>\n",
              "    </tr>\n",
              "  </thead>\n",
              "  <tbody>\n",
              "    <tr>\n",
              "      <th>0</th>\n",
              "      <td>619950566786113536</td>\n",
              "      <td>neutral</td>\n",
              "      <td>picturehouse pink floyd roger waters walll ope...</td>\n",
              "    </tr>\n",
              "    <tr>\n",
              "      <th>1</th>\n",
              "      <td>619969366986235905</td>\n",
              "      <td>neutral</td>\n",
              "      <td>order go set watchman store website tuesday ge...</td>\n",
              "    </tr>\n",
              "    <tr>\n",
              "      <th>2</th>\n",
              "      <td>619971047195045888</td>\n",
              "      <td>negative</td>\n",
              "      <td>runway renovations airport prevent seeing tayl...</td>\n",
              "    </tr>\n",
              "    <tr>\n",
              "      <th>3</th>\n",
              "      <td>619974445185302528</td>\n",
              "      <td>neutral</td>\n",
              "      <td>could ask onstage interview question miss usa ...</td>\n",
              "    </tr>\n",
              "    <tr>\n",
              "      <th>4</th>\n",
              "      <td>619987808317407232</td>\n",
              "      <td>positive</td>\n",
              "      <td>portion book sales harper lee go set watchman ...</td>\n",
              "    </tr>\n",
              "  </tbody>\n",
              "</table>\n",
              "</div>"
            ],
            "text/plain": [
              "                   id  ...                                              tweet\n",
              "0  619950566786113536  ...  picturehouse pink floyd roger waters walll ope...\n",
              "1  619969366986235905  ...  order go set watchman store website tuesday ge...\n",
              "2  619971047195045888  ...  runway renovations airport prevent seeing tayl...\n",
              "3  619974445185302528  ...  could ask onstage interview question miss usa ...\n",
              "4  619987808317407232  ...  portion book sales harper lee go set watchman ...\n",
              "\n",
              "[5 rows x 3 columns]"
            ]
          },
          "metadata": {
            "tags": []
          },
          "execution_count": 17
        }
      ]
    },
    {
      "cell_type": "code",
      "metadata": {
        "id": "KBMgGSw8sErz",
        "colab_type": "code",
        "outputId": "7f92bb90-e289-4703-d61b-a03f4c29be2b",
        "colab": {
          "base_uri": "https://localhost:8080/",
          "height": 187
        }
      },
      "source": [
        "from collections import Counter\n",
        "cnt = Counter()\n",
        "for text in df[\"text\"].values:\n",
        "  for word in text.split():\n",
        "    cnt[word] += 1\n",
        "cnt.most_common(10)"
      ],
      "execution_count": 0,
      "outputs": [
        {
          "output_type": "execute_result",
          "data": {
            "text/plain": [
              "[('may', 3604),\n",
              " ('tomorrow', 2953),\n",
              " ('day', 1661),\n",
              " ('going', 1525),\n",
              " ('friday', 1312),\n",
              " ('see', 1303),\n",
              " ('amp', 1297),\n",
              " ('sunday', 1263),\n",
              " ('night', 1255),\n",
              " ('1st', 1245)]"
            ]
          },
          "metadata": {
            "tags": []
          },
          "execution_count": 18
        }
      ]
    },
    {
      "cell_type": "code",
      "metadata": {
        "id": "5AIgSBVgn5SZ",
        "colab_type": "code",
        "outputId": "d9956bd6-a10f-4646-c1b8-b66c923a3c12",
        "colab": {
          "base_uri": "https://localhost:8080/",
          "height": 204
        }
      },
      "source": [
        "FREQ_WORDS = set([word for (word, count) in cnt.most_common(10)])\n",
        "def remove_freqwords(text):\n",
        "  return \" \".join([word for word in str(text).split() if word not in FREQ_WORDS])\n",
        "\n",
        "df[\"text\"] = df[\"text\"].apply(lambda x : remove_freqwords(x))\n",
        "df.head()"
      ],
      "execution_count": 0,
      "outputs": [
        {
          "output_type": "execute_result",
          "data": {
            "text/html": [
              "<div>\n",
              "<style scoped>\n",
              "    .dataframe tbody tr th:only-of-type {\n",
              "        vertical-align: middle;\n",
              "    }\n",
              "\n",
              "    .dataframe tbody tr th {\n",
              "        vertical-align: top;\n",
              "    }\n",
              "\n",
              "    .dataframe thead th {\n",
              "        text-align: right;\n",
              "    }\n",
              "</style>\n",
              "<table border=\"1\" class=\"dataframe\">\n",
              "  <thead>\n",
              "    <tr style=\"text-align: right;\">\n",
              "      <th></th>\n",
              "      <th>id</th>\n",
              "      <th>sentiment</th>\n",
              "      <th>tweet</th>\n",
              "    </tr>\n",
              "  </thead>\n",
              "  <tbody>\n",
              "    <tr>\n",
              "      <th>0</th>\n",
              "      <td>619950566786113536</td>\n",
              "      <td>neutral</td>\n",
              "      <td>picturehouse pink floyd roger waters walll ope...</td>\n",
              "    </tr>\n",
              "    <tr>\n",
              "      <th>1</th>\n",
              "      <td>619969366986235905</td>\n",
              "      <td>neutral</td>\n",
              "      <td>order go set watchman store website tuesday ge...</td>\n",
              "    </tr>\n",
              "    <tr>\n",
              "      <th>2</th>\n",
              "      <td>619971047195045888</td>\n",
              "      <td>negative</td>\n",
              "      <td>runway renovations airport prevent seeing tayl...</td>\n",
              "    </tr>\n",
              "    <tr>\n",
              "      <th>3</th>\n",
              "      <td>619974445185302528</td>\n",
              "      <td>neutral</td>\n",
              "      <td>could ask onstage interview question miss usa ...</td>\n",
              "    </tr>\n",
              "    <tr>\n",
              "      <th>4</th>\n",
              "      <td>619987808317407232</td>\n",
              "      <td>positive</td>\n",
              "      <td>portion book sales harper lee go set watchman ...</td>\n",
              "    </tr>\n",
              "  </tbody>\n",
              "</table>\n",
              "</div>"
            ],
            "text/plain": [
              "                   id  ...                                              tweet\n",
              "0  619950566786113536  ...  picturehouse pink floyd roger waters walll ope...\n",
              "1  619969366986235905  ...  order go set watchman store website tuesday ge...\n",
              "2  619971047195045888  ...  runway renovations airport prevent seeing tayl...\n",
              "3  619974445185302528  ...  could ask onstage interview question miss usa ...\n",
              "4  619987808317407232  ...  portion book sales harper lee go set watchman ...\n",
              "\n",
              "[5 rows x 3 columns]"
            ]
          },
          "metadata": {
            "tags": []
          },
          "execution_count": 19
        }
      ]
    },
    {
      "cell_type": "code",
      "metadata": {
        "id": "JUSXa34t4uqW",
        "colab_type": "code",
        "outputId": "258b7a9b-f9e9-4f5e-e09c-a067d5012f9c",
        "colab": {
          "base_uri": "https://localhost:8080/",
          "height": 54
        }
      },
      "source": [
        ""
      ],
      "execution_count": 0,
      "outputs": [
        {
          "output_type": "stream",
          "text": [
            "{('mbele', 1), ('lupa', 1), ('saatchi', 1), ('adventures', 1), ('dharma', 1), ('tai', 1), ('eyaaocampo', 1), ('nowtv', 1), ('oped', 1), ('anecdotes', 1), ('intellect', 1), ('skegness', 1), ('2chajnz', 1), ('vague', 1), ('loathe', 1), ('foranderson', 1), ('dolt', 1), ('ebbing', 1), ('mfw', 1), ('salafi', 1), ('cramp', 1), ('potty', 1), ('jazzstandardnyc', 1), ('notebook', 1), ('hoes', 1), ('bod', 1), ('welll', 1), ('cults', 1), ('enforcer', 1), ('handicapped', 1), ('qualifications', 1), ('everlasting', 1), ('fascinatingly', 1), ('nevill', 1), ('desks', 1), ('dgates', 1), ('karim', 1), ('dhana', 1), ('keepi', 1), ('sexist', 1), ('torture', 1), ('anot', 1), ('kanter', 1), ('crumbling', 1), ('emmanuel', 1), ('leathers', 1), ('aspe', 1), ('tbd', 1), ('excluding', 1), ('sudhar', 1), ('mcmichael', 1), ('exp', 1), ('broadeningday', 1), ('burt', 1), ('claude', 1), ('kendricks', 1), ('innovative', 1), ('templr', 1), ('wogan', 1), ('intoxicating', 1), ('coulson', 1), ('magician', 1), ('f206', 1), ('bellona', 1), ('h3', 1), ('pake', 1), ('rassooli', 1), ('namimigay', 1), ('steering', 1), ('hints', 1), ('centenera', 1), ('introduction', 1), ('matriarch', 1), ('thunderous', 1), ('merkal', 1), ('picky', 1), ('handidly', 1), ('mutton', 1), ('sympathisers', 1), ('afganistan', 1), ('wdout', 1), ('retweeting', 1), ('seachtar', 1), ('jarvis', 1), ('exportin', 1), ('fro', 1), ('frances', 1), ('wanda', 1), ('shill', 1), ('mailjet', 1), ('outfield', 1), ('dims', 1), ('stw', 1), ('ros', 1), ('sombre', 1), ('fag', 1), ('snatch', 1), ('terminal', 1), ('sayyijnfn', 1), ('opposites', 1), ('aviles', 1), ('ching', 1), ('cancun', 1), ('tlr', 1), ('shelby', 1), ('swooning', 1), ('womens', 1), ('remodel', 1), ('kathleen', 1), ('crowder', 1), ('supersurf200', 1), ('aires', 1), ('cenotaph', 1), ('governemnt', 1), ('fedora', 1), ('equipped', 1), ('psychopaths', 1), ('caruso', 1), ('hov', 1), ('251', 1), ('toothed', 1), ('withdrawing', 1), ('kony', 1), ('ills', 1), ('pharaoh', 1), ('noises', 1), ('103758', 1), ('carolon', 1), ('setlist', 1), ('farsi', 1), ('panicking', 1), ('silliness', 1), ('40min', 1), ('lobsters', 1), ('halved', 1), ('rjd', 1), ('ziering', 1), ('keenly', 1), ('hela', 1), ('prx', 1), ('kkl', 1), ('keychain', 1), ('propagated', 1), ('packs', 1), ('spri', 1), ('riad', 1), ('asffsgw', 1), ('mercenary', 1), ('coworkers', 1), ('2k14', 1), ('shutup', 1), ('alienate', 1), ('cv', 1), ('joan', 1), ('clinto', 1), ('niko', 1), ('itma', 1), ('upsets', 1), ('ikr', 1), ('sundown', 1), ('fnd', 1), ('ponies', 1), ('impel', 1), ('rapport', 1), ('winery', 1), ('donnell', 1), ('zisser', 1), ('freely', 1), ('desiree', 1), ('staunchly', 1), ('sinatra', 1), ('gladio', 1), ('blond', 1), ('km', 1), ('stamped', 1), ('leveon', 1), ('alliegance', 1), ('sailor', 1), ('unbroken', 1), ('starving', 1), ('diligently', 1), ('saa', 1), ('outraging', 1), ('fantastically', 1), ('piccola', 1), ('damon', 1), ('dumpty', 1), ('dubs', 1), ('fifteen', 1), ('iras', 1), ('wll', 1), ('relaxation', 1), ('activ', 1), ('sweaty', 1), ('930pm', 1), ('dva', 1), ('misfired', 1), ('provides', 1), ('roams', 1), ('trombone', 1), ('humpty', 1), ('rockwell', 1), ('landslide', 1), ('kickbacks', 1), ('unlocked', 1), ('vincess', 1), ('secularist', 1), ('girlfriends', 1), ('seas', 1), ('diggi', 1), ('pickup', 1), ('convictions', 1), ('surgeons', 1), ('shivsena', 1), ('2103', 1), ('bagi', 1), ('45am', 1), ('vinopolis', 1), ('haynes', 1), ('icbms', 1), ('hay', 1), ('civalwar', 1), ('controled', 1), ('sourdough', 1), ('annihilators', 1), ('retards', 1), ('channelling', 1), ('typhoon', 1), ('crosse', 1), ('4500', 1), ('slurping', 1), ('tortured', 1), ('mould', 1), ('newsha', 1), ('dulcet', 1), ('bombardiers', 1), ('bouncer', 1), ('char', 1), ('callhim', 1), ('falsetto', 1), ('scj', 1), ('rochdale', 1), ('yewwww', 1), ('expanding', 1), ('universes', 1), ('nance', 1), ('tronnor', 1), ('grier', 1), ('satchel', 1), ('okk', 1), ('awakes', 1), ('indirectly', 1), ('wring', 1), ('transmute', 1), ('manus', 1), ('electable', 1), ('barzagli', 1), ('clubbing', 1), ('itthe', 1), ('irrelevance', 1), ('vehic', 1), ('midst', 1), ('superfight', 1), ('89', 1), ('fluent', 1), ('780', 1), ('galadriel', 1), ('roshes', 1), ('margins', 1), ('9pg', 1), ('aliyah', 1), ('tyldesley', 1), ('frfr', 1), ('poach', 1), ('adopt', 1), ('housewife', 1), ('pissgod', 1), ('goooooo', 1), ('oaps', 1), ('burto', 1), ('ziggy', 1), ('mindful', 1), ('villeins', 1), ('changer', 1), ('arun', 1), ('defiance', 1), ('trainer', 1), ('neeley', 1), ('melding', 1), ('elites', 1), ('anhur', 1), ('disinformation', 1), ('avoiding', 1), ('mullahs', 1), ('entailed', 1), ('villainized', 1), ('55am', 1), ('kar', 1), ('mech', 1), ('sardonically', 1), ('ind', 1), ('chiltern', 1), ('helwani', 1), ('ruing', 1), ('additive', 1), ('unreservedly', 1), ('minimalist', 1), ('anagram', 1), ('largo', 1), ('iraqis', 1), ('mentions', 1), ('gentlemen', 1), ('developed', 1), ('indexed', 1), ('1400', 1), ('rhianna', 1), ('inaugural', 1), ('magkakaanak', 1), ('approving', 1), ('godspell', 1), ('gothicists', 1), ('hyderabad', 1), ('lens', 1), ('litre', 1), ('nike', 1), ('idul', 1), ('nextherecomesthesun', 1), ('toh', 1), ('repercussions', 1), ('accelerate', 1), ('indicted', 1), ('memoirs', 1), ('tings', 1), ('disputed', 1), ('scandle', 1), ('bellarmine', 1), ('prose', 1), ('cornrows', 1), ('sheona', 1), ('urie', 1), ('anguilla', 1), ('sympathies', 1), ('gn8', 1), ('chadwick', 1), ('grips', 1), ('gunpowder', 1), ('bask', 1), ('magaraj', 1), ('authorising', 1), ('surgeries', 1), ('permitting', 1), ('gonzaga', 1), ('aah', 1), ('unconditional', 1), ('malice', 1), ('carerra', 1), ('thepchaiya', 1), ('goswami', 1), ('shiite', 1), ('droop', 1), ('xoxoxoxo', 1), ('pedaling', 1), ('krishna', 1), ('overpaints1493', 1), ('abba', 1), ('rted', 1), ('restore', 1), ('6s', 1), ('ova', 1), ('nee', 1), ('bastion', 1), ('motley', 1), ('salvy', 1), ('aooesr', 1), ('morn', 1), ('lamps', 1), ('maltesers', 1), ('survation', 1), ('unification', 1), ('bingewatching', 1), ('decreased', 1), ('seh', 1), ('stormont', 1), ('crippling', 1), ('arti', 1), ('manturov', 1), ('touche', 1), ('gameover', 1), ('moulinparikh', 1), ('provocateur', 1), ('debatable', 1), ('newbery', 1), ('yale', 1), ('decider', 1), ('hathaway', 1), ('pools', 1), ('getta', 1), ('faiths', 1), ('initiated', 1), ('rus', 1), ('leonardo', 1), ('steadfastly', 1), ('monteverdi', 1), ('2paints1503', 1), ('chai', 1), ('eurotrip', 1), ('goeth', 1), ('95end', 1), ('oslo', 1), ('jeep', 1), ('function', 1), ('kriss', 1), ('aquinas', 1), ('krypton', 1), ('extensively', 1), ('caissie', 1), ('128', 1), ('webster', 1), ('stevie', 1), ('malls', 1), ('fade', 1), ('siya', 1), ('sinha', 1), ('kneelt', 1), ('vora', 1), ('juliet', 1), ('fizz', 1), ('targetg', 1), ('oxfordshire', 1), ('fuckboy', 1), ('fined', 1), ('glamour', 1), ('lvs', 1), ('orop', 1), ('behlive', 1), ('enema', 1), ('fearful', 1), ('clemmons', 1), ('sushma', 1), ('infact', 1), ('zaanstad', 1), ('valhalla', 1), ('brainier', 1), ('drumming', 1), ('ashura', 1), ('royalton', 1), ('weinstein', 1), ('compliment', 1), ('manages', 1), ('casher', 1), ('earphones', 1), ('odinson', 1), ('fantasising', 1), ('brendon', 1), ('redcarpet', 1), ('bulayegi', 1), ('aisle', 1), ('orleans', 1), ('passport', 1), ('grandadwas', 1), ('stansted', 1), ('bikini', 1), ('bumped', 1), ('helen', 1), ('lotta', 1), ('riveters', 1), ('switching', 1), ('libido', 1), ('filthiest', 1), ('uss', 1), ('hatch', 1), ('brewpub', 1), ('humayun', 1), ('wizards', 1), ('agreements', 1), ('digs', 1), ('sinner', 1), ('elevator', 1), ('ergkamp', 1), ('jcoleofficial', 1), ('yotlob', 1), ('ritchie', 1), ('musicians', 1), ('kha', 1), ('headlong', 1), ('grandchildren', 1), ('thankss', 1), ('assyrians', 1), ('karoge', 1), ('sweeties', 1), ('markmeets', 1), ('1982', 1), ('hatton', 1), ('messiest', 1), ('godly', 1), ('jamboree', 1), ('mortars', 1), ('yasurek', 1), ('anglos', 1), ('ratio', 1), ('endeavouring', 1), ('misogynistic', 1), ('siff', 1), ('523rd', 1), ('repost', 1), ('ily', 1), ('affirms', 1), ('statutorily', 1), ('ooooo', 1), ('leaps', 1), ('uncertainties', 1), ('dampened', 1), ('supplications', 1), ('scheming', 1), ('nevertheless', 1), ('gujarat', 1), ('theron', 1), ('everypony', 1), ('withs', 1), ('brushing', 1), ('thors', 1), ('minster', 1), ('dreamt', 1), ('rp', 1), ('ilk', 1), ('hapoel', 1), ('macys', 1), ('6hr', 1), ('ane', 1), ('129', 1), ('baiting', 1), ('csgo', 1), ('bsi', 1), ('yamaha', 1), ('donizetti', 1), ('nusrah', 1), ('mortar', 1), ('ziggo', 1), ('skateboarding', 1), ('buck', 1), ('forthriver', 1), ('vehicles', 1), ('hea', 1), ('geurnica', 1), ('b182', 1), ('manceron', 1), ('levinson', 1), ('precons', 1), ('nehru', 1), ('mcclean', 1), ('higt', 1), ('reneged', 1), ('faff', 1), ('lulz', 1), ('two9', 1), ('stomped', 1), ('diablerizes', 1), ('loyalists', 1), ('coulda', 1), ('watced', 1), ('chilli', 1), ('famed', 1), ('limo', 1), ('theatrical', 1), ('alarms', 1), ('harnessing', 1), ('undress', 1), ('thefw', 1), ('circuits', 1), ('lashed', 1), ('sarkaar', 1), ('degale', 1), ('laziest', 1), ('thanx', 1), ('primarily', 1), ('wala', 1), ('wellfleet', 1), ('rehearsal', 1), ('ultravox', 1), ('continental', 1), ('roseen', 1), ('3th', 1), ('amethi', 1), ('liz', 1), ('plastered', 1), ('verano', 1), ('fanfics', 1), ('theocracies', 1), ('cornerback', 1), ('nationality', 1), ('clause', 1), ('salutation', 1), ('sail', 1), ('banknote', 1), ('hunchback', 1), ('oar', 1), ('devouring', 1), ('wields', 1), ('chowder', 1), ('pshhh', 1), ('jotunheim', 1), ('tantrums', 1), ('ma3', 1), ('palest', 1), ('placer', 1), ('cullen', 1), ('internationalist', 1), ('hola', 1), ('collinsworth', 1), ('awol', 1), ('petan', 1), ('sth', 1), ('gmtegy', 1), ('fiera', 1), ('gents', 1), ('itt', 1), ('bumpin', 1), ('henceforth', 1), ('legitimize', 1), ('entitlement', 1), ('he2elo', 1), ('nadean', 1), ('echo', 1), ('geopolitics', 1), ('sweaters', 1), ('cyss', 1), ('songsmith', 1), ('oils', 1), ('gi', 1), ('relied', 1), ('nzdusd', 1), ('dishes', 1), ('curbed', 1), ('recur', 1), ('150b', 1), ('injure', 1), ('strangelove', 1), ('backers', 1), ('au', 1), ('nmbrs', 1), ('cupid', 1), ('ontitle', 1), ('yesilgiresun', 1), ('lunched', 1), ('housemaid', 1), ('sharpest', 1), ('2overpaints', 1), ('ngubane', 1), ('jammie', 1), ('gil', 1), ('yorker', 1), ('ozar', 1), ('inspect', 1), ('natal', 1), ('486', 1), ('lydia', 1), ('blacker', 1), ('ybor', 1), ('bra', 1), ('ibna', 1), ('vars', 1), ('cosplayers', 1), ('toar', 1), ('stalk', 1), ('wbu', 1), ('kaalaadhan', 1), ('liberators', 1), ('leeeettle', 1), ('ahbaya', 1), ('warrior', 1), ('whine', 1), ('edelman', 1), ('porpose', 1), ('controls', 1), ('toll', 1), ('prays', 1), ('subtitulada', 1), ('yields', 1), ('fanfic', 1), ('iphones', 1), ('hm', 1), ('lawlessly', 1), ('2bad', 1), ('ukulele', 1), ('starrer', 1), ('bradys', 1), ('7rcr', 1), ('sofia', 1), ('jalapeno', 1), ('idekyn', 1), ('bypass', 1), ('chairs', 1), ('biscuits', 1), ('satisfaction', 1), ('contractor', 1), ('lololol', 1), ('camel', 1), ('mras', 1), ('understandably', 1), ('fuckk', 1), ('capes', 1), ('dun', 1), ('khets', 1), ('jamall', 1), ('circulating', 1), ('merchant', 1), ('rpm', 1), ('legislature', 1), ('xes', 1), ('skooma', 1), ('bho', 1), ('disorders', 1), ('reformation', 1), ('sympathise', 1), ('deepness', 1), ('julian', 1), ('tortillas', 1), ('matty', 1), ('coulsons', 1), ('dbs', 1), ('coetzee', 1), ('beginnings', 1), ('cqnl2015', 1), ('gemini', 1), ('isolated', 1), ('ceballos', 1), ('ludington', 1), ('chanakya', 1), ('chutzpah', 1), ('parodies', 1), ('quickest', 1), ('ferdowskids', 1), ('lewat', 1), ('printings', 1), ('brookie', 1), ('tirades', 1), ('offence', 1), ('molded', 1), ('castigate', 1), ('1178', 1), ('muslimed', 1), ('ster', 1), ('wedneday', 1), ('contextualize', 1), ('oht', 1), ('inherited', 1), ('discounts', 1), ('backwards', 1), ('analysts', 1), ('explosive', 1), ('blackbear', 1), ('comparable', 1), ('anatomy', 1), ('recorders', 1), ('maghaberry', 1), ('rancid', 1), ('sas', 1), ('adarsh', 1), ('saddle', 1), ('whirlwind', 1), ('intifada', 1), ('visconti', 1), ('stomping', 1), ('holon', 1), ('flanders', 1), ('coun', 1), ('teatime', 1), ('inde', 1), ('mediator', 1), ('freeze', 1), ('bastards', 1), ('horses', 1), ('coolness', 1), ('bestfriends', 1), ('deze', 1), ('noisey', 1), ('agricultural', 1), ('heyward', 1), ('clearance', 1), ('18gb', 1), ('ope', 1), ('refunding', 1), ('centennial', 1), ('wholesale', 1), ('enduring', 1), ('milestone', 1), ('sakshi', 1), ('wiley', 1), ('blower', 1), ('pupunta', 1), ('cultivate', 1), ('ocarina', 1), ('roasts', 1), ('folly', 1), ('disrespecting', 1), ('supplant', 1), ('shah', 1), ('tallent', 1), ('maatschappij', 1), ('crow', 1), ('wf', 1), ('jaish', 1), ('mammaries', 1), ('kic', 1), ('degli', 1), ('imposed', 1), ('ellern', 1), ('rooneys', 1), ('groninger', 1), ('unnatural', 1), ('stepdad', 1), ('roc', 1), ('knesset', 1), ('restrictions', 1), ('skillz', 1), ('numbe', 1), ('exte', 1), ('bonfire', 1), ('deflects', 1), ('moderates', 1), ('filing', 1), ('posh', 1), ('dane', 1), ('amelia', 1), ('admendment', 1), ('ason', 1), ('yeezus', 1), ('beilber', 1), ('interrupting', 1), ('vegies', 1), ('limber', 1), ('72hrs', 1), ('mervagli', 1), ('euthanasia', 1), ('1080', 1), ('furth', 1), ('doenmeah', 1), ('mariyln', 1), ('stripper', 1), ('erotic', 1), ('alisah', 1), ('wayyyyyy', 1), ('pissing', 1), ('244', 1), ('wobbles', 1), ('wimbledon', 1), ('sherane', 1), ('debunked', 1), ('wawa', 1), ('bharo', 1), ('weeb', 1), ('werewolf', 1), ('cracked', 1), ('hoc', 1), ('cleaner', 1), ('nvr', 1), ('littell', 1), ('spaghetti', 1), ('palmer', 1), ('billboards', 1), ('stanned', 1), ('infos', 1), ('cartografia', 1), ('aggreement', 1), ('satisfactory', 1), ('forbidden', 1), ('queensland', 1), ('exodus', 1), ('sfira', 1), ('flouts', 1), ('copa', 1), ('directeur', 1), ('rapidly', 1), ('duomo', 1), ('hooper', 1), ('octogenarian', 1), ('noew', 1), ('taxable', 1), ('nzkpaul', 1), ('insha', 1), ('passer', 1), ('janitors', 1), ('strided', 1), ('warhead', 1), ('fob', 1), ('kosher', 1), ('opt', 1), ('whatbptc', 1), ('colon', 1), ('hostilities', 1), ('impressing', 1), ('weighs', 1), ('chip', 1), ('sd', 1), ('mumford', 1), ('displaying', 1), ('surfer', 1), ('discompose', 1), ('lehem', 1), ('257m', 1), ('bragging', 1), ('ussr', 1), ('ret', 1), ('nr', 1), ('bounty', 1), ('sheer', 1), ('sofla', 1), ('44pm', 1), ('exceptionally', 1), ('allison', 1), ('victories', 1), ('pippo', 1), ('admittedly', 1), ('sltrib', 1), ('mannn', 1), ('knife', 1), ('placers', 1), ('nec', 1), ('unfit', 1), ('wiv', 1), ('uninsured', 1), ('orgasms', 1), ('kys', 1), ('ambivalent', 1), ('enquiry', 1), ('consternation', 1), ('scathing', 1), ('juvenile', 1), ('clint', 1), ('ravana', 1), ('apps', 1), ('christofascist', 1), ('trance', 1), ('ito', 1), ('oddity', 1), ('toil', 1), ('watseba', 1), ('hocking', 1), ('rasengans', 1), ('tavakolian', 1), ('theories', 1), ('seller', 1), ('psoriasis', 1), ('dunking', 1), ('eglx', 1), ('visually', 1), ('nathuram', 1), ('akong', 1), ('secstate', 1), ('03084455248', 1), ('walkthrough', 1), ('translat', 1), ('primer', 1), ('wagoning', 1), ('tafadhali', 1), ('flor', 1), ('shore', 1), ('edits', 1), ('buzzinggggg', 1), ('100m', 1), ('mentioning', 1), ('pecking', 1), ('alarming', 1), ('olson', 1), ('nahin', 1), ('bestselling', 1), ('aright', 1), ('partitioned', 1), ('1leonardo', 1), ('jailhouse', 1), ('petroulaki', 1), ('mariage', 1), ('rephrase', 1), ('blockade', 1), ('buffon', 1), ('killingtheonetheylived4ages', 1), ('dismissing', 1), ('warfield', 1), ('checkpoint', 1), ('mage', 1), ('franchises', 1), ('gems', 1), ('narrating', 1), ('siddu', 1), ('warmly', 1), ('gels', 1), ('inks', 1), ('blackness', 1), ('spaming', 1), ('wildness', 1), ('3yrs', 1), ('hebrew', 1), ('lowe', 1), ('redneck', 1), ('janata', 1), ('localization', 1), ('illustration', 1), ('iws', 1), ('recorder', 1), ('timings', 1), ('themself', 1), ('kirsty', 1), ('laden', 1), ('perfumes', 1), ('tonton', 1), ('output', 1), ('hired', 1), ('serenade', 1), ('apush', 1), ('iia', 1), ('magnifico', 1), ('induced', 1), ('podgy', 1), ('larrie', 1), ('btts', 1), ('insurmountable', 1), ('chewie', 1), ('shabath', 1), ('farmer', 1), ('gangsta', 1), ('crosbie', 1), ('eyebrows', 1), ('bori', 1), ('exhausting', 1), ('medics', 1), ('petula', 1), ('diversify', 1), ('resigned', 1), ('calming', 1), ('megamall', 1), ('sow', 1), ('mooslims', 1), ('invalid', 1), ('sala', 1), ('shohoda', 1), ('managerial', 1), ('coronal', 1), ('biu', 1), ('geographical', 1), ('changeover', 1), ('adil', 1), ('cms', 1), ('wapas', 1), ('martinsburg', 1), ('troll', 1), ('waec', 1), ('agosto', 1), ('afsaneh', 1), ('maier', 1), ('whittled', 1), ('seedorf', 1), ('subtraction', 1), ('incha', 1), ('coughcough', 1), ('faggot', 1), ('antichrist', 1), ('4thday', 1), ('reem', 1), ('chokha', 1), ('cav', 1), ('gestational', 1), ('blushed', 1), ('fertility', 1), ('sheryl', 1), ('ominously', 1), ('eisenberg', 1), ('bunko', 1), ('surgeon', 1), ('xfgx', 1), ('fertittas', 1), ('coral', 1), ('tankers', 1), ('sayegh', 1), ('shrug', 1), ('mccoy', 1), ('roars', 1), ('possession', 1), ('upstate', 1), ('garry', 1), ('sickness', 1), ('mauro', 1), ('freaken', 1), ('mulligan', 1), ('10xlp', 1), ('instructive', 1), ('chasm', 1), ('buddies', 1), ('nightime', 1), ('donderdag', 1), ('1774', 1), ('lvf', 1), ('inspire', 1), ('enveloping', 1), ('measly', 1), ('wannabe', 1), ('lito', 1), ('antidote', 1), ('jw', 1), ('chapin', 1), ('mahasana', 1), ('dissolve', 1), ('4x06', 1), ('fishy', 1), ('wrapping', 1), ('zuma', 1), ('killah', 1), ('salafists', 1), ('sevilla', 1), ('1country', 1), ('loopholes', 1), ('haldol', 1), ('killin', 1), ('bloc', 1), ('specially', 1), ('certitude', 1), ('linguistic', 1), ('howl', 1), ('academic', 1), ('seconded', 1), ('ignite', 1), ('evisceration', 1), ('crowe', 1), ('04th', 1), ('im3', 1), ('posse', 1), ('bcause', 1), ('embedded', 1), ('tayyip', 1), ('violet', 1), ('allana', 1), ('quarterbacks', 1), ('motoring', 1), ('shudder', 1), ('riversid', 1), ('heterotrophic', 1), ('ponsonby', 1), ('ridiculousness', 1), ('shair', 1), ('lithglo', 1), ('338', 1), ('muttering', 1), ('frowned', 1), ('basse', 1), ('squ', 1), ('mooroolbark', 1), ('drying', 1), ('kaise', 1), ('stunningly', 1), ('disheartening', 1), ('yong', 1), ('endeavour', 1), ('annamarie', 1), ('abyss', 1), ('ahmadiyyat', 1), ('attaches', 1), ('rode', 1), ('ruf', 1), ('5000cr', 1), ('soty', 1), ('fooling', 1), ('despised', 1), ('lir', 1), ('recruited', 1), ('spooky', 1), ('anglo', 1), ('pfft', 1), ('airline', 1), ('jaao', 1), ('eastlake', 1), ('traci', 1), ('pheasant', 1), ('certifying', 1), ('truce', 1), ('hotline', 1), ('cartoonists', 1), ('helluva', 1), ('empirikul', 1), ('stormfront', 1), ('mosny', 1), ('party103', 1), ('leias', 1), ('goodie', 1), ('upping', 1), ('jfc', 1), ('lesbians', 1), ('entities', 1), ('macarthur', 1), ('jubilee', 1), ('withdrawn', 1), ('therapy', 1), ('unislamic', 1), ('ion', 1), ('sailing', 1), ('20mins', 1), ('wanderer', 1), ('hybrid', 1), ('hinduism', 1), ('savers', 1), ('equalise', 1), ('ahri', 1), ('speedrun', 1), ('justt', 1), ('publicrecord', 1), ('umineko', 1), ('bandit76044', 1), ('stove', 1), ('reduction', 1), ('barak', 1), ('artistic', 1), ('invit', 1), ('knights', 1), ('tottenville', 1), ('hbhbhb', 1), ('draking', 1), ('lakeside', 1), ('rampage', 1), ('pet', 1), ('invisible', 1), ('puncture', 1), ('dk', 1), ('mohegan', 1), ('improves', 1), ('sikhism', 1), ('bortolami', 1), ('nag', 1), ('opeds', 1), ('systematically', 1), ('woodstock', 1), ('kirill', 1), ('dynamics', 1), ('thanku', 1), ('prompt', 1), ('beca', 1), ('wealth', 1), ('io9', 1), ('eased', 1), ('processing', 1), ('arielle', 1), ('reese', 1), ('2q', 1), ('inhab', 1), ('dynamic', 1), ('houthi', 1), ('northeastern', 1), ('uncool', 1), ('centraleuropeantime', 1), ('lurking', 1), ('guidicipietro', 1), ('imperialism', 1), ('ultraviolet', 1), ('homefront', 1), ('susunod', 1), ('undetermined', 1), ('fairytale', 1), ('oi', 1), ('bruins', 1), ('charger', 1), ('parched', 1), ('gwen', 1), ('ket', 1), ('juban', 1), ('regretted', 1), ('suis', 1), ('settlements', 1), ('sartorial', 1), ('usage', 1), ('recoiled', 1), ('neptune', 1), ('edu', 1), ('puducherry', 1), ('existentialism', 1), ('pistachio', 1), ('cringeing', 1), ('meditate', 1), ('stitches', 1), ('inhabit', 1), ('april20', 1), ('franco', 1), ('meds', 1), ('unload', 1), ('warlords', 1), ('bendixen', 1), ('fawkes', 1), ('flu', 1), ('chapel', 1), ('gook', 1), ('daft', 1), ('nilomoni', 1), ('dimensionaughts', 1), ('stints', 1), ('admits', 1), ('pat', 1), ('sivan', 1), ('zubin', 1), ('wrights', 1), ('linebackers', 1), ('poehler', 1), ('froze', 1), ('indulgent', 1), ('covington', 1), ('pattie', 1), ('bling', 1), ('ancestors', 1), ('temped', 1), ('unsolicited', 1), ('bukas', 1), ('mi5', 1), ('penggemar', 1), ('portman', 1), ('geezer', 1), ('tylenol', 1), ('lonesome', 1), ('farah', 1), ('eva', 1), ('northcutt', 1), ('mister', 1), ('forsberg', 1), ('smothers', 1), ('rewarding', 1), ('tendencies', 1), ('fackkkk', 1), ('vapid', 1), ('chopping', 1), ('ullukapathas', 1), ('malone', 1), ('renewed', 1), ('landscape', 1), ('whelan', 1), ('skillset', 1), ('gute', 1), ('pilot', 1), ('muffin', 1), ('neo', 1), ('sartaj', 1), ('afternoons', 1), ('284', 1), ('objectionable', 1), ('trot', 1), ('solving', 1), ('724', 1), ('azzam', 1), ('lycanthropy', 1), ('youtuber', 1), ('altitude', 1), ('ausilio', 1), ('chums', 1), ('province', 1), ('gloating', 1), ('storming', 1), ('desirable', 1), ('confessed', 1), ('musing', 1), ('chariot', 1), ('caitlin', 1), ('467', 1), ('sturridge', 1), ('600', 1), ('rpgs', 1), ('namang', 1), ('dubious', 1), ('tass', 1), ('2help', 1), ('hasty', 1), ('bourgeois', 1), ('irgc', 1), ('devgan', 1), ('cbc', 1), ('application', 1), ('lash', 1), ('feminazi', 1), ('mongerer', 1), ('12000', 1), ('radiostation', 1), ('rachel', 1), ('alonzo', 1), ('geneva', 1), ('azz', 1), ('mal', 1), ('blurts', 1), ('melt', 1), ('drawer', 1), ('forfeit', 1), ('allergies', 1), ('activism', 1), ('vacations', 1), ('5ft', 1), ('santos', 1), ('baddream', 1), ('dahil', 1), ('leket', 1), ('disrupting', 1), ('stoxx', 1), ('shamon', 1), ('bankruptcy', 1), ('crane', 1), ('brouis', 1), ('vendo', 1), ('eyeing', 1), ('sunshines', 1), ('quarantot', 1), ('bootleg', 1), ('repugnant', 1), ('bambino', 1), ('11909', 1), ('obliged', 1), ('coordinating', 1), ('cheapskate', 1), ('sbs', 1), ('cemented', 1), ('seoul', 1), ('scruffing', 1), ('grimshaw', 1), ('wandering', 1), ('rational', 1), ('vamily', 1), ('jnf', 1), ('lml', 1), ('treason', 1), ('outshine', 1), ('clady', 1), ('scheduling', 1), ('brasilia', 1), ('culwell', 1), ('216', 1), ('unleash', 1), ('genetic', 1), ('mirky', 1), ('giorgini', 1), ('anonimity', 1), ('3hrs', 1), ('tilda', 1), ('legislating', 1), ('croatia', 1), ('marathoned', 1), ('rearrested', 1), ('go2', 1), ('tonights', 1), ('lnk', 1), ('condemnation', 1), ('hungary', 1), ('madvillainy', 1), ('arvo', 1), ('quicker', 1), ('uptake', 1), ('alre', 1), ('bankroll', 1), ('machado', 1), ('aird', 1), ('murphys', 1), ('ellerslie', 1), ('mathoho', 1), ('convincingly', 1), ('jerries', 1), ('retaining', 1), ('oeuvre', 1), ('referendum', 1), ('conception', 1), ('tolerant', 1), ('stereotypes', 1), ('tackled', 1), ('abbas', 1), ('rachael', 1), ('earthquake', 1), ('doshua', 1), ('crm', 1), ('congress4farmers', 1), ('relatable', 1), ('psx', 1), ('hijaab', 1), ('iithe', 1), ('econ', 1), ('tunisia', 1), ('camille', 1), ('mlks', 1), ('mufti', 1), ('5a', 1), ('swearssssss', 1), ('kn', 1), ('lamars', 1), ('stade', 1), ('charlize', 1), ('arcimboldi', 1), ('tba', 1), ('manoli', 1), ('lawless', 1), ('hawkish', 1), ('waqar', 1), ('tanker', 1), ('arutz', 1), ('humour', 1), ('obligations', 1), ('triforce', 1), ('rathe', 1), ('crunch', 1), ('bucky', 1), ('matteo', 1), ('semetic', 1), ('kog', 1), ('thespian', 1), ('dfs', 1), ('loretta', 1), ('tweaks', 1), ('wilkerson', 1), ('swivel', 1), ('wetherspoons', 1), ('procural', 1), ('photographed', 1), ('cds', 1), ('internationals', 1), ('pattinson', 1), ('detainees', 1), ('expertise', 1), ('sushi', 1), ('ancients', 1), ('persistent', 1), ('halischuk', 1), ('bbhmm', 1), ('canna', 1), ('ancle', 1), ('briancat', 1), ('ua', 1), ('sovereign', 1), ('comerica', 1), ('arrondissement', 1), ('imprisoning', 1), ('btwn', 1), ('jaz', 1), ('depressing', 1), ('joked', 1), ('celine', 1), ('glencairn', 1), ('gasquet', 1), ('victorian', 1), ('cuteness', 1), ('israels', 1), ('fulfil', 1), ('isla', 1), ('2h', 1), ('sharm', 1), ('crai', 1), ('signifying', 1), ('getva', 1), ('settings', 1), ('nadal', 1), ('lastnight', 1), ('nixe', 1), ('stoning', 1), ('beatsmiths', 1), ('burqas', 1), ('jeonghan', 1), ('ibrox', 1), ('kalynn', 1), ('discovers', 1), ('latvian', 1), ('baptiste', 1), ('jeopardise', 1), ('banners', 1), ('organism', 1), ('faild', 1), ('gallups', 1), ('swaraj', 1), ('quips', 1), ('cot', 1), ('officer', 1), ('kent', 1), ('chefs', 1), ('6000', 1), ('radcliffe', 1), ('drab', 1), ('tanya', 1), ('stam', 1), ('swot', 1), ('clamp', 1), ('afterbirth', 1), ('unwilling', 1), ('bladesboy2', 1), ('halls', 1), ('ripoff', 1), ('unimpressed', 1), ('facades', 1), ('lineman', 1), ('scot', 1), ('patsies', 1), ('gospelgee', 1), ('exposes', 1), ('grimly', 1), ('fraction', 1), ('shahbaz', 1), ('prismo', 1), ('farve', 1), ('flicker', 1), ('latrell', 1), ('baloney', 1), ('cha', 1), ('indra', 1), ('soundsystem', 1), ('personalities', 1), ('maa', 1), ('squadron', 1), ('pv', 1), ('investing', 1), ('neiman', 1), ('arkansas', 1), ('dodger', 1), ('cautious', 1), ('2115', 1), ('wacky', 1), ('fahlo', 1), ('institutions', 1), ('strtd', 1), ('thompsons', 1), ('disseminate', 1), ('2but', 1), ('renn', 1), ('barton', 1), ('manic', 1), ('jewry', 1), ('computers', 1), ('gnawing', 1), ('provincial', 1), ('demigod', 1), ('kabiru', 1), ('pils', 1), ('overeem', 1), ('sauble', 1), ('opn', 1), ('charlene', 1), ('wawrinka', 1), ('unfairly', 1), ('flora', 1), ('toujours', 1), ('freeeeee', 1), ('mbf', 1), ('hinthint', 1), ('alto', 1), ('druids', 1), ('icons', 1), ('blinded', 1), ('spurred', 1), ('piping', 1), ('desired', 1), ('comforting', 1), ('accent', 1), ('berating', 1), ('telecom', 1), ('ellewell', 1), ('maiming', 1), ('forwards', 1), ('bleak', 1), ('worsened', 1), ('peppering', 1), ('jeffrey', 1), ('dystopia', 1), ('energized', 1), ('workbook', 1), ('cinderella', 1), ('alive27', 1), ('goes2', 1), ('moniker', 1), ('pilgrimage', 1), ('brumbies', 1), ('roome', 1), ('plastic', 1), ('picturing', 1), ('starved', 1), ('scognamiglio', 1), ('jizzed', 1), ('nts', 1), ('ramadi', 1), ('bode', 1), ('understated', 1), ('riddled', 1), ('regarde', 1), ('busting', 1), ('panthers', 1), ('truthiness', 1), ('ergo', 1), ('individualistic', 1), ('callander', 1), ('lark', 1), ('render', 1), ('ransom', 1), ('commanders', 1), ('shameless', 1), ('spoons', 1), ('brisson', 1), ('evident', 1), ('maurice', 1), ('intent', 1), ('mos', 1), ('ajay', 1), ('gdecny', 1), ('cahoots', 1), ('bahaha', 1), ('arnab', 1), ('bigotry', 1), ('geek', 1), ('principles', 1), ('trivandrum', 1), ('mongo', 1), ('profession', 1), ('cassper', 1), ('ptsd', 1), ('rekindled', 1), ('eamon', 1), ('vomit', 1), ('sentiment', 1), ('10x', 1), ('tools', 1), ('orson', 1), ('mihalovic', 1), ('frosinnone', 1), ('pantera', 1), ('bikes', 1), ('illuminate', 1), ('councillors', 1), ('exgirlfriends', 1), ('xtian', 1), ('deepening', 1), ('evan', 1), ('spezia', 1), ('watts', 1), ('battlefront', 1), ('luckiest', 1), ('unfunny', 1), ('narrate', 1), ('leased', 1), ('seinfeld', 1), ('extract', 1), ('amie', 1), ('patella', 1), ('brenda', 1), ('bgg', 1), ('quaker', 1), ('gingerbread', 1), ('courcelle', 1), ('pirelli', 1), ('emea', 1), ('serqet', 1), ('icg', 1), ('garnered', 1), ('concourse', 1), ('corona', 1), ('brow', 1), ('rrmastered', 1), ('antiquities', 1), ('mojo', 1), ('spat', 1), ('kinekor', 1), ('chillllll', 1), ('qantas', 1), ('masterstroke', 1), ('taxed', 1), ('jotaro', 1), ('spitting', 1), ('versio', 1), ('kittens', 1), ('persecute', 1), ('slut', 1), ('alessandria', 1), ('camon', 1), ('jaya', 1), ('heartstrings', 1), ('magically', 1), ('ancelotti', 1), ('pleaseeeeee', 1), ('shimmercakes', 1), ('mafias', 1), ('nasreen', 1), ('claptons', 1), ('rukna', 1), ('colombia', 1), ('yelm', 1), ('ticking', 1), ('sletten', 1), ('effects', 1), ('woeful', 1), ('kahuna', 1), ('meri', 1), ('4k', 1), ('drudge', 1), ('3games', 1), ('iranians', 1), ('mead', 1), ('zobrist', 1), ('taslima', 1), ('tetanus', 1), ('cord', 1), ('bangers', 1), ('stu', 1), ('rethink', 1), ('deems', 1), ('tommo', 1), ('inquiry', 1), ('winston', 1), ('starstruck', 1), ('jaffa', 1), ('socially', 1), ('operatives', 1), ('peope', 1), ('bathtime', 1), ('servant', 1), ('intrusive', 1), ('kailangan', 1), ('fammm', 1), ('blazin', 1), ('deploring', 1), ('turner', 1), ('zane', 1), ('howell', 1), ('yoh', 1), ('evt', 1), ('barzzzzz', 1), ('prc', 1), ('careers', 1), ('restriction', 1), ('leftwing', 1), ('memed', 1), ('lcd', 1), ('squires', 1), ('speeches', 1), ('wonderwall', 1), ('tf1', 1), ('muriel', 1), ('realizes', 1), ('goallessdraw', 1), ('reputation', 1), ('pumping', 1), ('mohammed', 1), ('10485839193847', 1), ('munibond', 1), ('vy', 1), ('hadooohhh', 1), ('advisers', 1), ('kingsmill', 1), ('gauntlet', 1), ('spit', 1), ('hort', 1), ('paranoid', 1), ('preggies', 1), ('shipyard', 1), ('unforgiving', 1), ('lynyrd', 1), ('tendency', 1), ('characterised', 1), ('stability', 1), ('bahay', 1), ('cx', 1), ('bowen', 1), ('realities', 1), ('excactly', 1), ('1997', 1), ('bothers', 1), ('applaud', 1), ('artificial', 1), ('azerbaijani', 1), ('politico', 1), ('renzi', 1), ('titanic', 1), ('reiche', 1), ('removes', 1), ('excessive', 1), ('buccs', 1), ('transferable', 1), ('lamenting', 1), ('helpful', 1), ('graduation', 1), ('latch', 1), ('kunta', 1), ('grandy', 1), ('thorburn', 1), ('ratchet', 1), ('jayega', 1), ('terlingo', 1), ('spotif', 1), ('sd9ve', 1), ('dab', 1), ('dismissive', 1), ('coined', 1), ('wirse', 1), ('stalker', 1), ('mechanical', 1), ('galillee', 1), ('modimafia', 1), ('tloz', 1), ('blasio', 1), ('galaxy', 1), ('maaaaannnn', 1), ('manci', 1), ('fanfiction', 1), ('squashed', 1), ('aterpilar', 1), ('womb', 1), ('fudged', 1), ('adoption', 1), ('sheeeeeeeesh', 1), ('populations', 1), ('katherine', 1), ('godawful', 1), ('curren', 1), ('duelist', 1), ('petals', 1), ('seniors', 1), ('ac4', 1), ('belli', 1), ('jerm', 1), ('500k', 1), ('revcoak', 1), ('valves', 1), ('grinned', 1), ('fanny', 1), ('downside', 1), ('failures', 1), ('dnc', 1), ('r2d2', 1), ('arresting', 1), ('chardonnay', 1), ('hurstbridge', 1), ('amit', 1), ('nwphs', 1), ('kubo', 1), ('bullion', 1), ('00p', 1), ('speculating', 1), ('misinforemd', 1), ('pasts', 1), ('muhi', 1), ('jai', 1), ('nem', 1), ('sadelle', 1), ('90mil', 1), ('distinguish', 1), ('leonard', 1), ('tend', 1), ('wwont', 1), ('auckland', 1), ('kaofela', 1), ('deka', 1), ('ports', 1), ('hizbollah', 1), ('disallowed', 1), ('ranging', 1), ('wu', 1), ('winn', 1), ('famously', 1), ('yeppers', 1), ('savours', 1), ('snacking', 1), ('shiit', 1), ('murillo', 1), ('karin', 1), ('bandits', 1), ('esra', 1), ('taqiyah', 1), ('directing', 1), ('jungleworms', 1), ('boyy', 1), ('ashtanga', 1), ('pulsating', 1), ('serviceman', 1), ('mutter', 1), ('restitute', 1), ('riviera', 1), ('inroads', 1), ('halo', 1), ('lest', 1), ('49th', 1), ('regionwide', 1), ('panels', 1), ('ponyville', 1), ('timetable', 1), ('ballistic', 1), ('ped', 1), ('bundelkhand', 1), ('151', 1), ('dumping', 1), ('inzaghi', 1), ('diddy', 1), ('rtc', 1), ('jab', 1), ('bamboleo', 1), ('prostate', 1), ('avid', 1), ('rottweiler', 1), ('coordinator', 1), ('manners', 1), ('kaput', 1), ('timehop', 1), ('conditioning', 1), ('bonhomie', 1), ('solstice', 1), ('saoirse', 1), ('iea', 1), ('cincin', 1), ('wanked', 1), ('cepedes', 1), ('revoke', 1), ('nuns', 1), ('wednes', 1), ('alarmed', 1), ('elay', 1), ('janta', 1), ('whirlpool', 1), ('lindt', 1), ('wam', 1), ('obeyed', 1), ('chucks', 1), ('everett', 1), ('stooges', 1), ('bumotoooo', 1), ('waywithin', 1), ('p4k', 1), ('complimenting', 1), ('shuffles', 1), ('lameass', 1), ('kartell', 1), ('aq', 1), ('pesce', 1), ('ump', 1), ('mandana', 1), ('dazzle', 1), ('jangle', 1), ('unknowingly', 1), ('jarret', 1), ('expulsions', 1), ('instrumentals', 1), ('ape', 1), ('birthdate', 1), ('polluted', 1), ('expertly', 1), ('cruelly', 1), ('seein', 1), ('jarrica', 1), ('orographic', 1), ('inneresting', 1), ('notion', 1), ('tg4', 1), ('pogues', 1), ('albanian', 1), ('rowand', 1), ('poppys', 1), ('cancerous', 1), ('gadafi', 1), ('rac', 1), ('prey', 1), ('sedaka', 1), ('southeastern', 1), ('karnataka', 1), ('enlarged', 1), ('conserv', 1), ('victorious2016', 1), ('soberly', 1), ('neutered', 1), ('pins', 1), ('honours', 1), ('irregularitie', 1), ('narcissism', 1), ('foxnewshealth', 1), ('drugstore', 1), ('opponents', 1), ('remade', 1), ('urchin', 1), ('1600', 1), ('ulster', 1), ('bal', 1), ('irstaxpros', 1), ('rabiu', 1), ('obligation', 1), ('rhonda', 1), ('disana', 1), ('holande', 1), ('medicated', 1), ('debutant', 1), ('kahin', 1), ('severely', 1), ('angled', 1), ('dicko', 1), ('thongs', 1), ('545', 1), ('lush', 1), ('republique', 1), ('neroazzuro', 1), ('708', 1), ('trench', 1), ('gofundme', 1), ('bistro', 1), ('taunting', 1), ('trivial', 1), ('abbamania', 1), ('drooling', 1), ('pret', 1), ('psc', 1), ('freestyling', 1), ('lancaster', 1), ('tarnish', 1), ('barren', 1), ('judgemental', 1), ('smithwick', 1), ('amalie', 1), ('youremyvitamins', 1), ('lolz', 1), ('beaxh', 1), ('rewrote', 1), ('webcam', 1), ('vetting', 1), ('manged', 1), ('seriousness', 1), ('puyallup', 1), ('paved', 1), ('mib', 1), ('ravenswood', 1), ('wintry', 1), ('setlists', 1), ('achiever', 1), ('h2o', 1), ('kufr', 1), ('faaaaya', 1), ('unjustly', 1), ('dumps', 1), ('lavrentiev', 1), ('stereogum', 1), ('concentrating', 1), ('prithviraj', 1), ('downie', 1), ('thabo', 1), ('clumsy', 1), ('723', 1), ('hullo', 1), ('vocabulary', 1), ('maseed', 1), ('dmc', 1), ('ming', 1), ('tmr', 1), ('cocktail', 1), ('elephants', 1), ('pleasing', 1), ('discovery', 1), ('caramele', 1), ('law30', 1), ('migraine', 1), ('carmen', 1), ('cairo', 1), ('grossly', 1), ('squarepants', 1), ('plectrums', 1), ('presume', 1), ('commitment', 1), ('complacent', 1), ('consumption', 1), ('pulpit', 1), ('musicals', 1), ('err', 1), ('austealian', 1), ('shaggin', 1), ('camilla', 1), ('violets', 1), ('navratri', 1), ('hearn', 1), ('rmx', 1), ('strider', 1), ('coins', 1), ('atma', 1), ('surf', 1), ('confederacy', 1), ('walkin', 1), ('shoreline', 1), ('netralize', 1), ('hydra', 1), ('dicking', 1), ('atwell', 1), ('twofer', 1), ('lynn', 1), ('anarchists', 1), ('ayew', 1), ('dunsworth', 1), ('compulsory', 1), ('llc', 1), ('investigate', 1), ('baransu', 1), ('perv', 1), ('is2g', 1), ('judea', 1), ('rised', 1), ('showy', 1), ('svp', 1), ('warthen', 1), ('ceaselessly', 1), ('presidents', 1), ('hague', 1), ('hosed', 1), ('babys', 1), ('superstitious', 1), ('regins', 1), ('richmond', 1), ('jahagir', 1), ('rejuvenation', 1), ('budge', 1), ('approaches', 1), ('styled', 1), ('cholo', 1), ('ek', 1), ('levelled', 1), ('sunhold', 1), ('dependng', 1), ('unethical', 1), ('seatplan', 1), ('blatantly', 1), ('unlocking', 1), ('interviewers', 1), ('yule', 1), ('congeries', 1), ('cleans', 1), ('firesage', 1), ('pressed', 1), ('derulo', 1), ('nativity', 1), ('jgl', 1), ('alien', 1), ('definetely', 1), ('carcass', 1), ('gianelli', 1), ('exec', 1), ('hectare', 1), ('racks', 1), ('theyrnow', 1), ('lauren', 1), ('angelic', 1), ('superbowl', 1), ('behing', 1), ('tasha', 1), ('alleging', 1), ('portuguese', 1), ('alls', 1), ('credible', 1), ('redwood', 1), ('partly', 1), ('outmatched', 1), ('algerian', 1), ('senses', 1), ('acclaim', 1), ('ver', 1), ('errrrrrr', 1), ('checkmate', 1), ('prefix', 1), ('conglomeration', 1), ('shi', 1), ('becuz', 1), ('hackerman', 1), ('moshe', 1), ('investment', 1), ('thoseee', 1), ('lagaiye', 1), ('sens', 1), ('venison', 1), ('unfilled', 1), ('chains', 1), ('umps', 1), ('cleansing', 1), ('diane', 1), ('clearing', 1), ('thanos', 1), ('athertons', 1), ('mygod', 1), ('strings', 1), ('chauhan', 1), ('soical', 1), ('samurai', 1), ('bln', 1), ('sourcestoi', 1), ('arch', 1), ('intolerance', 1), ('tyrone', 1), ('leggins', 1), ('lightlly', 1), ('stepp', 1), ('porn', 1), ('fpa', 1), ('odegaard', 1), ('pondering', 1), ('crossing', 1), ('exiting', 1), ('battering', 1), ('ella', 1), ('suga', 1), ('offices', 1), ('foxborough', 1), ('riders', 1), ('dstv', 1), ('furiosa', 1), ('hernangomez', 1), ('actuallyall', 1), ('mitam', 1), ('heater', 1), ('droids', 1), ('defining', 1), ('licensing', 1), ('presenters', 1), ('resting', 1), ('hsa', 1), ('innovators', 1), ('seemingly', 1), ('bandwagoning', 1), ('sango', 1), ('nrs', 1), ('artistry', 1), ('nowit', 1), ('dijamin', 1), ('nakita', 1), ('fraudsters', 1), ('sighting', 1), ('fai', 1), ('bedazzled', 1), ('foam', 1), ('survives', 1), ('gamecast', 1), ('collabo', 1), ('hater', 1), ('reckoned', 1), ('danisnotonfire', 1), ('whisk', 1), ('bones', 1), ('fur', 1), ('graffitied', 1), ('rebuy', 1), ('mainline', 1), ('sentral', 1), ('plano', 1), ('lander', 1), ('crac', 1), ('kaboul', 1), ('negate', 1), ('latley', 1), ('breezes', 1), ('vibrant', 1), ('tainted', 1), ('radiate', 1), ('yielding', 1), ('mke', 1), ('jitters', 1), ('flt', 1), ('rabiot', 1), ('benchmark', 1), ('raffensberger', 1), ('skinner', 1), ('indo', 1), ('thority', 1), ('discolouration', 1), ('barrowlands', 1), ('intend', 1), ('wristwatch', 1), ('zinedine', 1), ('okeechobee', 1), ('loge', 1), ('kedrick', 1), ('coraggio', 1), ('sonysix', 1), ('truckload', 1), ('schoolboyq', 1), ('sta', 1), ('retu', 1), ('1920', 1), ('justuce', 1), ('marley', 1), ('dimitrov', 1), ('converts', 1), ('chords', 1), ('prophecies', 1), ('khazakstan', 1), ('suits', 1), ('chamcha', 1), ('hillier', 1), ('frey', 1), ('buddhists', 1), ('marr', 1), ('sounder', 1), ('crapping', 1), ('cummings', 1), ('megastar', 1), ('lutharia', 1), ('teflon', 1), ('filippo', 1), ('urmra', 1), ('resilient', 1), ('mcguire', 1), ('timberlake', 1), ('obstruction', 1), ('imf', 1), ('kingpin', 1), ('unwrap', 1), ('gayliath', 1), ('policeman', 1), ('lawmakers', 1), ('pillow', 1), ('f1', 1), ('nana', 1), ('globos', 1), ('whoo', 1), ('cringing', 1), ('attempts', 1), ('sprinting', 1), ('ukraine', 1), ('katja', 1), ('array', 1), ('distribution', 1), ('gerry', 1), ('nelly', 1), ('ufzzz', 1), ('functional', 1), ('waaaaa', 1), ('homeward', 1), ('bonehead', 1), ('paused', 1), ('ppr', 1), ('judeo', 1), ('mock', 1), ('nit', 1), ('raul', 1), ('sampling', 1), ('representant', 1), ('impacts', 1), ('bayo', 1), ('dao', 1), ('supportive', 1), ('55', 1), ('reducing', 1), ('vessels', 1), ('tolman', 1), ('borders', 1), ('karem', 1), ('rothlesburger', 1), ('louiss', 1), ('propel', 1), ('hyper', 1), ('uur', 1), ('chunk', 1), ('smuggling', 1), ('splendid', 1), ('jesse', 1), ('shekel', 1), ('nightlife', 1), ('rhino', 1), ('lagam', 1), ('odom', 1), ('blasphemous', 1), ('groan', 1), ('43years', 1), ('dengeki', 1), ('nir', 1), ('woodley', 1), ('toddy', 1), ('boyfriends', 1), ('nans', 1), ('rotated', 1), ('hors', 1), ('flows', 1), ('mehta', 1), ('reheated', 1), ('torirs', 1), ('haunting', 1), ('lifeless', 1), ('perfection', 1), ('barnett', 1), ('bibi', 1), ('chronicle', 1), ('summoned', 1), ('buckley', 1), ('layed', 1), ('disclose', 1), ('observers', 1), ('auditions', 1), ('hopefuly', 1), ('grandslam', 1), ('bheem', 1), ('flatly', 1), ('precedence', 1), ('defo', 1), ('bonaventure', 1), ('nurse', 1), ('purchases', 1), ('beggs', 1), ('harass', 1), ('standstill', 1), ('ronnies', 1), ('chota', 1), ('itv2', 1), ('16m', 1), ('jedward', 1), ('frown', 1), ('criticised', 1), ('mace', 1), ('hutt', 1), ('onechanbara', 1), ('braden', 1), ('rewrite', 1), ('buggy', 1), ('imp', 1), ('mahoning', 1), ('damnit', 1), ('winnipeg', 1), ('flower', 1), ('norhtern', 1), ('sextapes', 1), ('eritreans', 1), ('fracking', 1), ('marquis', 1), ('organics', 1), ('essebsi', 1), ('gce', 1), ('coconut', 1), ('ngo', 1), ('mods', 1), ('thta', 1), ('wwii', 1), ('disgust', 1), ('closr', 1), ('herbivore', 1), ('dimples', 1), ('staircase', 1), ('bedfellows', 1), ('reiterated', 1), ('velociraptors', 1), ('lymph', 1), ('fairbanks', 1), ('saud', 1), ('corsport', 1), ('yer', 1), ('exhibiting', 1), ('x3', 1), ('odc', 1), ('hekmati', 1), ('worl', 1), ('disappointedly', 1), ('ffxiii', 1), ('futures', 1), ('crummy', 1), ('societies', 1), ('metals', 1), ('lizzie', 1), ('soundtracking', 1), ('conjectural', 1), ('crumlin', 1), ('safest', 1), ('otis', 1), ('squirrel', 1), ('4618', 1), ('abc7chicago', 1), ('mads', 1), ('jn', 1), ('classless', 1), ('biological', 1), ('dined', 1), ('boosting', 1), ('xanax', 1), ('woaw', 1), ('girly', 1), ('cucumber', 1), ('gunners', 1), ('executes', 1), ('effie', 1), ('invents', 1), ('stashed', 1), ('cardiovascular', 1), ('opportunities', 1), ('nutrition', 1), ('lmfaooo', 1), ('photoops', 1), ('joinin', 1), ('roasting', 1), ('mocked', 1), ('kets', 1), ('loo', 1), ('truism', 1), ('mcewan', 1), ('amul', 1), ('obergefell', 1), ('debicki', 1), ('gladesville', 1), ('staten', 1), ('abetz', 1), ('630am', 1), ('accessories', 1), ('scoreline', 1), ('increasing', 1), ('adrien', 1), ('devlin', 1), ('stockpile', 1), ('bootlegs', 1), ('gaston', 1), ('hr18', 1), ('ragia', 1), ('refinding', 1), ('barrymore', 1), ('hercules', 1), ('taliban', 1), ('shobha', 1), ('paradox', 1), ('huffman', 1), ('statehood', 1), ('1950s', 1), ('newfound', 1), ('casus', 1), ('oust', 1), ('benn', 1), ('complying', 1), ('itchy', 1), ('shush', 1), ('payouts', 1), ('zwei', 1), ('archives', 1), ('phineas4cobain', 1), ('bodywork', 1), ('halsey', 1), ('sweeps', 1), ('pakaian', 1), ('lenny', 1), ('barred', 1), ('it1503', 1), ('surveillance', 1), ('allergy', 1), ('tlusty', 1), ('vatican', 1), ('xxl', 1), ('ballin', 1), ('flask', 1), ('bolivia', 1), ('jaitley', 1), ('http', 1), ('squat', 1), ('ucla', 1), ('megesh', 1), ('siren', 1), ('chest', 1), ('revolves', 1), ('tab', 1), ('reinforced', 1), ('housewives', 1), ('zee', 1), ('shitfest', 1), ('thrills', 1), ('mahiki', 1), ('inbox', 1), ('encouragement', 1), ('invention', 1), ('mirrah', 1), ('mime', 1), ('paints1493', 1), ('hangin', 1), ('realer', 1), ('usefull', 1), ('niqabs', 1), ('baap', 1), ('tersepona', 1), ('decrying', 1), ('condensed', 1), ('kvitova', 1), ('ryans', 1), ('jaa', 1), ('wallow', 1), ('iv', 1), ('newsroom', 1), ('snakes', 1), ('irani', 1), ('blushes', 1), ('pulsing', 1), ('preggers', 1), ('mclaren', 1), ('afterglow', 1), ('swe', 1), ('authored', 1), ('footy', 1), ('permission', 1), ('produces', 1), ('brie', 1), ('ooer', 1), ('scares', 1), ('reinventing', 1), ('compliant', 1), ('digger', 1), ('bowbow', 1), ('groovies', 1), ('gleeman', 1), ('argos', 1), ('concepcion', 1), ('bein', 1), ('honoured', 1), ('wearching', 1), ('consultant', 1), ('drunkenness', 1), ('earning', 1), ('toured', 1), ('maestro', 1), ('cypher', 1), ('clearer', 1), ('developer', 1), ('rotd2', 1), ('riggers', 1), ('nirupam', 1), ('pointer', 1), ('ditch', 1), ('starve', 1), ('diu', 1), ('poolstick', 1), ('hark', 1), ('macro', 1), ('anniv', 1), ('discontent', 1), ('stash', 1), ('silently', 1), ('timesofindia', 1), ('lyca', 1), ('compatibility', 1), ('thorki', 1), ('nishikori', 1), ('alexandra', 1), ('ikon', 1), ('akakeya', 1), ('croix', 1), ('lmbo', 1), ('supercup', 1), ('inury', 1), ('reap', 1), ('stunk', 1), ('donbas', 1), ('triceracop', 1), ('pagan', 1), ('unwillingness', 1), ('ramblings', 1), ('beverly', 1), ('narre', 1), ('limerick', 1), ('zoggie', 1), ('airstrikes', 1), ('futilez', 1), ('napping', 1), ('bitie', 1), ('mimic', 1), ('refraction', 1), ('metatron', 1), ('spectroscopy', 1), ('hefzi', 1), ('raced', 1), ('goddell', 1), ('baemax', 1), ('surrounded', 1), ('wokeness', 1), ('chritianity', 1), ('gamelab', 1), ('olde', 1), ('reflecting', 1), ('bonne', 1), ('gvrment', 1), ('fbomb', 1), ('carsick', 1), ('hohohohohohohoho', 1), ('carrefour', 1), ('lurgan', 1), ('parle', 1), ('bcz', 1), ('imagines', 1), ('fete', 1), ('homegirl', 1), ('mx', 1), ('cuddle', 1), ('mediaguardian', 1), ('kosmo', 1), ('psycho', 1), ('lamborghini', 1), ('ashram', 1), ('momentarily', 1), ('chorale', 1), ('miyazaki', 1), ('attendant', 1), ('nyfw', 1), ('whn', 1), ('kirigiri', 1), ('uneducated', 1), ('jao', 1), ('mas', 1), ('backfoot', 1), ('rematc', 1), ('biffed', 1), ('flocked', 1), ('propping', 1), ('bizarrely', 1), ('themes', 1), ('andersonstown', 1), ('51', 1), ('aircraft', 1), ('howevr', 1), ('cycling', 1), ('negotiating', 1), ('sday', 1), ('wad', 1), ('karly', 1), ('228', 1), ('desrve', 1), ('8462852', 1), ('hah', 1), ('nightstand', 1), ('zoolander', 1), ('peeing', 1), ('anniver', 1), ('oli', 1), ('moira', 1), ('magistrates', 1), ('vampettes', 1), ('cpl', 1), ('powells', 1), ('dummy', 1), ('driveway', 1), ('subraman', 1), ('spygate', 1), ('20124', 1), ('forc', 1), ('handball', 1), ('visas', 1), ('prequels', 1), ('angie', 1), ('ignant', 1), ('doyles', 1), ('undermine', 1), ('uruguay', 1), ('goldwater', 1), ('essays', 1), ('demontrations', 1), ('lawlllllll', 1), ('liquidate', 1), ('hollow', 1), ('flamin', 1), ('washes', 1), ('agre', 1), ('aprile', 1), ('tater', 1), ('mosby', 1), ('tittle', 1), ('gandhis', 1), ('nord', 1), ('maziel', 1), ('pon', 1), ('posture', 1), ('knell', 1), ('armagh', 1), ('plies', 1), ('butlins', 1), ('heeey', 1), ('cynically', 1), ('thegreenarrow', 1), ('tones', 1), ('finances', 1), ('recommendation', 1), ('ayatollahs', 1), ('outsourced', 1), ('wordplay', 1), ('unger', 1), ('121', 1), ('intrusion', 1), ('colour', 1), ('scorching', 1), ('hookup', 1), ('scapegoats', 1), ('dl418', 1), ('lackey', 1), ('skinned', 1), ('fracturing', 1), ('tracey', 1), ('interupting', 1), ('realease', 1), ('flipped', 1), ('possessed', 1), ('stew', 1), ('masturbation', 1), ('briton', 1), ('carmel', 1), ('dungeon', 1), ('goblet', 1), ('moqadam', 1), ('bacoor', 1), ('revolutionary', 1), ('antisemites', 1), ('pasha', 1), ('resisting', 1), ('overworked', 1), ('nye', 1), ('dynasty', 1), ('inched', 1), ('multiculturalism', 1), ('eeeeek', 1), ('amuses', 1), ('tbf', 1), ('growlers', 1), ('pandemic', 1), ('fountains', 1), ('reindeer', 1), ('latches', 1), ('gazaaa', 1), ('celtic', 1), ('contribute', 1), ('panik', 1), ('inadvertently', 1), ('powerfull', 1), ('ib', 1), ('criminality', 1), ('pronouns', 1), ('onshore', 1), ('lamarckian', 1), ('grocery', 1), ('stench', 1), ('stirring', 1), ('nw', 1), ('resigns', 1), ('cleaned', 1), ('zones', 1), ('zm', 1), ('swinton', 1), ('jingle', 1), ('fal', 1), ('companies', 1), ('emails', 1), ('departing', 1), ('demonstration', 1), ('yacht', 1), ('hoppy', 1), ('badboy', 1), ('fancying', 1), ('ujah', 1), ('absurdly', 1), ('quizup', 1), ('martini', 1), ('balloon', 1), ('motiveless', 1), ('dev', 1), ('adapted', 1), ('archie', 1), ('trigg', 1), ('exquisite', 1), ('pittance', 1), ('toast', 1), ('bumps', 1), ('loot', 1), ('supernatural', 1), ('wrastle', 1), ('devonshire', 1), ('papakura', 1), ('faults', 1), ('deserted', 1), ('comunication', 1), ('nalumfe', 1), ('jazon', 1), ('namo', 1), ('nc', 1), ('cumulative', 1), ('twats', 1), ('threepeat', 1), ('wean', 1), ('ugg', 1), ('faire', 1), ('thread', 1), ('squee', 1), ('lottie', 1), ('antics', 1), ('gameplan', 1), ('karapatan', 1), ('neutron', 1), ('zit', 1), ('johns', 1), ('gq', 1), ('yuvraj', 1), ('intafada', 1), ('stepney', 1), ('hollande', 1), ('remedies', 1), ('rants', 1), ('screenshots', 1), ('ameliorate', 1), ('khamenei', 1), ('raunchy', 1), ('jumbo', 1), ('currencies', 1), ('wallflower', 1), ('ecstatic', 1), ('artpop', 1), ('mulaney', 1), ('abbi', 1), ('transform', 1), ('comprehensive', 1), ('aspects', 1), ('mbc', 1), ('nirbhaya', 1), ('hinds', 1), ('cites', 1), ('badddddd', 1), ('soma', 1), ('armando', 1), ('consistency', 1), ('wining', 1), ('conceptual', 1), ('rih', 1), ('morocco', 1), ('stealth', 1), ('airlines', 1), ('slithering', 1), ('storytime', 1), ('lpc', 1), ('punkrag', 1), ('burritos', 1), ('eeek', 1), ('steet', 1), ('teigen', 1), ('secrecy', 1), ('lawful', 1), ('banished', 1), ('xenia', 1), ('assembly', 1), ('cosentino', 1), ('outlawing', 1), ('sanjay', 1), ('221yearsincefireproof', 1), ('abuzeid', 1), ('ashford', 1), ('rezaian', 1), ('s2', 1), ('labeling', 1), ('appeasers', 1), ('belonging', 1), ('welbeck', 1), ('evens', 1), ('conure', 1), ('grape', 1), ('albury', 1), ('gaynor', 1), ('witty', 1), ('vacated', 1), ('voodoo', 1), ('brokered', 1), ('lani', 1), ('estia', 1), ('negev', 1), ('poser', 1), ('deb', 1), ('mandem', 1), ('cleric', 1), ('hostage', 1), ('narnia', 1), ('handprints', 1), ('yuh', 1), ('horoscopes', 1), ('boks', 1), ('degenere', 1), ('eyal', 1), ('lhr', 1), ('ghostface', 1), ('skynyrd', 1), ('microwave', 1), ('statistics', 1), ('hitchens', 1), ('winless', 1), ('hawkers', 1), ('bras', 1), ('toz', 1), ('boody', 1), ('jarryd', 1), ('purttyyyy', 1), ('kung', 1), ('manouver', 1), ('brittany', 1), ('onside', 1), ('tuscany', 1), ('cle', 1), ('nibbles', 1), ('internship', 1), ('tapping', 1), ('predominantly', 1), ('11mo', 1), ('scalpers', 1), ('uneasyness', 1), ('bledsoe', 1), ('ghe', 1), ('n7', 1), ('sceni', 1), ('frikken', 1), ('karashian', 1), ('firework', 1), ('faceplant', 1), ('bioshock', 1), ('elastic', 1), ('monotheism', 1), ('11clubroom', 1), ('slash', 1), ('12tds', 1), ('evolution', 1), ('twsrc', 1), ('unclear', 1), ('zlatan', 1), ('hijacker', 1), ('radish', 1), ('soaps', 1), ('919', 1), ('corinth', 1), ('spiders', 1), ('lumen', 1), ('skiing', 1), ('reciprocal', 1), ('promiscuous', 1), ('ardboe', 1), ('fym', 1), ('faridkot', 1), ('autobiography', 1), ('breathe', 1), ('tomb', 1), ('pakage', 1), ('distributor', 1), ('regn', 1), ('consoli', 1), ('administratio', 1), ('leoncavallo', 1), ('millican', 1), ('streep', 1), ('124', 1), ('sexism', 1), ('remenber', 1), ('specialty', 1), ('tournaments', 1), ('curtishowell', 1), ('chuneeee', 1), ('glows', 1), ('handy', 1), ('grover', 1), ('barges', 1), ('overhead', 1), ('convention', 1), ('melody', 1), ('coasting', 1), ('jephthah', 1), ('inauguration', 1), ('calamity', 1), ('yv', 1), ('ole', 1), ('ramel', 1), ('palo', 1), ('nipe', 1), ('littlebigplanet', 1), ('aight', 1), ('appy', 1), ('combe', 1), ('suspense', 1), ('blokes', 1), ('halligan', 1), ('35595', 1), ('isd', 1), ('khet', 1), ('wolfs', 1), ('raisi', 1), ('pixie', 1), ('professors', 1), ('croatian', 1), ('lou', 1), ('rowyso', 1), ('clayton', 1), ('lyn', 1), ('obtaining', 1), ('focuses', 1), ('roommates', 1), ('cabal', 1), ('raccoon', 1), ('bravely', 1), ('sparkle', 1), ('fades', 1), ('columnists', 1), ('pukhtun', 1), ('aardwolf', 1), ('herrera', 1), ('waivers', 1), ('laci', 1), ('earlymodblood', 1), ('disable', 1), ('tasteless', 1), ('rayjay', 1), ('iono', 1), ('haymarket', 1), ('proudly', 1), ('auld', 1), ('mjolnir', 1), ('strangest', 1), ('speechwriter', 1), ('3bn', 1), ('terrorsm', 1), ('zidler', 1), ('backflip', 1), ('localised', 1), ('hegemony', 1), ('suiting', 1), ('clam', 1), ('detox', 1), ('hostel', 1), ('worshipping', 1), ('ss2', 1), ('chintan', 1), ('plaster', 1), ('240', 1), ('annalisa', 1), ('corden', 1), ('karlsson', 1), ('trynna', 1), ('besharam', 1), ('adviser', 1), ('croevhyxp', 1), ('rerelease', 1), ('liaison', 1), ('employed', 1), ('shui', 1), ('vendor', 1), ('lunges', 1), ('wafted', 1), ('nodes', 1), ('innate', 1), ('possibl', 1), ('slides', 1), ('commandments', 1), ('ann', 1), ('deangelis', 1), ('congregationpb', 1), ('plo', 1), ('mbeki', 1), ('ls', 1), ('corporal', 1), ('kyary', 1), ('cwd', 1), ('covert', 1), ('frin', 1), ('painset', 1), ('egyptians', 1), ('goddamn', 1), ('splitters', 1), ('fred', 1), ('saul', 1), ('zerohedge', 1), ('headscarves', 1), ('milanisti', 1), ('blm', 1), ('gemma', 1), ('nuit', 1), ('souvenir', 1), ('bunny', 1), ('soph', 1), ('enroll', 1), ('ninjas', 1), ('doggon', 1), ('shatrughan', 1), ('litti', 1), ('sharleen', 1), ('anacortes', 1), ('miku', 1), ('kiddos', 1), ('ginna', 1), ('thiskpopguy', 1), ('poem', 1), ('continuously', 1), ('oj', 1), ('4hr', 1), ('ivy', 1), ('tfa', 1), ('troc', 1), ('reginald', 1), ('ju', 1), ('589', 1), ('symbols', 1), ('apostasy', 1), ('eletric', 1), ('rears', 1), ('colonne', 1), ('zidane', 1), ('yahwe', 1), ('dinosaur', 1), ('kindle', 1), ('selfrespecting', 1), ('eddies', 1), ('desert', 1), ('dystopian', 1), ('nay', 1), ('survelliance', 1), ('prettiest', 1), ('gloves', 1), ('lingering', 1), ('feng', 1), ('originals', 1), ('circulation', 1), ('happing', 1), ('lore', 1), ('bozo', 1), ('chaac', 1), ('validates', 1), ('happily', 1), ('feeding', 1), ('looooonnngg', 1), ('connoisseurship', 1), ('prayin', 1), ('raburn', 1), ('earnings', 1), ('georiga', 1), ('bitching', 1), ('paulson', 1), ('rma', 1), ('tablet', 1), ('caliber', 1), ('thunderer', 1), ('genderbent', 1), ('counterweight', 1), ('vicky', 1), ('summaries', 1), ('gotg', 1), ('directioner', 1), ('oxoby', 1), ('lustre', 1), ('proximate', 1), ('suppressing', 1), ('smgdh', 1), ('significance', 1), ('sympathizers', 1), ('conferences', 1), ('fasho', 1), ('qn001', 1), ('voddy', 1), ('flo', 1), ('dui', 1), ('waxx', 1), ('420', 1), ('menzi', 1), ('pilloried', 1), ('attrocities', 1), ('dehumanizations', 1), ('lovng', 1), ('aswr', 1), ('effin', 1), ('neri', 1), ('encounters', 1), ('kneecaps', 1), ('affirmative', 1), ('viola', 1), ('crue', 1), ('cheek', 1), ('pained', 1), ('depressants', 1), ('sunlight', 1), ('goosebumps', 1), ('baadshaho', 1), ('razes', 1), ('erupted', 1), ('hoxsie', 1), ('battlefield', 1), ('psv', 1), ('mornington', 1), ('iker', 1), ('johanna', 1), ('83', 1), ('jerking', 1), ('honoree', 1), ('vampss', 1), ('negotiates', 1), ('accessory', 1), ('stein', 1), ('thuli', 1), ('funfact', 1), ('prashanth', 1), ('sharif', 1), ('costco', 1), ('tds', 1), ('equipment', 1), ('counterfeit', 1), ('smritini', 1), ('isco', 1), ('godell', 1), ('quizling', 1), ('enthusiasm', 1), ('metre', 1), ('designs', 1), ('dion', 1), ('streamerino', 1), ('greinke', 1), ('iof', 1), ('s3', 1), ('collar', 1), ('4ward', 1), ('cttee', 1), ('comparatively', 1), ('openings', 1), ('shhh', 1), ('1330', 1), ('elitism', 1), ('landmark', 1), ('306', 1), ('spine', 1), ('chilcott', 1), ('gamespot', 1), ('quinn', 1), ('gd', 1), ('basta', 1), ('ysjactive', 1), ('commodities', 1), ('crocs', 1), ('ayesha', 1), ('deluding', 1), ('mcivor', 1), ('2007', 1), ('lavuo', 1), ('memorizing', 1), ('unequal', 1), ('composer', 1), ('lend', 1), ('mbaya', 1), ('speightoo', 1), ('unwittingly', 1), ('appendicitis', 1), ('mi6', 1), ('saydam', 1), ('guji', 1), ('settler', 1), ('mats', 1), ('seizes', 1), ('hmv', 1), ('inhabitable', 1), ('percy', 1), ('cincinatti', 1), ('prospects', 1), ('jeer', 1), ('indicates', 1), ('wednesdays', 1), ('encomium', 1), ('relativist', 1), ('praises', 1), ('lovato', 1), ('jakar', 1), ('prashant', 1), ('flt80', 1), ('excise', 1), ('writhing', 1), ('willy', 1), ('partied', 1), ('wahlen', 1), ('replies', 1), ('holistic', 1), ('contemp', 1), ('twatishness', 1), ('prostitution', 1), ('weby', 1), ('motilal', 1), ('jeremiah', 1), ('logging', 1), ('fz', 1), ('snp', 1), ('ivf', 1), ('dumbfuck', 1), ('terminating', 1), ('1996', 1), ('rumps', 1), ('bree', 1), ('satnav', 1), ('protecting', 1), ('flippo', 1), ('289', 1), ('n9ne', 1), ('seating', 1), ('braving', 1), ('transformed', 1), ('kohls', 1), ('frieks', 1), ('rothemere', 1), ('harvery', 1), ('irrelavant', 1), ('hasbeen', 1), ('edgier', 1), ('mango', 1), ('bahri', 1), ('mids', 1), ('kura', 1), ('ef', 1), ('elbow', 1), ('shire', 1), ('moby', 1), ('lauer', 1), ('deflected', 1), ('surrey', 1), ('fathom', 1), ('communist', 1), ('finalist', 1), ('z100', 1), ('adidas', 1), ('normalisation', 1), ('empowered', 1), ('antipsychotic', 1), ('ironing', 1), ('rabbiting', 1), ('maniacally', 1), ('julio', 1), ('olsen', 1), ('aramco', 1), ('regulations', 1), ('hardcovers', 1), ('declining', 1), ('ctfuuu', 1), ('hinder', 1), ('1557', 1), ('ignoring', 1), ('products', 1), ('initially', 1), ('1778', 1), ('principals', 1), ('arriva', 1), ('heartrending', 1), ('30p', 1), ('galacti', 1), ('hannity', 1), ('moder', 1), ('incomparable', 1), ('mart', 1), ('soniya', 1), ('lodged', 1), ('getzlaf', 1), ('treakies', 1), ('nesta', 1), ('miscarriage', 1), ('unknowable', 1), ('salaries', 1), ('kishan', 1), ('spelling', 1), ('engaging', 1), ('rigged', 1), ('sps', 1), ('piercing', 1), ('accomplice', 1), ('antwon', 1), ('betrayal', 1), ('bemoans', 1), ('scrolling', 1), ('popping', 1), ('mcguigan', 1), ('arugula', 1), ('hadeel', 1), ('stempniak', 1), ('gibbs', 1), ('soloway', 1), ('marriott', 1), ('rei', 1), ('mymilan', 1), ('whisper', 1), ('voldemort', 1), ('collision', 1), ('pourin', 1), ('icc', 1), ('pony', 1), ('moz', 1), ('weaver', 1), ('diverted', 1), ('daaaaang', 1), ('godse', 1), ('sdlp', 1), ('ooops', 1), ('splits', 1), ('destitute', 1), ('conrad', 1), ('practitioners', 1), ('mcdaid', 1), ('grooming', 1), ('atrocities', 1), ('hardcover', 1), ('firehouse', 1), ('gazans', 1), ('cringe', 1), ('maccoll', 1), ('lefts', 1), ('bearing', 1), ('ahmadineijad', 1), ('moscow', 1), ('gavan', 1), ('rancho', 1), ('roth', 1), ('minding', 1), ('encased', 1), ('bjj', 1), ('parentage', 1), ('caleb', 1), ('weakness', 1), ('shittown', 1), ('shortest', 1), ('outttt', 1), ('sattouf', 1), ('paddy', 1), ('mourinho', 1), ('rulers', 1), ('sandals', 1), ('vultures', 1), ('retox', 1), ('lacklustre', 1), ('eighteenth', 1), ('fantaztik', 1), ('outrageously', 1), ('photoshopping', 1), ('sunda', 1), ('molino', 1), ('donor', 1), ('dismissal', 1), ('kjv', 1), ('badal', 1), ('miff', 1), ('flickerwood', 1), ('outshooting', 1), ('suspicions', 1), ('coping', 1), ('gua', 1), ('locate', 1), ('bharatiya', 1), ('hoyer', 1), ('censorship', 1), ('knower', 1), ('kil', 1), ('nooo', 1), ('calmness', 1), ('tryeth', 1), ('pianoforte', 1), ('beanies', 1), ('bonded', 1), ('12gaza', 1), ('holographic', 1), ('dissident', 1), ('creatures', 1), ('presumably', 1), ('bouquets', 1), ('mayo', 1), ('lisburn', 1), ('vinci', 1), ('lumberjacks', 1), ('nooh', 1), ('lawwwd', 1), ('scam', 1), ('rasha', 1), ('genders', 1), ('alejandro', 1), ('canberra', 1), ('shouted', 1), ('mortified', 1), ('bridgnorth', 1), ('nems', 1), ('neise', 1), ('destroyer', 1), ('carrot', 1), ('namesake', 1), ('yepo', 1), ('wonderland', 1), ('influenced', 1), ('wroclaw', 1), ('honors', 1), ('fitzroy', 1), ('trophies', 1), ('knotted', 1), ('cellar', 1), ('squalls', 1), ('unlikely', 1), ('1953', 1), ('marnin', 1), ('carpenter', 1), ('netting', 1), ('artrave', 1), ('modiji', 1), ('triangle', 1), ('midgard', 1), ('springfield', 1), ('fudgeeee', 1), ('goose', 1), ('functiona', 1), ('tactics', 1), ('youuu', 1), ('zeros', 1), ('recoup', 1), ('shariah', 1), ('22k', 1), ('consulted', 1), ('expense', 1), ('kerman', 1), ('sshore', 1), ('gare', 1), ('responsibe', 1), ('uranus', 1), ('detail', 1), ('galactico', 1), ('assholes', 1), ('clapped', 1), ('azul', 1), ('disraeli', 1), ('rename', 1), ('quandel', 1), ('preparedness', 1), ('revision', 1), ('zip', 1), ('keenness', 1), ('akron', 1), ('dewd', 1), ('auction', 1), ('hooky', 1), ('carbs', 1), ('kalma', 1), ('lampard', 1), ('understandable', 1), ('helpless', 1), ('webb', 1), ('twerking', 1), ('khaiye', 1), ('choc', 1), ('ezekiel', 1), ('bruhh', 1), ('storied', 1), ('brics', 1), ('sty', 1), ('439', 1), ('maternity', 1), ('dogg', 1), ('riches', 1), ('piazza', 1), ('lorna', 1), ('stares', 1), ('communities', 1), ('gorr', 1), ('manageable', 1), ('10mins', 1), ('abledorfenheim', 1), ('yous', 1), ('beirut', 1), ('ballots', 1), ('method', 1), ('boseman', 1), ('recep', 1), ('wti', 1), ('knoll', 1), ('ahahaha', 1), ('rearranged', 1), ('fixture', 1), ('ck', 1), ('shiraz', 1), ('puff', 1), ('dismal', 1), ('britannia', 1), ('ufc200', 1), ('demonstrations', 1), ('streepthis', 1), ('yoventura', 1), ('indoors', 1), ('vadra', 1), ('nacht', 1), ('carr', 1), ('stab', 1), ('surah', 1), ('brook', 1), ('jaoge', 1), ('transactions', 1), ('2000ad', 1), ('dravid', 1), ('airplane', 1), ('hikes', 1), ('dorchester', 1), ('tennessean', 1), ('wizard', 1), ('mcgi', 1), ('headquartered', 1), ('ashleigh', 1), ('reffered', 1), ('murked', 1), ('vwp', 1), ('nk', 1), ('costly', 1), ('harland', 1), ('twas', 1), ('ahmediya', 1), ('olive', 1), ('biases', 1), ('porridge', 1), ('bonnets', 1), ('roberts', 1), ('nen', 1), ('gaping', 1), ('nihilistic', 1), ('runith', 1), ('hemisphere', 1), ('sg', 1), ('sauna', 1), ('stephan', 1), ('fsss', 1), ('mandi', 1), ('unforced', 1), ('dea', 1), ('pesky', 1), ('caroemerald', 1), ('hallmarks', 1), ('fronting', 1), ('karwan', 1), ('jadine', 1), ('01253625262', 1), ('kol', 1), ('grandchild', 1), ('siri', 1), ('971', 1), ('tendinitis', 1), ('655', 1), ('sql', 1), ('gardai', 1), ('vista', 1), ('michelangelo', 1), ('lawd', 1), ('highschool', 1), ('xxv', 1), ('jelly', 1), ('diversification', 1), ('beamer', 1), ('reigning', 1), ('bann', 1), ('lindor', 1), ('ment', 1), ('tasering', 1), ('licks', 1), ('edmonds', 1), ('orsini', 1), ('intake', 1), ('103822', 1), ('encouraged', 1), ('jeevan', 1), ('wesson', 1), ('reboot', 1), ('stripes', 1), ('undead', 1), ('58th', 1), ('bmw', 1), ('mumbaitimes', 1), ('kibbutz', 1), ('vaudeville', 1), ('balder', 1), ('81st', 1), ('testified', 1), ('reluctance', 1), ('shakti', 1), ('salutes', 1), ('criticising', 1), ('transformation', 1), ('adrenlaine', 1), ('niang', 1), ('kerblai', 1), ('aspiring', 1), ('fret', 1), ('refracted', 1), ('redefined', 1), ('safeguard', 1), ('thunderbird', 1), ('biker', 1), ('violations', 1), ('dior', 1), ('perversion', 1), ('shawarma', 1), ('squats', 1), ('hils', 1), ('infatuated', 1), ('determine', 1), ('fio', 1), ('dece', 1), ('lobbying', 1), ('globally', 1), ('lames', 1), ('forming', 1), ('attributed', 1), ('cartoomics', 1), ('fernandez', 1), ('dug', 1), ('niceday', 1), ('xcash', 1), ('scientific', 1), ('vivian', 1), ('simplicity', 1), ('googled', 1), ('britons', 1), ('mou', 1), ('hailey', 1), ('yearn', 1), ('wookies', 1), ('drummer', 1), ('mosul', 1), ('shuts', 1), ('laisha', 1), ('belfort', 1), ('tcnj', 1), ('te', 1), ('shriman', 1), ('minist', 1), ('colgate', 1), ('someplace', 1), ('riverbeds', 1), ('flirtatious', 1), ('spirited', 1), ('condom', 1), ('ftse', 1), ('enniskillen', 1), ('instigated', 1), ('randle', 1), ('jillian', 1), ('pasquina', 1), ('severing', 1), ('mongcast', 1), ('lasvegas', 1), ('yodamole', 1), ('cuddalore', 1), ('keystrokes', 1), ('sharratt', 1), ('stocking', 1), ('charter', 1), ('holacost', 1), ('brussels', 1), ('unimpressive', 1), ('bolts', 1), ('proofs', 1), ('trudging', 1), ('siding', 1), ('constitutionally', 1), ('medre', 1), ('egotistical', 1), ('beeb', 1), ('skyfall', 1), ('skimmed', 1), ('universality', 1), ('migration', 1), ('jaden', 1), ('congre', 1), ('bloodbourne', 1), ('safely', 1), ('escap', 1), ('caliphate', 1), ('disapprove', 1), ('vanaf', 1), ('glut', 1), ('furious', 1), ('ir', 1), ('chalkboard', 1), ('deceived', 1), ('abominable', 1), ('sabah', 1), ('quill', 1), ('wogs', 1), ('ipads', 1), ('slumping', 1), ('doob', 1), ('garrison', 1), ('heap', 1), ('ganne', 1), ('bummer', 1), ('isna', 1), ('giannelli', 1), ('bjork', 1), ('cira', 1), ('hiya', 1), ('mcque', 1), ('murry', 1), ('maynot', 1), ('negril', 1), ('jethmalani', 1), ('parallels', 1), ('governance', 1), ('fulfilling', 1), ('jumpy', 1), ('okkervil', 1), ('missiles', 1), ('patented', 1), ('nightttt', 1), ('shinobi', 1), ('immortality', 1), ('diaries', 1), ('foothold', 1), ('initiatives', 1), ('fled', 1), ('advent', 1), ('malahat', 1), ('estrada', 1), ('mitt', 1), ('yemoji', 1), ('legandx', 1), ('yah', 1), ('binnie', 1), ('losed', 1), ('ballot', 1), ('omffffg', 1), ('gabi', 1), ('kuwait', 1), ('gail', 1), ('tramp', 1), ('degromatior', 1), ('efficiency', 1), ('terrorised', 1), ('stenstra', 1), ('twet', 1), ('yamalube', 1), ('magnet', 1), ('exes', 1), ('marraige', 1), ('spewing', 1), ('jihadi', 1), ('cnnmoney', 1), ('ringback', 1), ('provisional', 1)}\n"
          ],
          "name": "stdout"
        }
      ]
    },
    {
      "cell_type": "code",
      "metadata": {
        "id": "oudKgej9oys8",
        "colab_type": "code",
        "outputId": "a05c361b-7d6a-4e27-c674-5ab36949646e",
        "colab": {
          "base_uri": "https://localhost:8080/",
          "height": 204
        }
      },
      "source": [
        "n_rare_words = 10\n",
        "RAREWORDS = set([w for (w, wc) in cnt.most_common()[:-n_rare_words-1:-1]])\n",
        "def remove_rarewords(text):\n",
        "    \"\"\"custom function to remove the rare words\"\"\"\n",
        "    return \" \".join([word for word in str(text).split() if word not in RAREWORDS])\n",
        "\n",
        "df[\"text\"] = df[\"text\"].apply(lambda text: remove_rarewords(text))\n",
        "df.head()"
      ],
      "execution_count": 0,
      "outputs": [
        {
          "output_type": "execute_result",
          "data": {
            "text/html": [
              "<div>\n",
              "<style scoped>\n",
              "    .dataframe tbody tr th:only-of-type {\n",
              "        vertical-align: middle;\n",
              "    }\n",
              "\n",
              "    .dataframe tbody tr th {\n",
              "        vertical-align: top;\n",
              "    }\n",
              "\n",
              "    .dataframe thead th {\n",
              "        text-align: right;\n",
              "    }\n",
              "</style>\n",
              "<table border=\"1\" class=\"dataframe\">\n",
              "  <thead>\n",
              "    <tr style=\"text-align: right;\">\n",
              "      <th></th>\n",
              "      <th>id</th>\n",
              "      <th>sentiment</th>\n",
              "      <th>tweet</th>\n",
              "    </tr>\n",
              "  </thead>\n",
              "  <tbody>\n",
              "    <tr>\n",
              "      <th>0</th>\n",
              "      <td>619950566786113536</td>\n",
              "      <td>neutral</td>\n",
              "      <td>picturehouse pink floyd roger waters walll ope...</td>\n",
              "    </tr>\n",
              "    <tr>\n",
              "      <th>1</th>\n",
              "      <td>619969366986235905</td>\n",
              "      <td>neutral</td>\n",
              "      <td>order go set watchman store website tuesday ge...</td>\n",
              "    </tr>\n",
              "    <tr>\n",
              "      <th>2</th>\n",
              "      <td>619971047195045888</td>\n",
              "      <td>negative</td>\n",
              "      <td>runway renovations airport prevent seeing tayl...</td>\n",
              "    </tr>\n",
              "    <tr>\n",
              "      <th>3</th>\n",
              "      <td>619974445185302528</td>\n",
              "      <td>neutral</td>\n",
              "      <td>could ask onstage interview question miss usa ...</td>\n",
              "    </tr>\n",
              "    <tr>\n",
              "      <th>4</th>\n",
              "      <td>619987808317407232</td>\n",
              "      <td>positive</td>\n",
              "      <td>portion book sales harper lee go set watchman ...</td>\n",
              "    </tr>\n",
              "  </tbody>\n",
              "</table>\n",
              "</div>"
            ],
            "text/plain": [
              "                   id  ...                                              tweet\n",
              "0  619950566786113536  ...  picturehouse pink floyd roger waters walll ope...\n",
              "1  619969366986235905  ...  order go set watchman store website tuesday ge...\n",
              "2  619971047195045888  ...  runway renovations airport prevent seeing tayl...\n",
              "3  619974445185302528  ...  could ask onstage interview question miss usa ...\n",
              "4  619987808317407232  ...  portion book sales harper lee go set watchman ...\n",
              "\n",
              "[5 rows x 3 columns]"
            ]
          },
          "metadata": {
            "tags": []
          },
          "execution_count": 20
        }
      ]
    },
    {
      "cell_type": "code",
      "metadata": {
        "id": "t3YT8RT9o_EK",
        "colab_type": "code",
        "outputId": "d18f2637-bb55-41f0-b471-7005ad8fe29f",
        "colab": {
          "base_uri": "https://localhost:8080/",
          "height": 289
        }
      },
      "source": [
        "nltk.download('wordnet')\n",
        "nltk.download('averaged_perceptron_tagger')\n",
        "from nltk.corpus import wordnet\n",
        "from nltk.stem import WordNetLemmatizer\n",
        "\n",
        "lemmatizer = WordNetLemmatizer()\n",
        "wordnet_map = {\"N\":wordnet.NOUN, \"V\":wordnet.VERB, \"J\":wordnet.ADJ, \"R\":wordnet.ADV}\n",
        "def lemmatize_words(text):\n",
        "    pos_tagged_text = nltk.pos_tag(text.split())\n",
        "    return \" \".join([lemmatizer.lemmatize(word, wordnet_map.get(pos[0], wordnet.NOUN)) for word, pos in pos_tagged_text])\n",
        "\n",
        "df[\"text\"] = df[\"text\"].apply(lambda text: lemmatize_words(text))\n",
        "df.head()"
      ],
      "execution_count": 0,
      "outputs": [
        {
          "output_type": "stream",
          "text": [
            "[nltk_data] Downloading package wordnet to /root/nltk_data...\n",
            "[nltk_data]   Unzipping corpora/wordnet.zip.\n",
            "[nltk_data] Downloading package averaged_perceptron_tagger to\n",
            "[nltk_data]     /root/nltk_data...\n",
            "[nltk_data]   Unzipping taggers/averaged_perceptron_tagger.zip.\n"
          ],
          "name": "stdout"
        },
        {
          "output_type": "execute_result",
          "data": {
            "text/html": [
              "<div>\n",
              "<style scoped>\n",
              "    .dataframe tbody tr th:only-of-type {\n",
              "        vertical-align: middle;\n",
              "    }\n",
              "\n",
              "    .dataframe tbody tr th {\n",
              "        vertical-align: top;\n",
              "    }\n",
              "\n",
              "    .dataframe thead th {\n",
              "        text-align: right;\n",
              "    }\n",
              "</style>\n",
              "<table border=\"1\" class=\"dataframe\">\n",
              "  <thead>\n",
              "    <tr style=\"text-align: right;\">\n",
              "      <th></th>\n",
              "      <th>id</th>\n",
              "      <th>sentiment</th>\n",
              "      <th>tweet</th>\n",
              "    </tr>\n",
              "  </thead>\n",
              "  <tbody>\n",
              "    <tr>\n",
              "      <th>0</th>\n",
              "      <td>619950566786113536</td>\n",
              "      <td>neutral</td>\n",
              "      <td>picturehouse pink floyd roger water walll open...</td>\n",
              "    </tr>\n",
              "    <tr>\n",
              "      <th>1</th>\n",
              "      <td>619969366986235905</td>\n",
              "      <td>neutral</td>\n",
              "      <td>order go set watchman store website tuesday ge...</td>\n",
              "    </tr>\n",
              "    <tr>\n",
              "      <th>2</th>\n",
              "      <td>619971047195045888</td>\n",
              "      <td>negative</td>\n",
              "      <td>runway renovation airport prevent see taylor s...</td>\n",
              "    </tr>\n",
              "    <tr>\n",
              "      <th>3</th>\n",
              "      <td>619974445185302528</td>\n",
              "      <td>neutral</td>\n",
              "      <td>could ask onstage interview question miss usa ...</td>\n",
              "    </tr>\n",
              "    <tr>\n",
              "      <th>4</th>\n",
              "      <td>619987808317407232</td>\n",
              "      <td>positive</td>\n",
              "      <td>portion book sale harper lee go set watchman r...</td>\n",
              "    </tr>\n",
              "  </tbody>\n",
              "</table>\n",
              "</div>"
            ],
            "text/plain": [
              "                   id  ...                                              tweet\n",
              "0  619950566786113536  ...  picturehouse pink floyd roger water walll open...\n",
              "1  619969366986235905  ...  order go set watchman store website tuesday ge...\n",
              "2  619971047195045888  ...  runway renovation airport prevent see taylor s...\n",
              "3  619974445185302528  ...  could ask onstage interview question miss usa ...\n",
              "4  619987808317407232  ...  portion book sale harper lee go set watchman r...\n",
              "\n",
              "[5 rows x 3 columns]"
            ]
          },
          "metadata": {
            "tags": []
          },
          "execution_count": 21
        }
      ]
    },
    {
      "cell_type": "code",
      "metadata": {
        "id": "nVZJsl5c4wa8",
        "colab_type": "code",
        "colab": {}
      },
      "source": [
        "# SMS Spelling Expansion"
      ],
      "execution_count": 0,
      "outputs": []
    },
    {
      "cell_type": "code",
      "metadata": {
        "id": "cr5Eeliu5QKZ",
        "colab_type": "code",
        "outputId": "e1fcff86-dc19-4e1d-f1d7-81467cca3654",
        "colab": {
          "base_uri": "https://localhost:8080/",
          "height": 153
        }
      },
      "source": [
        "from sklearn.model_selection import StratifiedShuffleSplit\n",
        "split = StratifiedShuffleSplit(n_splits=1, test_size=0.2, random_state=42)\n",
        "for train_idx, test_idx in split.split(df, df[\"sentiment\"]):\n",
        "    train_set = df.loc[train_idx]\n",
        "    test_set = df.loc[test_idx]\n",
        "\n",
        "print(train_set[\"sentiment\"].value_counts())\n",
        "print(test_set[\"sentiment\"].value_counts())"
      ],
      "execution_count": 0,
      "outputs": [
        {
          "output_type": "stream",
          "text": [
            "neutral     8273\n",
            "positive    5647\n",
            "negative    2585\n",
            "Name: sentiment, dtype: int64\n",
            "neutral     2069\n",
            "positive    1412\n",
            "negative     646\n",
            "Name: sentiment, dtype: int64\n"
          ],
          "name": "stdout"
        }
      ]
    },
    {
      "cell_type": "code",
      "metadata": {
        "id": "U6NvnkIA6Nrc",
        "colab_type": "code",
        "outputId": "bdd9e597-42d6-4127-834c-db211b0323e8",
        "colab": {
          "base_uri": "https://localhost:8080/",
          "height": 493
        }
      },
      "source": [
        "train_set[\"sentiment\"] = train_set[\"sentiment\"].astype('category')\n",
        "train_set[\"sentiment\"] = train_set[\"sentiment\"].cat.codes\n",
        "train_set = train_set[[\"text\", \"sentiment\"]]\n",
        "test_set[\"sentiment\"] = test_set[\"sentiment\"].astype('category')\n",
        "test_set[\"sentiment\"] = test_set[\"sentiment\"].cat.codes\n",
        "test_set = test_set[[\"text\", \"sentiment\"]]\n",
        "print(train_set)\n",
        "print(test_set)"
      ],
      "execution_count": 0,
      "outputs": [
        {
          "output_type": "stream",
          "text": [
            "                                                   tweet  sentiment\n",
            "11706                still confuse kanye west speech lol          0\n",
            "6270   talk naruto mom become huge fan within past ye...          2\n",
            "14225  bryant huge homer tie cub rookie mark kris bry...          1\n",
            "80     thank miss usa stole word beauty inside outsid...          1\n",
            "12537  ott take annual leave immerse within first jan...          2\n",
            "...                                                  ...        ...\n",
            "8386   fan boy scout john cena character work real te...          2\n",
            "19076  star war o2 centre join u 10am storytelling pr...          1\n",
            "17034  um sir concede daughter rise star rahul gandhi...          1\n",
            "17556         black kendrick lamar might best ever heard          2\n",
            "17401  rahul gandhi aka raul vinci need bag check mat...          0\n",
            "\n",
            "[16505 rows x 2 columns]\n",
            "                                                   tweet  sentiment\n",
            "3524   apart 4th inning mastery david price best part...          2\n",
            "9205   dragon quest hero world tree woes hero know tr...          1\n",
            "15879  want go shawn oslo 17th badly omfg hate living...          0\n",
            "7313   count holms 3rd opponent row 9 0 record fighti...          1\n",
            "20208  ur solo masturbation scene twilight parody hot...          2\n",
            "...                                                  ...        ...\n",
            "9208         go ps4 could play saturday pc dedicate hurt          1\n",
            "11335                         waste another game red sox          0\n",
            "1304   happy 2nd birthday prince george love cute pho...          2\n",
            "5242   forbes high pay woman athlete sharapova 11th y...          2\n",
            "7744   know early awake reg pull away dunkin drive wi...          1\n",
            "\n",
            "[4127 rows x 2 columns]\n"
          ],
          "name": "stdout"
        }
      ]
    },
    {
      "cell_type": "code",
      "metadata": {
        "id": "FfMTwVG18CDp",
        "colab_type": "code",
        "outputId": "f9e5ff6b-81b0-47e7-88e7-fe595e39dfb8",
        "colab": {
          "base_uri": "https://localhost:8080/",
          "height": 80
        }
      },
      "source": [
        "from keras.preprocessing.text import Tokenizer\n",
        "from keras.preprocessing.sequence import pad_sequences\n",
        "from keras.utils import to_categorical"
      ],
      "execution_count": 0,
      "outputs": [
        {
          "output_type": "stream",
          "text": [
            "Using TensorFlow backend.\n"
          ],
          "name": "stderr"
        },
        {
          "output_type": "display_data",
          "data": {
            "text/html": [
              "<p style=\"color: red;\">\n",
              "The default version of TensorFlow in Colab will soon switch to TensorFlow 2.x.<br>\n",
              "We recommend you <a href=\"https://www.tensorflow.org/guide/migrate\" target=\"_blank\">upgrade</a> now \n",
              "or ensure your notebook will continue to use TensorFlow 1.x via the <code>%tensorflow_version 1.x</code> magic:\n",
              "<a href=\"https://colab.research.google.com/notebooks/tensorflow_version.ipynb\" target=\"_blank\">more info</a>.</p>\n"
            ],
            "text/plain": [
              "<IPython.core.display.HTML object>"
            ]
          },
          "metadata": {
            "tags": []
          }
        }
      ]
    },
    {
      "cell_type": "code",
      "metadata": {
        "id": "FjF_Fvsw983w",
        "colab_type": "code",
        "colab": {}
      },
      "source": [
        "train_texts = train_set[\"text\"]\n",
        "test_texts = test_set[\"text\"]"
      ],
      "execution_count": 0,
      "outputs": []
    },
    {
      "cell_type": "code",
      "metadata": {
        "id": "Hktnhswj-QuS",
        "colab_type": "code",
        "outputId": "f6b89017-7498-465c-d0ea-a1ab59d22ae3",
        "colab": {
          "base_uri": "https://localhost:8080/",
          "height": 34
        }
      },
      "source": [
        "NUM_WORDS=25000\n",
        "tokenizer = Tokenizer(num_words=NUM_WORDS,filters='!\"#$%&()*+,-./:;<=>?@[\\\\]^_`{|}~\\t\\n\\'',\n",
        "                      lower=True)\n",
        "tokenizer.fit_on_texts(train_texts)\n",
        "sequences_train = tokenizer.texts_to_sequences(train_texts)\n",
        "word_index = tokenizer.word_index\n",
        "print('Found %s unique tokens.' % len(word_index))"
      ],
      "execution_count": 0,
      "outputs": [
        {
          "output_type": "stream",
          "text": [
            "Found 16475 unique tokens.\n"
          ],
          "name": "stdout"
        }
      ]
    },
    {
      "cell_type": "code",
      "metadata": {
        "id": "R1zmXfWs-ekq",
        "colab_type": "code",
        "colab": {}
      },
      "source": [
        "X_train = pad_sequences(sequences_train)\n",
        "y_train = to_categorical(list(train_set[\"sentiment\"]))"
      ],
      "execution_count": 0,
      "outputs": []
    },
    {
      "cell_type": "code",
      "metadata": {
        "id": "tYy7WibdAHxq",
        "colab_type": "code",
        "colab": {}
      },
      "source": [
        "import numpy as np\n",
        "EMBED_DIM = 300\n",
        "vocab_size = min(NUM_WORDS, len(word_index) + 1)\n",
        "embedding_matrix =np.random.normal(0,np.sqrt(0.25),[vocab_size, EMBED_DIM])"
      ],
      "execution_count": 0,
      "outputs": []
    },
    {
      "cell_type": "code",
      "metadata": {
        "id": "H28n4kUrAqsV",
        "colab_type": "code",
        "colab": {}
      },
      "source": [
        "count = []\n",
        "for word, i in word_index.items():\n",
        "    if i >= vocab_size:\n",
        "        continue\n",
        "    try:\n",
        "        embedding_vec = word2vec[word]\n",
        "        embedding_matrix[i] = embedding_vec\n",
        "    except KeyError:\n",
        "        count.append(word)\n",
        "        embedding_matrix[i] = np.random.normal(0,np.sqrt(0.25),EMBED_DIM)"
      ],
      "execution_count": 0,
      "outputs": []
    },
    {
      "cell_type": "code",
      "metadata": {
        "id": "7YK0YMeRBj0u",
        "colab_type": "code",
        "outputId": "cfa93ab7-d93f-4811-ead7-04a0b098fa0d",
        "colab": {
          "base_uri": "https://localhost:8080/",
          "height": 34
        }
      },
      "source": [
        "count\n",
        "len(count)"
      ],
      "execution_count": 0,
      "outputs": [
        {
          "output_type": "execute_result",
          "data": {
            "text/plain": [
              "4146"
            ]
          },
          "metadata": {
            "tags": []
          },
          "execution_count": 46
        }
      ]
    },
    {
      "cell_type": "code",
      "metadata": {
        "id": "v_-gRsn1Bm98",
        "colab_type": "code",
        "colab": {}
      },
      "source": [
        "from keras.layers import Embedding\n",
        "embedding_layer = Embedding(vocab_size,\n",
        "                            EMBED_DIM,\n",
        "                            weights=[embedding_matrix],\n",
        "                            trainable=True)\n",
        "seq_len = X_train.shape[1]\n",
        "from keras.layers import Input\n",
        "from keras.layers import Flatten\n",
        "from keras.layers import Dense\n",
        "from keras.models import Model\n",
        "from keras.layers import LSTM\n",
        "from keras.layers import Dropout\n",
        "inputs = Input(shape=(seq_len,))\n",
        "embeddings = embedding_layer(inputs)\n",
        "# flattened = Flatten()(embeddings)\n",
        "lstm = LSTM(128, dropout=0.5)(embeddings)\n",
        "dense = Dense(16, activation=\"relu\")(lstm)\n",
        "dropout = Dropout(rate=0.5)(dense)\n",
        "output = Dense(y_train.shape[1], activation='softmax')(dropout)\n",
        "model = Model(inputs, output)"
      ],
      "execution_count": 0,
      "outputs": []
    },
    {
      "cell_type": "code",
      "metadata": {
        "id": "eJ1Z0yUVCgzh",
        "colab_type": "code",
        "outputId": "4a8fc585-74c7-4ae9-8d42-3b0224a733ec",
        "colab": {
          "base_uri": "https://localhost:8080/",
          "height": 357
        }
      },
      "source": [
        "model.summary()"
      ],
      "execution_count": 0,
      "outputs": [
        {
          "output_type": "stream",
          "text": [
            "Model: \"model_3\"\n",
            "_________________________________________________________________\n",
            "Layer (type)                 Output Shape              Param #   \n",
            "=================================================================\n",
            "input_3 (InputLayer)         (None, 29)                0         \n",
            "_________________________________________________________________\n",
            "embedding_3 (Embedding)      (None, 29, 300)           4942800   \n",
            "_________________________________________________________________\n",
            "lstm_3 (LSTM)                (None, 128)               219648    \n",
            "_________________________________________________________________\n",
            "dense_5 (Dense)              (None, 16)                2064      \n",
            "_________________________________________________________________\n",
            "dropout_3 (Dropout)          (None, 16)                0         \n",
            "_________________________________________________________________\n",
            "dense_6 (Dense)              (None, 3)                 51        \n",
            "=================================================================\n",
            "Total params: 5,164,563\n",
            "Trainable params: 5,164,563\n",
            "Non-trainable params: 0\n",
            "_________________________________________________________________\n"
          ],
          "name": "stdout"
        }
      ]
    },
    {
      "cell_type": "code",
      "metadata": {
        "id": "8r_xJYqlCipv",
        "colab_type": "code",
        "colab": {}
      },
      "source": [
        "from keras.optimizers import Adam\n",
        "adam = Adam(lr=1e-3)\n",
        "\n",
        "model.compile(loss='categorical_crossentropy',\n",
        "              optimizer=adam,\n",
        "              metrics=['acc'])"
      ],
      "execution_count": 0,
      "outputs": []
    },
    {
      "cell_type": "code",
      "metadata": {
        "id": "7wOEruvyCmze",
        "colab_type": "code",
        "outputId": "ce28f480-498c-4c4e-8d20-dd2046c9d5ce",
        "colab": {
          "base_uri": "https://localhost:8080/",
          "height": 391
        }
      },
      "source": [
        "model.fit(X_train, y_train, batch_size=1000, epochs=10, verbose=1, validation_split=0.1, shuffle=True)"
      ],
      "execution_count": 0,
      "outputs": [
        {
          "output_type": "stream",
          "text": [
            "Train on 14854 samples, validate on 1651 samples\n",
            "Epoch 1/10\n",
            "14854/14854 [==============================] - 19s 1ms/step - loss: 1.0140 - acc: 0.4956 - val_loss: 0.9738 - val_acc: 0.4924\n",
            "Epoch 2/10\n",
            "14854/14854 [==============================] - 17s 1ms/step - loss: 0.9593 - acc: 0.5224 - val_loss: 0.9092 - val_acc: 0.5603\n",
            "Epoch 3/10\n",
            "14854/14854 [==============================] - 17s 1ms/step - loss: 0.9124 - acc: 0.5316 - val_loss: 0.8460 - val_acc: 0.5954\n",
            "Epoch 4/10\n",
            "14854/14854 [==============================] - 17s 1ms/step - loss: 0.8513 - acc: 0.5515 - val_loss: 0.8131 - val_acc: 0.5960\n",
            "Epoch 5/10\n",
            "14854/14854 [==============================] - 17s 1ms/step - loss: 0.8088 - acc: 0.6027 - val_loss: 0.7925 - val_acc: 0.6451\n",
            "Epoch 6/10\n",
            "14854/14854 [==============================] - 17s 1ms/step - loss: 0.7616 - acc: 0.6576 - val_loss: 0.7702 - val_acc: 0.6584\n",
            "Epoch 7/10\n",
            "14854/14854 [==============================] - 17s 1ms/step - loss: 0.7234 - acc: 0.6789 - val_loss: 0.7487 - val_acc: 0.6760\n",
            "Epoch 8/10\n",
            "14854/14854 [==============================] - 17s 1ms/step - loss: 0.6907 - acc: 0.7056 - val_loss: 0.7697 - val_acc: 0.6705\n",
            "Epoch 9/10\n",
            "14854/14854 [==============================] - 17s 1ms/step - loss: 0.6513 - acc: 0.7226 - val_loss: 0.7521 - val_acc: 0.6735\n",
            "Epoch 10/10\n",
            "14854/14854 [==============================] - 17s 1ms/step - loss: 0.6207 - acc: 0.7385 - val_loss: 0.7665 - val_acc: 0.6687\n"
          ],
          "name": "stdout"
        },
        {
          "output_type": "execute_result",
          "data": {
            "text/plain": [
              "<keras.callbacks.History at 0x7fb6fa3c5fd0>"
            ]
          },
          "metadata": {
            "tags": []
          },
          "execution_count": 50
        }
      ]
    },
    {
      "cell_type": "code",
      "metadata": {
        "id": "r-GOmqFgCnb_",
        "colab_type": "code",
        "colab": {}
      },
      "source": [
        "sequences_test=tokenizer.texts_to_sequences(test_set.text)\n",
        "X_test = pad_sequences(sequences_test,maxlen=X_train.shape[1])\n",
        "y_test = to_categorical(list(test_set['sentiment']))"
      ],
      "execution_count": 0,
      "outputs": []
    },
    {
      "cell_type": "code",
      "metadata": {
        "id": "2OWnfjXjDZCh",
        "colab_type": "code",
        "outputId": "990a3919-d2a1-4cb3-d2bc-3741225287e1",
        "colab": {
          "base_uri": "https://localhost:8080/",
          "height": 51
        }
      },
      "source": [
        "model.evaluate(X_test, y_test)"
      ],
      "execution_count": 0,
      "outputs": [
        {
          "output_type": "stream",
          "text": [
            "4127/4127 [==============================] - 2s 427us/step\n"
          ],
          "name": "stdout"
        },
        {
          "output_type": "execute_result",
          "data": {
            "text/plain": [
              "[0.7906004483341044, 0.6539859463089974]"
            ]
          },
          "metadata": {
            "tags": []
          },
          "execution_count": 52
        }
      ]
    },
    {
      "cell_type": "code",
      "metadata": {
        "id": "j03hdSFhDexk",
        "colab_type": "code",
        "outputId": "b5a61234-0575-42e1-a9ca-e1e51cdd40e8",
        "colab": {
          "base_uri": "https://localhost:8080/",
          "height": 34
        }
      },
      "source": [
        "y_pred = model.predict(X_test)\n",
        "y_pred = np.argmax(y_pred, axis=1)\n",
        "y_true = np.argmax(y_test, axis=1)\n",
        "from sklearn.metrics import f1_score\n",
        "f1_score(y_true, y_pred, average='macro')"
      ],
      "execution_count": 0,
      "outputs": [
        {
          "output_type": "execute_result",
          "data": {
            "text/plain": [
              "0.6173096513832949"
            ]
          },
          "metadata": {
            "tags": []
          },
          "execution_count": 53
        }
      ]
    },
    {
      "cell_type": "markdown",
      "metadata": {
        "id": "YZnr49s72oVT",
        "colab_type": "text"
      },
      "source": [
        "The F-Score for the above model is 0.6173"
      ]
    },
    {
      "cell_type": "code",
      "metadata": {
        "id": "GdDOlzybEtUu",
        "colab_type": "code",
        "outputId": "89986411-a110-407f-8044-aea70a60da24",
        "colab": {
          "base_uri": "https://localhost:8080/",
          "height": 68
        }
      },
      "source": [
        "from sklearn.metrics import confusion_matrix\n",
        "z = confusion_matrix(y_true, y_pred)\n",
        "print(z)"
      ],
      "execution_count": 0,
      "outputs": [
        {
          "output_type": "stream",
          "text": [
            "[[ 287  287   72]\n",
            " [ 171 1489  409]\n",
            " [  36  453  923]]\n"
          ],
          "name": "stdout"
        }
      ]
    },
    {
      "cell_type": "code",
      "metadata": {
        "id": "gYmmJlKNEuik",
        "colab_type": "code",
        "colab": {}
      },
      "source": [
        "y_random = np.random.randint(3, size=len(y_true))"
      ],
      "execution_count": 0,
      "outputs": []
    },
    {
      "cell_type": "code",
      "metadata": {
        "id": "DHKqGvJBTr2D",
        "colab_type": "code",
        "outputId": "7bc21958-19f4-488f-e443-18cb1090f012",
        "colab": {
          "base_uri": "https://localhost:8080/",
          "height": 34
        }
      },
      "source": [
        "f1_score(y_true, y_random, average='macro')"
      ],
      "execution_count": 0,
      "outputs": [
        {
          "output_type": "execute_result",
          "data": {
            "text/plain": [
              "0.3157743268108266"
            ]
          },
          "metadata": {
            "tags": []
          },
          "execution_count": 63
        }
      ]
    },
    {
      "cell_type": "markdown",
      "metadata": {
        "id": "RyA9MaUu2ldS",
        "colab_type": "text"
      },
      "source": [
        "Random prediction metric is 0.316. That is, if we choose either negative, neutral or positive randomly, our F-score turns out to be around 0.32"
      ]
    },
    {
      "cell_type": "code",
      "metadata": {
        "id": "ZE4Xz8xyTw3M",
        "colab_type": "code",
        "colab": {}
      },
      "source": [
        ""
      ],
      "execution_count": 0,
      "outputs": []
    }
  ]
}