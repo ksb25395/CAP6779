{
  "nbformat": 4,
  "nbformat_minor": 0,
  "metadata": {
    "colab": {
      "name": "Distant_supervised_pretraining.ipynb",
      "provenance": [],
      "collapsed_sections": [],
      "machine_shape": "hm",
      "authorship_tag": "ABX9TyNTryOx9oBLipeA8k7xS3yf",
      "include_colab_link": true
    },
    "kernelspec": {
      "name": "python3",
      "display_name": "Python 3"
    }
  },
  "cells": [
    {
      "cell_type": "markdown",
      "metadata": {
        "id": "view-in-github",
        "colab_type": "text"
      },
      "source": [
        "<a href=\"https://colab.research.google.com/github/ksb25395/CAP6779/blob/master/Distant_supervised_pretraining.ipynb\" target=\"_parent\"><img src=\"https://colab.research.google.com/assets/colab-badge.svg\" alt=\"Open In Colab\"/></a>"
      ]
    },
    {
      "cell_type": "code",
      "metadata": {
        "id": "TX_Z0-EIuX_0",
        "colab_type": "code",
        "outputId": "85f88c41-d8d3-48aa-eb76-9c4bbb880b60",
        "colab": {
          "base_uri": "https://localhost:8080/",
          "height": 122
        }
      },
      "source": [
        "from google.colab import drive\n",
        "drive.mount('/content/gdrive')"
      ],
      "execution_count": 0,
      "outputs": [
        {
          "output_type": "stream",
          "text": [
            "Go to this URL in a browser: https://accounts.google.com/o/oauth2/auth?client_id=947318989803-6bn6qk8qdgf4n4g3pfee6491hc0brc4i.apps.googleusercontent.com&redirect_uri=urn%3aietf%3awg%3aoauth%3a2.0%3aoob&response_type=code&scope=email%20https%3a%2f%2fwww.googleapis.com%2fauth%2fdocs.test%20https%3a%2f%2fwww.googleapis.com%2fauth%2fdrive%20https%3a%2f%2fwww.googleapis.com%2fauth%2fdrive.photos.readonly%20https%3a%2f%2fwww.googleapis.com%2fauth%2fpeopleapi.readonly\n",
            "\n",
            "Enter your authorization code:\n",
            "··········\n",
            "Mounted at /content/gdrive\n"
          ],
          "name": "stdout"
        }
      ]
    },
    {
      "cell_type": "code",
      "metadata": {
        "id": "D1OtNiUGJucI",
        "colab_type": "code",
        "outputId": "fb969321-853d-4c0b-bf96-b9a48cf95ff9",
        "colab": {
          "base_uri": "https://localhost:8080/",
          "height": 51
        }
      },
      "source": [
        "!unzip \"/content/gdrive/My Drive/Colab Notebooks/datasets/glove.twitter.27B.200d.txt.zip\" "
      ],
      "execution_count": 0,
      "outputs": [
        {
          "output_type": "stream",
          "text": [
            "Archive:  /content/gdrive/My Drive/Colab Notebooks/datasets/glove.twitter.27B.200d.txt.zip\n",
            "  inflating: glove.twitter.27B.200d.txt  \n"
          ],
          "name": "stdout"
        }
      ]
    },
    {
      "cell_type": "code",
      "metadata": {
        "id": "PCR-Ni3nuiZu",
        "colab_type": "code",
        "outputId": "5a163b23-638f-4901-8bfb-9281edbb0a4f",
        "colab": {
          "base_uri": "https://localhost:8080/",
          "height": 71
        }
      },
      "source": [
        "# from gensim.models import KeyedVectors\n",
        "# EMBEDDING_FILE = '/content/gdrive/My Drive/Colab Notebooks/datasets/Google/GoogleNews-vectors-negative300.bin.gz'\n",
        "# word2vec = KeyedVectors.load_word2vec_format(EMBEDDING_FILE, binary=True)\n",
        "\n",
        "from gensim.test.utils import datapath, get_tmpfile\n",
        "from gensim.models import KeyedVectors\n",
        "from gensim.scripts.glove2word2vec import glove2word2vec\n",
        "\n",
        "glove_file = datapath('/content/glove.twitter.27B.200d.txt')\n",
        "tmp_file = get_tmpfile(\"test_word2vec.txt\")\n",
        "_ = glove2word2vec(glove_file, tmp_file)\n",
        "word2vec = KeyedVectors.load_word2vec_format(tmp_file)"
      ],
      "execution_count": 0,
      "outputs": [
        {
          "output_type": "stream",
          "text": [
            "/usr/local/lib/python3.6/dist-packages/smart_open/smart_open_lib.py:402: UserWarning: This function is deprecated, use smart_open.open instead. See the migration notes for details: https://github.com/RaRe-Technologies/smart_open/blob/master/README.rst#migrating-to-the-new-open-function\n",
            "  'See the migration notes for details: %s' % _MIGRATION_NOTES_URL\n"
          ],
          "name": "stderr"
        }
      ]
    },
    {
      "cell_type": "code",
      "metadata": {
        "id": "ze_rib-7sSro",
        "colab_type": "code",
        "colab": {}
      },
      "source": [
        "# imports \n",
        "import pandas as pd\n",
        "import numpy as np\n",
        "import re\n",
        "from bs4 import BeautifulSoup"
      ],
      "execution_count": 0,
      "outputs": []
    },
    {
      "cell_type": "code",
      "metadata": {
        "id": "MH_iiwnMv-jO",
        "colab_type": "code",
        "outputId": "cf231ee9-2479-4189-959f-a3feb9390c86",
        "colab": {
          "base_uri": "https://localhost:8080/",
          "height": 204
        }
      },
      "source": [
        "cols = ['sentiment','id','date','query_string','user','text']\n",
        "df_train=pd.read_csv('/content/gdrive/My Drive/Colab Notebooks/datasets/distant_supervision_data/training.1600000.processed.noemoticon.csv', usecols = [0,5],names=cols, encoding='latin-1')\n",
        "df_train.head()"
      ],
      "execution_count": 0,
      "outputs": [
        {
          "output_type": "execute_result",
          "data": {
            "text/html": [
              "<div>\n",
              "<style scoped>\n",
              "    .dataframe tbody tr th:only-of-type {\n",
              "        vertical-align: middle;\n",
              "    }\n",
              "\n",
              "    .dataframe tbody tr th {\n",
              "        vertical-align: top;\n",
              "    }\n",
              "\n",
              "    .dataframe thead th {\n",
              "        text-align: right;\n",
              "    }\n",
              "</style>\n",
              "<table border=\"1\" class=\"dataframe\">\n",
              "  <thead>\n",
              "    <tr style=\"text-align: right;\">\n",
              "      <th></th>\n",
              "      <th>sentiment</th>\n",
              "      <th>text</th>\n",
              "    </tr>\n",
              "  </thead>\n",
              "  <tbody>\n",
              "    <tr>\n",
              "      <th>0</th>\n",
              "      <td>0</td>\n",
              "      <td>@switchfoot http://twitpic.com/2y1zl - Awww, t...</td>\n",
              "    </tr>\n",
              "    <tr>\n",
              "      <th>1</th>\n",
              "      <td>0</td>\n",
              "      <td>is upset that he can't update his Facebook by ...</td>\n",
              "    </tr>\n",
              "    <tr>\n",
              "      <th>2</th>\n",
              "      <td>0</td>\n",
              "      <td>@Kenichan I dived many times for the ball. Man...</td>\n",
              "    </tr>\n",
              "    <tr>\n",
              "      <th>3</th>\n",
              "      <td>0</td>\n",
              "      <td>my whole body feels itchy and like its on fire</td>\n",
              "    </tr>\n",
              "    <tr>\n",
              "      <th>4</th>\n",
              "      <td>0</td>\n",
              "      <td>@nationwideclass no, it's not behaving at all....</td>\n",
              "    </tr>\n",
              "  </tbody>\n",
              "</table>\n",
              "</div>"
            ],
            "text/plain": [
              "   sentiment                                               text\n",
              "0          0  @switchfoot http://twitpic.com/2y1zl - Awww, t...\n",
              "1          0  is upset that he can't update his Facebook by ...\n",
              "2          0  @Kenichan I dived many times for the ball. Man...\n",
              "3          0    my whole body feels itchy and like its on fire \n",
              "4          0  @nationwideclass no, it's not behaving at all...."
            ]
          },
          "metadata": {
            "tags": []
          },
          "execution_count": 5
        }
      ]
    },
    {
      "cell_type": "code",
      "metadata": {
        "id": "tBsVNHs7DB05",
        "colab_type": "code",
        "colab": {}
      },
      "source": [
        "df_train[\"sentiment\"] = df_train[\"sentiment\"].replace(4, 1)"
      ],
      "execution_count": 0,
      "outputs": []
    },
    {
      "cell_type": "code",
      "metadata": {
        "id": "G8ohncS6wkZz",
        "colab_type": "code",
        "colab": {}
      },
      "source": [
        "# drop rows with retweet text \n",
        "df_train.drop(df_train[df_train.text.str.contains(' RT ')].index, inplace=True)"
      ],
      "execution_count": 0,
      "outputs": []
    },
    {
      "cell_type": "code",
      "metadata": {
        "id": "a0tX2buyxGD-",
        "colab_type": "code",
        "colab": {}
      },
      "source": [
        "clean_tweets = []\n",
        "#Strips emojis\n",
        "def handle_emojis(tweet):\n",
        "    # Smile -- :), : ), :-), (:, ( :, (-:, :'),:D, : D, =)\n",
        "    tweet = re.sub(r'(:\\s?\\)|:-\\)|\\(\\s?:|\\(-:|:\\'\\))|:\\s?D | =\\)', '', tweet)\n",
        "    # Sad -- :-(, : (, :(, ):, )-: , :p\n",
        "    tweet = re.sub(r'(:\\s?\\(|:-\\(|\\)\\s?:|\\)-:)|:p', '', tweet)\n",
        "    return tweet"
      ],
      "execution_count": 0,
      "outputs": []
    },
    {
      "cell_type": "code",
      "metadata": {
        "id": "2JmyGa0g0Iax",
        "colab_type": "code",
        "colab": {}
      },
      "source": [
        "#clean data\n",
        "url = re.compile(r\"(?:(http[s]?://\\S+)|((//)?(\\w+\\.)?\\w+\\.\\w+/\\S+))\")\n",
        "user_mention = re.compile(r\"(?:(?<!\\w)@\\w+\\b)\")\n",
        "number = re.compile(r\"(?:\\b\\d+\\b)\")\n",
        "repeated_char = '([a-zA-Z])\\\\1+'\n",
        "length_repeated_char = '\\\\1\\\\1'\n",
        "\n",
        "def clean(raw):\n",
        "  #convert HTML encoding to text\n",
        "  new_row = BeautifulSoup(raw, 'html.parser').get_text()\n",
        "  \n",
        "  #Change all text to lower case\n",
        "  new_row = new_row.lower()\n",
        "  \n",
        "  #Replaces any url with class URL\n",
        "  new_row = re.sub(url, '', new_row)\n",
        "  \n",
        "  #replace any @username with class USERNAME\n",
        "  new_row = re.sub(user_mention, '', new_row)\n",
        "  \n",
        "  #Strips repeated chars\n",
        "  new_row = re.sub(repeated_char, length_repeated_char, new_row)\n",
        "  \n",
        "  #Replaces #hashtag with hashtag\n",
        "  new_row = re.sub(r'#(\\S+)', r' \\1 ', new_row)\n",
        "  \n",
        "  #Remove numbers\n",
        "  new_row = re.sub(number, '', new_row)\n",
        "  \n",
        "  #decode text with 'utf-8-sig'\n",
        "  try:\n",
        "    temp_row = new_row.decode(\"utf-8-sig\").replace(u\"\\ufffd\", \"?\")     \n",
        "  except:\n",
        "    temp_row = new_row\n",
        "  \n",
        "  #Removes emojis\n",
        "  new_row = handle_emojis(temp_row);\n",
        "  \n",
        "  return new_row"
      ],
      "execution_count": 0,
      "outputs": []
    },
    {
      "cell_type": "code",
      "metadata": {
        "id": "EIEyYZYd03zX",
        "colab_type": "code",
        "colab": {}
      },
      "source": [
        "df_train[\"clean_text\"] = df_train[\"text\"].apply(lambda x : clean(x))"
      ],
      "execution_count": 0,
      "outputs": []
    },
    {
      "cell_type": "code",
      "metadata": {
        "id": "YxUwxdBg1VtL",
        "colab_type": "code",
        "outputId": "9995e369-2ddc-4472-89a4-04ba8a830f52",
        "colab": {
          "base_uri": "https://localhost:8080/",
          "height": 204
        }
      },
      "source": [
        "df_train.head()"
      ],
      "execution_count": 0,
      "outputs": [
        {
          "output_type": "execute_result",
          "data": {
            "text/html": [
              "<div>\n",
              "<style scoped>\n",
              "    .dataframe tbody tr th:only-of-type {\n",
              "        vertical-align: middle;\n",
              "    }\n",
              "\n",
              "    .dataframe tbody tr th {\n",
              "        vertical-align: top;\n",
              "    }\n",
              "\n",
              "    .dataframe thead th {\n",
              "        text-align: right;\n",
              "    }\n",
              "</style>\n",
              "<table border=\"1\" class=\"dataframe\">\n",
              "  <thead>\n",
              "    <tr style=\"text-align: right;\">\n",
              "      <th></th>\n",
              "      <th>sentiment</th>\n",
              "      <th>text</th>\n",
              "      <th>clean_text</th>\n",
              "    </tr>\n",
              "  </thead>\n",
              "  <tbody>\n",
              "    <tr>\n",
              "      <th>0</th>\n",
              "      <td>0</td>\n",
              "      <td>@switchfoot http://twitpic.com/2y1zl - Awww, t...</td>\n",
              "      <td>- aww, that's a bummer.  you shoulda got dav...</td>\n",
              "    </tr>\n",
              "    <tr>\n",
              "      <th>1</th>\n",
              "      <td>0</td>\n",
              "      <td>is upset that he can't update his Facebook by ...</td>\n",
              "      <td>is upset that he can't update his facebook by ...</td>\n",
              "    </tr>\n",
              "    <tr>\n",
              "      <th>2</th>\n",
              "      <td>0</td>\n",
              "      <td>@Kenichan I dived many times for the ball. Man...</td>\n",
              "      <td>i dived many times for the ball. managed to s...</td>\n",
              "    </tr>\n",
              "    <tr>\n",
              "      <th>3</th>\n",
              "      <td>0</td>\n",
              "      <td>my whole body feels itchy and like its on fire</td>\n",
              "      <td>my whole body feels itchy and like its on fire</td>\n",
              "    </tr>\n",
              "    <tr>\n",
              "      <th>4</th>\n",
              "      <td>0</td>\n",
              "      <td>@nationwideclass no, it's not behaving at all....</td>\n",
              "      <td>no, it's not behaving at all. i'm mad. why am...</td>\n",
              "    </tr>\n",
              "  </tbody>\n",
              "</table>\n",
              "</div>"
            ],
            "text/plain": [
              "   sentiment  ...                                         clean_text\n",
              "0          0  ...    - aww, that's a bummer.  you shoulda got dav...\n",
              "1          0  ...  is upset that he can't update his facebook by ...\n",
              "2          0  ...   i dived many times for the ball. managed to s...\n",
              "3          0  ...    my whole body feels itchy and like its on fire \n",
              "4          0  ...   no, it's not behaving at all. i'm mad. why am...\n",
              "\n",
              "[5 rows x 3 columns]"
            ]
          },
          "metadata": {
            "tags": []
          },
          "execution_count": 11
        }
      ]
    },
    {
      "cell_type": "code",
      "metadata": {
        "id": "lPIs746323sx",
        "colab_type": "code",
        "outputId": "b126166a-dc16-4134-a72c-42bd74b2628d",
        "colab": {
          "base_uri": "https://localhost:8080/",
          "height": 425
        }
      },
      "source": [
        "import nltk\n",
        "import spacy\n",
        "import string\n",
        "# preprocessing methods\n",
        "# Removal of URLs\n",
        "def remove_urls(text):\n",
        "  url_pattern = re.compile(r'https?://\\S+|www\\.\\S+')\n",
        "  return url_pattern.sub(r'', text)\n",
        "\n",
        "# Remove @ mentions\n",
        "def remove_mentions(text):\n",
        "  text = re.sub(r\"(?:\\@|https?\\://)\\S+\", \"\", text)\n",
        "  return text\n",
        "\n",
        "# strip links\n",
        "def strip_links(text):\n",
        "    link_regex    = re.compile('((https?):((//)|(\\\\\\\\))+([\\w\\d:#@%/;$()~_?\\+-=\\\\\\.&](#!)?)*)', re.DOTALL)\n",
        "    links         = re.findall(link_regex, text)\n",
        "    for link in links:\n",
        "        text = text.replace(link[0], ', ')    \n",
        "    return text\n",
        "\n",
        "# strip entities\n",
        "def strip_all_entities(text):\n",
        "    entity_prefixes = ['@','#']\n",
        "    for separator in  string.punctuation:\n",
        "        if separator not in entity_prefixes :\n",
        "            text = text.replace(separator,' ')\n",
        "    words = []\n",
        "    for word in text.split():\n",
        "        word = word.strip()\n",
        "        if word:\n",
        "            if word[0] not in entity_prefixes:\n",
        "                words.append(word)\n",
        "    return ' '.join(words)\n",
        "\n",
        "# convert emojis\n",
        "!pip install emot\n",
        "from emot.emo_unicode import UNICODE_EMO, EMOTICONS\n",
        "def convert_emoticons(text):\n",
        "  for emot in EMOTICONS:\n",
        "    re.sub(u'('+emot+')', \"_\".join(EMOTICONS[emot].replace(\",\",\"\").split()), text)\n",
        "  return text\n",
        "\n",
        "# convert emoji to word\n",
        "!pip install emoji\n",
        "import emoji\n",
        "def convert_emojis(text):\n",
        "    return emoji.demojize(text)\n",
        "\n",
        "# expand contractions\n",
        "!pip install -q contractions\n",
        "import contractions\n",
        "def expand_contractions(text):\n",
        "  return contractions.fix(text)\n",
        "\n",
        "# remove punctuations\n",
        "PUNCT = string.punctuation\n",
        "def remove_punctuation(text):\n",
        "  return text.translate(str.maketrans('', '', PUNCT))\n",
        "\n",
        "# remove stopwords\n",
        "from nltk.corpus import stopwords\n",
        "nltk.download('stopwords')\n",
        "STOPWORDS = set(stopwords.words('english'))\n",
        "def remove_stopwords(text):\n",
        "  return \" \".join([word for word in str(text).split() if word not in STOPWORDS])\n",
        "\n",
        "# remove frequent words\n",
        "def remove_freqwords(text, FREQ_WORDS):\n",
        "  return \" \".join([word for word in str(text).split() if word not in FREQ_WORDS])\n",
        "\n",
        "# remove rare words\n",
        "def remove_rarewords(text, RAREWORDS):\n",
        "    \"\"\"custom function to remove the rare words\"\"\"\n",
        "    return \" \".join([word for word in str(text).split() if word not in RAREWORDS])\n",
        "\n",
        "# lemmatize words\n",
        "nltk.download('wordnet')\n",
        "nltk.download('averaged_perceptron_tagger')\n",
        "from nltk.corpus import wordnet\n",
        "from nltk.stem import WordNetLemmatizer\n",
        "\n",
        "lemmatizer = WordNetLemmatizer()\n",
        "wordnet_map = {\"N\":wordnet.NOUN, \"V\":wordnet.VERB, \"J\":wordnet.ADJ, \"R\":wordnet.ADV}\n",
        "def lemmatize_words(text):\n",
        "    pos_tagged_text = nltk.pos_tag(text.split())\n",
        "    return \" \".join([lemmatizer.lemmatize(word, wordnet_map.get(pos[0], wordnet.NOUN)) for word, pos in pos_tagged_text])\n",
        "\n",
        "# spelling correction"
      ],
      "execution_count": 0,
      "outputs": [
        {
          "output_type": "stream",
          "text": [
            "Collecting emot\n",
            "  Downloading https://files.pythonhosted.org/packages/49/07/20001ade19873de611b7b66a4d5e5aabbf190d65abea337d5deeaa2bc3de/emot-2.1-py3-none-any.whl\n",
            "Installing collected packages: emot\n",
            "Successfully installed emot-2.1\n",
            "Collecting emoji\n",
            "\u001b[?25l  Downloading https://files.pythonhosted.org/packages/40/8d/521be7f0091fe0f2ae690cc044faf43e3445e0ff33c574eae752dd7e39fa/emoji-0.5.4.tar.gz (43kB)\n",
            "\u001b[K     |████████████████████████████████| 51kB 1.7MB/s \n",
            "\u001b[?25hBuilding wheels for collected packages: emoji\n",
            "  Building wheel for emoji (setup.py) ... \u001b[?25l\u001b[?25hdone\n",
            "  Created wheel for emoji: filename=emoji-0.5.4-cp36-none-any.whl size=42176 sha256=9587b67c81f535661e1d5332743961f8f96032a9e41c0e0ad6a9f73439222033\n",
            "  Stored in directory: /root/.cache/pip/wheels/2a/a9/0a/4f8e8cce8074232aba240caca3fade315bb49fac68808d1a9c\n",
            "Successfully built emoji\n",
            "Installing collected packages: emoji\n",
            "Successfully installed emoji-0.5.4\n",
            "\u001b[K     |████████████████████████████████| 245kB 3.6MB/s \n",
            "\u001b[K     |████████████████████████████████| 317kB 20.3MB/s \n",
            "\u001b[?25h  Building wheel for pyahocorasick (setup.py) ... \u001b[?25l\u001b[?25hdone\n",
            "[nltk_data] Downloading package stopwords to /root/nltk_data...\n",
            "[nltk_data]   Unzipping corpora/stopwords.zip.\n",
            "[nltk_data] Downloading package wordnet to /root/nltk_data...\n",
            "[nltk_data]   Unzipping corpora/wordnet.zip.\n",
            "[nltk_data] Downloading package averaged_perceptron_tagger to\n",
            "[nltk_data]     /root/nltk_data...\n",
            "[nltk_data]   Unzipping taggers/averaged_perceptron_tagger.zip.\n"
          ],
          "name": "stdout"
        }
      ]
    },
    {
      "cell_type": "code",
      "metadata": {
        "id": "XkGPGpGn3Ovz",
        "colab_type": "code",
        "colab": {}
      },
      "source": [
        "def preprocess(df):\n",
        "  # Lower casing\n",
        "  df[\"text\"] = df[\"text\"].str.lower()\n",
        "  df.head()\n",
        "  # remove urls\n",
        "  df[\"text\"] = df[\"text\"].apply(lambda x : remove_urls(x))\n",
        "  # remove mentions\n",
        "  df[\"text\"] = df[\"text\"].apply(lambda x: remove_mentions(x))\n",
        "  # strip links\n",
        "  df[\"text\"] = df[\"text\"].apply(lambda x: strip_links(x))\n",
        "  # strip all entities\n",
        "  df[\"text\"] = df[\"text\"].apply(lambda x: strip_all_entities(x))\n",
        "  # convert all emoticons\n",
        "  df[\"text\"] = df[\"text\"].apply(lambda x : convert_emoticons(x))\n",
        "  # convert all emojis\n",
        "  df[\"text\"] = df[\"text\"].apply(lambda x : convert_emojis(x))\n",
        "  # expand all contractions\n",
        "  df[\"text\"] = df[\"text\"].apply(lambda x : expand_contractions(x))\n",
        "  # remove all punctuations\n",
        "  df[\"text\"] = df[\"text\"].apply(lambda x : remove_punctuation(x))\n",
        "  # remove all stopwords\n",
        "  df[\"text\"] = df[\"text\"].apply(lambda x : remove_stopwords(x))\n",
        "  # remove frequent words\n",
        "  from collections import Counter\n",
        "  cnt = Counter()\n",
        "  for text in df[\"text\"].values:\n",
        "    for word in text.split():\n",
        "      cnt[word] += 1\n",
        "  FREQ_WORDS = set([word for (word, count) in cnt.most_common(10)])\n",
        "  df[\"text\"] = df[\"text\"].apply(lambda x : remove_freqwords(x, FREQ_WORDS))\n",
        "  # remove rare words\n",
        "  n_rare_words = 10\n",
        "  RAREWORDS = set([w for (w, wc) in cnt.most_common()[:-n_rare_words-1:-1]])\n",
        "  df[\"text\"] = df[\"text\"].apply(lambda text: remove_rarewords(text, RAREWORDS))\n",
        "  # lemmatize words\n",
        "  df[\"text\"] = df[\"text\"].apply(lambda text: lemmatize_words(text))\n",
        "  # spelling correction\n",
        "  return df"
      ],
      "execution_count": 0,
      "outputs": []
    },
    {
      "cell_type": "code",
      "metadata": {
        "id": "UEFmWpf431OF",
        "colab_type": "code",
        "colab": {}
      },
      "source": [
        "semeval_df=pd.read_csv('/content/gdrive/My Drive/Colab Notebooks/datasets/Semeval-2017-4A-English/SemEval2017-task4-dev.subtask-A.english.INPUT.txt', sep=\"\\t\", header=None)\n",
        "semeval_df = semeval_df.drop(columns=3)\n",
        "semeval_df.columns = ['id', 'sentiment', 'text']"
      ],
      "execution_count": 0,
      "outputs": []
    },
    {
      "cell_type": "code",
      "metadata": {
        "id": "RZF-CZ8j36aZ",
        "colab_type": "code",
        "outputId": "8aad1eff-0959-4393-b486-ecc7a91352ab",
        "colab": {
          "base_uri": "https://localhost:8080/",
          "height": 204
        }
      },
      "source": [
        "semeval_df = preprocess(semeval_df)\n",
        "semeval_df.head()"
      ],
      "execution_count": 0,
      "outputs": [
        {
          "output_type": "execute_result",
          "data": {
            "text/html": [
              "<div>\n",
              "<style scoped>\n",
              "    .dataframe tbody tr th:only-of-type {\n",
              "        vertical-align: middle;\n",
              "    }\n",
              "\n",
              "    .dataframe tbody tr th {\n",
              "        vertical-align: top;\n",
              "    }\n",
              "\n",
              "    .dataframe thead th {\n",
              "        text-align: right;\n",
              "    }\n",
              "</style>\n",
              "<table border=\"1\" class=\"dataframe\">\n",
              "  <thead>\n",
              "    <tr style=\"text-align: right;\">\n",
              "      <th></th>\n",
              "      <th>id</th>\n",
              "      <th>sentiment</th>\n",
              "      <th>text</th>\n",
              "    </tr>\n",
              "  </thead>\n",
              "  <tbody>\n",
              "    <tr>\n",
              "      <th>0</th>\n",
              "      <td>619950566786113536</td>\n",
              "      <td>neutral</td>\n",
              "      <td>picturehouse pink floyd roger water walll open...</td>\n",
              "    </tr>\n",
              "    <tr>\n",
              "      <th>1</th>\n",
              "      <td>619969366986235905</td>\n",
              "      <td>neutral</td>\n",
              "      <td>order go set watchman store website tuesday ge...</td>\n",
              "    </tr>\n",
              "    <tr>\n",
              "      <th>2</th>\n",
              "      <td>619971047195045888</td>\n",
              "      <td>negative</td>\n",
              "      <td>runway renovation airport prevent see taylor s...</td>\n",
              "    </tr>\n",
              "    <tr>\n",
              "      <th>3</th>\n",
              "      <td>619974445185302528</td>\n",
              "      <td>neutral</td>\n",
              "      <td>could ask onstage interview question miss usa ...</td>\n",
              "    </tr>\n",
              "    <tr>\n",
              "      <th>4</th>\n",
              "      <td>619987808317407232</td>\n",
              "      <td>positive</td>\n",
              "      <td>portion book sale harper lee go set watchman r...</td>\n",
              "    </tr>\n",
              "  </tbody>\n",
              "</table>\n",
              "</div>"
            ],
            "text/plain": [
              "                   id  ...                                               text\n",
              "0  619950566786113536  ...  picturehouse pink floyd roger water walll open...\n",
              "1  619969366986235905  ...  order go set watchman store website tuesday ge...\n",
              "2  619971047195045888  ...  runway renovation airport prevent see taylor s...\n",
              "3  619974445185302528  ...  could ask onstage interview question miss usa ...\n",
              "4  619987808317407232  ...  portion book sale harper lee go set watchman r...\n",
              "\n",
              "[5 rows x 3 columns]"
            ]
          },
          "metadata": {
            "tags": []
          },
          "execution_count": 15
        }
      ]
    },
    {
      "cell_type": "code",
      "metadata": {
        "id": "1IvBdOzZSZD4",
        "colab_type": "code",
        "colab": {}
      },
      "source": [
        "df_new = df_train.sample(n=1000000, random_state = 1)"
      ],
      "execution_count": 0,
      "outputs": []
    },
    {
      "cell_type": "code",
      "metadata": {
        "id": "6Cnucd2-38tN",
        "colab_type": "code",
        "colab": {}
      },
      "source": [
        "train_set = set()\n",
        "for tweet in df_new[\"clean_text\"]:\n",
        "  for word in tweet.split():\n",
        "    train_set.add(word)\n",
        "semeval_set = set()\n",
        "for tweet in semeval_df[\"text\"]:\n",
        "  for word in tweet.split():\n",
        "    semeval_set.add(word)"
      ],
      "execution_count": 0,
      "outputs": []
    },
    {
      "cell_type": "code",
      "metadata": {
        "id": "4sfdxJkV5Raw",
        "colab_type": "code",
        "outputId": "cdbbf01b-8ccd-4237-c6d9-9433b12cc291",
        "colab": {
          "base_uri": "https://localhost:8080/",
          "height": 34
        }
      },
      "source": [
        "common_words = list(train_set & semeval_set) \n",
        "len(common_words)"
      ],
      "execution_count": 0,
      "outputs": [
        {
          "output_type": "execute_result",
          "data": {
            "text/plain": [
              "13961"
            ]
          },
          "metadata": {
            "tags": []
          },
          "execution_count": 18
        }
      ]
    },
    {
      "cell_type": "code",
      "metadata": {
        "id": "SXK75BbK5V9c",
        "colab_type": "code",
        "outputId": "a7371f23-d3fe-40f2-94ab-70a034906397",
        "colab": {
          "base_uri": "https://localhost:8080/",
          "height": 34
        }
      },
      "source": [
        "len(train_set) + len(semeval_set) - len(common_words)"
      ],
      "execution_count": 0,
      "outputs": [
        {
          "output_type": "execute_result",
          "data": {
            "text/plain": [
              "527762"
            ]
          },
          "metadata": {
            "tags": []
          },
          "execution_count": 19
        }
      ]
    },
    {
      "cell_type": "code",
      "metadata": {
        "id": "H6Z0msWl5esd",
        "colab_type": "code",
        "outputId": "9704722d-6297-4667-f2d6-61a0c152412a",
        "colab": {
          "base_uri": "https://localhost:8080/",
          "height": 34
        }
      },
      "source": [
        "len(semeval_set)"
      ],
      "execution_count": 0,
      "outputs": [
        {
          "output_type": "execute_result",
          "data": {
            "text/plain": [
              "18610"
            ]
          },
          "metadata": {
            "tags": []
          },
          "execution_count": 20
        }
      ]
    },
    {
      "cell_type": "markdown",
      "metadata": {
        "id": "vctj8B2P-AVj",
        "colab_type": "text"
      },
      "source": [
        "We can see that out of 18610 unique tokens in semeval dataset, we have 10560 unique tokens present in the distant supervised tweet dataset."
      ]
    },
    {
      "cell_type": "code",
      "metadata": {
        "id": "JDAcO5k15jLq",
        "colab_type": "code",
        "outputId": "daa38365-119b-492c-f709-62b0f4655d10",
        "colab": {
          "base_uri": "https://localhost:8080/",
          "height": 131
        }
      },
      "source": [
        "# Tokenizer illustration example\n",
        "from keras.preprocessing.text import Tokenizer\n",
        "# define 5 documents\n",
        "t  = Tokenizer(oov_token='oov')\n",
        "fit_text = [\"The earth is an awesome place live\"]\n",
        "t.fit_on_texts(fit_text)\n",
        "\n",
        "#fit_on_texts fits on sentences when list of sentences is passed to fit_on_texts() function. \n",
        "#ie - fit_on_texts( [ sent1, sent2, sent3,....sentN ] )\n",
        "\n",
        "#Similarly, list of sentences/single sentence in a list must be passed into texts_to_sequences.\n",
        "test_text1 = \"The earth is an great place live\"\n",
        "test_text2 = \"The is my program\"\n",
        "sequences = t.texts_to_sequences([test_text1, test_text2])\n",
        "\n",
        "print('sequences : ',sequences,'\\n')\n",
        "\n",
        "print('word_index : ',t.word_index)\n",
        "#texts_to_sequences() returns list of list. ie - [ [] ]"
      ],
      "execution_count": 0,
      "outputs": [
        {
          "output_type": "stream",
          "text": [
            "Using TensorFlow backend.\n"
          ],
          "name": "stderr"
        },
        {
          "output_type": "display_data",
          "data": {
            "text/html": [
              "<p style=\"color: red;\">\n",
              "The default version of TensorFlow in Colab will soon switch to TensorFlow 2.x.<br>\n",
              "We recommend you <a href=\"https://www.tensorflow.org/guide/migrate\" target=\"_blank\">upgrade</a> now \n",
              "or ensure your notebook will continue to use TensorFlow 1.x via the <code>%tensorflow_version 1.x</code> magic:\n",
              "<a href=\"https://colab.research.google.com/notebooks/tensorflow_version.ipynb\" target=\"_blank\">more info</a>.</p>\n"
            ],
            "text/plain": [
              "<IPython.core.display.HTML object>"
            ]
          },
          "metadata": {
            "tags": []
          }
        },
        {
          "output_type": "stream",
          "text": [
            "sequences :  [[2, 3, 4, 5, 1, 7, 8], [2, 4, 1, 1]] \n",
            "\n",
            "word_index :  {'oov': 1, 'the': 2, 'earth': 3, 'is': 4, 'an': 5, 'awesome': 6, 'place': 7, 'live': 8}\n"
          ],
          "name": "stdout"
        }
      ]
    },
    {
      "cell_type": "code",
      "metadata": {
        "id": "T9ERbMUvBvkl",
        "colab_type": "code",
        "colab": {}
      },
      "source": [
        "ds_texts = df_new[\"text\"]"
      ],
      "execution_count": 0,
      "outputs": []
    },
    {
      "cell_type": "code",
      "metadata": {
        "id": "hDG7TiJW7HJK",
        "colab_type": "code",
        "outputId": "bfeac3a7-ca6b-4329-e6bd-d8ea6dd7eba0",
        "colab": {
          "base_uri": "https://localhost:8080/",
          "height": 34
        }
      },
      "source": [
        "from keras.preprocessing.text import Tokenizer\n",
        "from keras.preprocessing.sequence import pad_sequences\n",
        "from keras.utils import to_categorical\n",
        "\n",
        "tokenizer = Tokenizer(filters='!\"#$%&()*+,-./:;<=>?@[\\\\]^_`{|}~\\t\\n\\'', lower=True)\n",
        "tokenizer.fit_on_texts(ds_texts)\n",
        "sequences = tokenizer.texts_to_sequences(ds_texts)\n",
        "word_index = tokenizer.word_index\n",
        "print(len(word_index))"
      ],
      "execution_count": 0,
      "outputs": [
        {
          "output_type": "stream",
          "text": [
            "486528\n"
          ],
          "name": "stdout"
        }
      ]
    },
    {
      "cell_type": "code",
      "metadata": {
        "id": "wi1QCdU_CSgN",
        "colab_type": "code",
        "colab": {}
      },
      "source": [
        "X_train = pad_sequences(sequences)\n",
        "y_train = to_categorical(list(df_new[\"sentiment\"]))"
      ],
      "execution_count": 0,
      "outputs": []
    },
    {
      "cell_type": "code",
      "metadata": {
        "id": "BRkN9fD1C3oK",
        "colab_type": "code",
        "colab": {}
      },
      "source": [
        "EMBED_DIM = 200\n",
        "vocab_size = len(word_index) + 1\n",
        "embedding_matrix = np.random.normal(0,np.sqrt(0.25),[vocab_size, EMBED_DIM])"
      ],
      "execution_count": 0,
      "outputs": []
    },
    {
      "cell_type": "code",
      "metadata": {
        "id": "9XO0w3f5fzrp",
        "colab_type": "code",
        "colab": {}
      },
      "source": [
        "count = []\n",
        "for word, i in word_index.items():\n",
        "    if i >= vocab_size:\n",
        "        continue\n",
        "    try:\n",
        "        embedding_vec = word2vec[word]\n",
        "        embedding_matrix[i] = embedding_vec\n",
        "    except KeyError:\n",
        "        count.append(word)\n",
        "        embedding_matrix[i] = np.random.normal(0,np.sqrt(0.25),EMBED_DIM)"
      ],
      "execution_count": 0,
      "outputs": []
    },
    {
      "cell_type": "code",
      "metadata": {
        "id": "ZYoUsOGyf8gf",
        "colab_type": "code",
        "outputId": "cfe5459c-dc8d-4677-de57-205e54063d0b",
        "colab": {
          "base_uri": "https://localhost:8080/",
          "height": 34
        }
      },
      "source": [
        "len(count)"
      ],
      "execution_count": 0,
      "outputs": [
        {
          "output_type": "execute_result",
          "data": {
            "text/plain": [
              "374880"
            ]
          },
          "metadata": {
            "tags": []
          },
          "execution_count": 27
        }
      ]
    },
    {
      "cell_type": "code",
      "metadata": {
        "id": "TmSAo5wnNobt",
        "colab_type": "code",
        "colab": {}
      },
      "source": [
        "from keras.layers import Input\n",
        "from keras.layers import Flatten\n",
        "from keras.layers import Dense\n",
        "from keras.models import Model\n",
        "from keras.layers import LSTM\n",
        "from keras.layers import Dropout\n",
        "from keras.layers import Embedding"
      ],
      "execution_count": 0,
      "outputs": []
    },
    {
      "cell_type": "code",
      "metadata": {
        "id": "OGrXO92TjAYp",
        "colab_type": "code",
        "outputId": "083a2205-742b-4a33-fbf9-535f6b5e3fe0",
        "colab": {
          "base_uri": "https://localhost:8080/",
          "height": 428
        }
      },
      "source": [
        "from keras.layers import Embedding\n",
        "embedding_layer = Embedding(vocab_size,\n",
        "                            EMBED_DIM,\n",
        "                            weights=[embedding_matrix],\n",
        "                            trainable=True)\n",
        "seq_len = X_train.shape[1]\n",
        "from keras.layers import Input\n",
        "from keras.layers import Flatten\n",
        "from keras.layers import Dense\n",
        "from keras.models import Model\n",
        "from keras.layers import LSTM\n",
        "from keras.layers import Dropout\n",
        "inputs = Input(shape=(seq_len,))\n",
        "embeddings = embedding_layer(inputs)\n",
        "# flattened = Flatten()(embeddings)\n",
        "lstm = LSTM(200, dropout=0.5)(embeddings)\n",
        "dense0 = Dense(128, activation=\"relu\")(lstm)\n",
        "# dropout0 = Dropout()(dense0)\n",
        "dense1 = Dense(64, activation=\"relu\")(dense0)\n",
        "dropout1 = Dropout(rate=0.25)(dense1)\n",
        "dense2 = Dense(32, activation=\"relu\")(dropout1)\n",
        "dropout2 = Dropout(rate=0.25)(dense2)\n",
        "dense3 = Dense(16, activation=\"relu\")(dropout2)\n",
        "output = Dense(y_train.shape[1], activation='softmax')(dense3)\n",
        "model = Model(inputs, output)"
      ],
      "execution_count": 0,
      "outputs": [
        {
          "output_type": "stream",
          "text": [
            "WARNING:tensorflow:From /usr/local/lib/python3.6/dist-packages/keras/backend/tensorflow_backend.py:66: The name tf.get_default_graph is deprecated. Please use tf.compat.v1.get_default_graph instead.\n",
            "\n",
            "WARNING:tensorflow:From /usr/local/lib/python3.6/dist-packages/keras/backend/tensorflow_backend.py:541: The name tf.placeholder is deprecated. Please use tf.compat.v1.placeholder instead.\n",
            "\n",
            "WARNING:tensorflow:From /usr/local/lib/python3.6/dist-packages/keras/backend/tensorflow_backend.py:4432: The name tf.random_uniform is deprecated. Please use tf.random.uniform instead.\n",
            "\n",
            "WARNING:tensorflow:From /usr/local/lib/python3.6/dist-packages/keras/backend/tensorflow_backend.py:190: The name tf.get_default_session is deprecated. Please use tf.compat.v1.get_default_session instead.\n",
            "\n",
            "WARNING:tensorflow:From /usr/local/lib/python3.6/dist-packages/keras/backend/tensorflow_backend.py:197: The name tf.ConfigProto is deprecated. Please use tf.compat.v1.ConfigProto instead.\n",
            "\n",
            "WARNING:tensorflow:From /usr/local/lib/python3.6/dist-packages/keras/backend/tensorflow_backend.py:203: The name tf.Session is deprecated. Please use tf.compat.v1.Session instead.\n",
            "\n",
            "WARNING:tensorflow:From /usr/local/lib/python3.6/dist-packages/keras/backend/tensorflow_backend.py:207: The name tf.global_variables is deprecated. Please use tf.compat.v1.global_variables instead.\n",
            "\n",
            "WARNING:tensorflow:From /usr/local/lib/python3.6/dist-packages/keras/backend/tensorflow_backend.py:216: The name tf.is_variable_initialized is deprecated. Please use tf.compat.v1.is_variable_initialized instead.\n",
            "\n",
            "WARNING:tensorflow:From /usr/local/lib/python3.6/dist-packages/keras/backend/tensorflow_backend.py:223: The name tf.variables_initializer is deprecated. Please use tf.compat.v1.variables_initializer instead.\n",
            "\n",
            "WARNING:tensorflow:From /usr/local/lib/python3.6/dist-packages/keras/backend/tensorflow_backend.py:148: The name tf.placeholder_with_default is deprecated. Please use tf.compat.v1.placeholder_with_default instead.\n",
            "\n",
            "WARNING:tensorflow:From /usr/local/lib/python3.6/dist-packages/keras/backend/tensorflow_backend.py:3733: calling dropout (from tensorflow.python.ops.nn_ops) with keep_prob is deprecated and will be removed in a future version.\n",
            "Instructions for updating:\n",
            "Please use `rate` instead of `keep_prob`. Rate should be set to `rate = 1 - keep_prob`.\n"
          ],
          "name": "stdout"
        }
      ]
    },
    {
      "cell_type": "code",
      "metadata": {
        "id": "JNnhEh9FxGPN",
        "colab_type": "code",
        "outputId": "d0ba23a7-73ee-43a6-9097-81f8e72d3669",
        "colab": {
          "base_uri": "https://localhost:8080/",
          "height": 306
        }
      },
      "source": [
        "!pip install keras-rectified-adam\n",
        "from keras_radam import RAdam\n",
        "\n",
        "from keras import backend as K\n",
        "\n",
        "def recall_m(y_true, y_pred):\n",
        "        true_positives = K.sum(K.round(K.clip(y_true * y_pred, 0, 1)))\n",
        "        possible_positives = K.sum(K.round(K.clip(y_true, 0, 1)))\n",
        "        recall = true_positives / (possible_positives + K.epsilon())\n",
        "        return recall\n",
        "\n",
        "def precision_m(y_true, y_pred):\n",
        "        true_positives = K.sum(K.round(K.clip(y_true * y_pred, 0, 1)))\n",
        "        predicted_positives = K.sum(K.round(K.clip(y_pred, 0, 1)))\n",
        "        precision = true_positives / (predicted_positives + K.epsilon())\n",
        "        return precision\n",
        "\n",
        "def f1_m(y_true, y_pred):\n",
        "    precision = precision_m(y_true, y_pred)\n",
        "    recall = recall_m(y_true, y_pred)\n",
        "    return 2*((precision*recall)/(precision+recall+K.epsilon()))"
      ],
      "execution_count": 0,
      "outputs": [
        {
          "output_type": "stream",
          "text": [
            "Collecting keras-rectified-adam\n",
            "  Downloading https://files.pythonhosted.org/packages/21/79/9521f66b92186702cb58a214c1b923b416266381cd824e15a1733f6a5b06/keras-rectified-adam-0.17.0.tar.gz\n",
            "Requirement already satisfied: numpy in /usr/local/lib/python3.6/dist-packages (from keras-rectified-adam) (1.17.5)\n",
            "Requirement already satisfied: Keras in /usr/local/lib/python3.6/dist-packages (from keras-rectified-adam) (2.2.5)\n",
            "Requirement already satisfied: keras-applications>=1.0.8 in /usr/local/lib/python3.6/dist-packages (from Keras->keras-rectified-adam) (1.0.8)\n",
            "Requirement already satisfied: h5py in /usr/local/lib/python3.6/dist-packages (from Keras->keras-rectified-adam) (2.8.0)\n",
            "Requirement already satisfied: keras-preprocessing>=1.1.0 in /usr/local/lib/python3.6/dist-packages (from Keras->keras-rectified-adam) (1.1.0)\n",
            "Requirement already satisfied: scipy>=0.14 in /usr/local/lib/python3.6/dist-packages (from Keras->keras-rectified-adam) (1.4.1)\n",
            "Requirement already satisfied: six>=1.9.0 in /usr/local/lib/python3.6/dist-packages (from Keras->keras-rectified-adam) (1.12.0)\n",
            "Requirement already satisfied: pyyaml in /usr/local/lib/python3.6/dist-packages (from Keras->keras-rectified-adam) (3.13)\n",
            "Building wheels for collected packages: keras-rectified-adam\n",
            "  Building wheel for keras-rectified-adam (setup.py) ... \u001b[?25l\u001b[?25hdone\n",
            "  Created wheel for keras-rectified-adam: filename=keras_rectified_adam-0.17.0-cp36-none-any.whl size=14781 sha256=e83f1ee0f7663a475755c1c903b124b98b7e43f844734771d9b1c8851b54e222\n",
            "  Stored in directory: /root/.cache/pip/wheels/7b/01/27/3a934e1a5644f5b93c720422a6ef97034ea78a21ba71cfb549\n",
            "Successfully built keras-rectified-adam\n",
            "Installing collected packages: keras-rectified-adam\n",
            "Successfully installed keras-rectified-adam-0.17.0\n"
          ],
          "name": "stdout"
        }
      ]
    },
    {
      "cell_type": "code",
      "metadata": {
        "id": "AUZqdKRaxMoH",
        "colab_type": "code",
        "outputId": "cbb93d52-b315-4962-f089-577118e3a6ba",
        "colab": {
          "base_uri": "https://localhost:8080/",
          "height": 85
        }
      },
      "source": [
        "from keras.optimizers import Adam, Nadam, Adadelta, SGD, RMSprop\n",
        "# Adadelta performs poorly\n",
        "# Adam performs better than Nadam\n",
        "# SGD fares poorly\n",
        "# Default adam lr = 2e-3\n",
        "opt = RAdam()\n",
        "\n",
        "model.compile(loss='categorical_crossentropy',\n",
        "              optimizer=opt,\n",
        "              metrics=['accuracy', f1_m, precision_m, recall_m])\n",
        "\n",
        "# from keras.callbacks import LearningRateScheduler\n",
        "# import math\n",
        "# # learning rate schedule\n",
        "# def step_decay(epoch):\n",
        "# \tinitial_lrate = 0.01\n",
        "# \tdrop = 0.1\n",
        "# \tepochs_drop = 5.00\n",
        "# \tlrate = initial_lrate * math.pow(drop, ((1+epoch)/epochs_drop))\n",
        "# \treturn min(1e-4, lrate)\n",
        "\n",
        "# # learning schedule callback\n",
        "# lrate = LearningRateScheduler(step_decay)\n",
        "# # from keras.callbacks import EarlyStopping\n",
        "# # es = EarlyStopping(monitor='val_loss', mode='min', verbose=1, patience=10)"
      ],
      "execution_count": 0,
      "outputs": [
        {
          "output_type": "stream",
          "text": [
            "WARNING:tensorflow:From /usr/local/lib/python3.6/dist-packages/keras/optimizers.py:793: The name tf.train.Optimizer is deprecated. Please use tf.compat.v1.train.Optimizer instead.\n",
            "\n",
            "WARNING:tensorflow:From /usr/local/lib/python3.6/dist-packages/keras/backend/tensorflow_backend.py:3576: The name tf.log is deprecated. Please use tf.math.log instead.\n",
            "\n"
          ],
          "name": "stdout"
        }
      ]
    },
    {
      "cell_type": "code",
      "metadata": {
        "id": "dVjvvAJHlt5x",
        "colab_type": "code",
        "outputId": "4e1bc969-362c-4a3a-8335-32651896f61f",
        "colab": {
          "base_uri": "https://localhost:8080/",
          "height": 360
        }
      },
      "source": [
        "model.fit(X_train, y_train, batch_size=1000, epochs=5, verbose=1, shuffle=True, validation_split=0.005)"
      ],
      "execution_count": 0,
      "outputs": [
        {
          "output_type": "stream",
          "text": [
            "WARNING:tensorflow:From /usr/local/lib/python3.6/dist-packages/tensorflow_core/python/ops/math_grad.py:1424: where (from tensorflow.python.ops.array_ops) is deprecated and will be removed in a future version.\n",
            "Instructions for updating:\n",
            "Use tf.where in 2.0, which has the same broadcast rule as np.where\n",
            "WARNING:tensorflow:From /usr/local/lib/python3.6/dist-packages/keras/backend/tensorflow_backend.py:1033: The name tf.assign_add is deprecated. Please use tf.compat.v1.assign_add instead.\n",
            "\n",
            "WARNING:tensorflow:From /usr/local/lib/python3.6/dist-packages/keras/backend/tensorflow_backend.py:1020: The name tf.assign is deprecated. Please use tf.compat.v1.assign instead.\n",
            "\n",
            "Train on 995000 samples, validate on 5000 samples\n",
            "Epoch 1/5\n",
            "995000/995000 [==============================] - 3916s 4ms/step - loss: 0.5016 - acc: 0.7466 - f1_m: 0.7466 - precision_m: 0.7466 - recall_m: 0.7466 - val_loss: 0.4180 - val_acc: 0.8048 - val_f1_m: 0.8048 - val_precision_m: 0.8048 - val_recall_m: 0.8048\n",
            "Epoch 2/5\n",
            "995000/995000 [==============================] - 3909s 4ms/step - loss: 0.4104 - acc: 0.8134 - f1_m: 0.8134 - precision_m: 0.8134 - recall_m: 0.8134 - val_loss: 0.3988 - val_acc: 0.8230 - val_f1_m: 0.8230 - val_precision_m: 0.8230 - val_recall_m: 0.8230\n",
            "Epoch 3/5\n",
            "995000/995000 [==============================] - 3913s 4ms/step - loss: 0.3699 - acc: 0.8352 - f1_m: 0.8352 - precision_m: 0.8352 - recall_m: 0.8352 - val_loss: 0.3936 - val_acc: 0.8234 - val_f1_m: 0.8234 - val_precision_m: 0.8234 - val_recall_m: 0.8234\n",
            "Epoch 4/5\n",
            "995000/995000 [==============================] - 3909s 4ms/step - loss: 0.3280 - acc: 0.8582 - f1_m: 0.8582 - precision_m: 0.8582 - recall_m: 0.8582 - val_loss: 0.3952 - val_acc: 0.8236 - val_f1_m: 0.8236 - val_precision_m: 0.8236 - val_recall_m: 0.8236\n",
            "Epoch 5/5\n",
            "995000/995000 [==============================] - 3901s 4ms/step - loss: 0.2860 - acc: 0.8795 - f1_m: 0.8795 - precision_m: 0.8795 - recall_m: 0.8795 - val_loss: 0.4039 - val_acc: 0.8234 - val_f1_m: 0.8234 - val_precision_m: 0.8234 - val_recall_m: 0.8234\n"
          ],
          "name": "stdout"
        },
        {
          "output_type": "execute_result",
          "data": {
            "text/plain": [
              "<keras.callbacks.History at 0x7feb1199ec18>"
            ]
          },
          "metadata": {
            "tags": []
          },
          "execution_count": 77
        }
      ]
    },
    {
      "cell_type": "code",
      "metadata": {
        "id": "hLX01kZOlx5Q",
        "colab_type": "code",
        "colab": {}
      },
      "source": [
        "model.save('/content/gdrive/My Drive/Colab Notebooks/distant_tweets_pretrained.h5')"
      ],
      "execution_count": 0,
      "outputs": []
    },
    {
      "cell_type": "code",
      "metadata": {
        "id": "6nloYRYgG7s9",
        "colab_type": "code",
        "outputId": "bf9c3527-9911-4d2b-8a85-79b7ed07d545",
        "colab": {
          "base_uri": "https://localhost:8080/",
          "height": 493
        }
      },
      "source": [
        "from keras.models import load_model\n",
        "model = load_model('/content/gdrive/My Drive/Colab Notebooks/distant_tweets_pretrained.h5', compile=False)\n",
        "model.summary()"
      ],
      "execution_count": 0,
      "outputs": [
        {
          "output_type": "stream",
          "text": [
            "Model: \"model_2\"\n",
            "_________________________________________________________________\n",
            "Layer (type)                 Output Shape              Param #   \n",
            "=================================================================\n",
            "input_2 (InputLayer)         (None, 118)               0         \n",
            "_________________________________________________________________\n",
            "embedding_2 (Embedding)      (None, 118, 200)          97305800  \n",
            "_________________________________________________________________\n",
            "lstm_2 (LSTM)                (None, 200)               320800    \n",
            "_________________________________________________________________\n",
            "dense_6 (Dense)              (None, 128)               25728     \n",
            "_________________________________________________________________\n",
            "dense_7 (Dense)              (None, 64)                8256      \n",
            "_________________________________________________________________\n",
            "dropout_3 (Dropout)          (None, 64)                0         \n",
            "_________________________________________________________________\n",
            "dense_8 (Dense)              (None, 32)                2080      \n",
            "_________________________________________________________________\n",
            "dropout_4 (Dropout)          (None, 32)                0         \n",
            "_________________________________________________________________\n",
            "dense_9 (Dense)              (None, 16)                528       \n",
            "_________________________________________________________________\n",
            "dense_10 (Dense)             (None, 2)                 34        \n",
            "=================================================================\n",
            "Total params: 97,663,226\n",
            "Trainable params: 97,663,226\n",
            "Non-trainable params: 0\n",
            "_________________________________________________________________\n"
          ],
          "name": "stdout"
        }
      ]
    },
    {
      "cell_type": "code",
      "metadata": {
        "id": "_tpEJEOywLq4",
        "colab_type": "code",
        "outputId": "707ba60d-dfc2-4fde-b5ac-3fb5a7c38fb8",
        "colab": {
          "base_uri": "https://localhost:8080/",
          "height": 255
        }
      },
      "source": [
        "model.layers.pop()\n",
        "model.layers.pop()\n",
        "model.layers.pop()\n",
        "model.layers.pop()\n",
        "model.layers.pop()\n",
        "model.layers.pop()\n",
        "model.layers.pop()\n",
        "model.summary()"
      ],
      "execution_count": 0,
      "outputs": [
        {
          "output_type": "stream",
          "text": [
            "Model: \"model_2\"\n",
            "_________________________________________________________________\n",
            "Layer (type)                 Output Shape              Param #   \n",
            "=================================================================\n",
            "input_2 (InputLayer)         (None, 118)               0         \n",
            "_________________________________________________________________\n",
            "embedding_2 (Embedding)      (None, 118, 200)          97305800  \n",
            "_________________________________________________________________\n",
            "lstm_2 (LSTM)                (None, 200)               320800    \n",
            "=================================================================\n",
            "Total params: 97,626,600\n",
            "Trainable params: 97,626,600\n",
            "Non-trainable params: 0\n",
            "_________________________________________________________________\n"
          ],
          "name": "stdout"
        }
      ]
    },
    {
      "cell_type": "code",
      "metadata": {
        "id": "4GbB6T8KK-dN",
        "colab_type": "code",
        "outputId": "2101569c-01b3-42f4-b462-86701f065f9a",
        "colab": {
          "base_uri": "https://localhost:8080/",
          "height": 204
        }
      },
      "source": [
        "semeval_df.sentiment = semeval_df.sentiment.astype('category')\n",
        "semeval_df[\"sentiment\"] = semeval_df[\"sentiment\"].cat.codes\n",
        "semeval_df.head()"
      ],
      "execution_count": 0,
      "outputs": [
        {
          "output_type": "execute_result",
          "data": {
            "text/html": [
              "<div>\n",
              "<style scoped>\n",
              "    .dataframe tbody tr th:only-of-type {\n",
              "        vertical-align: middle;\n",
              "    }\n",
              "\n",
              "    .dataframe tbody tr th {\n",
              "        vertical-align: top;\n",
              "    }\n",
              "\n",
              "    .dataframe thead th {\n",
              "        text-align: right;\n",
              "    }\n",
              "</style>\n",
              "<table border=\"1\" class=\"dataframe\">\n",
              "  <thead>\n",
              "    <tr style=\"text-align: right;\">\n",
              "      <th></th>\n",
              "      <th>id</th>\n",
              "      <th>sentiment</th>\n",
              "      <th>text</th>\n",
              "    </tr>\n",
              "  </thead>\n",
              "  <tbody>\n",
              "    <tr>\n",
              "      <th>0</th>\n",
              "      <td>619950566786113536</td>\n",
              "      <td>1</td>\n",
              "      <td>picturehouse pink floyd roger water walll open...</td>\n",
              "    </tr>\n",
              "    <tr>\n",
              "      <th>1</th>\n",
              "      <td>619969366986235905</td>\n",
              "      <td>1</td>\n",
              "      <td>order go set watchman store website tuesday ge...</td>\n",
              "    </tr>\n",
              "    <tr>\n",
              "      <th>2</th>\n",
              "      <td>619971047195045888</td>\n",
              "      <td>0</td>\n",
              "      <td>runway renovation airport prevent see taylor s...</td>\n",
              "    </tr>\n",
              "    <tr>\n",
              "      <th>3</th>\n",
              "      <td>619974445185302528</td>\n",
              "      <td>1</td>\n",
              "      <td>could ask onstage interview question miss usa ...</td>\n",
              "    </tr>\n",
              "    <tr>\n",
              "      <th>4</th>\n",
              "      <td>619987808317407232</td>\n",
              "      <td>2</td>\n",
              "      <td>portion book sale harper lee go set watchman r...</td>\n",
              "    </tr>\n",
              "  </tbody>\n",
              "</table>\n",
              "</div>"
            ],
            "text/plain": [
              "                   id  ...                                               text\n",
              "0  619950566786113536  ...  picturehouse pink floyd roger water walll open...\n",
              "1  619969366986235905  ...  order go set watchman store website tuesday ge...\n",
              "2  619971047195045888  ...  runway renovation airport prevent see taylor s...\n",
              "3  619974445185302528  ...  could ask onstage interview question miss usa ...\n",
              "4  619987808317407232  ...  portion book sale harper lee go set watchman r...\n",
              "\n",
              "[5 rows x 3 columns]"
            ]
          },
          "metadata": {
            "tags": []
          },
          "execution_count": 45
        }
      ]
    },
    {
      "cell_type": "code",
      "metadata": {
        "id": "2UwE-p_sXO6f",
        "colab_type": "code",
        "outputId": "8a05abce-2294-430c-dcbf-769288cec1d2",
        "colab": {
          "base_uri": "https://localhost:8080/",
          "height": 153
        }
      },
      "source": [
        "from sklearn.model_selection import StratifiedShuffleSplit\n",
        "split = StratifiedShuffleSplit(n_splits=1, test_size=0.2, random_state=42)\n",
        "for train_idx, test_idx in split.split(semeval_df, semeval_df[\"sentiment\"]):\n",
        "    train_set = semeval_df.loc[train_idx]\n",
        "    test_set = semeval_df.loc[test_idx]\n",
        "\n",
        "print(train_set[\"sentiment\"].value_counts())\n",
        "print(test_set[\"sentiment\"].value_counts())"
      ],
      "execution_count": 0,
      "outputs": [
        {
          "output_type": "stream",
          "text": [
            "1    8273\n",
            "2    5647\n",
            "0    2585\n",
            "Name: sentiment, dtype: int64\n",
            "1    2069\n",
            "2    1412\n",
            "0     646\n",
            "Name: sentiment, dtype: int64\n"
          ],
          "name": "stdout"
        }
      ]
    },
    {
      "cell_type": "code",
      "metadata": {
        "id": "xKgGBwTsXe00",
        "colab_type": "code",
        "colab": {}
      },
      "source": [
        "semeval_train_texts = train_set[\"text\"]\n",
        "semeval_test_texts = test_set[\"text\"]"
      ],
      "execution_count": 0,
      "outputs": []
    },
    {
      "cell_type": "code",
      "metadata": {
        "id": "wtKF5775Nhk4",
        "colab_type": "code",
        "colab": {}
      },
      "source": [
        "semeval_train_sequences = tokenizer.texts_to_sequences(semeval_train_texts)\n",
        "X_semeval_train = pad_sequences(semeval_train_sequences, X_train.shape[1])\n",
        "y_semeval_train = to_categorical(list(train_set[\"sentiment\"]))"
      ],
      "execution_count": 0,
      "outputs": []
    },
    {
      "cell_type": "code",
      "metadata": {
        "id": "6pEWRR10X3zO",
        "colab_type": "code",
        "colab": {}
      },
      "source": [
        "semeval_test_sequences = tokenizer.texts_to_sequences(semeval_test_texts)\n",
        "X_semeval_test = pad_sequences(semeval_test_sequences, X_train.shape[1])\n",
        "y_semeval_test = to_categorical(list(test_set[\"sentiment\"]))"
      ],
      "execution_count": 0,
      "outputs": []
    },
    {
      "cell_type": "code",
      "metadata": {
        "id": "oH6hZLPDz3kS",
        "colab_type": "code",
        "outputId": "5d8112a2-6392-4a66-fd76-5b2dfd9796cd",
        "colab": {
          "base_uri": "https://localhost:8080/",
          "height": 34
        }
      },
      "source": [
        "X_semeval_train.shape"
      ],
      "execution_count": 0,
      "outputs": [
        {
          "output_type": "execute_result",
          "data": {
            "text/plain": [
              "(16505, 118)"
            ]
          },
          "metadata": {
            "tags": []
          },
          "execution_count": 50
        }
      ]
    },
    {
      "cell_type": "code",
      "metadata": {
        "id": "sKtiCGJ1N7dY",
        "colab_type": "code",
        "cellView": "code",
        "colab": {}
      },
      "source": [
        "dense0 = Dense(128, activation='relu')(model.layers[-1].output)\n",
        "dropout0 = Dropout(rate=0.2)(dense0)\n",
        "dense1 = Dense(64, activation='relu')(dropout0)\n",
        "dropout1 = Dropout(rate=0.2)(dense1)\n",
        "dense2 = Dense(32, activation=\"relu\")(dropout1)\n",
        "dropout2 = Dropout(rate=0.2)(dense2)\n",
        "dense3 = Dense(16, activation=\"relu\")(dropout2)\n",
        "output = Dense(y_semeval_train.shape[1], activation='softmax')(dense3)\n",
        "\n",
        "# from keras.layers import BatchNormalization\n",
        "# dense0 = Dense(128, activation='relu')(model.layers[-1].output)\n",
        "# batchn0 = BatchNormalization()(dense0)\n",
        "# dense1 = Dense(64, activation='relu')(batchn0)\n",
        "# batchn1 = BatchNormalization()(dense1)\n",
        "# dense2 = Dense(32, activation=\"relu\")(batchn1)\n",
        "# batchn2 = BatchNormalization()(dense2)\n",
        "# dense3 = Dense(16, activation=\"relu\")(batchn2)\n",
        "# output = Dense(y_semeval_train.shape[1], activation='softmax')(dense3)\n",
        "\n",
        "# dense0 = Dense(128, activation='relu')(model.layers[-1].output)\n",
        "# batchn0 = BatchNormalization()(dense0)\n",
        "# dropout0 = Dropout(rate=0.25)(batchn0)\n",
        "# dense1 = Dense(64, activation='relu')(dropout0)\n",
        "# batchn1 = BatchNormalization()(dense1)\n",
        "# dropout1 = Dropout(rate=0.25)(batchn1)\n",
        "# dense2 = Dense(32, activation=\"relu\")(batchn1)\n",
        "# batchn2 = BatchNormalization()(dense2)\n",
        "# dropout2 = Dropout(rate=0.25)(batchn2)\n",
        "# dense3 = Dense(16, activation=\"relu\")(dropout2)\n",
        "# output = Dense(y_semeval_train.shape[1], activation='softmax')(dense3)"
      ],
      "execution_count": 0,
      "outputs": []
    },
    {
      "cell_type": "code",
      "metadata": {
        "id": "LEYq8czrKWkj",
        "colab_type": "code",
        "outputId": "b3a22f0a-e075-41da-b51e-5395cb7cd86a",
        "colab": {
          "base_uri": "https://localhost:8080/",
          "height": 51
        }
      },
      "source": [
        "seq_len_semeval = X_semeval_train.shape[1]\n",
        "new_model = Model(input=model.input, output=[output])"
      ],
      "execution_count": 0,
      "outputs": [
        {
          "output_type": "stream",
          "text": [
            "/usr/local/lib/python3.6/dist-packages/ipykernel_launcher.py:2: UserWarning: Update your `Model` call to the Keras 2 API: `Model(inputs=Tensor(\"in..., outputs=[<tf.Tenso...)`\n",
            "  \n"
          ],
          "name": "stderr"
        }
      ]
    },
    {
      "cell_type": "code",
      "metadata": {
        "id": "3mwOUSW9OX27",
        "colab_type": "code",
        "outputId": "4de07dae-b508-4007-debf-f51339e93a8b",
        "colab": {
          "base_uri": "https://localhost:8080/",
          "height": 1000
        }
      },
      "source": [
        "new_model.summary()\n",
        "from keras.utils import plot_model\n",
        "plot_model(new_model, to_file='model2.png', show_shapes=True)"
      ],
      "execution_count": 0,
      "outputs": [
        {
          "output_type": "stream",
          "text": [
            "Model: \"model_3\"\n",
            "_________________________________________________________________\n",
            "Layer (type)                 Output Shape              Param #   \n",
            "=================================================================\n",
            "input_2 (InputLayer)         (None, 118)               0         \n",
            "_________________________________________________________________\n",
            "embedding_2 (Embedding)      (None, 118, 200)          97305800  \n",
            "_________________________________________________________________\n",
            "lstm_2 (LSTM)                (None, 200)               320800    \n",
            "_________________________________________________________________\n",
            "dense_11 (Dense)             (None, 128)               25728     \n",
            "_________________________________________________________________\n",
            "dropout_6 (Dropout)          (None, 128)               0         \n",
            "_________________________________________________________________\n",
            "dense_12 (Dense)             (None, 64)                8256      \n",
            "_________________________________________________________________\n",
            "dropout_7 (Dropout)          (None, 64)                0         \n",
            "_________________________________________________________________\n",
            "dense_13 (Dense)             (None, 32)                2080      \n",
            "_________________________________________________________________\n",
            "dropout_8 (Dropout)          (None, 32)                0         \n",
            "_________________________________________________________________\n",
            "dense_14 (Dense)             (None, 16)                528       \n",
            "_________________________________________________________________\n",
            "dense_15 (Dense)             (None, 3)                 51        \n",
            "=================================================================\n",
            "Total params: 97,663,243\n",
            "Trainable params: 97,663,243\n",
            "Non-trainable params: 0\n",
            "_________________________________________________________________\n"
          ],
          "name": "stdout"
        },
        {
          "output_type": "execute_result",
          "data": {
            "image/png": "[encoded data removed]",
            "text/plain": [
              "<IPython.core.display.Image object>"
            ]
          },
          "metadata": {
            "tags": []
          },
          "execution_count": 53
        }
      ]
    },
    {
      "cell_type": "code",
      "metadata": {
        "id": "KyY__XbI_VpG",
        "colab_type": "code",
        "colab": {}
      },
      "source": [
        "# Make embeddings non-trainable\n",
        "new_model.layers[1].trainable = False\n",
        "# new_model.layers[2].trainable = False"
      ],
      "execution_count": 0,
      "outputs": []
    },
    {
      "cell_type": "code",
      "metadata": {
        "id": "tGVYgncXQFpw",
        "colab_type": "code",
        "colab": {}
      },
      "source": [
        "from keras.optimizers import Adam, Nadam, Adadelta, SGD, RMSprop\n",
        "# Adadelta performs poorly\n",
        "# Adam performs better than Nadam\n",
        "# SGD fares poorly\n",
        "# Default adam lr = 2e-3\n",
        "opt = RAdam()\n",
        "\n",
        "new_model.compile(loss='categorical_crossentropy',\n",
        "              optimizer=opt,\n",
        "              metrics=['accuracy', f1_m, precision_m, recall_m])\n",
        "\n",
        "# from keras.callbacks import LearningRateScheduler\n",
        "# import math\n",
        "# # learning rate schedule\n",
        "# def step_decay(epoch):\n",
        "# \tinitial_lrate = 0.01\n",
        "# \tdrop = 0.1\n",
        "# \tepochs_drop = 5.00\n",
        "# \tlrate = initial_lrate * math.pow(drop, ((1+epoch)/epochs_drop))\n",
        "# \treturn min(1e-4, lrate)\n",
        "\n",
        "# # learning schedule callback\n",
        "# lrate = LearningRateScheduler(step_decay)\n",
        "# # from keras.callbacks import EarlyStopping\n",
        "# # es = EarlyStopping(monitor='val_loss', mode='min', verbose=1, patience=10)"
      ],
      "execution_count": 0,
      "outputs": []
    },
    {
      "cell_type": "code",
      "metadata": {
        "id": "ObFaLmIFQ0oV",
        "colab_type": "code",
        "outputId": "9d3cef97-03a6-4d53-d2dd-ab9ac70e20da",
        "colab": {
          "base_uri": "https://localhost:8080/",
          "height": 34
        }
      },
      "source": [
        "print(X_semeval_train.shape, y_semeval_train.shape)"
      ],
      "execution_count": 0,
      "outputs": [
        {
          "output_type": "stream",
          "text": [
            "(16505, 118) (16505, 3)\n"
          ],
          "name": "stdout"
        }
      ]
    },
    {
      "cell_type": "code",
      "metadata": {
        "id": "TMlvOhPUQo1N",
        "colab_type": "code",
        "outputId": "6c310b3a-50c2-4043-d138-ba353babad6c",
        "colab": {
          "base_uri": "https://localhost:8080/",
          "height": 853
        }
      },
      "source": [
        "history = new_model.fit(X_semeval_train, y_semeval_train, batch_size=500, epochs=20, verbose=1, shuffle=True, validation_split=0.2)"
      ],
      "execution_count": 0,
      "outputs": [
        {
          "output_type": "stream",
          "text": [
            "WARNING:tensorflow:From /usr/local/lib/python3.6/dist-packages/tensorflow_core/python/ops/math_grad.py:1424: where (from tensorflow.python.ops.array_ops) is deprecated and will be removed in a future version.\n",
            "Instructions for updating:\n",
            "Use tf.where in 2.0, which has the same broadcast rule as np.where\n",
            "WARNING:tensorflow:From /usr/local/lib/python3.6/dist-packages/keras/backend/tensorflow_backend.py:1033: The name tf.assign_add is deprecated. Please use tf.compat.v1.assign_add instead.\n",
            "\n",
            "WARNING:tensorflow:From /usr/local/lib/python3.6/dist-packages/keras/backend/tensorflow_backend.py:1020: The name tf.assign is deprecated. Please use tf.compat.v1.assign instead.\n",
            "\n",
            "Train on 13204 samples, validate on 3301 samples\n",
            "Epoch 1/20\n",
            "13204/13204 [==============================] - 46s 3ms/step - loss: 1.1128 - acc: 0.2865 - f1_m: 0.0011 - precision_m: 0.1382 - recall_m: 5.3014e-04 - val_loss: 1.0693 - val_acc: 0.4789 - val_f1_m: 0.0000e+00 - val_precision_m: 0.0000e+00 - val_recall_m: 0.0000e+00\n",
            "Epoch 2/20\n",
            "13204/13204 [==============================] - 43s 3ms/step - loss: 1.0472 - acc: 0.4831 - f1_m: 0.0098 - precision_m: 0.2203 - recall_m: 0.0051 - val_loss: 1.0060 - val_acc: 0.4841 - val_f1_m: 6.0346e-04 - val_precision_m: 0.0757 - val_recall_m: 3.0294e-04\n",
            "Epoch 3/20\n",
            "13204/13204 [==============================] - 43s 3ms/step - loss: 0.9921 - acc: 0.5042 - f1_m: 0.2653 - precision_m: 0.5267 - recall_m: 0.1871 - val_loss: 0.9649 - val_acc: 0.4883 - val_f1_m: 0.4130 - val_precision_m: 0.5077 - val_recall_m: 0.3481\n",
            "Epoch 4/20\n",
            "13204/13204 [==============================] - 43s 3ms/step - loss: 0.9600 - acc: 0.5047 - f1_m: 0.3547 - precision_m: 0.5189 - recall_m: 0.2696 - val_loss: 0.9289 - val_acc: 0.4917 - val_f1_m: 0.4009 - val_precision_m: 0.5235 - val_recall_m: 0.3251\n",
            "Epoch 5/20\n",
            "13204/13204 [==============================] - 42s 3ms/step - loss: 0.9322 - acc: 0.5143 - f1_m: 0.3645 - precision_m: 0.5402 - recall_m: 0.2754 - val_loss: 0.9018 - val_acc: 0.5150 - val_f1_m: 0.4189 - val_precision_m: 0.5698 - val_recall_m: 0.3314\n",
            "Epoch 6/20\n",
            "13204/13204 [==============================] - 42s 3ms/step - loss: 0.9099 - acc: 0.5216 - f1_m: 0.4179 - precision_m: 0.5484 - recall_m: 0.3377 - val_loss: 0.8783 - val_acc: 0.5741 - val_f1_m: 0.4731 - val_precision_m: 0.6196 - val_recall_m: 0.3829\n",
            "Epoch 7/20\n",
            "13204/13204 [==============================] - 43s 3ms/step - loss: 0.8811 - acc: 0.5595 - f1_m: 0.4780 - precision_m: 0.5904 - recall_m: 0.4023 - val_loss: 0.8464 - val_acc: 0.5998 - val_f1_m: 0.5666 - val_precision_m: 0.6280 - val_recall_m: 0.5162\n",
            "Epoch 8/20\n",
            "13204/13204 [==============================] - 43s 3ms/step - loss: 0.8575 - acc: 0.5844 - f1_m: 0.5310 - precision_m: 0.6159 - recall_m: 0.4670 - val_loss: 0.8154 - val_acc: 0.6238 - val_f1_m: 0.5915 - val_precision_m: 0.6501 - val_recall_m: 0.5426\n",
            "Epoch 9/20\n",
            "13204/13204 [==============================] - 43s 3ms/step - loss: 0.8423 - acc: 0.5988 - f1_m: 0.5491 - precision_m: 0.6317 - recall_m: 0.4857 - val_loss: 0.7979 - val_acc: 0.6292 - val_f1_m: 0.6074 - val_precision_m: 0.6617 - val_recall_m: 0.5613\n",
            "Epoch 10/20\n",
            "13204/13204 [==============================] - 43s 3ms/step - loss: 0.8234 - acc: 0.6201 - f1_m: 0.5790 - precision_m: 0.6528 - recall_m: 0.5203 - val_loss: 0.7876 - val_acc: 0.6380 - val_f1_m: 0.6188 - val_precision_m: 0.6622 - val_recall_m: 0.5807\n",
            "Epoch 11/20\n",
            "13204/13204 [==============================] - 43s 3ms/step - loss: 0.8096 - acc: 0.6240 - f1_m: 0.5892 - precision_m: 0.6528 - recall_m: 0.5371 - val_loss: 0.7764 - val_acc: 0.6398 - val_f1_m: 0.6261 - val_precision_m: 0.6716 - val_recall_m: 0.5865\n",
            "Epoch 12/20\n",
            "13204/13204 [==============================] - 43s 3ms/step - loss: 0.7954 - acc: 0.6329 - f1_m: 0.6005 - precision_m: 0.6642 - recall_m: 0.5483 - val_loss: 0.7665 - val_acc: 0.6437 - val_f1_m: 0.6310 - val_precision_m: 0.6781 - val_recall_m: 0.5901\n",
            "Epoch 13/20\n",
            "13204/13204 [==============================] - 42s 3ms/step - loss: 0.7907 - acc: 0.6344 - f1_m: 0.6015 - precision_m: 0.6640 - recall_m: 0.5501 - val_loss: 0.7719 - val_acc: 0.6389 - val_f1_m: 0.6237 - val_precision_m: 0.6656 - val_recall_m: 0.5868\n",
            "Epoch 14/20\n",
            "13204/13204 [==============================] - 43s 3ms/step - loss: 0.7768 - acc: 0.6476 - f1_m: 0.6140 - precision_m: 0.6780 - recall_m: 0.5615 - val_loss: 0.7732 - val_acc: 0.6437 - val_f1_m: 0.6290 - val_precision_m: 0.6638 - val_recall_m: 0.5977\n",
            "Epoch 15/20\n",
            "13204/13204 [==============================] - 43s 3ms/step - loss: 0.7706 - acc: 0.6451 - f1_m: 0.6191 - precision_m: 0.6746 - recall_m: 0.5723 - val_loss: 0.7699 - val_acc: 0.6450 - val_f1_m: 0.6317 - val_precision_m: 0.6631 - val_recall_m: 0.6032\n",
            "Epoch 16/20\n",
            "13204/13204 [==============================] - 43s 3ms/step - loss: 0.7639 - acc: 0.6536 - f1_m: 0.6275 - precision_m: 0.6824 - recall_m: 0.5810 - val_loss: 0.7537 - val_acc: 0.6568 - val_f1_m: 0.6415 - val_precision_m: 0.6812 - val_recall_m: 0.6062\n",
            "Epoch 17/20\n",
            "13204/13204 [==============================] - 43s 3ms/step - loss: 0.7542 - acc: 0.6556 - f1_m: 0.6331 - precision_m: 0.6841 - recall_m: 0.5894 - val_loss: 0.7513 - val_acc: 0.6689 - val_f1_m: 0.6585 - val_precision_m: 0.6911 - val_recall_m: 0.6289\n",
            "Epoch 18/20\n",
            "13204/13204 [==============================] - 42s 3ms/step - loss: 0.7482 - acc: 0.6603 - f1_m: 0.6346 - precision_m: 0.6915 - recall_m: 0.5865 - val_loss: 0.7537 - val_acc: 0.6646 - val_f1_m: 0.6530 - val_precision_m: 0.6841 - val_recall_m: 0.6247\n",
            "Epoch 19/20\n",
            "13204/13204 [==============================] - 42s 3ms/step - loss: 0.7432 - acc: 0.6677 - f1_m: 0.6458 - precision_m: 0.6970 - recall_m: 0.6019 - val_loss: 0.7515 - val_acc: 0.6568 - val_f1_m: 0.6321 - val_precision_m: 0.6817 - val_recall_m: 0.5892\n",
            "Epoch 20/20\n",
            "13204/13204 [==============================] - 42s 3ms/step - loss: 0.7387 - acc: 0.6651 - f1_m: 0.6465 - precision_m: 0.6965 - recall_m: 0.6035 - val_loss: 0.7470 - val_acc: 0.6589 - val_f1_m: 0.6445 - val_precision_m: 0.6796 - val_recall_m: 0.6128\n"
          ],
          "name": "stdout"
        }
      ]
    },
    {
      "cell_type": "code",
      "metadata": {
        "id": "wX0Bizf-P-Yz",
        "colab_type": "code",
        "outputId": "d7c4418d-d54c-4f27-aab8-4a44547843ed",
        "colab": {
          "base_uri": "https://localhost:8080/",
          "height": 851
        }
      },
      "source": [
        "import matplotlib.pyplot as plt\n",
        "\n",
        "plt.plot(history.history['f1_m'])\n",
        "plt.plot(history.history['val_f1_m'])\n",
        "plt.title('Model F1 score')\n",
        "plt.ylabel('F1')\n",
        "plt.xlabel('Epoch')\n",
        "plt.legend(['Train', 'Test'], loc='upper left')\n",
        "plt.show()\n",
        "\n",
        "# Plot training & validation loss values\n",
        "plt.plot(history.history['acc'])\n",
        "plt.plot(history.history['val_acc'])\n",
        "plt.title('Model Accuracy')\n",
        "plt.ylabel('Loss')\n",
        "plt.xlabel('Epoch')\n",
        "plt.legend(['Train', 'Test'], loc='upper left')\n",
        "plt.show()\n",
        "\n",
        "# Plot training & validation loss values\n",
        "plt.plot(history.history['recall_m'])\n",
        "plt.plot(history.history['val_recall_m'])\n",
        "plt.title('Model Recall')\n",
        "plt.ylabel('Recall')\n",
        "plt.xlabel('Epoch')\n",
        "plt.legend(['Train', 'Test'], loc='upper left')\n",
        "plt.show()"
      ],
      "execution_count": 0,
      "outputs": [
        {
          "output_type": "display_data",
          "data": {
            "image/png": "[encoded data removed]",
            "text/plain": [
              "<Figure size 432x288 with 1 Axes>"
            ]
          },
          "metadata": {
            "tags": []
          }
        },
        {
          "output_type": "display_data",
          "data": {
            "image/png": "[encoded data removed]",
            "text/plain": [
              "<Figure size 432x288 with 1 Axes>"
            ]
          },
          "metadata": {
            "tags": []
          }
        },
        {
          "output_type": "display_data",
          "data": {
            "image/png": "[encoded data removed]",
            "text/plain": [
              "<Figure size 432x288 with 1 Axes>"
            ]
          },
          "metadata": {
            "tags": []
          }
        }
      ]
    },
    {
      "cell_type": "code",
      "metadata": {
        "id": "Nvg5AUoXQ5ax",
        "colab_type": "code",
        "outputId": "23577e8f-5d6a-44ca-a9f9-518c54a7a5d5",
        "colab": {
          "base_uri": "https://localhost:8080/",
          "height": 119
        }
      },
      "source": [
        "new_model.evaluate(X_semeval_test, y_semeval_test)"
      ],
      "execution_count": 0,
      "outputs": [
        {
          "output_type": "stream",
          "text": [
            "4127/4127 [==============================] - 5s 1ms/step\n"
          ],
          "name": "stdout"
        },
        {
          "output_type": "execute_result",
          "data": {
            "text/plain": [
              "[0.749794375587382,\n",
              " 0.6624666827121312,\n",
              " 0.6462260271450322,\n",
              " 0.6838787426187711,\n",
              " 0.6135207171269124]"
            ]
          },
          "metadata": {
            "tags": []
          },
          "execution_count": 59
        }
      ]
    },
    {
      "cell_type": "code",
      "metadata": {
        "id": "-mZ2-MNRY_ig",
        "colab_type": "code",
        "outputId": "f4652a9c-c18c-4047-9b89-a3e4b2316e40",
        "colab": {
          "base_uri": "https://localhost:8080/",
          "height": 221
        }
      },
      "source": [
        "y_pred = new_model.predict(X_semeval_test)\n",
        "y_pred = np.argmax(y_pred, axis=1)\n",
        "y_true = np.argmax(y_semeval_test, axis=1)\n",
        "from sklearn.metrics import classification_report, f1_score, accuracy_score, recall_score\n",
        "print(f1_score(y_true, y_pred, average='macro'))\n",
        "print(recall_score(y_true, y_pred, average='macro'))\n",
        "print(classification_report(y_true, y_pred))"
      ],
      "execution_count": 0,
      "outputs": [
        {
          "output_type": "stream",
          "text": [
            "0.6384798522876047\n",
            "0.6355431572571364\n",
            "              precision    recall  f1-score   support\n",
            "\n",
            "           0       0.57      0.59      0.58       646\n",
            "           1       0.67      0.75      0.70      2069\n",
            "           2       0.71      0.57      0.64      1412\n",
            "\n",
            "    accuracy                           0.66      4127\n",
            "   macro avg       0.65      0.64      0.64      4127\n",
            "weighted avg       0.67      0.66      0.66      4127\n",
            "\n"
          ],
          "name": "stdout"
        }
      ]
    },
    {
      "cell_type": "markdown",
      "metadata": {
        "id": "UqFdgevZ_5bB",
        "colab_type": "text"
      },
      "source": [
        "Results of Ablation tests:\n",
        "1.   Embedding frozen but LSTM trainable : \n",
        "2.   Embedding trainable but LSTM frozen\n",
        "3.   Embedding and LSTM both trainable : 0.6003421\n",
        "\n"
      ]
    },
    {
      "cell_type": "code",
      "metadata": {
        "id": "1DDkKaUoZGzI",
        "colab_type": "code",
        "outputId": "5b3145ba-eb4b-4f00-f79c-f7e113f8acee",
        "colab": {
          "base_uri": "https://localhost:8080/",
          "height": 493
        }
      },
      "source": [
        "from keras.models import load_model\n",
        "model = load_model('/content/gdrive/My Drive/Colab Notebooks/distant_tweets_pretrained.h5')\n",
        "model.summary()"
      ],
      "execution_count": 0,
      "outputs": [
        {
          "output_type": "stream",
          "text": [
            "Model: \"model_6\"\n",
            "_________________________________________________________________\n",
            "Layer (type)                 Output Shape              Param #   \n",
            "=================================================================\n",
            "input_4 (InputLayer)         (None, 49)                0         \n",
            "_________________________________________________________________\n",
            "embedding_4 (Embedding)      (None, 49, 300)           33786000  \n",
            "_________________________________________________________________\n",
            "lstm_4 (LSTM)                (None, 300)               721200    \n",
            "_________________________________________________________________\n",
            "dense_26 (Dense)             (None, 128)               38528     \n",
            "_________________________________________________________________\n",
            "dense_27 (Dense)             (None, 64)                8256      \n",
            "_________________________________________________________________\n",
            "dropout_15 (Dropout)         (None, 64)                0         \n",
            "_________________________________________________________________\n",
            "dense_28 (Dense)             (None, 32)                2080      \n",
            "_________________________________________________________________\n",
            "dropout_16 (Dropout)         (None, 32)                0         \n",
            "_________________________________________________________________\n",
            "dense_29 (Dense)             (None, 16)                528       \n",
            "_________________________________________________________________\n",
            "dense_30 (Dense)             (None, 2)                 34        \n",
            "=================================================================\n",
            "Total params: 34,556,626\n",
            "Trainable params: 34,556,626\n",
            "Non-trainable params: 0\n",
            "_________________________________________________________________\n"
          ],
          "name": "stdout"
        }
      ]
    },
    {
      "cell_type": "code",
      "metadata": {
        "id": "KYsemsuHJ4_5",
        "colab_type": "code",
        "outputId": "fc3dc89c-a836-4c48-9880-2a4796b81480",
        "colab": {
          "base_uri": "https://localhost:8080/",
          "height": 309
        }
      },
      "source": [
        "model.layers.pop()\n",
        "model.layers.pop()\n",
        "model.layers.pop()\n",
        "model.layers.pop()\n",
        "model.layers.pop()\n",
        "model.layers.pop()\n",
        "model.layers.pop()\n",
        "model.layers.pop()\n",
        "model.summary()"
      ],
      "execution_count": 0,
      "outputs": [
        {
          "output_type": "stream",
          "text": [
            "Model: \"model_5\"\n",
            "_________________________________________________________________\n",
            "Layer (type)                 Output Shape              Param #   \n",
            "=================================================================\n",
            "input_3 (InputLayer)         (None, 38)                0         \n",
            "_________________________________________________________________\n",
            "embedding_3 (Embedding)      (None, 38, 300)           33754500  \n",
            "_________________________________________________________________\n",
            "lstm_3 (LSTM)                (None, 300)               721200    \n",
            "=================================================================\n",
            "Total params: 34,501,766\n",
            "Trainable params: 34,501,766\n",
            "Non-trainable params: 0\n",
            "_________________________________________________________________\n"
          ],
          "name": "stdout"
        },
        {
          "output_type": "stream",
          "text": [
            "/usr/local/lib/python3.6/dist-packages/keras/engine/training.py:493: UserWarning: Discrepancy between trainable weights and collected trainable weights, did you set `model.trainable` without calling `model.compile` after ?\n",
            "  'Discrepancy between trainable weights and collected trainable'\n"
          ],
          "name": "stderr"
        }
      ]
    },
    {
      "cell_type": "code",
      "metadata": {
        "id": "iz9h63pZI8hB",
        "colab_type": "code",
        "colab": {}
      },
      "source": [
        "dense0 = Dense(128, activation='softmax')(model.layers[-1].output)\n",
        "dense1 = Dense(64, activation='softmax')(dense0)\n",
        "dropout1 = Dropout(rate=0.25)(dense1)\n",
        "dense2 = Dense(32, activation=\"relu\")(dropout1)\n",
        "dropout2 = Dropout(rate=0.25)(dense2)\n",
        "dense3 = Dense(16, activation=\"relu\")(dropout2)\n",
        "output = Dense(y_semeval_train.shape[1], activation='softmax')(dense3)"
      ],
      "execution_count": 0,
      "outputs": []
    },
    {
      "cell_type": "markdown",
      "metadata": {
        "id": "3rXTBmcWJNal",
        "colab_type": "text"
      },
      "source": [
        "Freeze embedding but LSTM trainable\n"
      ]
    },
    {
      "cell_type": "code",
      "metadata": {
        "id": "gG26IySvJCmp",
        "colab_type": "code",
        "colab": {}
      },
      "source": [
        "# model.layers[1].trainable = False"
      ],
      "execution_count": 0,
      "outputs": []
    },
    {
      "cell_type": "code",
      "metadata": {
        "id": "PnSciWK8JSoo",
        "colab_type": "code",
        "outputId": "38527d7a-a9cb-494b-e505-cfee32155c6d",
        "colab": {
          "base_uri": "https://localhost:8080/",
          "height": 51
        }
      },
      "source": [
        "new_model = Model(input=model.input, output=[output])"
      ],
      "execution_count": 0,
      "outputs": [
        {
          "output_type": "stream",
          "text": [
            "/usr/local/lib/python3.6/dist-packages/ipykernel_launcher.py:1: UserWarning: Update your `Model` call to the Keras 2 API: `Model(inputs=Tensor(\"in..., outputs=[<tf.Tenso...)`\n",
            "  \"\"\"Entry point for launching an IPython kernel.\n"
          ],
          "name": "stderr"
        }
      ]
    },
    {
      "cell_type": "code",
      "metadata": {
        "id": "rpZg8tRSJhk5",
        "colab_type": "code",
        "outputId": "54db018a-1ce6-4c92-efa5-b73eaa857ddd",
        "colab": {
          "base_uri": "https://localhost:8080/",
          "height": 493
        }
      },
      "source": [
        "new_model.summary()"
      ],
      "execution_count": 0,
      "outputs": [
        {
          "output_type": "stream",
          "text": [
            "Model: \"model_8\"\n",
            "_________________________________________________________________\n",
            "Layer (type)                 Output Shape              Param #   \n",
            "=================================================================\n",
            "input_3 (InputLayer)         (None, 38)                0         \n",
            "_________________________________________________________________\n",
            "embedding_3 (Embedding)      (None, 38, 300)           33754500  \n",
            "_________________________________________________________________\n",
            "lstm_3 (LSTM)                (None, 300)               721200    \n",
            "_________________________________________________________________\n",
            "dense_35 (Dense)             (None, 128)               38528     \n",
            "_________________________________________________________________\n",
            "dense_36 (Dense)             (None, 64)                8256      \n",
            "_________________________________________________________________\n",
            "dropout_17 (Dropout)         (None, 64)                0         \n",
            "_________________________________________________________________\n",
            "dense_37 (Dense)             (None, 32)                2080      \n",
            "_________________________________________________________________\n",
            "dropout_18 (Dropout)         (None, 32)                0         \n",
            "_________________________________________________________________\n",
            "dense_38 (Dense)             (None, 16)                528       \n",
            "_________________________________________________________________\n",
            "dense_39 (Dense)             (None, 3)                 51        \n",
            "=================================================================\n",
            "Total params: 34,525,143\n",
            "Trainable params: 34,525,143\n",
            "Non-trainable params: 0\n",
            "_________________________________________________________________\n"
          ],
          "name": "stdout"
        }
      ]
    },
    {
      "cell_type": "code",
      "metadata": {
        "id": "y7vb0hJvKNE7",
        "colab_type": "code",
        "colab": {}
      },
      "source": [
        "from keras.optimizers import Adam\n",
        "adam = Adam(lr=1e-3)\n",
        "\n",
        "new_model.compile(loss='categorical_crossentropy',\n",
        "              optimizer=adam,\n",
        "              metrics=['acc'])"
      ],
      "execution_count": 0,
      "outputs": []
    },
    {
      "cell_type": "code",
      "metadata": {
        "id": "XvFzYba2KR2V",
        "colab_type": "code",
        "outputId": "e7360897-4f9a-45c0-b2f2-219db0928723",
        "colab": {
          "base_uri": "https://localhost:8080/",
          "height": 387
        }
      },
      "source": [
        "new_model.fit(X_semeval_train, y_semeval_train, batch_size=1000, epochs=20, verbose=1, shuffle=True, validation_split=0.2)"
      ],
      "execution_count": 0,
      "outputs": [
        {
          "output_type": "stream",
          "text": [
            "Train on 13204 samples, validate on 3301 samples\n",
            "Epoch 1/20\n",
            "13204/13204 [==============================] - 83s 6ms/step - loss: 1.0336 - acc: 0.4716 - val_loss: 0.9563 - val_acc: 0.4838\n",
            "Epoch 2/20\n",
            " 8000/13204 [=================>............] - ETA: 28s - loss: 0.9518 - acc: 0.5047"
          ],
          "name": "stdout"
        },
        {
          "output_type": "error",
          "ename": "KeyboardInterrupt",
          "evalue": "ignored",
          "traceback": [
            "\u001b[0;31m---------------------------------------------------------------------------\u001b[0m",
            "\u001b[0;31mKeyboardInterrupt\u001b[0m                         Traceback (most recent call last)",
            "\u001b[0;32m<ipython-input-74-2cb15c25353c>\u001b[0m in \u001b[0;36m<module>\u001b[0;34m()\u001b[0m\n\u001b[0;32m----> 1\u001b[0;31m \u001b[0mnew_model\u001b[0m\u001b[0;34m.\u001b[0m\u001b[0mfit\u001b[0m\u001b[0;34m(\u001b[0m\u001b[0mX_semeval_train\u001b[0m\u001b[0;34m,\u001b[0m \u001b[0my_semeval_train\u001b[0m\u001b[0;34m,\u001b[0m \u001b[0mbatch_size\u001b[0m\u001b[0;34m=\u001b[0m\u001b[0;36m1000\u001b[0m\u001b[0;34m,\u001b[0m \u001b[0mepochs\u001b[0m\u001b[0;34m=\u001b[0m\u001b[0;36m20\u001b[0m\u001b[0;34m,\u001b[0m \u001b[0mverbose\u001b[0m\u001b[0;34m=\u001b[0m\u001b[0;36m1\u001b[0m\u001b[0;34m,\u001b[0m \u001b[0mshuffle\u001b[0m\u001b[0;34m=\u001b[0m\u001b[0;32mTrue\u001b[0m\u001b[0;34m,\u001b[0m \u001b[0mvalidation_split\u001b[0m\u001b[0;34m=\u001b[0m\u001b[0;36m0.2\u001b[0m\u001b[0;34m)\u001b[0m\u001b[0;34m\u001b[0m\u001b[0;34m\u001b[0m\u001b[0m\n\u001b[0m",
            "\u001b[0;32m/usr/local/lib/python3.6/dist-packages/keras/engine/training.py\u001b[0m in \u001b[0;36mfit\u001b[0;34m(self, x, y, batch_size, epochs, verbose, callbacks, validation_split, validation_data, shuffle, class_weight, sample_weight, initial_epoch, steps_per_epoch, validation_steps, validation_freq, max_queue_size, workers, use_multiprocessing, **kwargs)\u001b[0m\n\u001b[1;32m   1176\u001b[0m                                         \u001b[0msteps_per_epoch\u001b[0m\u001b[0;34m=\u001b[0m\u001b[0msteps_per_epoch\u001b[0m\u001b[0;34m,\u001b[0m\u001b[0;34m\u001b[0m\u001b[0;34m\u001b[0m\u001b[0m\n\u001b[1;32m   1177\u001b[0m                                         \u001b[0mvalidation_steps\u001b[0m\u001b[0;34m=\u001b[0m\u001b[0mvalidation_steps\u001b[0m\u001b[0;34m,\u001b[0m\u001b[0;34m\u001b[0m\u001b[0;34m\u001b[0m\u001b[0m\n\u001b[0;32m-> 1178\u001b[0;31m                                         validation_freq=validation_freq)\n\u001b[0m\u001b[1;32m   1179\u001b[0m \u001b[0;34m\u001b[0m\u001b[0m\n\u001b[1;32m   1180\u001b[0m     def evaluate(self,\n",
            "\u001b[0;32m/usr/local/lib/python3.6/dist-packages/keras/engine/training_arrays.py\u001b[0m in \u001b[0;36mfit_loop\u001b[0;34m(model, fit_function, fit_inputs, out_labels, batch_size, epochs, verbose, callbacks, val_function, val_inputs, shuffle, callback_metrics, initial_epoch, steps_per_epoch, validation_steps, validation_freq)\u001b[0m\n\u001b[1;32m    202\u001b[0m                     \u001b[0mins_batch\u001b[0m\u001b[0;34m[\u001b[0m\u001b[0mi\u001b[0m\u001b[0;34m]\u001b[0m \u001b[0;34m=\u001b[0m \u001b[0mins_batch\u001b[0m\u001b[0;34m[\u001b[0m\u001b[0mi\u001b[0m\u001b[0;34m]\u001b[0m\u001b[0;34m.\u001b[0m\u001b[0mtoarray\u001b[0m\u001b[0;34m(\u001b[0m\u001b[0;34m)\u001b[0m\u001b[0;34m\u001b[0m\u001b[0;34m\u001b[0m\u001b[0m\n\u001b[1;32m    203\u001b[0m \u001b[0;34m\u001b[0m\u001b[0m\n\u001b[0;32m--> 204\u001b[0;31m                 \u001b[0mouts\u001b[0m \u001b[0;34m=\u001b[0m \u001b[0mfit_function\u001b[0m\u001b[0;34m(\u001b[0m\u001b[0mins_batch\u001b[0m\u001b[0;34m)\u001b[0m\u001b[0;34m\u001b[0m\u001b[0;34m\u001b[0m\u001b[0m\n\u001b[0m\u001b[1;32m    205\u001b[0m                 \u001b[0mouts\u001b[0m \u001b[0;34m=\u001b[0m \u001b[0mto_list\u001b[0m\u001b[0;34m(\u001b[0m\u001b[0mouts\u001b[0m\u001b[0;34m)\u001b[0m\u001b[0;34m\u001b[0m\u001b[0;34m\u001b[0m\u001b[0m\n\u001b[1;32m    206\u001b[0m                 \u001b[0;32mfor\u001b[0m \u001b[0ml\u001b[0m\u001b[0;34m,\u001b[0m \u001b[0mo\u001b[0m \u001b[0;32min\u001b[0m \u001b[0mzip\u001b[0m\u001b[0;34m(\u001b[0m\u001b[0mout_labels\u001b[0m\u001b[0;34m,\u001b[0m \u001b[0mouts\u001b[0m\u001b[0;34m)\u001b[0m\u001b[0;34m:\u001b[0m\u001b[0;34m\u001b[0m\u001b[0;34m\u001b[0m\u001b[0m\n",
            "\u001b[0;32m/usr/local/lib/python3.6/dist-packages/keras/backend/tensorflow_backend.py\u001b[0m in \u001b[0;36m__call__\u001b[0;34m(self, inputs)\u001b[0m\n\u001b[1;32m   2977\u001b[0m                     \u001b[0;32mreturn\u001b[0m \u001b[0mself\u001b[0m\u001b[0;34m.\u001b[0m\u001b[0m_legacy_call\u001b[0m\u001b[0;34m(\u001b[0m\u001b[0minputs\u001b[0m\u001b[0;34m)\u001b[0m\u001b[0;34m\u001b[0m\u001b[0;34m\u001b[0m\u001b[0m\n\u001b[1;32m   2978\u001b[0m \u001b[0;34m\u001b[0m\u001b[0m\n\u001b[0;32m-> 2979\u001b[0;31m             \u001b[0;32mreturn\u001b[0m \u001b[0mself\u001b[0m\u001b[0;34m.\u001b[0m\u001b[0m_call\u001b[0m\u001b[0;34m(\u001b[0m\u001b[0minputs\u001b[0m\u001b[0;34m)\u001b[0m\u001b[0;34m\u001b[0m\u001b[0;34m\u001b[0m\u001b[0m\n\u001b[0m\u001b[1;32m   2980\u001b[0m         \u001b[0;32melse\u001b[0m\u001b[0;34m:\u001b[0m\u001b[0;34m\u001b[0m\u001b[0;34m\u001b[0m\u001b[0m\n\u001b[1;32m   2981\u001b[0m             \u001b[0;32mif\u001b[0m \u001b[0mpy_any\u001b[0m\u001b[0;34m(\u001b[0m\u001b[0mis_tensor\u001b[0m\u001b[0;34m(\u001b[0m\u001b[0mx\u001b[0m\u001b[0;34m)\u001b[0m \u001b[0;32mfor\u001b[0m \u001b[0mx\u001b[0m \u001b[0;32min\u001b[0m \u001b[0minputs\u001b[0m\u001b[0;34m)\u001b[0m\u001b[0;34m:\u001b[0m\u001b[0;34m\u001b[0m\u001b[0;34m\u001b[0m\u001b[0m\n",
            "\u001b[0;32m/usr/local/lib/python3.6/dist-packages/keras/backend/tensorflow_backend.py\u001b[0m in \u001b[0;36m_call\u001b[0;34m(self, inputs)\u001b[0m\n\u001b[1;32m   2935\u001b[0m             \u001b[0mfetched\u001b[0m \u001b[0;34m=\u001b[0m \u001b[0mself\u001b[0m\u001b[0;34m.\u001b[0m\u001b[0m_callable_fn\u001b[0m\u001b[0;34m(\u001b[0m\u001b[0;34m*\u001b[0m\u001b[0marray_vals\u001b[0m\u001b[0;34m,\u001b[0m \u001b[0mrun_metadata\u001b[0m\u001b[0;34m=\u001b[0m\u001b[0mself\u001b[0m\u001b[0;34m.\u001b[0m\u001b[0mrun_metadata\u001b[0m\u001b[0;34m)\u001b[0m\u001b[0;34m\u001b[0m\u001b[0;34m\u001b[0m\u001b[0m\n\u001b[1;32m   2936\u001b[0m         \u001b[0;32melse\u001b[0m\u001b[0;34m:\u001b[0m\u001b[0;34m\u001b[0m\u001b[0;34m\u001b[0m\u001b[0m\n\u001b[0;32m-> 2937\u001b[0;31m             \u001b[0mfetched\u001b[0m \u001b[0;34m=\u001b[0m \u001b[0mself\u001b[0m\u001b[0;34m.\u001b[0m\u001b[0m_callable_fn\u001b[0m\u001b[0;34m(\u001b[0m\u001b[0;34m*\u001b[0m\u001b[0marray_vals\u001b[0m\u001b[0;34m)\u001b[0m\u001b[0;34m\u001b[0m\u001b[0;34m\u001b[0m\u001b[0m\n\u001b[0m\u001b[1;32m   2938\u001b[0m         \u001b[0;32mreturn\u001b[0m \u001b[0mfetched\u001b[0m\u001b[0;34m[\u001b[0m\u001b[0;34m:\u001b[0m\u001b[0mlen\u001b[0m\u001b[0;34m(\u001b[0m\u001b[0mself\u001b[0m\u001b[0;34m.\u001b[0m\u001b[0moutputs\u001b[0m\u001b[0;34m)\u001b[0m\u001b[0;34m]\u001b[0m\u001b[0;34m\u001b[0m\u001b[0;34m\u001b[0m\u001b[0m\n\u001b[1;32m   2939\u001b[0m \u001b[0;34m\u001b[0m\u001b[0m\n",
            "\u001b[0;32m/usr/local/lib/python3.6/dist-packages/tensorflow_core/python/client/session.py\u001b[0m in \u001b[0;36m__call__\u001b[0;34m(self, *args, **kwargs)\u001b[0m\n\u001b[1;32m   1470\u001b[0m         ret = tf_session.TF_SessionRunCallable(self._session._session,\n\u001b[1;32m   1471\u001b[0m                                                \u001b[0mself\u001b[0m\u001b[0;34m.\u001b[0m\u001b[0m_handle\u001b[0m\u001b[0;34m,\u001b[0m \u001b[0margs\u001b[0m\u001b[0;34m,\u001b[0m\u001b[0;34m\u001b[0m\u001b[0;34m\u001b[0m\u001b[0m\n\u001b[0;32m-> 1472\u001b[0;31m                                                run_metadata_ptr)\n\u001b[0m\u001b[1;32m   1473\u001b[0m         \u001b[0;32mif\u001b[0m \u001b[0mrun_metadata\u001b[0m\u001b[0;34m:\u001b[0m\u001b[0;34m\u001b[0m\u001b[0;34m\u001b[0m\u001b[0m\n\u001b[1;32m   1474\u001b[0m           \u001b[0mproto_data\u001b[0m \u001b[0;34m=\u001b[0m \u001b[0mtf_session\u001b[0m\u001b[0;34m.\u001b[0m\u001b[0mTF_GetBuffer\u001b[0m\u001b[0;34m(\u001b[0m\u001b[0mrun_metadata_ptr\u001b[0m\u001b[0;34m)\u001b[0m\u001b[0;34m\u001b[0m\u001b[0;34m\u001b[0m\u001b[0m\n",
            "\u001b[0;31mKeyboardInterrupt\u001b[0m: "
          ]
        }
      ]
    },
    {
      "cell_type": "code",
      "metadata": {
        "id": "fDItozmuZ1PX",
        "colab_type": "code",
        "outputId": "995ceaea-610e-43fc-b91d-47d93f1a8180",
        "colab": {
          "base_uri": "https://localhost:8080/",
          "height": 51
        }
      },
      "source": [
        "new_model.evaluate(X_semeval_test, y_semeval_test)"
      ],
      "execution_count": 0,
      "outputs": [
        {
          "output_type": "stream",
          "text": [
            "4127/4127 [==============================] - 2s 462us/step\n"
          ],
          "name": "stdout"
        },
        {
          "output_type": "execute_result",
          "data": {
            "text/plain": [
              "[0.872562335670962, 0.6290283499776176]"
            ]
          },
          "metadata": {
            "tags": []
          },
          "execution_count": 108
        }
      ]
    },
    {
      "cell_type": "code",
      "metadata": {
        "id": "zFbDyjFBavFZ",
        "colab_type": "code",
        "outputId": "f5b4b3d7-5ce3-477c-c56e-a5c2c60de559",
        "colab": {
          "base_uri": "https://localhost:8080/",
          "height": 34
        }
      },
      "source": [
        "y_pred = new_model.predict(X_semeval_test)\n",
        "y_pred = np.argmax(y_pred, axis=1)\n",
        "y_true = np.argmax(y_semeval_test, axis=1)\n",
        "from sklearn.metrics import f1_score\n",
        "f1_score(y_true, y_pred, average='macro')"
      ],
      "execution_count": 0,
      "outputs": [
        {
          "output_type": "execute_result",
          "data": {
            "text/plain": [
              "0.5830646250813123"
            ]
          },
          "metadata": {
            "tags": []
          },
          "execution_count": 109
        }
      ]
    },
    {
      "cell_type": "code",
      "metadata": {
        "id": "xzZY_SeLayaa",
        "colab_type": "code",
        "colab": {}
      },
      "source": [
        ""
      ],
      "execution_count": 0,
      "outputs": []
    }
  ]
}