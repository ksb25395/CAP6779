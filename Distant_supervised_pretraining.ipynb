{
  "nbformat": 4,
  "nbformat_minor": 0,
  "metadata": {
    "colab": {
      "name": "Distant_supervised_pretraining.ipynb",
      "provenance": [],
      "collapsed_sections": [],
      "machine_shape": "hm",
      "authorship_tag": "ABX9TyPRlkw3R6n9HqNNtNjjMFd5",
      "include_colab_link": true
    },
    "kernelspec": {
      "name": "python3",
      "display_name": "Python 3"
    }
  },
  "cells": [
    {
      "cell_type": "markdown",
      "metadata": {
        "id": "view-in-github",
        "colab_type": "text"
      },
      "source": [
        "<a href=\"https://colab.research.google.com/github/ksb25395/CAP6779/blob/master/Distant_supervised_pretraining.ipynb\" target=\"_parent\"><img src=\"https://colab.research.google.com/assets/colab-badge.svg\" alt=\"Open In Colab\"/></a>"
      ]
    },
    {
      "cell_type": "code",
      "metadata": {
        "id": "TX_Z0-EIuX_0",
        "colab_type": "code",
        "outputId": "d37c752a-3c67-43ab-926a-df37c3043834",
        "colab": {
          "base_uri": "https://localhost:8080/",
          "height": 34
        }
      },
      "source": [
        "from google.colab import drive\n",
        "drive.mount('/content/gdrive')"
      ],
      "execution_count": 0,
      "outputs": [
        {
          "output_type": "stream",
          "text": [
            "Drive already mounted at /content/gdrive; to attempt to forcibly remount, call drive.mount(\"/content/gdrive\", force_remount=True).\n"
          ],
          "name": "stdout"
        }
      ]
    },
    {
      "cell_type": "code",
      "metadata": {
        "id": "PCR-Ni3nuiZu",
        "colab_type": "code",
        "outputId": "d3e1cd75-436a-40ab-f4bb-ea0452ba8486",
        "colab": {
          "base_uri": "https://localhost:8080/",
          "height": 71
        }
      },
      "source": [
        "from gensim.models import KeyedVectors\n",
        "EMBEDDING_FILE = '/content/gdrive/My Drive/Colab Notebooks/datasets/Google/GoogleNews-vectors-negative300.bin.gz'\n",
        "word2vec = KeyedVectors.load_word2vec_format(EMBEDDING_FILE, binary=True)"
      ],
      "execution_count": 0,
      "outputs": [
        {
          "output_type": "stream",
          "text": [
            "/usr/local/lib/python3.6/dist-packages/smart_open/smart_open_lib.py:402: UserWarning: This function is deprecated, use smart_open.open instead. See the migration notes for details: https://github.com/RaRe-Technologies/smart_open/blob/master/README.rst#migrating-to-the-new-open-function\n",
            "  'See the migration notes for details: %s' % _MIGRATION_NOTES_URL\n"
          ],
          "name": "stderr"
        }
      ]
    },
    {
      "cell_type": "code",
      "metadata": {
        "id": "ze_rib-7sSro",
        "colab_type": "code",
        "colab": {}
      },
      "source": [
        "# imports \n",
        "import pandas as pd\n",
        "import numpy as np\n",
        "import re\n",
        "from bs4 import BeautifulSoup"
      ],
      "execution_count": 0,
      "outputs": []
    },
    {
      "cell_type": "code",
      "metadata": {
        "id": "MH_iiwnMv-jO",
        "colab_type": "code",
        "outputId": "0a454c59-40aa-4668-ae6d-20039cb989fa",
        "colab": {
          "base_uri": "https://localhost:8080/",
          "height": 204
        }
      },
      "source": [
        "cols = ['sentiment','id','date','query_string','user','text']\n",
        "df_train=pd.read_csv('/content/gdrive/My Drive/Colab Notebooks/datasets/distant_supervision_data/training.1600000.processed.noemoticon.csv', usecols = [0,5],names=cols, encoding='latin-1')\n",
        "df_train.head()"
      ],
      "execution_count": 0,
      "outputs": [
        {
          "output_type": "execute_result",
          "data": {
            "text/html": [
              "<div>\n",
              "<style scoped>\n",
              "    .dataframe tbody tr th:only-of-type {\n",
              "        vertical-align: middle;\n",
              "    }\n",
              "\n",
              "    .dataframe tbody tr th {\n",
              "        vertical-align: top;\n",
              "    }\n",
              "\n",
              "    .dataframe thead th {\n",
              "        text-align: right;\n",
              "    }\n",
              "</style>\n",
              "<table border=\"1\" class=\"dataframe\">\n",
              "  <thead>\n",
              "    <tr style=\"text-align: right;\">\n",
              "      <th></th>\n",
              "      <th>sentiment</th>\n",
              "      <th>text</th>\n",
              "    </tr>\n",
              "  </thead>\n",
              "  <tbody>\n",
              "    <tr>\n",
              "      <th>0</th>\n",
              "      <td>0</td>\n",
              "      <td>@switchfoot http://twitpic.com/2y1zl - Awww, t...</td>\n",
              "    </tr>\n",
              "    <tr>\n",
              "      <th>1</th>\n",
              "      <td>0</td>\n",
              "      <td>is upset that he can't update his Facebook by ...</td>\n",
              "    </tr>\n",
              "    <tr>\n",
              "      <th>2</th>\n",
              "      <td>0</td>\n",
              "      <td>@Kenichan I dived many times for the ball. Man...</td>\n",
              "    </tr>\n",
              "    <tr>\n",
              "      <th>3</th>\n",
              "      <td>0</td>\n",
              "      <td>my whole body feels itchy and like its on fire</td>\n",
              "    </tr>\n",
              "    <tr>\n",
              "      <th>4</th>\n",
              "      <td>0</td>\n",
              "      <td>@nationwideclass no, it's not behaving at all....</td>\n",
              "    </tr>\n",
              "  </tbody>\n",
              "</table>\n",
              "</div>"
            ],
            "text/plain": [
              "   sentiment                                               text\n",
              "0          0  @switchfoot http://twitpic.com/2y1zl - Awww, t...\n",
              "1          0  is upset that he can't update his Facebook by ...\n",
              "2          0  @Kenichan I dived many times for the ball. Man...\n",
              "3          0    my whole body feels itchy and like its on fire \n",
              "4          0  @nationwideclass no, it's not behaving at all...."
            ]
          },
          "metadata": {
            "tags": []
          },
          "execution_count": 4
        }
      ]
    },
    {
      "cell_type": "code",
      "metadata": {
        "id": "tBsVNHs7DB05",
        "colab_type": "code",
        "colab": {}
      },
      "source": [
        "df_train[\"sentiment\"] = df_train[\"sentiment\"].replace(4, 1)"
      ],
      "execution_count": 0,
      "outputs": []
    },
    {
      "cell_type": "code",
      "metadata": {
        "id": "G8ohncS6wkZz",
        "colab_type": "code",
        "colab": {}
      },
      "source": [
        "# drop rows with retweet text \n",
        "df_train.drop(df_train[df_train.text.str.contains(' RT ')].index, inplace=True)"
      ],
      "execution_count": 0,
      "outputs": []
    },
    {
      "cell_type": "code",
      "metadata": {
        "id": "a0tX2buyxGD-",
        "colab_type": "code",
        "colab": {}
      },
      "source": [
        "clean_tweets = []\n",
        "#Strips emojis\n",
        "def handle_emojis(tweet):\n",
        "    # Smile -- :), : ), :-), (:, ( :, (-:, :'),:D, : D, =)\n",
        "    tweet = re.sub(r'(:\\s?\\)|:-\\)|\\(\\s?:|\\(-:|:\\'\\))|:\\s?D | =\\)', '', tweet)\n",
        "    # Sad -- :-(, : (, :(, ):, )-: , :p\n",
        "    tweet = re.sub(r'(:\\s?\\(|:-\\(|\\)\\s?:|\\)-:)|:p', '', tweet)\n",
        "    return tweet"
      ],
      "execution_count": 0,
      "outputs": []
    },
    {
      "cell_type": "code",
      "metadata": {
        "id": "2JmyGa0g0Iax",
        "colab_type": "code",
        "colab": {}
      },
      "source": [
        "#clean data\n",
        "url = re.compile(r\"(?:(http[s]?://\\S+)|((//)?(\\w+\\.)?\\w+\\.\\w+/\\S+))\")\n",
        "user_mention = re.compile(r\"(?:(?<!\\w)@\\w+\\b)\")\n",
        "number = re.compile(r\"(?:\\b\\d+\\b)\")\n",
        "repeated_char = '([a-zA-Z])\\\\1+'\n",
        "length_repeated_char = '\\\\1\\\\1'\n",
        "\n",
        "def clean(raw):\n",
        "  #convert HTML encoding to text\n",
        "  new_row = BeautifulSoup(raw, 'html.parser').get_text()\n",
        "  \n",
        "  #Change all text to lower case\n",
        "  new_row = new_row.lower()\n",
        "  \n",
        "  #Replaces any url with class URL\n",
        "  new_row = re.sub(url, '', new_row)\n",
        "  \n",
        "  #replace any @username with class USERNAME\n",
        "  new_row = re.sub(user_mention, '', new_row)\n",
        "  \n",
        "  #Strips repeated chars\n",
        "  new_row = re.sub(repeated_char, length_repeated_char, new_row)\n",
        "  \n",
        "  #Replaces #hashtag with hashtag\n",
        "  new_row = re.sub(r'#(\\S+)', r' \\1 ', new_row)\n",
        "  \n",
        "  #Remove numbers\n",
        "  new_row = re.sub(number, '', new_row)\n",
        "  \n",
        "  #decode text with 'utf-8-sig'\n",
        "  try:\n",
        "    temp_row = new_row.decode(\"utf-8-sig\").replace(u\"\\ufffd\", \"?\")     \n",
        "  except:\n",
        "    temp_row = new_row\n",
        "  \n",
        "  #Removes emojis\n",
        "  new_row = handle_emojis(temp_row);\n",
        "  \n",
        "  return new_row"
      ],
      "execution_count": 0,
      "outputs": []
    },
    {
      "cell_type": "code",
      "metadata": {
        "id": "EIEyYZYd03zX",
        "colab_type": "code",
        "colab": {}
      },
      "source": [
        "df_train[\"clean_text\"] = df_train[\"text\"].apply(lambda x : clean(x))"
      ],
      "execution_count": 0,
      "outputs": []
    },
    {
      "cell_type": "code",
      "metadata": {
        "id": "YxUwxdBg1VtL",
        "colab_type": "code",
        "outputId": "93f23193-f043-419e-db44-df611e1cdf4d",
        "colab": {
          "base_uri": "https://localhost:8080/",
          "height": 204
        }
      },
      "source": [
        "df_train.head()"
      ],
      "execution_count": 0,
      "outputs": [
        {
          "output_type": "execute_result",
          "data": {
            "text/html": [
              "<div>\n",
              "<style scoped>\n",
              "    .dataframe tbody tr th:only-of-type {\n",
              "        vertical-align: middle;\n",
              "    }\n",
              "\n",
              "    .dataframe tbody tr th {\n",
              "        vertical-align: top;\n",
              "    }\n",
              "\n",
              "    .dataframe thead th {\n",
              "        text-align: right;\n",
              "    }\n",
              "</style>\n",
              "<table border=\"1\" class=\"dataframe\">\n",
              "  <thead>\n",
              "    <tr style=\"text-align: right;\">\n",
              "      <th></th>\n",
              "      <th>sentiment</th>\n",
              "      <th>text</th>\n",
              "      <th>clean_text</th>\n",
              "    </tr>\n",
              "  </thead>\n",
              "  <tbody>\n",
              "    <tr>\n",
              "      <th>0</th>\n",
              "      <td>0</td>\n",
              "      <td>@switchfoot http://twitpic.com/2y1zl - Awww, t...</td>\n",
              "      <td>- aww, that's a bummer.  you shoulda got dav...</td>\n",
              "    </tr>\n",
              "    <tr>\n",
              "      <th>1</th>\n",
              "      <td>0</td>\n",
              "      <td>is upset that he can't update his Facebook by ...</td>\n",
              "      <td>is upset that he can't update his facebook by ...</td>\n",
              "    </tr>\n",
              "    <tr>\n",
              "      <th>2</th>\n",
              "      <td>0</td>\n",
              "      <td>@Kenichan I dived many times for the ball. Man...</td>\n",
              "      <td>i dived many times for the ball. managed to s...</td>\n",
              "    </tr>\n",
              "    <tr>\n",
              "      <th>3</th>\n",
              "      <td>0</td>\n",
              "      <td>my whole body feels itchy and like its on fire</td>\n",
              "      <td>my whole body feels itchy and like its on fire</td>\n",
              "    </tr>\n",
              "    <tr>\n",
              "      <th>4</th>\n",
              "      <td>0</td>\n",
              "      <td>@nationwideclass no, it's not behaving at all....</td>\n",
              "      <td>no, it's not behaving at all. i'm mad. why am...</td>\n",
              "    </tr>\n",
              "  </tbody>\n",
              "</table>\n",
              "</div>"
            ],
            "text/plain": [
              "   sentiment  ...                                         clean_text\n",
              "0          0  ...    - aww, that's a bummer.  you shoulda got dav...\n",
              "1          0  ...  is upset that he can't update his facebook by ...\n",
              "2          0  ...   i dived many times for the ball. managed to s...\n",
              "3          0  ...    my whole body feels itchy and like its on fire \n",
              "4          0  ...   no, it's not behaving at all. i'm mad. why am...\n",
              "\n",
              "[5 rows x 3 columns]"
            ]
          },
          "metadata": {
            "tags": []
          },
          "execution_count": 10
        }
      ]
    },
    {
      "cell_type": "code",
      "metadata": {
        "id": "lPIs746323sx",
        "colab_type": "code",
        "outputId": "e1db1e86-db63-4d58-9667-6cab9fb4d809",
        "colab": {
          "base_uri": "https://localhost:8080/",
          "height": 425
        }
      },
      "source": [
        "import nltk\n",
        "import spacy\n",
        "import string\n",
        "# preprocessing methods\n",
        "# Removal of URLs\n",
        "def remove_urls(text):\n",
        "  url_pattern = re.compile(r'https?://\\S+|www\\.\\S+')\n",
        "  return url_pattern.sub(r'', text)\n",
        "\n",
        "# Remove @ mentions\n",
        "def remove_mentions(text):\n",
        "  text = re.sub(r\"(?:\\@|https?\\://)\\S+\", \"\", text)\n",
        "  return text\n",
        "\n",
        "# strip links\n",
        "def strip_links(text):\n",
        "    link_regex    = re.compile('((https?):((//)|(\\\\\\\\))+([\\w\\d:#@%/;$()~_?\\+-=\\\\\\.&](#!)?)*)', re.DOTALL)\n",
        "    links         = re.findall(link_regex, text)\n",
        "    for link in links:\n",
        "        text = text.replace(link[0], ', ')    \n",
        "    return text\n",
        "\n",
        "# strip entities\n",
        "def strip_all_entities(text):\n",
        "    entity_prefixes = ['@','#']\n",
        "    for separator in  string.punctuation:\n",
        "        if separator not in entity_prefixes :\n",
        "            text = text.replace(separator,' ')\n",
        "    words = []\n",
        "    for word in text.split():\n",
        "        word = word.strip()\n",
        "        if word:\n",
        "            if word[0] not in entity_prefixes:\n",
        "                words.append(word)\n",
        "    return ' '.join(words)\n",
        "\n",
        "# convert emojis\n",
        "!pip install emot\n",
        "from emot.emo_unicode import UNICODE_EMO, EMOTICONS\n",
        "def convert_emoticons(text):\n",
        "  for emot in EMOTICONS:\n",
        "    re.sub(u'('+emot+')', \"_\".join(EMOTICONS[emot].replace(\",\",\"\").split()), text)\n",
        "  return text\n",
        "\n",
        "# convert emoji to word\n",
        "!pip install emoji\n",
        "import emoji\n",
        "def convert_emojis(text):\n",
        "    return emoji.demojize(text)\n",
        "\n",
        "# expand contractions\n",
        "!pip install -q contractions\n",
        "import contractions\n",
        "def expand_contractions(text):\n",
        "  return contractions.fix(text)\n",
        "\n",
        "# remove punctuations\n",
        "PUNCT = string.punctuation\n",
        "def remove_punctuation(text):\n",
        "  return text.translate(str.maketrans('', '', PUNCT))\n",
        "\n",
        "# remove stopwords\n",
        "from nltk.corpus import stopwords\n",
        "nltk.download('stopwords')\n",
        "STOPWORDS = set(stopwords.words('english'))\n",
        "def remove_stopwords(text):\n",
        "  return \" \".join([word for word in str(text).split() if word not in STOPWORDS])\n",
        "\n",
        "# remove frequent words\n",
        "def remove_freqwords(text, FREQ_WORDS):\n",
        "  return \" \".join([word for word in str(text).split() if word not in FREQ_WORDS])\n",
        "\n",
        "# remove rare words\n",
        "def remove_rarewords(text, RAREWORDS):\n",
        "    \"\"\"custom function to remove the rare words\"\"\"\n",
        "    return \" \".join([word for word in str(text).split() if word not in RAREWORDS])\n",
        "\n",
        "# lemmatize words\n",
        "nltk.download('wordnet')\n",
        "nltk.download('averaged_perceptron_tagger')\n",
        "from nltk.corpus import wordnet\n",
        "from nltk.stem import WordNetLemmatizer\n",
        "\n",
        "lemmatizer = WordNetLemmatizer()\n",
        "wordnet_map = {\"N\":wordnet.NOUN, \"V\":wordnet.VERB, \"J\":wordnet.ADJ, \"R\":wordnet.ADV}\n",
        "def lemmatize_words(text):\n",
        "    pos_tagged_text = nltk.pos_tag(text.split())\n",
        "    return \" \".join([lemmatizer.lemmatize(word, wordnet_map.get(pos[0], wordnet.NOUN)) for word, pos in pos_tagged_text])\n",
        "\n",
        "# spelling correction"
      ],
      "execution_count": 0,
      "outputs": [
        {
          "output_type": "stream",
          "text": [
            "Collecting emot\n",
            "  Downloading https://files.pythonhosted.org/packages/49/07/20001ade19873de611b7b66a4d5e5aabbf190d65abea337d5deeaa2bc3de/emot-2.1-py3-none-any.whl\n",
            "Installing collected packages: emot\n",
            "Successfully installed emot-2.1\n",
            "Collecting emoji\n",
            "\u001b[?25l  Downloading https://files.pythonhosted.org/packages/40/8d/521be7f0091fe0f2ae690cc044faf43e3445e0ff33c574eae752dd7e39fa/emoji-0.5.4.tar.gz (43kB)\n",
            "\u001b[K     |████████████████████████████████| 51kB 1.9MB/s \n",
            "\u001b[?25hBuilding wheels for collected packages: emoji\n",
            "  Building wheel for emoji (setup.py) ... \u001b[?25l\u001b[?25hdone\n",
            "  Created wheel for emoji: filename=emoji-0.5.4-cp36-none-any.whl size=42176 sha256=db4b90cb13f1ae226e5a6e8bf04e49cb4041bf0ce06c79d483703cd6469a6e64\n",
            "  Stored in directory: /root/.cache/pip/wheels/2a/a9/0a/4f8e8cce8074232aba240caca3fade315bb49fac68808d1a9c\n",
            "Successfully built emoji\n",
            "Installing collected packages: emoji\n",
            "Successfully installed emoji-0.5.4\n",
            "\u001b[K     |████████████████████████████████| 317kB 5.0MB/s \n",
            "\u001b[K     |████████████████████████████████| 245kB 48.0MB/s \n",
            "\u001b[?25h  Building wheel for pyahocorasick (setup.py) ... \u001b[?25l\u001b[?25hdone\n",
            "[nltk_data] Downloading package stopwords to /root/nltk_data...\n",
            "[nltk_data]   Unzipping corpora/stopwords.zip.\n",
            "[nltk_data] Downloading package wordnet to /root/nltk_data...\n",
            "[nltk_data]   Unzipping corpora/wordnet.zip.\n",
            "[nltk_data] Downloading package averaged_perceptron_tagger to\n",
            "[nltk_data]     /root/nltk_data...\n",
            "[nltk_data]   Unzipping taggers/averaged_perceptron_tagger.zip.\n"
          ],
          "name": "stdout"
        }
      ]
    },
    {
      "cell_type": "code",
      "metadata": {
        "id": "XkGPGpGn3Ovz",
        "colab_type": "code",
        "colab": {}
      },
      "source": [
        "def preprocess(df):\n",
        "  # Lower casing\n",
        "  df[\"text\"] = df[\"text\"].str.lower()\n",
        "  df.head()\n",
        "  # remove urls\n",
        "  df[\"text\"] = df[\"text\"].apply(lambda x : remove_urls(x))\n",
        "  # remove mentions\n",
        "  df[\"text\"] = df[\"text\"].apply(lambda x: remove_mentions(x))\n",
        "  # strip links\n",
        "  df[\"text\"] = df[\"text\"].apply(lambda x: strip_links(x))\n",
        "  # strip all entities\n",
        "  df[\"text\"] = df[\"text\"].apply(lambda x: strip_all_entities(x))\n",
        "  # convert all emoticons\n",
        "  df[\"text\"] = df[\"text\"].apply(lambda x : convert_emoticons(x))\n",
        "  # convert all emojis\n",
        "  df[\"text\"] = df[\"text\"].apply(lambda x : convert_emojis(x))\n",
        "  # expand all contractions\n",
        "  df[\"text\"] = df[\"text\"].apply(lambda x : expand_contractions(x))\n",
        "  # remove all punctuations\n",
        "  df[\"text\"] = df[\"text\"].apply(lambda x : remove_punctuation(x))\n",
        "  # remove all stopwords\n",
        "  df[\"text\"] = df[\"text\"].apply(lambda x : remove_stopwords(x))\n",
        "  # remove frequent words\n",
        "  from collections import Counter\n",
        "  cnt = Counter()\n",
        "  for text in df[\"text\"].values:\n",
        "    for word in text.split():\n",
        "      cnt[word] += 1\n",
        "  FREQ_WORDS = set([word for (word, count) in cnt.most_common(10)])\n",
        "  df[\"text\"] = df[\"text\"].apply(lambda x : remove_freqwords(x, FREQ_WORDS))\n",
        "  # remove rare words\n",
        "  n_rare_words = 10\n",
        "  RAREWORDS = set([w for (w, wc) in cnt.most_common()[:-n_rare_words-1:-1]])\n",
        "  df[\"text\"] = df[\"text\"].apply(lambda text: remove_rarewords(text, RAREWORDS))\n",
        "  # lemmatize words\n",
        "  df[\"text\"] = df[\"text\"].apply(lambda text: lemmatize_words(text))\n",
        "  # spelling correction\n",
        "  return df"
      ],
      "execution_count": 0,
      "outputs": []
    },
    {
      "cell_type": "code",
      "metadata": {
        "id": "UEFmWpf431OF",
        "colab_type": "code",
        "colab": {}
      },
      "source": [
        "semeval_df=pd.read_csv('/content/gdrive/My Drive/Colab Notebooks/datasets/Semeval-2017-4A-English/SemEval2017-task4-dev.subtask-A.english.INPUT.txt', sep=\"\\t\", header=None)\n",
        "semeval_df = semeval_df.drop(columns=3)\n",
        "semeval_df.columns = ['id', 'sentiment', 'text']"
      ],
      "execution_count": 0,
      "outputs": []
    },
    {
      "cell_type": "code",
      "metadata": {
        "id": "RZF-CZ8j36aZ",
        "colab_type": "code",
        "outputId": "062c12bd-0bf2-4736-e58e-44c3a0e33cfe",
        "colab": {
          "base_uri": "https://localhost:8080/",
          "height": 204
        }
      },
      "source": [
        "semeval_df = preprocess(semeval_df)\n",
        "semeval_df.head()"
      ],
      "execution_count": 0,
      "outputs": [
        {
          "output_type": "execute_result",
          "data": {
            "text/html": [
              "<div>\n",
              "<style scoped>\n",
              "    .dataframe tbody tr th:only-of-type {\n",
              "        vertical-align: middle;\n",
              "    }\n",
              "\n",
              "    .dataframe tbody tr th {\n",
              "        vertical-align: top;\n",
              "    }\n",
              "\n",
              "    .dataframe thead th {\n",
              "        text-align: right;\n",
              "    }\n",
              "</style>\n",
              "<table border=\"1\" class=\"dataframe\">\n",
              "  <thead>\n",
              "    <tr style=\"text-align: right;\">\n",
              "      <th></th>\n",
              "      <th>id</th>\n",
              "      <th>sentiment</th>\n",
              "      <th>text</th>\n",
              "    </tr>\n",
              "  </thead>\n",
              "  <tbody>\n",
              "    <tr>\n",
              "      <th>0</th>\n",
              "      <td>619950566786113536</td>\n",
              "      <td>neutral</td>\n",
              "      <td>picturehouse pink floyd roger water walll open...</td>\n",
              "    </tr>\n",
              "    <tr>\n",
              "      <th>1</th>\n",
              "      <td>619969366986235905</td>\n",
              "      <td>neutral</td>\n",
              "      <td>order go set watchman store website tuesday ge...</td>\n",
              "    </tr>\n",
              "    <tr>\n",
              "      <th>2</th>\n",
              "      <td>619971047195045888</td>\n",
              "      <td>negative</td>\n",
              "      <td>runway renovation airport prevent see taylor s...</td>\n",
              "    </tr>\n",
              "    <tr>\n",
              "      <th>3</th>\n",
              "      <td>619974445185302528</td>\n",
              "      <td>neutral</td>\n",
              "      <td>could ask onstage interview question miss usa ...</td>\n",
              "    </tr>\n",
              "    <tr>\n",
              "      <th>4</th>\n",
              "      <td>619987808317407232</td>\n",
              "      <td>positive</td>\n",
              "      <td>portion book sale harper lee go set watchman r...</td>\n",
              "    </tr>\n",
              "  </tbody>\n",
              "</table>\n",
              "</div>"
            ],
            "text/plain": [
              "                   id  ...                                               text\n",
              "0  619950566786113536  ...  picturehouse pink floyd roger water walll open...\n",
              "1  619969366986235905  ...  order go set watchman store website tuesday ge...\n",
              "2  619971047195045888  ...  runway renovation airport prevent see taylor s...\n",
              "3  619974445185302528  ...  could ask onstage interview question miss usa ...\n",
              "4  619987808317407232  ...  portion book sale harper lee go set watchman r...\n",
              "\n",
              "[5 rows x 3 columns]"
            ]
          },
          "metadata": {
            "tags": []
          },
          "execution_count": 14
        }
      ]
    },
    {
      "cell_type": "code",
      "metadata": {
        "id": "1IvBdOzZSZD4",
        "colab_type": "code",
        "colab": {}
      },
      "source": [
        "df_new = df_train.sample(n=250000, random_state = 1)"
      ],
      "execution_count": 0,
      "outputs": []
    },
    {
      "cell_type": "code",
      "metadata": {
        "id": "6Cnucd2-38tN",
        "colab_type": "code",
        "colab": {}
      },
      "source": [
        "train_set = set()\n",
        "for tweet in df_new[\"clean_text\"]:\n",
        "  for word in tweet.split():\n",
        "    train_set.add(word)\n",
        "semeval_set = set()\n",
        "for tweet in semeval_df[\"text\"]:\n",
        "  for word in tweet.split():\n",
        "    semeval_set.add(word)"
      ],
      "execution_count": 0,
      "outputs": []
    },
    {
      "cell_type": "code",
      "metadata": {
        "id": "4sfdxJkV5Raw",
        "colab_type": "code",
        "outputId": "b85bbe27-9b08-498e-86ee-2206f9a30424",
        "colab": {
          "base_uri": "https://localhost:8080/",
          "height": 34
        }
      },
      "source": [
        "common_words = list(train_set & semeval_set) \n",
        "len(common_words)"
      ],
      "execution_count": 0,
      "outputs": [
        {
          "output_type": "execute_result",
          "data": {
            "text/plain": [
              "11906"
            ]
          },
          "metadata": {
            "tags": []
          },
          "execution_count": 17
        }
      ]
    },
    {
      "cell_type": "code",
      "metadata": {
        "id": "SXK75BbK5V9c",
        "colab_type": "code",
        "outputId": "1828f906-909d-4ffc-df0e-94fbaf677a98",
        "colab": {
          "base_uri": "https://localhost:8080/",
          "height": 34
        }
      },
      "source": [
        "len(train_set) + len(semeval_set) - len(common_words)"
      ],
      "execution_count": 0,
      "outputs": [
        {
          "output_type": "execute_result",
          "data": {
            "text/plain": [
              "205557"
            ]
          },
          "metadata": {
            "tags": []
          },
          "execution_count": 18
        }
      ]
    },
    {
      "cell_type": "code",
      "metadata": {
        "id": "H6Z0msWl5esd",
        "colab_type": "code",
        "outputId": "a92c2a03-b3e4-4110-af92-1f9d061f23a1",
        "colab": {
          "base_uri": "https://localhost:8080/",
          "height": 34
        }
      },
      "source": [
        "len(semeval_set)"
      ],
      "execution_count": 0,
      "outputs": [
        {
          "output_type": "execute_result",
          "data": {
            "text/plain": [
              "18610"
            ]
          },
          "metadata": {
            "tags": []
          },
          "execution_count": 19
        }
      ]
    },
    {
      "cell_type": "markdown",
      "metadata": {
        "id": "vctj8B2P-AVj",
        "colab_type": "text"
      },
      "source": [
        "We can see that out of 18610 unique tokens in semeval dataset, we have 10560 unique tokens present in the distant supervised tweet dataset."
      ]
    },
    {
      "cell_type": "code",
      "metadata": {
        "id": "JDAcO5k15jLq",
        "colab_type": "code",
        "outputId": "f4ac657f-dd0f-4a09-fbc3-edf6d89bdf0b",
        "colab": {
          "base_uri": "https://localhost:8080/",
          "height": 131
        }
      },
      "source": [
        "# Tokenizer illustration example\n",
        "from keras.preprocessing.text import Tokenizer\n",
        "# define 5 documents\n",
        "t  = Tokenizer(oov_token='oov')\n",
        "fit_text = [\"The earth is an awesome place live\"]\n",
        "t.fit_on_texts(fit_text)\n",
        "\n",
        "#fit_on_texts fits on sentences when list of sentences is passed to fit_on_texts() function. \n",
        "#ie - fit_on_texts( [ sent1, sent2, sent3,....sentN ] )\n",
        "\n",
        "#Similarly, list of sentences/single sentence in a list must be passed into texts_to_sequences.\n",
        "test_text1 = \"The earth is an great place live\"\n",
        "test_text2 = \"The is my program\"\n",
        "sequences = t.texts_to_sequences([test_text1, test_text2])\n",
        "\n",
        "print('sequences : ',sequences,'\\n')\n",
        "\n",
        "print('word_index : ',t.word_index)\n",
        "#texts_to_sequences() returns list of list. ie - [ [] ]"
      ],
      "execution_count": 0,
      "outputs": [
        {
          "output_type": "stream",
          "text": [
            "Using TensorFlow backend.\n"
          ],
          "name": "stderr"
        },
        {
          "output_type": "display_data",
          "data": {
            "text/html": [
              "<p style=\"color: red;\">\n",
              "The default version of TensorFlow in Colab will soon switch to TensorFlow 2.x.<br>\n",
              "We recommend you <a href=\"https://www.tensorflow.org/guide/migrate\" target=\"_blank\">upgrade</a> now \n",
              "or ensure your notebook will continue to use TensorFlow 1.x via the <code>%tensorflow_version 1.x</code> magic:\n",
              "<a href=\"https://colab.research.google.com/notebooks/tensorflow_version.ipynb\" target=\"_blank\">more info</a>.</p>\n"
            ],
            "text/plain": [
              "<IPython.core.display.HTML object>"
            ]
          },
          "metadata": {
            "tags": []
          }
        },
        {
          "output_type": "stream",
          "text": [
            "sequences :  [[2, 3, 4, 5, 1, 7, 8], [2, 4, 1, 1]] \n",
            "\n",
            "word_index :  {'oov': 1, 'the': 2, 'earth': 3, 'is': 4, 'an': 5, 'awesome': 6, 'place': 7, 'live': 8}\n"
          ],
          "name": "stdout"
        }
      ]
    },
    {
      "cell_type": "code",
      "metadata": {
        "id": "T9ERbMUvBvkl",
        "colab_type": "code",
        "colab": {}
      },
      "source": [
        "ds_texts = df_new[\"text\"]"
      ],
      "execution_count": 0,
      "outputs": []
    },
    {
      "cell_type": "code",
      "metadata": {
        "id": "hDG7TiJW7HJK",
        "colab_type": "code",
        "outputId": "2ea42825-9562-448d-c349-c6fdced15cd6",
        "colab": {
          "base_uri": "https://localhost:8080/",
          "height": 34
        }
      },
      "source": [
        "from keras.preprocessing.text import Tokenizer\n",
        "from keras.preprocessing.sequence import pad_sequences\n",
        "from keras.utils import to_categorical\n",
        "\n",
        "tokenizer = Tokenizer(filters='!\"#$%&()*+,-./:;<=>?@[\\\\]^_`{|}~\\t\\n\\'', lower=True)\n",
        "tokenizer.fit_on_texts(ds_texts)\n",
        "sequences = tokenizer.texts_to_sequences(ds_texts)\n",
        "word_index = tokenizer.word_index\n",
        "print(len(word_index))"
      ],
      "execution_count": 0,
      "outputs": [
        {
          "output_type": "stream",
          "text": [
            "184800\n"
          ],
          "name": "stdout"
        }
      ]
    },
    {
      "cell_type": "code",
      "metadata": {
        "id": "wi1QCdU_CSgN",
        "colab_type": "code",
        "colab": {}
      },
      "source": [
        "X_train = pad_sequences(sequences)\n",
        "y_train = to_categorical(list(df_new[\"sentiment\"]))"
      ],
      "execution_count": 0,
      "outputs": []
    },
    {
      "cell_type": "code",
      "metadata": {
        "id": "BRkN9fD1C3oK",
        "colab_type": "code",
        "colab": {}
      },
      "source": [
        "EMBED_DIM = 300\n",
        "vocab_size = len(word_index) + 1\n",
        "embedding_matrix = np.random.normal(0,np.sqrt(0.25),[vocab_size, EMBED_DIM])"
      ],
      "execution_count": 0,
      "outputs": []
    },
    {
      "cell_type": "code",
      "metadata": {
        "id": "9XO0w3f5fzrp",
        "colab_type": "code",
        "colab": {}
      },
      "source": [
        "count = []\n",
        "for word, i in word_index.items():\n",
        "    if i >= vocab_size:\n",
        "        continue\n",
        "    try:\n",
        "        embedding_vec = word2vec[word]\n",
        "        embedding_matrix[i] = embedding_vec\n",
        "    except KeyError:\n",
        "        count.append(word)\n",
        "        embedding_matrix[i] = np.random.normal(0,np.sqrt(0.25),EMBED_DIM)"
      ],
      "execution_count": 0,
      "outputs": []
    },
    {
      "cell_type": "code",
      "metadata": {
        "id": "ZYoUsOGyf8gf",
        "colab_type": "code",
        "outputId": "fdd74303-1196-41af-d81d-e180c2d0fb07",
        "colab": {
          "base_uri": "https://localhost:8080/",
          "height": 34
        }
      },
      "source": [
        "len(count)"
      ],
      "execution_count": 0,
      "outputs": [
        {
          "output_type": "execute_result",
          "data": {
            "text/plain": [
              "142586"
            ]
          },
          "metadata": {
            "tags": []
          },
          "execution_count": 26
        }
      ]
    },
    {
      "cell_type": "code",
      "metadata": {
        "id": "TmSAo5wnNobt",
        "colab_type": "code",
        "colab": {}
      },
      "source": [
        "from keras.layers import Input\n",
        "from keras.layers import Flatten\n",
        "from keras.layers import Dense\n",
        "from keras.models import Model\n",
        "from keras.layers import LSTM\n",
        "from keras.layers import Dropout\n",
        "from keras.layers import Embedding"
      ],
      "execution_count": 0,
      "outputs": []
    },
    {
      "cell_type": "code",
      "metadata": {
        "id": "OGrXO92TjAYp",
        "colab_type": "code",
        "colab": {}
      },
      "source": [
        "from keras.layers import Embedding\n",
        "embedding_layer = Embedding(vocab_size,\n",
        "                            EMBED_DIM,\n",
        "                            weights=[embedding_matrix],\n",
        "                            trainable=True)\n",
        "seq_len = X_train.shape[1]\n",
        "from keras.layers import Input\n",
        "from keras.layers import Flatten\n",
        "from keras.layers import Dense\n",
        "from keras.models import Model\n",
        "from keras.layers import LSTM\n",
        "from keras.layers import Dropout\n",
        "inputs = Input(shape=(seq_len,))\n",
        "embeddings = embedding_layer(inputs)\n",
        "# flattened = Flatten()(embeddings)\n",
        "lstm = LSTM(300, dropout=0.5)(embeddings)\n",
        "dense0 = Dense(128, activation=\"relu\")(lstm)\n",
        "# dropout0 = Dropout()(dense0)\n",
        "dense1 = Dense(64, activation=\"relu\")(dense0)\n",
        "dropout1 = Dropout(rate=0.25)(dense1)\n",
        "dense2 = Dense(32, activation=\"relu\")(dropout1)\n",
        "dropout2 = Dropout(rate=0.25)(dense2)\n",
        "dense3 = Dense(16, activation=\"relu\")(dropout2)\n",
        "output = Dense(y_train.shape[1], activation='softmax')(dense3)\n",
        "model = Model(inputs, output)"
      ],
      "execution_count": 0,
      "outputs": []
    },
    {
      "cell_type": "code",
      "metadata": {
        "id": "JNnhEh9FxGPN",
        "colab_type": "code",
        "outputId": "3efa5db5-ac17-4136-a739-7538b76dc617",
        "colab": {
          "base_uri": "https://localhost:8080/",
          "height": 306
        }
      },
      "source": [
        "!pip install keras-rectified-adam\n",
        "from keras_radam import RAdam\n",
        "\n",
        "from keras import backend as K\n",
        "\n",
        "def recall_m(y_true, y_pred):\n",
        "        true_positives = K.sum(K.round(K.clip(y_true * y_pred, 0, 1)))\n",
        "        possible_positives = K.sum(K.round(K.clip(y_true, 0, 1)))\n",
        "        recall = true_positives / (possible_positives + K.epsilon())\n",
        "        return recall\n",
        "\n",
        "def precision_m(y_true, y_pred):\n",
        "        true_positives = K.sum(K.round(K.clip(y_true * y_pred, 0, 1)))\n",
        "        predicted_positives = K.sum(K.round(K.clip(y_pred, 0, 1)))\n",
        "        precision = true_positives / (predicted_positives + K.epsilon())\n",
        "        return precision\n",
        "\n",
        "def f1_m(y_true, y_pred):\n",
        "    precision = precision_m(y_true, y_pred)\n",
        "    recall = recall_m(y_true, y_pred)\n",
        "    return 2*((precision*recall)/(precision+recall+K.epsilon()))"
      ],
      "execution_count": 0,
      "outputs": [
        {
          "output_type": "stream",
          "text": [
            "Collecting keras-rectified-adam\n",
            "  Downloading https://files.pythonhosted.org/packages/21/79/9521f66b92186702cb58a214c1b923b416266381cd824e15a1733f6a5b06/keras-rectified-adam-0.17.0.tar.gz\n",
            "Requirement already satisfied: numpy in /usr/local/lib/python3.6/dist-packages (from keras-rectified-adam) (1.17.5)\n",
            "Requirement already satisfied: Keras in /usr/local/lib/python3.6/dist-packages (from keras-rectified-adam) (2.2.5)\n",
            "Requirement already satisfied: pyyaml in /usr/local/lib/python3.6/dist-packages (from Keras->keras-rectified-adam) (3.13)\n",
            "Requirement already satisfied: h5py in /usr/local/lib/python3.6/dist-packages (from Keras->keras-rectified-adam) (2.8.0)\n",
            "Requirement already satisfied: six>=1.9.0 in /usr/local/lib/python3.6/dist-packages (from Keras->keras-rectified-adam) (1.12.0)\n",
            "Requirement already satisfied: keras-applications>=1.0.8 in /usr/local/lib/python3.6/dist-packages (from Keras->keras-rectified-adam) (1.0.8)\n",
            "Requirement already satisfied: keras-preprocessing>=1.1.0 in /usr/local/lib/python3.6/dist-packages (from Keras->keras-rectified-adam) (1.1.0)\n",
            "Requirement already satisfied: scipy>=0.14 in /usr/local/lib/python3.6/dist-packages (from Keras->keras-rectified-adam) (1.4.1)\n",
            "Building wheels for collected packages: keras-rectified-adam\n",
            "  Building wheel for keras-rectified-adam (setup.py) ... \u001b[?25l\u001b[?25hdone\n",
            "  Created wheel for keras-rectified-adam: filename=keras_rectified_adam-0.17.0-cp36-none-any.whl size=14781 sha256=2541eb1fdd2c28c087e9766390274231511cd4fd85722908a94644538c1a65d5\n",
            "  Stored in directory: /root/.cache/pip/wheels/7b/01/27/3a934e1a5644f5b93c720422a6ef97034ea78a21ba71cfb549\n",
            "Successfully built keras-rectified-adam\n",
            "Installing collected packages: keras-rectified-adam\n",
            "Successfully installed keras-rectified-adam-0.17.0\n"
          ],
          "name": "stdout"
        }
      ]
    },
    {
      "cell_type": "code",
      "metadata": {
        "id": "AUZqdKRaxMoH",
        "colab_type": "code",
        "colab": {}
      },
      "source": [
        "from keras.optimizers import Adam, Nadam, Adadelta, SGD, RMSprop\n",
        "# Adadelta performs poorly\n",
        "# Adam performs better than Nadam\n",
        "# SGD fares poorly\n",
        "# Default adam lr = 2e-3\n",
        "opt = RAdam()\n",
        "\n",
        "model.compile(loss='categorical_crossentropy',\n",
        "              optimizer=opt,\n",
        "              metrics=['accuracy', f1_m, precision_m, recall_m])\n",
        "\n",
        "# from keras.callbacks import LearningRateScheduler\n",
        "# import math\n",
        "# # learning rate schedule\n",
        "# def step_decay(epoch):\n",
        "# \tinitial_lrate = 0.01\n",
        "# \tdrop = 0.1\n",
        "# \tepochs_drop = 5.00\n",
        "# \tlrate = initial_lrate * math.pow(drop, ((1+epoch)/epochs_drop))\n",
        "# \treturn min(1e-4, lrate)\n",
        "\n",
        "# # learning schedule callback\n",
        "# lrate = LearningRateScheduler(step_decay)\n",
        "# # from keras.callbacks import EarlyStopping\n",
        "# # es = EarlyStopping(monitor='val_loss', mode='min', verbose=1, patience=10)"
      ],
      "execution_count": 0,
      "outputs": []
    },
    {
      "cell_type": "code",
      "metadata": {
        "id": "dVjvvAJHlt5x",
        "colab_type": "code",
        "outputId": "d39208e3-601f-43f6-be1e-86be8ddea7f6",
        "colab": {
          "base_uri": "https://localhost:8080/",
          "height": 241
        }
      },
      "source": [
        "model.fit(X_train, y_train, batch_size=1000, epochs=5, verbose=1, shuffle=True, validation_split=0.1)"
      ],
      "execution_count": 0,
      "outputs": [
        {
          "output_type": "stream",
          "text": [
            "Train on 225000 samples, validate on 25000 samples\n",
            "Epoch 1/5\n",
            "225000/225000 [==============================] - 1617s 7ms/step - loss: 0.6205 - acc: 0.6405 - f1_m: 0.6405 - precision_m: 0.6405 - recall_m: 0.6405 - val_loss: 0.4966 - val_acc: 0.7607 - val_f1_m: 0.7607 - val_precision_m: 0.7607 - val_recall_m: 0.7607\n",
            "Epoch 2/5\n",
            "225000/225000 [==============================] - 1591s 7ms/step - loss: 0.4921 - acc: 0.7655 - f1_m: 0.7655 - precision_m: 0.7655 - recall_m: 0.7655 - val_loss: 0.4567 - val_acc: 0.7857 - val_f1_m: 0.7857 - val_precision_m: 0.7857 - val_recall_m: 0.7857\n",
            "Epoch 3/5\n",
            "225000/225000 [==============================] - 1603s 7ms/step - loss: 0.4417 - acc: 0.7967 - f1_m: 0.7967 - precision_m: 0.7967 - recall_m: 0.7967 - val_loss: 0.4444 - val_acc: 0.7942 - val_f1_m: 0.7942 - val_precision_m: 0.7942 - val_recall_m: 0.7942\n",
            "Epoch 4/5\n",
            "225000/225000 [==============================] - 1609s 7ms/step - loss: 0.4044 - acc: 0.8189 - f1_m: 0.8189 - precision_m: 0.8189 - recall_m: 0.8189 - val_loss: 0.4441 - val_acc: 0.7941 - val_f1_m: 0.7941 - val_precision_m: 0.7941 - val_recall_m: 0.7941\n",
            "Epoch 5/5\n",
            "225000/225000 [==============================] - 1603s 7ms/step - loss: 0.3693 - acc: 0.8370 - f1_m: 0.8370 - precision_m: 0.8370 - recall_m: 0.8370 - val_loss: 0.4507 - val_acc: 0.7899 - val_f1_m: 0.7899 - val_precision_m: 0.7899 - val_recall_m: 0.7899\n"
          ],
          "name": "stdout"
        },
        {
          "output_type": "execute_result",
          "data": {
            "text/plain": [
              "<keras.callbacks.History at 0x7f94129a5b00>"
            ]
          },
          "metadata": {
            "tags": []
          },
          "execution_count": 46
        }
      ]
    },
    {
      "cell_type": "code",
      "metadata": {
        "id": "hLX01kZOlx5Q",
        "colab_type": "code",
        "colab": {}
      },
      "source": [
        "model.save('/content/gdrive/My Drive/Colab Notebooks/distant_tweets_pretrained.h5')"
      ],
      "execution_count": 0,
      "outputs": []
    },
    {
      "cell_type": "code",
      "metadata": {
        "id": "6nloYRYgG7s9",
        "colab_type": "code",
        "outputId": "7f9790c8-a9c5-4234-ff67-92756f6badff",
        "colab": {
          "base_uri": "https://localhost:8080/",
          "height": 340
        }
      },
      "source": [
        "from keras.models import load_model\n",
        "model = load_model('/content/gdrive/My Drive/Colab Notebooks/distant_tweets_pretrained.h5')\n",
        "model.summary()"
      ],
      "execution_count": 0,
      "outputs": [
        {
          "output_type": "error",
          "ename": "ValueError",
          "evalue": "ignored",
          "traceback": [
            "\u001b[0;31m---------------------------------------------------------------------------\u001b[0m",
            "\u001b[0;31mValueError\u001b[0m                                Traceback (most recent call last)",
            "\u001b[0;32m<ipython-input-48-46c9a6af63cb>\u001b[0m in \u001b[0;36m<module>\u001b[0;34m()\u001b[0m\n\u001b[1;32m      1\u001b[0m \u001b[0;32mfrom\u001b[0m \u001b[0mkeras\u001b[0m\u001b[0;34m.\u001b[0m\u001b[0mmodels\u001b[0m \u001b[0;32mimport\u001b[0m \u001b[0mload_model\u001b[0m\u001b[0;34m\u001b[0m\u001b[0;34m\u001b[0m\u001b[0m\n\u001b[0;32m----> 2\u001b[0;31m \u001b[0mmodel\u001b[0m \u001b[0;34m=\u001b[0m \u001b[0mload_model\u001b[0m\u001b[0;34m(\u001b[0m\u001b[0;34m'/content/gdrive/My Drive/Colab Notebooks/distant_tweets_pretrained.h5'\u001b[0m\u001b[0;34m)\u001b[0m\u001b[0;34m\u001b[0m\u001b[0;34m\u001b[0m\u001b[0m\n\u001b[0m\u001b[1;32m      3\u001b[0m \u001b[0mmodel\u001b[0m\u001b[0;34m.\u001b[0m\u001b[0msummary\u001b[0m\u001b[0;34m(\u001b[0m\u001b[0;34m)\u001b[0m\u001b[0;34m\u001b[0m\u001b[0;34m\u001b[0m\u001b[0m\n",
            "\u001b[0;32m/usr/local/lib/python3.6/dist-packages/keras/engine/saving.py\u001b[0m in \u001b[0;36mload_wrapper\u001b[0;34m(*args, **kwargs)\u001b[0m\n\u001b[1;32m    456\u001b[0m                 \u001b[0mos\u001b[0m\u001b[0;34m.\u001b[0m\u001b[0mremove\u001b[0m\u001b[0;34m(\u001b[0m\u001b[0mtmp_filepath\u001b[0m\u001b[0;34m)\u001b[0m\u001b[0;34m\u001b[0m\u001b[0;34m\u001b[0m\u001b[0m\n\u001b[1;32m    457\u001b[0m             \u001b[0;32mreturn\u001b[0m \u001b[0mres\u001b[0m\u001b[0;34m\u001b[0m\u001b[0;34m\u001b[0m\u001b[0m\n\u001b[0;32m--> 458\u001b[0;31m         \u001b[0;32mreturn\u001b[0m \u001b[0mload_function\u001b[0m\u001b[0;34m(\u001b[0m\u001b[0;34m*\u001b[0m\u001b[0margs\u001b[0m\u001b[0;34m,\u001b[0m \u001b[0;34m**\u001b[0m\u001b[0mkwargs\u001b[0m\u001b[0;34m)\u001b[0m\u001b[0;34m\u001b[0m\u001b[0;34m\u001b[0m\u001b[0m\n\u001b[0m\u001b[1;32m    459\u001b[0m \u001b[0;34m\u001b[0m\u001b[0m\n\u001b[1;32m    460\u001b[0m     \u001b[0;32mreturn\u001b[0m \u001b[0mload_wrapper\u001b[0m\u001b[0;34m\u001b[0m\u001b[0;34m\u001b[0m\u001b[0m\n",
            "\u001b[0;32m/usr/local/lib/python3.6/dist-packages/keras/engine/saving.py\u001b[0m in \u001b[0;36mload_model\u001b[0;34m(filepath, custom_objects, compile)\u001b[0m\n\u001b[1;32m    548\u001b[0m     \u001b[0;32mif\u001b[0m \u001b[0mH5Dict\u001b[0m\u001b[0;34m.\u001b[0m\u001b[0mis_supported_type\u001b[0m\u001b[0;34m(\u001b[0m\u001b[0mfilepath\u001b[0m\u001b[0;34m)\u001b[0m\u001b[0;34m:\u001b[0m\u001b[0;34m\u001b[0m\u001b[0;34m\u001b[0m\u001b[0m\n\u001b[1;32m    549\u001b[0m         \u001b[0;32mwith\u001b[0m \u001b[0mH5Dict\u001b[0m\u001b[0;34m(\u001b[0m\u001b[0mfilepath\u001b[0m\u001b[0;34m,\u001b[0m \u001b[0mmode\u001b[0m\u001b[0;34m=\u001b[0m\u001b[0;34m'r'\u001b[0m\u001b[0;34m)\u001b[0m \u001b[0;32mas\u001b[0m \u001b[0mh5dict\u001b[0m\u001b[0;34m:\u001b[0m\u001b[0;34m\u001b[0m\u001b[0;34m\u001b[0m\u001b[0m\n\u001b[0;32m--> 550\u001b[0;31m             \u001b[0mmodel\u001b[0m \u001b[0;34m=\u001b[0m \u001b[0m_deserialize_model\u001b[0m\u001b[0;34m(\u001b[0m\u001b[0mh5dict\u001b[0m\u001b[0;34m,\u001b[0m \u001b[0mcustom_objects\u001b[0m\u001b[0;34m,\u001b[0m \u001b[0mcompile\u001b[0m\u001b[0;34m)\u001b[0m\u001b[0;34m\u001b[0m\u001b[0;34m\u001b[0m\u001b[0m\n\u001b[0m\u001b[1;32m    551\u001b[0m     \u001b[0;32melif\u001b[0m \u001b[0mhasattr\u001b[0m\u001b[0;34m(\u001b[0m\u001b[0mfilepath\u001b[0m\u001b[0;34m,\u001b[0m \u001b[0;34m'write'\u001b[0m\u001b[0;34m)\u001b[0m \u001b[0;32mand\u001b[0m \u001b[0mcallable\u001b[0m\u001b[0;34m(\u001b[0m\u001b[0mfilepath\u001b[0m\u001b[0;34m.\u001b[0m\u001b[0mwrite\u001b[0m\u001b[0;34m)\u001b[0m\u001b[0;34m:\u001b[0m\u001b[0;34m\u001b[0m\u001b[0;34m\u001b[0m\u001b[0m\n\u001b[1;32m    552\u001b[0m         \u001b[0;32mdef\u001b[0m \u001b[0mload_function\u001b[0m\u001b[0;34m(\u001b[0m\u001b[0mh5file\u001b[0m\u001b[0;34m)\u001b[0m\u001b[0;34m:\u001b[0m\u001b[0;34m\u001b[0m\u001b[0;34m\u001b[0m\u001b[0m\n",
            "\u001b[0;32m/usr/local/lib/python3.6/dist-packages/keras/engine/saving.py\u001b[0m in \u001b[0;36m_deserialize_model\u001b[0;34m(h5dict, custom_objects, compile)\u001b[0m\n\u001b[1;32m    315\u001b[0m         \u001b[0moptimizer_config\u001b[0m \u001b[0;34m=\u001b[0m \u001b[0mtraining_config\u001b[0m\u001b[0;34m[\u001b[0m\u001b[0;34m'optimizer_config'\u001b[0m\u001b[0;34m]\u001b[0m\u001b[0;34m\u001b[0m\u001b[0;34m\u001b[0m\u001b[0m\n\u001b[1;32m    316\u001b[0m         optimizer = optimizers.deserialize(optimizer_config,\n\u001b[0;32m--> 317\u001b[0;31m                                            custom_objects=custom_objects)\n\u001b[0m\u001b[1;32m    318\u001b[0m \u001b[0;34m\u001b[0m\u001b[0m\n\u001b[1;32m    319\u001b[0m         \u001b[0;31m# Recover loss functions and metrics.\u001b[0m\u001b[0;34m\u001b[0m\u001b[0;34m\u001b[0m\u001b[0;34m\u001b[0m\u001b[0m\n",
            "\u001b[0;32m/usr/local/lib/python3.6/dist-packages/keras/optimizers.py\u001b[0m in \u001b[0;36mdeserialize\u001b[0;34m(config, custom_objects)\u001b[0m\n\u001b[1;32m    769\u001b[0m                                     \u001b[0mmodule_objects\u001b[0m\u001b[0;34m=\u001b[0m\u001b[0mall_classes\u001b[0m\u001b[0;34m,\u001b[0m\u001b[0;34m\u001b[0m\u001b[0;34m\u001b[0m\u001b[0m\n\u001b[1;32m    770\u001b[0m                                     \u001b[0mcustom_objects\u001b[0m\u001b[0;34m=\u001b[0m\u001b[0mcustom_objects\u001b[0m\u001b[0;34m,\u001b[0m\u001b[0;34m\u001b[0m\u001b[0;34m\u001b[0m\u001b[0m\n\u001b[0;32m--> 771\u001b[0;31m                                     printable_module_name='optimizer')\n\u001b[0m\u001b[1;32m    772\u001b[0m \u001b[0;34m\u001b[0m\u001b[0m\n\u001b[1;32m    773\u001b[0m \u001b[0;34m\u001b[0m\u001b[0m\n",
            "\u001b[0;32m/usr/local/lib/python3.6/dist-packages/keras/utils/generic_utils.py\u001b[0m in \u001b[0;36mdeserialize_keras_object\u001b[0;34m(identifier, module_objects, custom_objects, printable_module_name)\u001b[0m\n\u001b[1;32m    138\u001b[0m             \u001b[0;32mif\u001b[0m \u001b[0mcls\u001b[0m \u001b[0;32mis\u001b[0m \u001b[0;32mNone\u001b[0m\u001b[0;34m:\u001b[0m\u001b[0;34m\u001b[0m\u001b[0;34m\u001b[0m\u001b[0m\n\u001b[1;32m    139\u001b[0m                 raise ValueError('Unknown ' + printable_module_name +\n\u001b[0;32m--> 140\u001b[0;31m                                  ': ' + class_name)\n\u001b[0m\u001b[1;32m    141\u001b[0m         \u001b[0;32mif\u001b[0m \u001b[0mhasattr\u001b[0m\u001b[0;34m(\u001b[0m\u001b[0mcls\u001b[0m\u001b[0;34m,\u001b[0m \u001b[0;34m'from_config'\u001b[0m\u001b[0;34m)\u001b[0m\u001b[0;34m:\u001b[0m\u001b[0;34m\u001b[0m\u001b[0;34m\u001b[0m\u001b[0m\n\u001b[1;32m    142\u001b[0m             \u001b[0mcustom_objects\u001b[0m \u001b[0;34m=\u001b[0m \u001b[0mcustom_objects\u001b[0m \u001b[0;32mor\u001b[0m \u001b[0;34m{\u001b[0m\u001b[0;34m}\u001b[0m\u001b[0;34m\u001b[0m\u001b[0;34m\u001b[0m\u001b[0m\n",
            "\u001b[0;31mValueError\u001b[0m: Unknown optimizer: RAdam"
          ]
        }
      ]
    },
    {
      "cell_type": "code",
      "metadata": {
        "id": "_tpEJEOywLq4",
        "colab_type": "code",
        "outputId": "e70d333f-f234-4380-b494-d740e3ad3af8",
        "colab": {
          "base_uri": "https://localhost:8080/",
          "height": 309
        }
      },
      "source": [
        "model.layers.pop()\n",
        "model.layers.pop()\n",
        "model.layers.pop()\n",
        "model.layers.pop()\n",
        "model.layers.pop()\n",
        "model.layers.pop()\n",
        "model.layers.pop()\n",
        "model.summary()"
      ],
      "execution_count": 0,
      "outputs": [
        {
          "output_type": "stream",
          "text": [
            "Model: \"model_2\"\n",
            "_________________________________________________________________\n",
            "Layer (type)                 Output Shape              Param #   \n",
            "=================================================================\n",
            "input_2 (InputLayer)         (None, 118)               0         \n",
            "_________________________________________________________________\n",
            "embedding_2 (Embedding)      (None, 118, 300)          55440300  \n",
            "_________________________________________________________________\n",
            "lstm_2 (LSTM)                (None, 300)               721200    \n",
            "=================================================================\n",
            "Total params: 56,210,926\n",
            "Trainable params: 56,210,926\n",
            "Non-trainable params: 0\n",
            "_________________________________________________________________\n"
          ],
          "name": "stdout"
        },
        {
          "output_type": "stream",
          "text": [
            "/usr/local/lib/python3.6/dist-packages/keras/engine/training.py:493: UserWarning: Discrepancy between trainable weights and collected trainable weights, did you set `model.trainable` without calling `model.compile` after ?\n",
            "  'Discrepancy between trainable weights and collected trainable'\n"
          ],
          "name": "stderr"
        }
      ]
    },
    {
      "cell_type": "code",
      "metadata": {
        "id": "4GbB6T8KK-dN",
        "colab_type": "code",
        "outputId": "a6c9b7e5-2286-4739-fcf6-710473a23b98",
        "colab": {
          "base_uri": "https://localhost:8080/",
          "height": 204
        }
      },
      "source": [
        "semeval_df.sentiment = semeval_df.sentiment.astype('category')\n",
        "semeval_df[\"sentiment\"] = semeval_df[\"sentiment\"].cat.codes\n",
        "semeval_df.head()"
      ],
      "execution_count": 0,
      "outputs": [
        {
          "output_type": "execute_result",
          "data": {
            "text/html": [
              "<div>\n",
              "<style scoped>\n",
              "    .dataframe tbody tr th:only-of-type {\n",
              "        vertical-align: middle;\n",
              "    }\n",
              "\n",
              "    .dataframe tbody tr th {\n",
              "        vertical-align: top;\n",
              "    }\n",
              "\n",
              "    .dataframe thead th {\n",
              "        text-align: right;\n",
              "    }\n",
              "</style>\n",
              "<table border=\"1\" class=\"dataframe\">\n",
              "  <thead>\n",
              "    <tr style=\"text-align: right;\">\n",
              "      <th></th>\n",
              "      <th>id</th>\n",
              "      <th>sentiment</th>\n",
              "      <th>text</th>\n",
              "    </tr>\n",
              "  </thead>\n",
              "  <tbody>\n",
              "    <tr>\n",
              "      <th>0</th>\n",
              "      <td>619950566786113536</td>\n",
              "      <td>1</td>\n",
              "      <td>picturehouse pink floyd roger water walll open...</td>\n",
              "    </tr>\n",
              "    <tr>\n",
              "      <th>1</th>\n",
              "      <td>619969366986235905</td>\n",
              "      <td>1</td>\n",
              "      <td>order go set watchman store website tuesday ge...</td>\n",
              "    </tr>\n",
              "    <tr>\n",
              "      <th>2</th>\n",
              "      <td>619971047195045888</td>\n",
              "      <td>0</td>\n",
              "      <td>runway renovation airport prevent see taylor s...</td>\n",
              "    </tr>\n",
              "    <tr>\n",
              "      <th>3</th>\n",
              "      <td>619974445185302528</td>\n",
              "      <td>1</td>\n",
              "      <td>could ask onstage interview question miss usa ...</td>\n",
              "    </tr>\n",
              "    <tr>\n",
              "      <th>4</th>\n",
              "      <td>619987808317407232</td>\n",
              "      <td>2</td>\n",
              "      <td>portion book sale harper lee go set watchman r...</td>\n",
              "    </tr>\n",
              "  </tbody>\n",
              "</table>\n",
              "</div>"
            ],
            "text/plain": [
              "                   id  ...                                               text\n",
              "0  619950566786113536  ...  picturehouse pink floyd roger water walll open...\n",
              "1  619969366986235905  ...  order go set watchman store website tuesday ge...\n",
              "2  619971047195045888  ...  runway renovation airport prevent see taylor s...\n",
              "3  619974445185302528  ...  could ask onstage interview question miss usa ...\n",
              "4  619987808317407232  ...  portion book sale harper lee go set watchman r...\n",
              "\n",
              "[5 rows x 3 columns]"
            ]
          },
          "metadata": {
            "tags": []
          },
          "execution_count": 50
        }
      ]
    },
    {
      "cell_type": "code",
      "metadata": {
        "id": "2UwE-p_sXO6f",
        "colab_type": "code",
        "outputId": "de8cb460-eccd-4f19-ebd7-5be6477dc28f",
        "colab": {
          "base_uri": "https://localhost:8080/",
          "height": 153
        }
      },
      "source": [
        "from sklearn.model_selection import StratifiedShuffleSplit\n",
        "split = StratifiedShuffleSplit(n_splits=1, test_size=0.2, random_state=42)\n",
        "for train_idx, test_idx in split.split(semeval_df, semeval_df[\"sentiment\"]):\n",
        "    train_set = semeval_df.loc[train_idx]\n",
        "    test_set = semeval_df.loc[test_idx]\n",
        "\n",
        "print(train_set[\"sentiment\"].value_counts())\n",
        "print(test_set[\"sentiment\"].value_counts())"
      ],
      "execution_count": 0,
      "outputs": [
        {
          "output_type": "stream",
          "text": [
            "1    8273\n",
            "2    5647\n",
            "0    2585\n",
            "Name: sentiment, dtype: int64\n",
            "1    2069\n",
            "2    1412\n",
            "0     646\n",
            "Name: sentiment, dtype: int64\n"
          ],
          "name": "stdout"
        }
      ]
    },
    {
      "cell_type": "code",
      "metadata": {
        "id": "xKgGBwTsXe00",
        "colab_type": "code",
        "colab": {}
      },
      "source": [
        "semeval_train_texts = train_set[\"text\"]\n",
        "semeval_test_texts = test_set[\"text\"]"
      ],
      "execution_count": 0,
      "outputs": []
    },
    {
      "cell_type": "code",
      "metadata": {
        "id": "wtKF5775Nhk4",
        "colab_type": "code",
        "colab": {}
      },
      "source": [
        "semeval_train_sequences = tokenizer.texts_to_sequences(semeval_train_texts)\n",
        "X_semeval_train = pad_sequences(semeval_train_sequences, X_train.shape[1])\n",
        "y_semeval_train = to_categorical(list(train_set[\"sentiment\"]))"
      ],
      "execution_count": 0,
      "outputs": []
    },
    {
      "cell_type": "code",
      "metadata": {
        "id": "6pEWRR10X3zO",
        "colab_type": "code",
        "colab": {}
      },
      "source": [
        "semeval_test_sequences = tokenizer.texts_to_sequences(semeval_test_texts)\n",
        "X_semeval_test = pad_sequences(semeval_test_sequences, X_train.shape[1])\n",
        "y_semeval_test = to_categorical(list(test_set[\"sentiment\"]))"
      ],
      "execution_count": 0,
      "outputs": []
    },
    {
      "cell_type": "code",
      "metadata": {
        "id": "oH6hZLPDz3kS",
        "colab_type": "code",
        "outputId": "ed812840-3f04-4442-ebe1-7f75121fa54a",
        "colab": {
          "base_uri": "https://localhost:8080/",
          "height": 34
        }
      },
      "source": [
        "X_semeval_train.shape"
      ],
      "execution_count": 0,
      "outputs": [
        {
          "output_type": "execute_result",
          "data": {
            "text/plain": [
              "(16505, 118)"
            ]
          },
          "metadata": {
            "tags": []
          },
          "execution_count": 55
        }
      ]
    },
    {
      "cell_type": "code",
      "metadata": {
        "id": "sKtiCGJ1N7dY",
        "colab_type": "code",
        "cellView": "code",
        "colab": {}
      },
      "source": [
        "dense0 = Dense(128, activation='relu')(model.layers[-1].output)\n",
        "dropout0 = Dropout(rate=0.2)(dense0)\n",
        "dense1 = Dense(64, activation='relu')(dropout0)\n",
        "dropout1 = Dropout(rate=0.2)(dense1)\n",
        "dense2 = Dense(32, activation=\"relu\")(dropout1)\n",
        "dropout2 = Dropout(rate=0.2)(dense2)\n",
        "dense3 = Dense(16, activation=\"relu\")(dropout2)\n",
        "output = Dense(y_semeval_train.shape[1], activation='softmax')(dense3)\n",
        "\n",
        "# from keras.layers import BatchNormalization\n",
        "# dense0 = Dense(128, activation='relu')(model.layers[-1].output)\n",
        "# batchn0 = BatchNormalization()(dense0)\n",
        "# dense1 = Dense(64, activation='relu')(batchn0)\n",
        "# batchn1 = BatchNormalization()(dense1)\n",
        "# dense2 = Dense(32, activation=\"relu\")(batchn1)\n",
        "# batchn2 = BatchNormalization()(dense2)\n",
        "# dense3 = Dense(16, activation=\"relu\")(batchn2)\n",
        "# output = Dense(y_semeval_train.shape[1], activation='softmax')(dense3)\n",
        "\n",
        "# dense0 = Dense(128, activation='relu')(model.layers[-1].output)\n",
        "# batchn0 = BatchNormalization()(dense0)\n",
        "# dropout0 = Dropout(rate=0.25)(batchn0)\n",
        "# dense1 = Dense(64, activation='relu')(dropout0)\n",
        "# batchn1 = BatchNormalization()(dense1)\n",
        "# dropout1 = Dropout(rate=0.25)(batchn1)\n",
        "# dense2 = Dense(32, activation=\"relu\")(batchn1)\n",
        "# batchn2 = BatchNormalization()(dense2)\n",
        "# dropout2 = Dropout(rate=0.25)(batchn2)\n",
        "# dense3 = Dense(16, activation=\"relu\")(dropout2)\n",
        "# output = Dense(y_semeval_train.shape[1], activation='softmax')(dense3)"
      ],
      "execution_count": 0,
      "outputs": []
    },
    {
      "cell_type": "code",
      "metadata": {
        "id": "LEYq8czrKWkj",
        "colab_type": "code",
        "outputId": "128c0e66-ade2-4361-a5c1-92812bf08f2b",
        "colab": {
          "base_uri": "https://localhost:8080/",
          "height": 51
        }
      },
      "source": [
        "seq_len_semeval = X_semeval_train.shape[1]\n",
        "new_model = Model(input=model.input, output=[output])"
      ],
      "execution_count": 0,
      "outputs": [
        {
          "output_type": "stream",
          "text": [
            "/usr/local/lib/python3.6/dist-packages/ipykernel_launcher.py:2: UserWarning: Update your `Model` call to the Keras 2 API: `Model(inputs=Tensor(\"in..., outputs=[<tf.Tenso...)`\n",
            "  \n"
          ],
          "name": "stderr"
        }
      ]
    },
    {
      "cell_type": "code",
      "metadata": {
        "id": "3mwOUSW9OX27",
        "colab_type": "code",
        "outputId": "a2fc93a8-4943-4369-8bee-3ef050fa810d",
        "colab": {
          "base_uri": "https://localhost:8080/",
          "height": 1000
        }
      },
      "source": [
        "new_model.summary()\n",
        "from keras.utils import plot_model\n",
        "plot_model(new_model, to_file='model2.png', show_shapes=True)"
      ],
      "execution_count": 0,
      "outputs": [
        {
          "output_type": "stream",
          "text": [
            "Model: \"model_3\"\n",
            "_________________________________________________________________\n",
            "Layer (type)                 Output Shape              Param #   \n",
            "=================================================================\n",
            "input_2 (InputLayer)         (None, 118)               0         \n",
            "_________________________________________________________________\n",
            "embedding_2 (Embedding)      (None, 118, 300)          55440300  \n",
            "_________________________________________________________________\n",
            "lstm_2 (LSTM)                (None, 300)               721200    \n",
            "_________________________________________________________________\n",
            "dense_16 (Dense)             (None, 128)               38528     \n",
            "_________________________________________________________________\n",
            "dropout_8 (Dropout)          (None, 128)               0         \n",
            "_________________________________________________________________\n",
            "dense_17 (Dense)             (None, 64)                8256      \n",
            "_________________________________________________________________\n",
            "dropout_9 (Dropout)          (None, 64)                0         \n",
            "_________________________________________________________________\n",
            "dense_18 (Dense)             (None, 32)                2080      \n",
            "_________________________________________________________________\n",
            "dropout_10 (Dropout)         (None, 32)                0         \n",
            "_________________________________________________________________\n",
            "dense_19 (Dense)             (None, 16)                528       \n",
            "_________________________________________________________________\n",
            "dense_20 (Dense)             (None, 3)                 51        \n",
            "=================================================================\n",
            "Total params: 56,210,943\n",
            "Trainable params: 56,210,943\n",
            "Non-trainable params: 0\n",
            "_________________________________________________________________\n"
          ],
          "name": "stdout"
        },
        {
          "output_type": "execute_result",
          "data": {
            "image/png": "[encoded data removed]",
            "text/plain": [
              "<IPython.core.display.Image object>"
            ]
          },
          "metadata": {
            "tags": []
          },
          "execution_count": 58
        }
      ]
    },
    {
      "cell_type": "code",
      "metadata": {
        "id": "KyY__XbI_VpG",
        "colab_type": "code",
        "colab": {}
      },
      "source": [
        "# Make embeddings non-trainable\n",
        "new_model.layers[1].trainable = False\n",
        "# new_model.layers[2].trainable = False"
      ],
      "execution_count": 0,
      "outputs": []
    },
    {
      "cell_type": "code",
      "metadata": {
        "id": "tGVYgncXQFpw",
        "colab_type": "code",
        "colab": {}
      },
      "source": [
        "from keras.optimizers import Adam, Nadam, Adadelta, SGD, RMSprop\n",
        "# Adadelta performs poorly\n",
        "# Adam performs better than Nadam\n",
        "# SGD fares poorly\n",
        "# Default adam lr = 2e-3\n",
        "opt = RAdam()\n",
        "\n",
        "new_model.compile(loss='categorical_crossentropy',\n",
        "              optimizer=opt,\n",
        "              metrics=['accuracy', f1_m, precision_m, recall_m])\n",
        "\n",
        "# from keras.callbacks import LearningRateScheduler\n",
        "# import math\n",
        "# # learning rate schedule\n",
        "# def step_decay(epoch):\n",
        "# \tinitial_lrate = 0.01\n",
        "# \tdrop = 0.1\n",
        "# \tepochs_drop = 5.00\n",
        "# \tlrate = initial_lrate * math.pow(drop, ((1+epoch)/epochs_drop))\n",
        "# \treturn min(1e-4, lrate)\n",
        "\n",
        "# # learning schedule callback\n",
        "# lrate = LearningRateScheduler(step_decay)\n",
        "# # from keras.callbacks import EarlyStopping\n",
        "# # es = EarlyStopping(monitor='val_loss', mode='min', verbose=1, patience=10)"
      ],
      "execution_count": 0,
      "outputs": []
    },
    {
      "cell_type": "code",
      "metadata": {
        "id": "ObFaLmIFQ0oV",
        "colab_type": "code",
        "outputId": "42d79e9e-b14d-4d18-b9a6-0dace8e00def",
        "colab": {
          "base_uri": "https://localhost:8080/",
          "height": 34
        }
      },
      "source": [
        "print(X_semeval_train.shape, y_semeval_train.shape)"
      ],
      "execution_count": 0,
      "outputs": [
        {
          "output_type": "stream",
          "text": [
            "(16505, 118) (16505, 3)\n"
          ],
          "name": "stdout"
        }
      ]
    },
    {
      "cell_type": "code",
      "metadata": {
        "id": "TMlvOhPUQo1N",
        "colab_type": "code",
        "outputId": "ea1941a2-e243-46c4-ccd2-d8ddef10440d",
        "colab": {
          "base_uri": "https://localhost:8080/",
          "height": 1000
        }
      },
      "source": [
        "history = new_model.fit(X_semeval_train, y_semeval_train, batch_size=500, epochs=40, verbose=1, shuffle=True, validation_split=0.2)"
      ],
      "execution_count": 0,
      "outputs": [
        {
          "output_type": "stream",
          "text": [
            "Train on 13204 samples, validate on 3301 samples\n",
            "Epoch 1/40\n",
            "13204/13204 [==============================] - 89s 7ms/step - loss: 1.0809 - acc: 0.4030 - f1_m: 0.0000e+00 - precision_m: 0.0000e+00 - recall_m: 0.0000e+00 - val_loss: 1.0435 - val_acc: 0.4859 - val_f1_m: 0.0000e+00 - val_precision_m: 0.0000e+00 - val_recall_m: 0.0000e+00\n",
            "Epoch 2/40\n",
            "13204/13204 [==============================] - 86s 6ms/step - loss: 1.0037 - acc: 0.4949 - f1_m: 0.1702 - precision_m: 0.3842 - recall_m: 0.1238 - val_loss: 0.9606 - val_acc: 0.5147 - val_f1_m: 0.4248 - val_precision_m: 0.5128 - val_recall_m: 0.3626\n",
            "Epoch 3/40\n",
            "13204/13204 [==============================] - 86s 7ms/step - loss: 0.9546 - acc: 0.5223 - f1_m: 0.3849 - precision_m: 0.5414 - recall_m: 0.3005 - val_loss: 0.9229 - val_acc: 0.5362 - val_f1_m: 0.4826 - val_precision_m: 0.5538 - val_recall_m: 0.4277\n",
            "Epoch 4/40\n",
            "13204/13204 [==============================] - 86s 6ms/step - loss: 0.9293 - acc: 0.5379 - f1_m: 0.4343 - precision_m: 0.5570 - recall_m: 0.3567 - val_loss: 0.8945 - val_acc: 0.5547 - val_f1_m: 0.5013 - val_precision_m: 0.6003 - val_recall_m: 0.4305\n",
            "Epoch 5/40\n",
            "13204/13204 [==============================] - 86s 6ms/step - loss: 0.8997 - acc: 0.5606 - f1_m: 0.4756 - precision_m: 0.5905 - recall_m: 0.3986 - val_loss: 0.8625 - val_acc: 0.5910 - val_f1_m: 0.5153 - val_precision_m: 0.6308 - val_recall_m: 0.4356\n",
            "Epoch 6/40\n",
            "13204/13204 [==============================] - 85s 6ms/step - loss: 0.8784 - acc: 0.5685 - f1_m: 0.4890 - precision_m: 0.6109 - recall_m: 0.4084 - val_loss: 0.8388 - val_acc: 0.6089 - val_f1_m: 0.5641 - val_precision_m: 0.6329 - val_recall_m: 0.5089\n",
            "Epoch 7/40\n",
            "13204/13204 [==============================] - 86s 6ms/step - loss: 0.8687 - acc: 0.5811 - f1_m: 0.5121 - precision_m: 0.6199 - recall_m: 0.4382 - val_loss: 0.8305 - val_acc: 0.6022 - val_f1_m: 0.5734 - val_precision_m: 0.6402 - val_recall_m: 0.5192\n",
            "Epoch 8/40\n",
            "13204/13204 [==============================] - 87s 7ms/step - loss: 0.8504 - acc: 0.5928 - f1_m: 0.5379 - precision_m: 0.6310 - recall_m: 0.4692 - val_loss: 0.8255 - val_acc: 0.6004 - val_f1_m: 0.5694 - val_precision_m: 0.6514 - val_recall_m: 0.5059\n",
            "Epoch 9/40\n",
            "13204/13204 [==============================] - 85s 6ms/step - loss: 0.8409 - acc: 0.6053 - f1_m: 0.5541 - precision_m: 0.6427 - recall_m: 0.4874 - val_loss: 0.8136 - val_acc: 0.6165 - val_f1_m: 0.5823 - val_precision_m: 0.6595 - val_recall_m: 0.5214\n",
            "Epoch 10/40\n",
            "13204/13204 [==============================] - 85s 6ms/step - loss: 0.8297 - acc: 0.6136 - f1_m: 0.5656 - precision_m: 0.6541 - recall_m: 0.4989 - val_loss: 0.8042 - val_acc: 0.6277 - val_f1_m: 0.6028 - val_precision_m: 0.6708 - val_recall_m: 0.5474\n",
            "Epoch 11/40\n",
            "13204/13204 [==============================] - 86s 7ms/step - loss: 0.8244 - acc: 0.6181 - f1_m: 0.5728 - precision_m: 0.6568 - recall_m: 0.5084 - val_loss: 0.7949 - val_acc: 0.6301 - val_f1_m: 0.6011 - val_precision_m: 0.6721 - val_recall_m: 0.5438\n",
            "Epoch 12/40\n",
            "13204/13204 [==============================] - 86s 6ms/step - loss: 0.8235 - acc: 0.6173 - f1_m: 0.5760 - precision_m: 0.6536 - recall_m: 0.5154 - val_loss: 0.7970 - val_acc: 0.6292 - val_f1_m: 0.5931 - val_precision_m: 0.6758 - val_recall_m: 0.5286\n",
            "Epoch 13/40\n",
            "13204/13204 [==============================] - 86s 7ms/step - loss: 0.8101 - acc: 0.6283 - f1_m: 0.5846 - precision_m: 0.6592 - recall_m: 0.5258 - val_loss: 0.7942 - val_acc: 0.6274 - val_f1_m: 0.6109 - val_precision_m: 0.6660 - val_recall_m: 0.5644\n",
            "Epoch 14/40\n",
            "13204/13204 [==============================] - 85s 6ms/step - loss: 0.8110 - acc: 0.6208 - f1_m: 0.5814 - precision_m: 0.6601 - recall_m: 0.5199 - val_loss: 0.7851 - val_acc: 0.6434 - val_f1_m: 0.6185 - val_precision_m: 0.6828 - val_recall_m: 0.5653\n",
            "Epoch 15/40\n",
            "13204/13204 [==============================] - 85s 6ms/step - loss: 0.8000 - acc: 0.6286 - f1_m: 0.5940 - precision_m: 0.6630 - recall_m: 0.5382 - val_loss: 0.7764 - val_acc: 0.6483 - val_f1_m: 0.6228 - val_precision_m: 0.6811 - val_recall_m: 0.5738\n",
            "Epoch 16/40\n",
            "13204/13204 [==============================] - 86s 7ms/step - loss: 0.8013 - acc: 0.6300 - f1_m: 0.5934 - precision_m: 0.6675 - recall_m: 0.5349 - val_loss: 0.8029 - val_acc: 0.6168 - val_f1_m: 0.6071 - val_precision_m: 0.6512 - val_recall_m: 0.5686\n",
            "Epoch 17/40\n",
            "13204/13204 [==============================] - 85s 6ms/step - loss: 0.8016 - acc: 0.6297 - f1_m: 0.5983 - precision_m: 0.6670 - recall_m: 0.5429 - val_loss: 0.7821 - val_acc: 0.6498 - val_f1_m: 0.5988 - val_precision_m: 0.6926 - val_recall_m: 0.5274\n",
            "Epoch 18/40\n",
            "13204/13204 [==============================] - 86s 6ms/step - loss: 0.7905 - acc: 0.6366 - f1_m: 0.6020 - precision_m: 0.6777 - recall_m: 0.5426 - val_loss: 0.7916 - val_acc: 0.6389 - val_f1_m: 0.5867 - val_precision_m: 0.6865 - val_recall_m: 0.5123\n",
            "Epoch 19/40\n",
            "13204/13204 [==============================] - 86s 7ms/step - loss: 0.7861 - acc: 0.6387 - f1_m: 0.6069 - precision_m: 0.6752 - recall_m: 0.5520 - val_loss: 0.7859 - val_acc: 0.6307 - val_f1_m: 0.6155 - val_precision_m: 0.6665 - val_recall_m: 0.5719\n",
            "Epoch 20/40\n",
            "13204/13204 [==============================] - 85s 6ms/step - loss: 0.7773 - acc: 0.6457 - f1_m: 0.6140 - precision_m: 0.6829 - recall_m: 0.5580 - val_loss: 0.7769 - val_acc: 0.6504 - val_f1_m: 0.6185 - val_precision_m: 0.6846 - val_recall_m: 0.5641\n",
            "Epoch 21/40\n",
            "13204/13204 [==============================] - 85s 6ms/step - loss: 0.7725 - acc: 0.6498 - f1_m: 0.6204 - precision_m: 0.6865 - recall_m: 0.5663 - val_loss: 0.7760 - val_acc: 0.6395 - val_f1_m: 0.6240 - val_precision_m: 0.6694 - val_recall_m: 0.5844\n",
            "Epoch 22/40\n",
            "13204/13204 [==============================] - 86s 6ms/step - loss: 0.7682 - acc: 0.6506 - f1_m: 0.6246 - precision_m: 0.6837 - recall_m: 0.5752 - val_loss: 0.7720 - val_acc: 0.6465 - val_f1_m: 0.6246 - val_precision_m: 0.6726 - val_recall_m: 0.5832\n",
            "Epoch 23/40\n",
            "13204/13204 [==============================] - 86s 6ms/step - loss: 0.7558 - acc: 0.6578 - f1_m: 0.6344 - precision_m: 0.6906 - recall_m: 0.5869 - val_loss: 0.7902 - val_acc: 0.6359 - val_f1_m: 0.6116 - val_precision_m: 0.6706 - val_recall_m: 0.5623\n",
            "Epoch 24/40\n",
            "13204/13204 [==============================] - 85s 6ms/step - loss: 0.7595 - acc: 0.6550 - f1_m: 0.6296 - precision_m: 0.6942 - recall_m: 0.5766 - val_loss: 0.7667 - val_acc: 0.6522 - val_f1_m: 0.6289 - val_precision_m: 0.6801 - val_recall_m: 0.5850\n",
            "Epoch 25/40\n",
            "13204/13204 [==============================] - 86s 7ms/step - loss: 0.7472 - acc: 0.6657 - f1_m: 0.6429 - precision_m: 0.6947 - recall_m: 0.5985 - val_loss: 0.7658 - val_acc: 0.6504 - val_f1_m: 0.6222 - val_precision_m: 0.6794 - val_recall_m: 0.5741\n",
            "Epoch 26/40\n",
            "13204/13204 [==============================] - 85s 6ms/step - loss: 0.7424 - acc: 0.6605 - f1_m: 0.6373 - precision_m: 0.6938 - recall_m: 0.5899 - val_loss: 0.7692 - val_acc: 0.6468 - val_f1_m: 0.6290 - val_precision_m: 0.6763 - val_recall_m: 0.5880\n",
            "Epoch 27/40\n",
            "13204/13204 [==============================] - 85s 6ms/step - loss: 0.7333 - acc: 0.6670 - f1_m: 0.6442 - precision_m: 0.6987 - recall_m: 0.5982 - val_loss: 0.7819 - val_acc: 0.6462 - val_f1_m: 0.6294 - val_precision_m: 0.6756 - val_recall_m: 0.5892\n",
            "Epoch 28/40\n",
            "13204/13204 [==============================] - 85s 6ms/step - loss: 0.7285 - acc: 0.6709 - f1_m: 0.6490 - precision_m: 0.7011 - recall_m: 0.6047 - val_loss: 0.7750 - val_acc: 0.6374 - val_f1_m: 0.6233 - val_precision_m: 0.6656 - val_recall_m: 0.5862\n",
            "Epoch 29/40\n",
            "13204/13204 [==============================] - 86s 6ms/step - loss: 0.7274 - acc: 0.6721 - f1_m: 0.6504 - precision_m: 0.7044 - recall_m: 0.6044 - val_loss: 0.7716 - val_acc: 0.6471 - val_f1_m: 0.6378 - val_precision_m: 0.6692 - val_recall_m: 0.6092\n",
            "Epoch 30/40\n",
            "13204/13204 [==============================] - 88s 7ms/step - loss: 0.7158 - acc: 0.6849 - f1_m: 0.6670 - precision_m: 0.7158 - recall_m: 0.6247 - val_loss: 0.7617 - val_acc: 0.6507 - val_f1_m: 0.6280 - val_precision_m: 0.6838 - val_recall_m: 0.5807\n",
            "Epoch 31/40\n",
            "13204/13204 [==============================] - 85s 6ms/step - loss: 0.7090 - acc: 0.6806 - f1_m: 0.6635 - precision_m: 0.7133 - recall_m: 0.6206 - val_loss: 0.7829 - val_acc: 0.6453 - val_f1_m: 0.6241 - val_precision_m: 0.6734 - val_recall_m: 0.5816\n",
            "Epoch 32/40\n",
            "13204/13204 [==============================] - 85s 6ms/step - loss: 0.7020 - acc: 0.6829 - f1_m: 0.6665 - precision_m: 0.7124 - recall_m: 0.6265 - val_loss: 0.7674 - val_acc: 0.6510 - val_f1_m: 0.6388 - val_precision_m: 0.6758 - val_recall_m: 0.6056\n",
            "Epoch 33/40\n",
            "13204/13204 [==============================] - 86s 7ms/step - loss: 0.6922 - acc: 0.6893 - f1_m: 0.6742 - precision_m: 0.7185 - recall_m: 0.6353 - val_loss: 0.7783 - val_acc: 0.6425 - val_f1_m: 0.6273 - val_precision_m: 0.6744 - val_recall_m: 0.5865\n",
            "Epoch 34/40\n",
            "13204/13204 [==============================] - 86s 6ms/step - loss: 0.6950 - acc: 0.6862 - f1_m: 0.6693 - precision_m: 0.7168 - recall_m: 0.6281 - val_loss: 0.7762 - val_acc: 0.6474 - val_f1_m: 0.6195 - val_precision_m: 0.6721 - val_recall_m: 0.5747\n",
            "Epoch 35/40\n",
            "13204/13204 [==============================] - 85s 6ms/step - loss: 0.6887 - acc: 0.6911 - f1_m: 0.6758 - precision_m: 0.7200 - recall_m: 0.6370 - val_loss: 0.7793 - val_acc: 0.6504 - val_f1_m: 0.6393 - val_precision_m: 0.6740 - val_recall_m: 0.6080\n",
            "Epoch 36/40\n",
            "13204/13204 [==============================] - 85s 6ms/step - loss: 0.6727 - acc: 0.6974 - f1_m: 0.6862 - precision_m: 0.7268 - recall_m: 0.6500 - val_loss: 0.7863 - val_acc: 0.6486 - val_f1_m: 0.6316 - val_precision_m: 0.6727 - val_recall_m: 0.5953\n",
            "Epoch 37/40\n",
            "13204/13204 [==============================] - 86s 6ms/step - loss: 0.6654 - acc: 0.7058 - f1_m: 0.6939 - precision_m: 0.7351 - recall_m: 0.6572 - val_loss: 0.7746 - val_acc: 0.6380 - val_f1_m: 0.6271 - val_precision_m: 0.6705 - val_recall_m: 0.5892\n",
            "Epoch 38/40\n",
            "13204/13204 [==============================] - 85s 6ms/step - loss: 0.6565 - acc: 0.7062 - f1_m: 0.6953 - precision_m: 0.7350 - recall_m: 0.6599 - val_loss: 0.7937 - val_acc: 0.6359 - val_f1_m: 0.6151 - val_precision_m: 0.6609 - val_recall_m: 0.5753\n",
            "Epoch 39/40\n",
            "13204/13204 [==============================] - 85s 6ms/step - loss: 0.6554 - acc: 0.7079 - f1_m: 0.6957 - precision_m: 0.7354 - recall_m: 0.6603 - val_loss: 0.8040 - val_acc: 0.6453 - val_f1_m: 0.6353 - val_precision_m: 0.6634 - val_recall_m: 0.6095\n",
            "Epoch 40/40\n",
            "13204/13204 [==============================] - 87s 7ms/step - loss: 0.6571 - acc: 0.7086 - f1_m: 0.6948 - precision_m: 0.7352 - recall_m: 0.6590 - val_loss: 0.7879 - val_acc: 0.6465 - val_f1_m: 0.6369 - val_precision_m: 0.6615 - val_recall_m: 0.6141\n"
          ],
          "name": "stdout"
        }
      ]
    },
    {
      "cell_type": "code",
      "metadata": {
        "id": "wX0Bizf-P-Yz",
        "colab_type": "code",
        "outputId": "fa2abf3d-5add-4edf-da02-2ea93191b682",
        "colab": {
          "base_uri": "https://localhost:8080/",
          "height": 851
        }
      },
      "source": [
        "import matplotlib.pyplot as plt\n",
        "\n",
        "plt.plot(history.history['f1_m'])\n",
        "plt.plot(history.history['val_f1_m'])\n",
        "plt.title('Model F1 score')\n",
        "plt.ylabel('F1')\n",
        "plt.xlabel('Epoch')\n",
        "plt.legend(['Train', 'Test'], loc='upper left')\n",
        "plt.show()\n",
        "\n",
        "# Plot training & validation loss values\n",
        "plt.plot(history.history['acc'])\n",
        "plt.plot(history.history['val_acc'])\n",
        "plt.title('Model Accuracy')\n",
        "plt.ylabel('Loss')\n",
        "plt.xlabel('Epoch')\n",
        "plt.legend(['Train', 'Test'], loc='upper left')\n",
        "plt.show()\n",
        "\n",
        "# Plot training & validation loss values\n",
        "plt.plot(history.history['recall_m'])\n",
        "plt.plot(history.history['val_recall_m'])\n",
        "plt.title('Model Recall')\n",
        "plt.ylabel('Recall')\n",
        "plt.xlabel('Epoch')\n",
        "plt.legend(['Train', 'Test'], loc='upper left')\n",
        "plt.show()"
      ],
      "execution_count": 0,
      "outputs": [
        {
          "output_type": "display_data",
          "data": {
            "image/png": "[encoded data removed]",
            "text/plain": [
              "<Figure size 432x288 with 1 Axes>"
            ]
          },
          "metadata": {
            "tags": []
          }
        },
        {
          "output_type": "display_data",
          "data": {
            "image/png": "[encoded data removed]",
            "text/plain": [
              "<Figure size 432x288 with 1 Axes>"
            ]
          },
          "metadata": {
            "tags": []
          }
        },
        {
          "output_type": "display_data",
          "data": {
            "image/png": "[encoded data removed]",
            "text/plain": [
              "<Figure size 432x288 with 1 Axes>"
            ]
          },
          "metadata": {
            "tags": []
          }
        }
      ]
    },
    {
      "cell_type": "code",
      "metadata": {
        "id": "Nvg5AUoXQ5ax",
        "colab_type": "code",
        "outputId": "100f6e72-c8a7-4ef8-dbcd-b01598cebedf",
        "colab": {
          "base_uri": "https://localhost:8080/",
          "height": 119
        }
      },
      "source": [
        "new_model.evaluate(X_semeval_test, y_semeval_test)"
      ],
      "execution_count": 0,
      "outputs": [
        {
          "output_type": "stream",
          "text": [
            "4127/4127 [==============================] - 15s 4ms/step\n"
          ],
          "name": "stdout"
        },
        {
          "output_type": "execute_result",
          "data": {
            "text/plain": [
              "[0.7842956247444097,\n",
              " 0.655924400146342,\n",
              " 0.6452978110238314,\n",
              " 0.67148636611865,\n",
              " 0.6217591469357775]"
            ]
          },
          "metadata": {
            "tags": []
          },
          "execution_count": 67
        }
      ]
    },
    {
      "cell_type": "code",
      "metadata": {
        "id": "-mZ2-MNRY_ig",
        "colab_type": "code",
        "outputId": "98fb2f2c-b452-4e19-a32b-107fdd4a4076",
        "colab": {
          "base_uri": "https://localhost:8080/",
          "height": 34
        }
      },
      "source": [
        "y_pred = new_model.predict(X_semeval_test)\n",
        "y_pred = np.argmax(y_pred, axis=1)\n",
        "y_true = np.argmax(y_semeval_test, axis=1)\n",
        "from sklearn.metrics import classification_report, f1_score, accuracy_score, recall_score\n",
        "print(recall_score(y_true, y_pred, ))"
      ],
      "execution_count": 0,
      "outputs": [
        {
          "output_type": "stream",
          "text": [
            "0.6034076090243965\n"
          ],
          "name": "stdout"
        }
      ]
    },
    {
      "cell_type": "markdown",
      "metadata": {
        "id": "UqFdgevZ_5bB",
        "colab_type": "text"
      },
      "source": [
        "Results of Ablation tests:\n",
        "1.   Embedding frozen but LSTM trainable : \n",
        "2.   Embedding trainable but LSTM frozen\n",
        "3.   Embedding and LSTM both trainable : 0.6003421\n",
        "\n"
      ]
    },
    {
      "cell_type": "code",
      "metadata": {
        "id": "1DDkKaUoZGzI",
        "colab_type": "code",
        "outputId": "5b3145ba-eb4b-4f00-f79c-f7e113f8acee",
        "colab": {
          "base_uri": "https://localhost:8080/",
          "height": 493
        }
      },
      "source": [
        "from keras.models import load_model\n",
        "model = load_model('/content/gdrive/My Drive/Colab Notebooks/distant_tweets_pretrained.h5')\n",
        "model.summary()"
      ],
      "execution_count": 0,
      "outputs": [
        {
          "output_type": "stream",
          "text": [
            "Model: \"model_6\"\n",
            "_________________________________________________________________\n",
            "Layer (type)                 Output Shape              Param #   \n",
            "=================================================================\n",
            "input_4 (InputLayer)         (None, 49)                0         \n",
            "_________________________________________________________________\n",
            "embedding_4 (Embedding)      (None, 49, 300)           33786000  \n",
            "_________________________________________________________________\n",
            "lstm_4 (LSTM)                (None, 300)               721200    \n",
            "_________________________________________________________________\n",
            "dense_26 (Dense)             (None, 128)               38528     \n",
            "_________________________________________________________________\n",
            "dense_27 (Dense)             (None, 64)                8256      \n",
            "_________________________________________________________________\n",
            "dropout_15 (Dropout)         (None, 64)                0         \n",
            "_________________________________________________________________\n",
            "dense_28 (Dense)             (None, 32)                2080      \n",
            "_________________________________________________________________\n",
            "dropout_16 (Dropout)         (None, 32)                0         \n",
            "_________________________________________________________________\n",
            "dense_29 (Dense)             (None, 16)                528       \n",
            "_________________________________________________________________\n",
            "dense_30 (Dense)             (None, 2)                 34        \n",
            "=================================================================\n",
            "Total params: 34,556,626\n",
            "Trainable params: 34,556,626\n",
            "Non-trainable params: 0\n",
            "_________________________________________________________________\n"
          ],
          "name": "stdout"
        }
      ]
    },
    {
      "cell_type": "code",
      "metadata": {
        "id": "KYsemsuHJ4_5",
        "colab_type": "code",
        "outputId": "fc3dc89c-a836-4c48-9880-2a4796b81480",
        "colab": {
          "base_uri": "https://localhost:8080/",
          "height": 309
        }
      },
      "source": [
        "model.layers.pop()\n",
        "model.layers.pop()\n",
        "model.layers.pop()\n",
        "model.layers.pop()\n",
        "model.layers.pop()\n",
        "model.layers.pop()\n",
        "model.layers.pop()\n",
        "model.layers.pop()\n",
        "model.summary()"
      ],
      "execution_count": 0,
      "outputs": [
        {
          "output_type": "stream",
          "text": [
            "Model: \"model_5\"\n",
            "_________________________________________________________________\n",
            "Layer (type)                 Output Shape              Param #   \n",
            "=================================================================\n",
            "input_3 (InputLayer)         (None, 38)                0         \n",
            "_________________________________________________________________\n",
            "embedding_3 (Embedding)      (None, 38, 300)           33754500  \n",
            "_________________________________________________________________\n",
            "lstm_3 (LSTM)                (None, 300)               721200    \n",
            "=================================================================\n",
            "Total params: 34,501,766\n",
            "Trainable params: 34,501,766\n",
            "Non-trainable params: 0\n",
            "_________________________________________________________________\n"
          ],
          "name": "stdout"
        },
        {
          "output_type": "stream",
          "text": [
            "/usr/local/lib/python3.6/dist-packages/keras/engine/training.py:493: UserWarning: Discrepancy between trainable weights and collected trainable weights, did you set `model.trainable` without calling `model.compile` after ?\n",
            "  'Discrepancy between trainable weights and collected trainable'\n"
          ],
          "name": "stderr"
        }
      ]
    },
    {
      "cell_type": "code",
      "metadata": {
        "id": "iz9h63pZI8hB",
        "colab_type": "code",
        "colab": {}
      },
      "source": [
        "dense0 = Dense(128, activation='softmax')(model.layers[-1].output)\n",
        "dense1 = Dense(64, activation='softmax')(dense0)\n",
        "dropout1 = Dropout(rate=0.25)(dense1)\n",
        "dense2 = Dense(32, activation=\"relu\")(dropout1)\n",
        "dropout2 = Dropout(rate=0.25)(dense2)\n",
        "dense3 = Dense(16, activation=\"relu\")(dropout2)\n",
        "output = Dense(y_semeval_train.shape[1], activation='softmax')(dense3)"
      ],
      "execution_count": 0,
      "outputs": []
    },
    {
      "cell_type": "markdown",
      "metadata": {
        "id": "3rXTBmcWJNal",
        "colab_type": "text"
      },
      "source": [
        "Freeze embedding but LSTM trainable\n"
      ]
    },
    {
      "cell_type": "code",
      "metadata": {
        "id": "gG26IySvJCmp",
        "colab_type": "code",
        "colab": {}
      },
      "source": [
        "# model.layers[1].trainable = False"
      ],
      "execution_count": 0,
      "outputs": []
    },
    {
      "cell_type": "code",
      "metadata": {
        "id": "PnSciWK8JSoo",
        "colab_type": "code",
        "outputId": "38527d7a-a9cb-494b-e505-cfee32155c6d",
        "colab": {
          "base_uri": "https://localhost:8080/",
          "height": 51
        }
      },
      "source": [
        "new_model = Model(input=model.input, output=[output])"
      ],
      "execution_count": 0,
      "outputs": [
        {
          "output_type": "stream",
          "text": [
            "/usr/local/lib/python3.6/dist-packages/ipykernel_launcher.py:1: UserWarning: Update your `Model` call to the Keras 2 API: `Model(inputs=Tensor(\"in..., outputs=[<tf.Tenso...)`\n",
            "  \"\"\"Entry point for launching an IPython kernel.\n"
          ],
          "name": "stderr"
        }
      ]
    },
    {
      "cell_type": "code",
      "metadata": {
        "id": "rpZg8tRSJhk5",
        "colab_type": "code",
        "outputId": "54db018a-1ce6-4c92-efa5-b73eaa857ddd",
        "colab": {
          "base_uri": "https://localhost:8080/",
          "height": 493
        }
      },
      "source": [
        "new_model.summary()"
      ],
      "execution_count": 0,
      "outputs": [
        {
          "output_type": "stream",
          "text": [
            "Model: \"model_8\"\n",
            "_________________________________________________________________\n",
            "Layer (type)                 Output Shape              Param #   \n",
            "=================================================================\n",
            "input_3 (InputLayer)         (None, 38)                0         \n",
            "_________________________________________________________________\n",
            "embedding_3 (Embedding)      (None, 38, 300)           33754500  \n",
            "_________________________________________________________________\n",
            "lstm_3 (LSTM)                (None, 300)               721200    \n",
            "_________________________________________________________________\n",
            "dense_35 (Dense)             (None, 128)               38528     \n",
            "_________________________________________________________________\n",
            "dense_36 (Dense)             (None, 64)                8256      \n",
            "_________________________________________________________________\n",
            "dropout_17 (Dropout)         (None, 64)                0         \n",
            "_________________________________________________________________\n",
            "dense_37 (Dense)             (None, 32)                2080      \n",
            "_________________________________________________________________\n",
            "dropout_18 (Dropout)         (None, 32)                0         \n",
            "_________________________________________________________________\n",
            "dense_38 (Dense)             (None, 16)                528       \n",
            "_________________________________________________________________\n",
            "dense_39 (Dense)             (None, 3)                 51        \n",
            "=================================================================\n",
            "Total params: 34,525,143\n",
            "Trainable params: 34,525,143\n",
            "Non-trainable params: 0\n",
            "_________________________________________________________________\n"
          ],
          "name": "stdout"
        }
      ]
    },
    {
      "cell_type": "code",
      "metadata": {
        "id": "y7vb0hJvKNE7",
        "colab_type": "code",
        "colab": {}
      },
      "source": [
        "from keras.optimizers import Adam\n",
        "adam = Adam(lr=1e-3)\n",
        "\n",
        "new_model.compile(loss='categorical_crossentropy',\n",
        "              optimizer=adam,\n",
        "              metrics=['acc'])"
      ],
      "execution_count": 0,
      "outputs": []
    },
    {
      "cell_type": "code",
      "metadata": {
        "id": "XvFzYba2KR2V",
        "colab_type": "code",
        "outputId": "e7360897-4f9a-45c0-b2f2-219db0928723",
        "colab": {
          "base_uri": "https://localhost:8080/",
          "height": 387
        }
      },
      "source": [
        "new_model.fit(X_semeval_train, y_semeval_train, batch_size=1000, epochs=20, verbose=1, shuffle=True, validation_split=0.2)"
      ],
      "execution_count": 0,
      "outputs": [
        {
          "output_type": "stream",
          "text": [
            "Train on 13204 samples, validate on 3301 samples\n",
            "Epoch 1/20\n",
            "13204/13204 [==============================] - 83s 6ms/step - loss: 1.0336 - acc: 0.4716 - val_loss: 0.9563 - val_acc: 0.4838\n",
            "Epoch 2/20\n",
            " 8000/13204 [=================>............] - ETA: 28s - loss: 0.9518 - acc: 0.5047"
          ],
          "name": "stdout"
        },
        {
          "output_type": "error",
          "ename": "KeyboardInterrupt",
          "evalue": "ignored",
          "traceback": [
            "\u001b[0;31m---------------------------------------------------------------------------\u001b[0m",
            "\u001b[0;31mKeyboardInterrupt\u001b[0m                         Traceback (most recent call last)",
            "\u001b[0;32m<ipython-input-74-2cb15c25353c>\u001b[0m in \u001b[0;36m<module>\u001b[0;34m()\u001b[0m\n\u001b[0;32m----> 1\u001b[0;31m \u001b[0mnew_model\u001b[0m\u001b[0;34m.\u001b[0m\u001b[0mfit\u001b[0m\u001b[0;34m(\u001b[0m\u001b[0mX_semeval_train\u001b[0m\u001b[0;34m,\u001b[0m \u001b[0my_semeval_train\u001b[0m\u001b[0;34m,\u001b[0m \u001b[0mbatch_size\u001b[0m\u001b[0;34m=\u001b[0m\u001b[0;36m1000\u001b[0m\u001b[0;34m,\u001b[0m \u001b[0mepochs\u001b[0m\u001b[0;34m=\u001b[0m\u001b[0;36m20\u001b[0m\u001b[0;34m,\u001b[0m \u001b[0mverbose\u001b[0m\u001b[0;34m=\u001b[0m\u001b[0;36m1\u001b[0m\u001b[0;34m,\u001b[0m \u001b[0mshuffle\u001b[0m\u001b[0;34m=\u001b[0m\u001b[0;32mTrue\u001b[0m\u001b[0;34m,\u001b[0m \u001b[0mvalidation_split\u001b[0m\u001b[0;34m=\u001b[0m\u001b[0;36m0.2\u001b[0m\u001b[0;34m)\u001b[0m\u001b[0;34m\u001b[0m\u001b[0;34m\u001b[0m\u001b[0m\n\u001b[0m",
            "\u001b[0;32m/usr/local/lib/python3.6/dist-packages/keras/engine/training.py\u001b[0m in \u001b[0;36mfit\u001b[0;34m(self, x, y, batch_size, epochs, verbose, callbacks, validation_split, validation_data, shuffle, class_weight, sample_weight, initial_epoch, steps_per_epoch, validation_steps, validation_freq, max_queue_size, workers, use_multiprocessing, **kwargs)\u001b[0m\n\u001b[1;32m   1176\u001b[0m                                         \u001b[0msteps_per_epoch\u001b[0m\u001b[0;34m=\u001b[0m\u001b[0msteps_per_epoch\u001b[0m\u001b[0;34m,\u001b[0m\u001b[0;34m\u001b[0m\u001b[0;34m\u001b[0m\u001b[0m\n\u001b[1;32m   1177\u001b[0m                                         \u001b[0mvalidation_steps\u001b[0m\u001b[0;34m=\u001b[0m\u001b[0mvalidation_steps\u001b[0m\u001b[0;34m,\u001b[0m\u001b[0;34m\u001b[0m\u001b[0;34m\u001b[0m\u001b[0m\n\u001b[0;32m-> 1178\u001b[0;31m                                         validation_freq=validation_freq)\n\u001b[0m\u001b[1;32m   1179\u001b[0m \u001b[0;34m\u001b[0m\u001b[0m\n\u001b[1;32m   1180\u001b[0m     def evaluate(self,\n",
            "\u001b[0;32m/usr/local/lib/python3.6/dist-packages/keras/engine/training_arrays.py\u001b[0m in \u001b[0;36mfit_loop\u001b[0;34m(model, fit_function, fit_inputs, out_labels, batch_size, epochs, verbose, callbacks, val_function, val_inputs, shuffle, callback_metrics, initial_epoch, steps_per_epoch, validation_steps, validation_freq)\u001b[0m\n\u001b[1;32m    202\u001b[0m                     \u001b[0mins_batch\u001b[0m\u001b[0;34m[\u001b[0m\u001b[0mi\u001b[0m\u001b[0;34m]\u001b[0m \u001b[0;34m=\u001b[0m \u001b[0mins_batch\u001b[0m\u001b[0;34m[\u001b[0m\u001b[0mi\u001b[0m\u001b[0;34m]\u001b[0m\u001b[0;34m.\u001b[0m\u001b[0mtoarray\u001b[0m\u001b[0;34m(\u001b[0m\u001b[0;34m)\u001b[0m\u001b[0;34m\u001b[0m\u001b[0;34m\u001b[0m\u001b[0m\n\u001b[1;32m    203\u001b[0m \u001b[0;34m\u001b[0m\u001b[0m\n\u001b[0;32m--> 204\u001b[0;31m                 \u001b[0mouts\u001b[0m \u001b[0;34m=\u001b[0m \u001b[0mfit_function\u001b[0m\u001b[0;34m(\u001b[0m\u001b[0mins_batch\u001b[0m\u001b[0;34m)\u001b[0m\u001b[0;34m\u001b[0m\u001b[0;34m\u001b[0m\u001b[0m\n\u001b[0m\u001b[1;32m    205\u001b[0m                 \u001b[0mouts\u001b[0m \u001b[0;34m=\u001b[0m \u001b[0mto_list\u001b[0m\u001b[0;34m(\u001b[0m\u001b[0mouts\u001b[0m\u001b[0;34m)\u001b[0m\u001b[0;34m\u001b[0m\u001b[0;34m\u001b[0m\u001b[0m\n\u001b[1;32m    206\u001b[0m                 \u001b[0;32mfor\u001b[0m \u001b[0ml\u001b[0m\u001b[0;34m,\u001b[0m \u001b[0mo\u001b[0m \u001b[0;32min\u001b[0m \u001b[0mzip\u001b[0m\u001b[0;34m(\u001b[0m\u001b[0mout_labels\u001b[0m\u001b[0;34m,\u001b[0m \u001b[0mouts\u001b[0m\u001b[0;34m)\u001b[0m\u001b[0;34m:\u001b[0m\u001b[0;34m\u001b[0m\u001b[0;34m\u001b[0m\u001b[0m\n",
            "\u001b[0;32m/usr/local/lib/python3.6/dist-packages/keras/backend/tensorflow_backend.py\u001b[0m in \u001b[0;36m__call__\u001b[0;34m(self, inputs)\u001b[0m\n\u001b[1;32m   2977\u001b[0m                     \u001b[0;32mreturn\u001b[0m \u001b[0mself\u001b[0m\u001b[0;34m.\u001b[0m\u001b[0m_legacy_call\u001b[0m\u001b[0;34m(\u001b[0m\u001b[0minputs\u001b[0m\u001b[0;34m)\u001b[0m\u001b[0;34m\u001b[0m\u001b[0;34m\u001b[0m\u001b[0m\n\u001b[1;32m   2978\u001b[0m \u001b[0;34m\u001b[0m\u001b[0m\n\u001b[0;32m-> 2979\u001b[0;31m             \u001b[0;32mreturn\u001b[0m \u001b[0mself\u001b[0m\u001b[0;34m.\u001b[0m\u001b[0m_call\u001b[0m\u001b[0;34m(\u001b[0m\u001b[0minputs\u001b[0m\u001b[0;34m)\u001b[0m\u001b[0;34m\u001b[0m\u001b[0;34m\u001b[0m\u001b[0m\n\u001b[0m\u001b[1;32m   2980\u001b[0m         \u001b[0;32melse\u001b[0m\u001b[0;34m:\u001b[0m\u001b[0;34m\u001b[0m\u001b[0;34m\u001b[0m\u001b[0m\n\u001b[1;32m   2981\u001b[0m             \u001b[0;32mif\u001b[0m \u001b[0mpy_any\u001b[0m\u001b[0;34m(\u001b[0m\u001b[0mis_tensor\u001b[0m\u001b[0;34m(\u001b[0m\u001b[0mx\u001b[0m\u001b[0;34m)\u001b[0m \u001b[0;32mfor\u001b[0m \u001b[0mx\u001b[0m \u001b[0;32min\u001b[0m \u001b[0minputs\u001b[0m\u001b[0;34m)\u001b[0m\u001b[0;34m:\u001b[0m\u001b[0;34m\u001b[0m\u001b[0;34m\u001b[0m\u001b[0m\n",
            "\u001b[0;32m/usr/local/lib/python3.6/dist-packages/keras/backend/tensorflow_backend.py\u001b[0m in \u001b[0;36m_call\u001b[0;34m(self, inputs)\u001b[0m\n\u001b[1;32m   2935\u001b[0m             \u001b[0mfetched\u001b[0m \u001b[0;34m=\u001b[0m \u001b[0mself\u001b[0m\u001b[0;34m.\u001b[0m\u001b[0m_callable_fn\u001b[0m\u001b[0;34m(\u001b[0m\u001b[0;34m*\u001b[0m\u001b[0marray_vals\u001b[0m\u001b[0;34m,\u001b[0m \u001b[0mrun_metadata\u001b[0m\u001b[0;34m=\u001b[0m\u001b[0mself\u001b[0m\u001b[0;34m.\u001b[0m\u001b[0mrun_metadata\u001b[0m\u001b[0;34m)\u001b[0m\u001b[0;34m\u001b[0m\u001b[0;34m\u001b[0m\u001b[0m\n\u001b[1;32m   2936\u001b[0m         \u001b[0;32melse\u001b[0m\u001b[0;34m:\u001b[0m\u001b[0;34m\u001b[0m\u001b[0;34m\u001b[0m\u001b[0m\n\u001b[0;32m-> 2937\u001b[0;31m             \u001b[0mfetched\u001b[0m \u001b[0;34m=\u001b[0m \u001b[0mself\u001b[0m\u001b[0;34m.\u001b[0m\u001b[0m_callable_fn\u001b[0m\u001b[0;34m(\u001b[0m\u001b[0;34m*\u001b[0m\u001b[0marray_vals\u001b[0m\u001b[0;34m)\u001b[0m\u001b[0;34m\u001b[0m\u001b[0;34m\u001b[0m\u001b[0m\n\u001b[0m\u001b[1;32m   2938\u001b[0m         \u001b[0;32mreturn\u001b[0m \u001b[0mfetched\u001b[0m\u001b[0;34m[\u001b[0m\u001b[0;34m:\u001b[0m\u001b[0mlen\u001b[0m\u001b[0;34m(\u001b[0m\u001b[0mself\u001b[0m\u001b[0;34m.\u001b[0m\u001b[0moutputs\u001b[0m\u001b[0;34m)\u001b[0m\u001b[0;34m]\u001b[0m\u001b[0;34m\u001b[0m\u001b[0;34m\u001b[0m\u001b[0m\n\u001b[1;32m   2939\u001b[0m \u001b[0;34m\u001b[0m\u001b[0m\n",
            "\u001b[0;32m/usr/local/lib/python3.6/dist-packages/tensorflow_core/python/client/session.py\u001b[0m in \u001b[0;36m__call__\u001b[0;34m(self, *args, **kwargs)\u001b[0m\n\u001b[1;32m   1470\u001b[0m         ret = tf_session.TF_SessionRunCallable(self._session._session,\n\u001b[1;32m   1471\u001b[0m                                                \u001b[0mself\u001b[0m\u001b[0;34m.\u001b[0m\u001b[0m_handle\u001b[0m\u001b[0;34m,\u001b[0m \u001b[0margs\u001b[0m\u001b[0;34m,\u001b[0m\u001b[0;34m\u001b[0m\u001b[0;34m\u001b[0m\u001b[0m\n\u001b[0;32m-> 1472\u001b[0;31m                                                run_metadata_ptr)\n\u001b[0m\u001b[1;32m   1473\u001b[0m         \u001b[0;32mif\u001b[0m \u001b[0mrun_metadata\u001b[0m\u001b[0;34m:\u001b[0m\u001b[0;34m\u001b[0m\u001b[0;34m\u001b[0m\u001b[0m\n\u001b[1;32m   1474\u001b[0m           \u001b[0mproto_data\u001b[0m \u001b[0;34m=\u001b[0m \u001b[0mtf_session\u001b[0m\u001b[0;34m.\u001b[0m\u001b[0mTF_GetBuffer\u001b[0m\u001b[0;34m(\u001b[0m\u001b[0mrun_metadata_ptr\u001b[0m\u001b[0;34m)\u001b[0m\u001b[0;34m\u001b[0m\u001b[0;34m\u001b[0m\u001b[0m\n",
            "\u001b[0;31mKeyboardInterrupt\u001b[0m: "
          ]
        }
      ]
    },
    {
      "cell_type": "code",
      "metadata": {
        "id": "fDItozmuZ1PX",
        "colab_type": "code",
        "outputId": "995ceaea-610e-43fc-b91d-47d93f1a8180",
        "colab": {
          "base_uri": "https://localhost:8080/",
          "height": 51
        }
      },
      "source": [
        "new_model.evaluate(X_semeval_test, y_semeval_test)"
      ],
      "execution_count": 0,
      "outputs": [
        {
          "output_type": "stream",
          "text": [
            "4127/4127 [==============================] - 2s 462us/step\n"
          ],
          "name": "stdout"
        },
        {
          "output_type": "execute_result",
          "data": {
            "text/plain": [
              "[0.872562335670962, 0.6290283499776176]"
            ]
          },
          "metadata": {
            "tags": []
          },
          "execution_count": 108
        }
      ]
    },
    {
      "cell_type": "code",
      "metadata": {
        "id": "zFbDyjFBavFZ",
        "colab_type": "code",
        "outputId": "f5b4b3d7-5ce3-477c-c56e-a5c2c60de559",
        "colab": {
          "base_uri": "https://localhost:8080/",
          "height": 34
        }
      },
      "source": [
        "y_pred = new_model.predict(X_semeval_test)\n",
        "y_pred = np.argmax(y_pred, axis=1)\n",
        "y_true = np.argmax(y_semeval_test, axis=1)\n",
        "from sklearn.metrics import f1_score\n",
        "f1_score(y_true, y_pred, average='macro')"
      ],
      "execution_count": 0,
      "outputs": [
        {
          "output_type": "execute_result",
          "data": {
            "text/plain": [
              "0.5830646250813123"
            ]
          },
          "metadata": {
            "tags": []
          },
          "execution_count": 109
        }
      ]
    },
    {
      "cell_type": "code",
      "metadata": {
        "id": "xzZY_SeLayaa",
        "colab_type": "code",
        "colab": {}
      },
      "source": [
        ""
      ],
      "execution_count": 0,
      "outputs": []
    }
  ]
}